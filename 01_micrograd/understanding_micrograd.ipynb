{
 "cells": [
  {
   "cell_type": "markdown",
   "id": "bb973f8b-7f43-4594-be34-1cdd230b122c",
   "metadata": {},
   "source": [
    "# Understanding micrograd\n",
    "\n",
    "Building up my understanding from the basics. Building up to a working MLP which can be trained to estimate\n",
    "\n",
    "- A simple function plotted\n",
    "- Calculating the derivative using the definition\n",
    "- Calculating partial derivatives of a basic query\n",
    "- Creating a Value object with the ability to:\n",
    "  - record cumulative operations\n",
    "  - extending it for operations: +, *, tanh(), exp(), -, /, pow(**), reverse of +,\n",
    "  - define gradient, the partial derivative, with respect to each operations\n",
    "  - using a closure function to define the partial derivative for each item\n",
    "  - topological search for back propogration\n",
    "- Manually calculating the partial derivative gradient at each Value\n",
    "- DAG visual from the last Value object through the graph\n",
    "- Modeling a neuron with multiple weights and bias using Value object\n",
    "- Investigating activiation functions - tanh\n",
    "- Building a multilayer perceptron using neurons organised into layers and manually calculation of gradients\n",
    "\n",
    "\n"
   ]
  },
  {
   "cell_type": "code",
   "execution_count": 1,
   "id": "8545d104-0293-4b11-a005-0bff4c5d0fca",
   "metadata": {},
   "outputs": [],
   "source": [
    "import math, numpy as np, matplotlib.pyplot as plt, random"
   ]
  },
  {
   "cell_type": "code",
   "execution_count": 2,
   "id": "79f35461-1dba-420f-b0ff-3479540472fe",
   "metadata": {},
   "outputs": [],
   "source": [
    "# defining a simple function and graphing it over data points\n",
    "def f(x):\n",
    "    return 3*x**2 - 4*x + 5"
   ]
  },
  {
   "cell_type": "code",
   "execution_count": 3,
   "id": "00c86375-68c6-48c9-8fc0-cec46c4de16a",
   "metadata": {},
   "outputs": [
    {
     "data": {
      "text/plain": [
       "20.0"
      ]
     },
     "execution_count": 3,
     "metadata": {},
     "output_type": "execute_result"
    }
   ],
   "source": [
    "f(3.0)"
   ]
  },
  {
   "cell_type": "code",
   "execution_count": 4,
   "id": "94f66dcb-cd20-4abc-a71a-0410c5043a2d",
   "metadata": {},
   "outputs": [
    {
     "data": {
      "text/plain": [
       "[<matplotlib.lines.Line2D at 0x115e47890>]"
      ]
     },
     "execution_count": 4,
     "metadata": {},
     "output_type": "execute_result"
    },
    {
     "data": {
      "image/png": "[encoded data removed]",
      "text/plain": [
       "<Figure size 640x480 with 1 Axes>"
      ]
     },
     "metadata": {},
     "output_type": "display_data"
    }
   ],
   "source": [
    "xs = np.arange(-5, 5, 0.25)\n",
    "ys = f(xs)\n",
    "plt.plot(xs, ys)"
   ]
  },
  {
   "cell_type": "code",
   "execution_count": 5,
   "id": "a4a1c55d-7e53-4f09-8652-df5d7283cd1a",
   "metadata": {},
   "outputs": [
    {
     "data": {
      "text/plain": [
       "2.999378523327323e-06"
      ]
     },
     "execution_count": 5,
     "metadata": {},
     "output_type": "execute_result"
    }
   ],
   "source": [
    "# derivation approximation of the function, min is at 2/3 which means a derivative approaches 0\n",
    "h = 0.000001\n",
    "x = 2/3\n",
    "(f(x+h)-f(x))/h"
   ]
  },
  {
   "cell_type": "code",
   "execution_count": 7,
   "id": "0cbedcd4-db04-4c56-adf8-542833605d78",
   "metadata": {},
   "outputs": [
    {
     "name": "stdout",
     "output_type": "stream",
     "text": [
      "d1 4.0\n",
      "d2 3.9999699999999994\n",
      "slope -3.000000000064062\n"
     ]
    }
   ],
   "source": [
    "h = 0.00001\n",
    "a = 2.0\n",
    "b = -3.0\n",
    "c = 10.0\n",
    "\n",
    "d1 = a*b + c\n",
    "a +=h\n",
    "d2 = a*b + c\n",
    "\n",
    "# derivative with respect to a\n",
    "print('d1', d1)\n",
    "print('d2', d2)\n",
    "print('slope', (d2 - d1)/h) # dd/da = -3.0"
   ]
  },
  {
   "cell_type": "code",
   "execution_count": 176,
   "id": "c6803b11-2c4e-48b6-83a6-43c9bfccfabb",
   "metadata": {},
   "outputs": [
    {
     "name": "stdout",
     "output_type": "stream",
     "text": [
      "d1 4.0\n",
      "d2 4.00002\n",
      "slope 2.0000000000131024\n"
     ]
    }
   ],
   "source": [
    "# derivative with respect to b\n",
    "h = 0.00001\n",
    "a = 2.0\n",
    "b = -3.0\n",
    "c = 10.0\n",
    "\n",
    "d1 = a*b + c\n",
    "b +=h\n",
    "d2 = a*b + c\n",
    "\n",
    "print('d1', d1)\n",
    "print('d2', d2)\n",
    "print('slope', (d2 - d1)/h) # dd/db = 2.0"
   ]
  },
  {
   "cell_type": "code",
   "execution_count": 177,
   "id": "a0b86c44-7d80-4a3d-bd2d-d5d013fac482",
   "metadata": {},
   "outputs": [
    {
     "name": "stdout",
     "output_type": "stream",
     "text": [
      "d1 4.0\n",
      "d2 4.00001\n",
      "slope 0.9999999999621422\n"
     ]
    }
   ],
   "source": [
    "# derivative with respect to c\n",
    "h = 0.00001\n",
    "a = 2.0\n",
    "b = -3.0\n",
    "c = 10.0\n",
    "\n",
    "d1 = a*b + c\n",
    "c +=h\n",
    "d2 = a*b + c\n",
    "\n",
    "print('d1', d1)\n",
    "print('d2', d2)\n",
    "print('slope', (d2 - d1)/h) # dd/dc = 1"
   ]
  },
  {
   "cell_type": "code",
   "execution_count": 999,
   "id": "e1c898f4-2946-4290-beaa-0982af7e6e97",
   "metadata": {},
   "outputs": [],
   "source": [
    "# creating the core value object with ability to:\n",
    "# return value, add and multiply\n",
    "# adding the ability to view the operations\n",
    "# adding labels for each Value \n",
    "# adding a grad and initalise to 0\n",
    "# inspect to see what values produce what other values\n",
    "# __repr__ allows you to print out something when you return the instance\n",
    "# add tanh operation\n",
    "# add backwards closure functions for each operation\n",
    "# add backward function to run the back prop using topological sort \n",
    "# ability to add and multiple numeric objects to Value object\n",
    "# reverse multiple when numeric object is prior to Value object\n",
    "# division using special case of n * (m**-1)\n",
    "\n",
    "\n",
    "class Value:\n",
    "    def __init__(self, data, _children=(), _op='', label=\"\"):\n",
    "        self.data = data\n",
    "        self.grad = 0.0\n",
    "        self._backward = lambda: None # function that doesn't do anything, for a leaf node for example\n",
    "        self._prev = set(_children)\n",
    "        self._op = _op\n",
    "        self.label = label\n",
    "        \n",
    "    def __repr__(self): \n",
    "        return f\"Value(data={self.data})\"\n",
    "        \n",
    "    def __add__(self, other):\n",
    "        other = other if isinstance(other, Value) else Value(other)\n",
    "        out = Value(self.data + other.data, (self, other), '+')\n",
    "\n",
    "        def _backward():\n",
    "            self.grad += 1.0 * out.grad \n",
    "            other.grad += 1.0 * out.grad\n",
    "        out._backward = _backward\n",
    "\n",
    "        return out\n",
    "        \n",
    "    def __mul__(self, other):\n",
    "        other = other if isinstance(other, Value) else Value(other)\n",
    "        out = Value(self.data * other.data, (self, other), '*')\n",
    "\n",
    "        def _backward():\n",
    "            self.grad += other.data * out.grad\n",
    "            other.grad += self.data * out.grad\n",
    "        out._backward = _backward\n",
    "        \n",
    "        return out\n",
    "\n",
    "    def __neg__(self): # -self\n",
    "        return self * -1\n",
    "\n",
    "    def __sub__(self, other): # self - other\n",
    "        return self + (-other)\n",
    "\n",
    "    def __radd__(self, other): # other + self\n",
    "        return self + other\n",
    "        \n",
    "    def __pow__(self, other):\n",
    "        assert isinstance(other, (int,float)), \"only supporting int/float powers for now\"\n",
    "        out = Value(self.data**other, (self,), f'**{other}')\n",
    "\n",
    "        def _backward():\n",
    "            self.grad += other * self.data**(other - 1) * out.grad # power rule derivative\n",
    "        out._backward = _backward\n",
    "\n",
    "        return out\n",
    "                          \n",
    "\n",
    "    def __rmul__(self, other): # other * self\n",
    "        return self * other\n",
    "\n",
    "    def __truediv__(self, other): # self / other\n",
    "        return self * other**-1 \n",
    "\n",
    "    def tanh(self):\n",
    "        x = self.data\n",
    "        t = (math.exp(2*x) -1)/ (math.exp(2*x) + 1)\n",
    "        out = Value(t, (self, ), 'tanh' )\n",
    "\n",
    "        def _backward():\n",
    "            self.grad += (1 - t**2) * out.grad\n",
    "        out._backward = _backward\n",
    "            \n",
    "        return out\n",
    "\n",
    "    def exp(self):\n",
    "        x = self.data\n",
    "        out = Value(math.exp(x), (self, ), 'exp')\n",
    "\n",
    "        def _backward():\n",
    "            self.grad += out.data * out.grad # derivation of exp(x) is itself\n",
    "        out._backward = _backward\n",
    "\n",
    "        return out\n",
    "\n",
    "    def backward(self):\n",
    "            \n",
    "        topo = []\n",
    "        visited = set()\n",
    "        def build_topo(v):\n",
    "            if v not in visited:\n",
    "                visited.add(v)\n",
    "                for child in v._prev:\n",
    "                    build_topo(child)\n",
    "                topo.append(v)\n",
    "        \n",
    "        build_topo(self)\n",
    "        \n",
    "        self.grad = 1.0\n",
    "        for node in reversed(topo):\n",
    "            node._backward()\n",
    "\n"
   ]
  },
  {
   "cell_type": "code",
   "execution_count": 243,
   "id": "8437fa2d-7c43-49b1-a594-d80a7ba58ee3",
   "metadata": {},
   "outputs": [
    {
     "name": "stdout",
     "output_type": "stream",
     "text": [
      "{'data': 2, 'grad': 0.0, '_backward': <function Value.__init__.<locals>.<lambda> at 0x119624e00>, '_prev': set(), '_op': '', 'label': ''} {'data': 3, 'grad': 0.0, '_backward': <function Value.__init__.<locals>.<lambda> at 0x119624ea0>, '_prev': set(), '_op': '', 'label': ''}\n",
      "{'data': 5, 'grad': 0.0, '_backward': <function Value.__add__.<locals>._backward at 0x1196245e0>, '_prev': {Value(data=2), Value(data=3)}, '_op': '+', 'label': ''}\n"
     ]
    },
    {
     "data": {
      "text/plain": [
       "2"
      ]
     },
     "execution_count": 243,
     "metadata": {},
     "output_type": "execute_result"
    }
   ],
   "source": [
    "a = Value(2)\n",
    "b = Value(3)\n",
    "a.data; a.grad\n",
    "print(a.__dict__, b.__dict__)\n",
    "c = a+ b \n",
    "print(c.__dict__)\n",
    "x = c._prev.pop()\n",
    "x.data"
   ]
  },
  {
   "cell_type": "code",
   "execution_count": 179,
   "id": "17c7b8c6-72f0-4fe4-bdd3-5094bc0ec8ec",
   "metadata": {},
   "outputs": [
    {
     "data": {
      "text/plain": [
       "(Value(data=-1), Value(data=-1), Value(data=-6), Value(data=4), Value(data=4))"
      ]
     },
     "execution_count": 179,
     "metadata": {},
     "output_type": "execute_result"
    }
   ],
   "source": [
    "a = Value(2, label='a')\n",
    "b = Value(-3, label='b')\n",
    "c = Value(10, label='c')\n",
    "\n",
    "a+b, a.__add__(b), a*b, a*b + c, (a.__mul__(b)).__add__(c)"
   ]
  },
  {
   "cell_type": "code",
   "execution_count": 180,
   "id": "844921b7-6f5b-457e-afcf-cfd9948dab87",
   "metadata": {},
   "outputs": [
    {
     "data": {
      "text/plain": [
       "(Value(data=4), {Value(data=-6), Value(data=10)}, '+')"
      ]
     },
     "execution_count": 180,
     "metadata": {},
     "output_type": "execute_result"
    }
   ],
   "source": [
    "d = a*b + c\n",
    "d, d._prev, d._op"
   ]
  },
  {
   "cell_type": "code",
   "execution_count": 181,
   "id": "9e2e0a41-e07d-4c79-97f5-b63c13bce522",
   "metadata": {},
   "outputs": [
    {
     "data": {
      "text/plain": [
       "{Value(data=-6), Value(data=10)}"
      ]
     },
     "execution_count": 181,
     "metadata": {},
     "output_type": "execute_result"
    }
   ],
   "source": [
    "d._prev"
   ]
  },
  {
   "cell_type": "code",
   "execution_count": 182,
   "id": "f3ca2900-5ce0-40f5-a1b1-b6e41dc204bb",
   "metadata": {},
   "outputs": [
    {
     "data": {
      "text/plain": [
       "{Value(data=-3), Value(data=2)}"
      ]
     },
     "execution_count": 182,
     "metadata": {},
     "output_type": "execute_result"
    }
   ],
   "source": [
    "next(iter(d._prev))._prev"
   ]
  },
  {
   "cell_type": "code",
   "execution_count": 247,
   "id": "b5d6eb52-c9ca-419f-b4b7-51b0c0f0cac3",
   "metadata": {},
   "outputs": [],
   "source": [
    "a = Value(2.0, label='a')\n",
    "b = Value(-3.0, label='b')\n",
    "c = Value(10.0, label='c')\n",
    "e = a * b; e.label='e'\n",
    "d = e + c; d.label='d'\n",
    "f = Value(-2.0, label='f')\n",
    "L = d * f; L.label='L'"
   ]
  },
  {
   "cell_type": "code",
   "execution_count": 248,
   "id": "203dde50-70c6-4aa1-a5bf-62e85961e44e",
   "metadata": {},
   "outputs": [],
   "source": [
    "# brew install graphviz\n",
    "from graphviz import Digraph\n",
    "\n",
    "def trace(root):\n",
    "    nodes, edges = set(), set()\n",
    "    def build(v):\n",
    "        if v not in nodes:\n",
    "            nodes.add(v)\n",
    "            for child in v._prev:\n",
    "                edges.add((child, v))\n",
    "                build(child)\n",
    "    build(root)\n",
    "    return nodes, edges\n",
    "\n",
    "def draw_dot(root, format='svg', rankdir='LR'):\n",
    "    \"\"\"\n",
    "    format: png | svg | ...\n",
    "    rankdir: TB (top to bottom graph) | LR (left to right)\n",
    "    \"\"\"\n",
    "    assert rankdir in ['LR', 'TB']\n",
    "    nodes, edges = trace(root)\n",
    "    dot = Digraph(format=format, graph_attr={'rankdir': rankdir}) #, node_attr={'rankdir': 'TB'})\n",
    "    \n",
    "    for n in nodes:\n",
    "        # dot.node(name=str(id(n)), label = \"{ data %.4f }\" % (n.data, ), shape='record')\n",
    "        dot.node(name=str(id(n)), label = f\"{{ {n.label} | data {n.data:.4f} | grad {n.grad:.4f} }}\", shape='record')\n",
    "        if n._op:\n",
    "            dot.node(name=str(id(n)) + n._op, label=n._op)\n",
    "            dot.edge(str(id(n)) + n._op, str(id(n)))\n",
    "    \n",
    "    for n1, n2 in edges:\n",
    "        dot.edge(str(id(n1)), str(id(n2)) + n2._op)\n",
    "    \n",
    "    return dot\n"
   ]
  },
  {
   "cell_type": "code",
   "execution_count": 249,
   "id": "2bb721ae-d9d3-4f1d-bba8-61db61966430",
   "metadata": {},
   "outputs": [
    {
     "data": {
      "image/svg+xml": [
       "<?xml version=\"1.0\" encoding=\"UTF-8\" standalone=\"no\"?>\n",
       "<!DOCTYPE svg PUBLIC \"-//W3C//DTD SVG 1.1//EN\"\n",
       " \"http://www.w3.org/Graphics/SVG/1.1/DTD/svg11.dtd\">\n",
       "<!-- Generated by graphviz version 9.0.0 (20230911.1827)\n",
       " -->\n",
       "<!-- Pages: 1 -->\n",
       "<svg width=\"1140pt\" height=\"154pt\"\n",
       " viewBox=\"0.00 0.00 1139.75 154.00\" xmlns=\"http://www.w3.org/2000/svg\" xmlns:xlink=\"http://www.w3.org/1999/xlink\">\n",
       "<g id=\"graph0\" class=\"graph\" transform=\"scale(1 1) rotate(0) translate(4 150)\">\n",
       "<polygon fill=\"white\" stroke=\"none\" points=\"-4,4 -4,-150 1135.75,-150 1135.75,4 -4,4\"/>\n",
       "<!-- 4715196560 -->\n",
       "<g id=\"node1\" class=\"node\">\n",
       "<title>4715196560</title>\n",
       "<polygon fill=\"none\" stroke=\"black\" points=\"315.38,-27.5 315.38,-63.5 502.88,-63.5 502.88,-27.5 315.38,-27.5\"/>\n",
       "<text text-anchor=\"middle\" x=\"326.38\" y=\"-40.7\" font-family=\"Times,serif\" font-size=\"14.00\">e</text>\n",
       "<polyline fill=\"none\" stroke=\"black\" points=\"337.38,-28 337.38,-63.5\"/>\n",
       "<text text-anchor=\"middle\" x=\"379.5\" y=\"-40.7\" font-family=\"Times,serif\" font-size=\"14.00\">data &#45;6.0000</text>\n",
       "<polyline fill=\"none\" stroke=\"black\" points=\"421.62,-28 421.62,-63.5\"/>\n",
       "<text text-anchor=\"middle\" x=\"462.25\" y=\"-40.7\" font-family=\"Times,serif\" font-size=\"14.00\">grad 0.0000</text>\n",
       "</g>\n",
       "<!-- 4720962832+ -->\n",
       "<g id=\"node6\" class=\"node\">\n",
       "<title>4720962832+</title>\n",
       "<ellipse fill=\"none\" stroke=\"black\" cx=\"567\" cy=\"-72.5\" rx=\"27\" ry=\"18\"/>\n",
       "<text text-anchor=\"middle\" x=\"567\" y=\"-67.45\" font-family=\"Times,serif\" font-size=\"14.00\">+</text>\n",
       "</g>\n",
       "<!-- 4715196560&#45;&gt;4720962832+ -->\n",
       "<g id=\"edge7\" class=\"edge\">\n",
       "<title>4715196560&#45;&gt;4720962832+</title>\n",
       "<path fill=\"none\" stroke=\"black\" d=\"M503.05,-61.6C512.25,-63.19 521.16,-64.73 529.24,-66.13\"/>\n",
       "<polygon fill=\"black\" stroke=\"black\" points=\"528.48,-69.55 538.93,-67.81 529.68,-62.66 528.48,-69.55\"/>\n",
       "</g>\n",
       "<!-- 4715196560* -->\n",
       "<g id=\"node2\" class=\"node\">\n",
       "<title>4715196560*</title>\n",
       "<ellipse fill=\"none\" stroke=\"black\" cx=\"251.25\" cy=\"-45.5\" rx=\"27\" ry=\"18\"/>\n",
       "<text text-anchor=\"middle\" x=\"251.25\" y=\"-40.45\" font-family=\"Times,serif\" font-size=\"14.00\">*</text>\n",
       "</g>\n",
       "<!-- 4715196560*&#45;&gt;4715196560 -->\n",
       "<g id=\"edge1\" class=\"edge\">\n",
       "<title>4715196560*&#45;&gt;4715196560</title>\n",
       "<path fill=\"none\" stroke=\"black\" d=\"M278.69,-45.5C286.1,-45.5 294.64,-45.5 303.71,-45.5\"/>\n",
       "<polygon fill=\"black\" stroke=\"black\" points=\"303.51,-49 313.51,-45.5 303.51,-42 303.51,-49\"/>\n",
       "</g>\n",
       "<!-- 4720961168 -->\n",
       "<g id=\"node3\" class=\"node\">\n",
       "<title>4720961168</title>\n",
       "<polygon fill=\"none\" stroke=\"black\" points=\"630,-109.5 630,-145.5 816,-145.5 816,-109.5 630,-109.5\"/>\n",
       "<text text-anchor=\"middle\" x=\"640.25\" y=\"-122.7\" font-family=\"Times,serif\" font-size=\"14.00\">f</text>\n",
       "<polyline fill=\"none\" stroke=\"black\" points=\"650.5,-110 650.5,-145.5\"/>\n",
       "<text text-anchor=\"middle\" x=\"692.62\" y=\"-122.7\" font-family=\"Times,serif\" font-size=\"14.00\">data &#45;2.0000</text>\n",
       "<polyline fill=\"none\" stroke=\"black\" points=\"734.75,-110 734.75,-145.5\"/>\n",
       "<text text-anchor=\"middle\" x=\"775.38\" y=\"-122.7\" font-family=\"Times,serif\" font-size=\"14.00\">grad 0.0000</text>\n",
       "</g>\n",
       "<!-- 4720960976* -->\n",
       "<g id=\"node10\" class=\"node\">\n",
       "<title>4720960976*</title>\n",
       "<ellipse fill=\"none\" stroke=\"black\" cx=\"879\" cy=\"-99.5\" rx=\"27\" ry=\"18\"/>\n",
       "<text text-anchor=\"middle\" x=\"879\" y=\"-94.45\" font-family=\"Times,serif\" font-size=\"14.00\">*</text>\n",
       "</g>\n",
       "<!-- 4720961168&#45;&gt;4720960976* -->\n",
       "<g id=\"edge8\" class=\"edge\">\n",
       "<title>4720961168&#45;&gt;4720960976*</title>\n",
       "<path fill=\"none\" stroke=\"black\" d=\"M816.25,-110.73C825.1,-109.12 833.67,-107.56 841.46,-106.14\"/>\n",
       "<polygon fill=\"black\" stroke=\"black\" points=\"841.93,-109.62 851.15,-104.38 840.68,-102.73 841.93,-109.62\"/>\n",
       "</g>\n",
       "<!-- 4720981264 -->\n",
       "<g id=\"node4\" class=\"node\">\n",
       "<title>4720981264</title>\n",
       "<polygon fill=\"none\" stroke=\"black\" points=\"0,-55.5 0,-91.5 188.25,-91.5 188.25,-55.5 0,-55.5\"/>\n",
       "<text text-anchor=\"middle\" x=\"11.38\" y=\"-68.7\" font-family=\"Times,serif\" font-size=\"14.00\">b</text>\n",
       "<polyline fill=\"none\" stroke=\"black\" points=\"22.75,-56 22.75,-91.5\"/>\n",
       "<text text-anchor=\"middle\" x=\"64.88\" y=\"-68.7\" font-family=\"Times,serif\" font-size=\"14.00\">data &#45;3.0000</text>\n",
       "<polyline fill=\"none\" stroke=\"black\" points=\"107,-56 107,-91.5\"/>\n",
       "<text text-anchor=\"middle\" x=\"147.62\" y=\"-68.7\" font-family=\"Times,serif\" font-size=\"14.00\">grad 0.0000</text>\n",
       "</g>\n",
       "<!-- 4720981264&#45;&gt;4715196560* -->\n",
       "<g id=\"edge4\" class=\"edge\">\n",
       "<title>4720981264&#45;&gt;4715196560*</title>\n",
       "<path fill=\"none\" stroke=\"black\" d=\"M188.49,-56.65C197.36,-55.05 205.93,-53.5 213.73,-52.09\"/>\n",
       "<polygon fill=\"black\" stroke=\"black\" points=\"214.2,-55.56 223.42,-50.34 212.95,-48.68 214.2,-55.56\"/>\n",
       "</g>\n",
       "<!-- 4720962832 -->\n",
       "<g id=\"node5\" class=\"node\">\n",
       "<title>4720962832</title>\n",
       "<polygon fill=\"none\" stroke=\"black\" points=\"631.12,-54.5 631.12,-90.5 814.88,-90.5 814.88,-54.5 631.12,-54.5\"/>\n",
       "<text text-anchor=\"middle\" x=\"642.5\" y=\"-67.7\" font-family=\"Times,serif\" font-size=\"14.00\">d</text>\n",
       "<polyline fill=\"none\" stroke=\"black\" points=\"653.88,-55 653.88,-90.5\"/>\n",
       "<text text-anchor=\"middle\" x=\"693.75\" y=\"-67.7\" font-family=\"Times,serif\" font-size=\"14.00\">data 4.0000</text>\n",
       "<polyline fill=\"none\" stroke=\"black\" points=\"733.62,-55 733.62,-90.5\"/>\n",
       "<text text-anchor=\"middle\" x=\"774.25\" y=\"-67.7\" font-family=\"Times,serif\" font-size=\"14.00\">grad 0.0000</text>\n",
       "</g>\n",
       "<!-- 4720962832&#45;&gt;4720960976* -->\n",
       "<g id=\"edge9\" class=\"edge\">\n",
       "<title>4720962832&#45;&gt;4720960976*</title>\n",
       "<path fill=\"none\" stroke=\"black\" d=\"M815.36,-88.52C824.5,-90.12 833.36,-91.67 841.4,-93.08\"/>\n",
       "<polygon fill=\"black\" stroke=\"black\" points=\"840.58,-96.49 851.04,-94.77 841.79,-89.6 840.58,-96.49\"/>\n",
       "</g>\n",
       "<!-- 4720962832+&#45;&gt;4720962832 -->\n",
       "<g id=\"edge2\" class=\"edge\">\n",
       "<title>4720962832+&#45;&gt;4720962832</title>\n",
       "<path fill=\"none\" stroke=\"black\" d=\"M594.47,-72.5C601.87,-72.5 610.38,-72.5 619.43,-72.5\"/>\n",
       "<polygon fill=\"black\" stroke=\"black\" points=\"619.17,-76 629.17,-72.5 619.17,-69 619.17,-76\"/>\n",
       "</g>\n",
       "<!-- 4720961872 -->\n",
       "<g id=\"node7\" class=\"node\">\n",
       "<title>4720961872</title>\n",
       "<polygon fill=\"none\" stroke=\"black\" points=\"314.25,-82.5 314.25,-118.5 504,-118.5 504,-82.5 314.25,-82.5\"/>\n",
       "<text text-anchor=\"middle\" x=\"325.25\" y=\"-95.7\" font-family=\"Times,serif\" font-size=\"14.00\">c</text>\n",
       "<polyline fill=\"none\" stroke=\"black\" points=\"336.25,-83 336.25,-118.5\"/>\n",
       "<text text-anchor=\"middle\" x=\"379.5\" y=\"-95.7\" font-family=\"Times,serif\" font-size=\"14.00\">data 10.0000</text>\n",
       "<polyline fill=\"none\" stroke=\"black\" points=\"422.75,-83 422.75,-118.5\"/>\n",
       "<text text-anchor=\"middle\" x=\"463.38\" y=\"-95.7\" font-family=\"Times,serif\" font-size=\"14.00\">grad 0.0000</text>\n",
       "</g>\n",
       "<!-- 4720961872&#45;&gt;4720962832+ -->\n",
       "<g id=\"edge5\" class=\"edge\">\n",
       "<title>4720961872&#45;&gt;4720962832+</title>\n",
       "<path fill=\"none\" stroke=\"black\" d=\"M504.39,-83.57C513.16,-81.99 521.65,-80.47 529.37,-79.08\"/>\n",
       "<polygon fill=\"black\" stroke=\"black\" points=\"529.73,-82.57 538.95,-77.36 528.49,-75.68 529.73,-82.57\"/>\n",
       "</g>\n",
       "<!-- 4720970704 -->\n",
       "<g id=\"node8\" class=\"node\">\n",
       "<title>4720970704</title>\n",
       "<polygon fill=\"none\" stroke=\"black\" points=\"2.62,-0.5 2.62,-36.5 185.62,-36.5 185.62,-0.5 2.62,-0.5\"/>\n",
       "<text text-anchor=\"middle\" x=\"13.62\" y=\"-13.7\" font-family=\"Times,serif\" font-size=\"14.00\">a</text>\n",
       "<polyline fill=\"none\" stroke=\"black\" points=\"24.62,-1 24.62,-36.5\"/>\n",
       "<text text-anchor=\"middle\" x=\"64.5\" y=\"-13.7\" font-family=\"Times,serif\" font-size=\"14.00\">data 2.0000</text>\n",
       "<polyline fill=\"none\" stroke=\"black\" points=\"104.38,-1 104.38,-36.5\"/>\n",
       "<text text-anchor=\"middle\" x=\"145\" y=\"-13.7\" font-family=\"Times,serif\" font-size=\"14.00\">grad 0.0000</text>\n",
       "</g>\n",
       "<!-- 4720970704&#45;&gt;4715196560* -->\n",
       "<g id=\"edge6\" class=\"edge\">\n",
       "<title>4720970704&#45;&gt;4715196560*</title>\n",
       "<path fill=\"none\" stroke=\"black\" d=\"M185.81,-34.28C195.45,-35.96 204.82,-37.59 213.29,-39.07\"/>\n",
       "<polygon fill=\"black\" stroke=\"black\" points=\"212.65,-42.51 223.1,-40.77 213.85,-35.61 212.65,-42.51\"/>\n",
       "</g>\n",
       "<!-- 4720960976 -->\n",
       "<g id=\"node9\" class=\"node\">\n",
       "<title>4720960976</title>\n",
       "<polygon fill=\"none\" stroke=\"black\" points=\"942,-81.5 942,-117.5 1131.75,-117.5 1131.75,-81.5 942,-81.5\"/>\n",
       "<text text-anchor=\"middle\" x=\"954.12\" y=\"-94.7\" font-family=\"Times,serif\" font-size=\"14.00\">L</text>\n",
       "<polyline fill=\"none\" stroke=\"black\" points=\"966.25,-82 966.25,-117.5\"/>\n",
       "<text text-anchor=\"middle\" x=\"1008.38\" y=\"-94.7\" font-family=\"Times,serif\" font-size=\"14.00\">data &#45;8.0000</text>\n",
       "<polyline fill=\"none\" stroke=\"black\" points=\"1050.5,-82 1050.5,-117.5\"/>\n",
       "<text text-anchor=\"middle\" x=\"1091.12\" y=\"-94.7\" font-family=\"Times,serif\" font-size=\"14.00\">grad 0.0000</text>\n",
       "</g>\n",
       "<!-- 4720960976*&#45;&gt;4720960976 -->\n",
       "<g id=\"edge3\" class=\"edge\">\n",
       "<title>4720960976*&#45;&gt;4720960976</title>\n",
       "<path fill=\"none\" stroke=\"black\" d=\"M906.44,-99.5C913.59,-99.5 921.78,-99.5 930.49,-99.5\"/>\n",
       "<polygon fill=\"black\" stroke=\"black\" points=\"930.26,-103 940.26,-99.5 930.26,-96 930.26,-103\"/>\n",
       "</g>\n",
       "</g>\n",
       "</svg>\n"
      ],
      "text/plain": [
       "<graphviz.graphs.Digraph at 0x119643b10>"
      ]
     },
     "execution_count": 249,
     "metadata": {},
     "output_type": "execute_result"
    }
   ],
   "source": [
    "draw_dot(L)"
   ]
  },
  {
   "cell_type": "code",
   "execution_count": 186,
   "id": "bdd3f465-e52f-4171-92a1-219ad459f30e",
   "metadata": {},
   "outputs": [],
   "source": [
    "L.grad = 1\n",
    "d.grad = -2\n",
    "f.grad = 4\n",
    "c.grad = -2\n",
    "e.grad = -2\n",
    "a.grad = 6\n",
    "b.grad = -4.0\n",
    "\n",
    "# --\n",
    "# L = d * f\n",
    "# dL/dd = ?\n",
    "# definition of derivative (f(x+h) - f(x)) / h\n",
    "# dL/dd = (((d+h) * f) - d * f) / h\n",
    "# dL/dd = ((df + hf - df) / h\n",
    "# dL/dd = hf/h = f \n",
    "# --\n",
    "# L = d * f\n",
    "# dL/df = ((f+h) * d - df) / h = (fd+hd-df)/h = hd/h = d\n",
    "# --\n",
    "# dL/dc - the crux of neural networks and deep learning!\n",
    "# dL/dc = dL/dd * dd/dc the chain rule\n",
    "# d = e + c\n",
    "# dd/dc = (e + c + h) - (e+c) / h = h/h = 1\n",
    "# dd/de = 1 (by symetry)\n",
    "# dL                                                                                                                                                                                                                                                                                                                                                                                                                                                                                                                                                                                                                                                                                                                                                                                                                                                                                                                                                                                                                                                                                                                                                                                                                                                                                                                                                                                                                                                                                                                                                                                                                                                                                                                                                                                                                                                                                                                                        = f * 1 = -2.0\n",
    "# dL/de = dL/dd * dd/de = f * 1 = -2.0\n",
    "# --\n",
    "# dL/da = dL/de * de/da\n",
    "# e = a * b\n",
    "# de/da = ((a+h)b - ab) / h = b = -3.0\n",
    "# dL/da = -2.0 * -3.0 = 6.0\n",
    "# --\n",
    "# dL/db = dL/de * de/db\n",
    "# e = a * b\n",
    "# de/db =  (a(b+h) - ab) / h =  ah/h = a = 2.0\n",
    "# dL/db = -2.0 * 2.0 = -4.0\n",
    "\n",
    "# \"\"\""
   ]
  },
  {
   "cell_type": "code",
   "execution_count": 187,
   "id": "b3cc836d-014a-4fec-ac15-b506209f171c",
   "metadata": {},
   "outputs": [
    {
     "name": "stdout",
     "output_type": "stream",
     "text": [
      "-4.000000000008441\n"
     ]
    }
   ],
   "source": [
    "# validating derivates\n",
    "def grad_checker():\n",
    "\n",
    "    h = 0.0001\n",
    "    \n",
    "    a = Value(2.0, label='a')\n",
    "    b = Value(-3.0, label='b')\n",
    "    c = Value(10.0, label='c')\n",
    "    e = a * b; e.label='e'\n",
    "    d = e + c; d.label='d'\n",
    "    f = Value(-2.0, label='f')\n",
    "    L = d * f; L.label='L'\n",
    "    L1 = L.data\n",
    "\n",
    "    a = Value(2.0, label='a')\n",
    "    b = Value(-3.0, label='b')\n",
    "    b.data +=h\n",
    "    c = Value(10.0, label='c')\n",
    "    e = a * b; e.label='e'\n",
    "    d = e + c; d.label='d'\n",
    "    f = Value(-2.0, label='f')\n",
    "    # f.data += h\n",
    "    L = d * f; L.label='L'\n",
    "    L2 = L.data\n",
    "\n",
    "    print((L2 - L1) / h)\n",
    "grad_checker()    "
   ]
  },
  {
   "cell_type": "code",
   "execution_count": 190,
   "id": "7da2ccd9-ba1c-49b6-962a-735b77888d90",
   "metadata": {},
   "outputs": [
    {
     "name": "stdout",
     "output_type": "stream",
     "text": [
      "-7.286496\n"
     ]
    }
   ],
   "source": [
    "# single opitimation step\n",
    "# nudge values in the direction of gradient will make L less (value goes up)\n",
    "a.data += 0.01 * a.grad\n",
    "b.data += 0.01 * b.grad\n",
    "c.data += 0.01 * c.grad\n",
    "f.data += 0.01 * f.grad\n",
    "\n",
    "# rerun the forward pass\n",
    "e = a * b\n",
    "d = e + c\n",
    "L = d * f\n",
    "\n",
    "print(L.data)\n"
   ]
  },
  {
   "cell_type": "code",
   "execution_count": 213,
   "id": "5624bf5e-67be-4038-8a10-592a97d01f3d",
   "metadata": {},
   "outputs": [
    {
     "data": {
      "image/png": "[encoded data removed]",
      "text/plain": [
       "<Figure size 640x480 with 1 Axes>"
      ]
     },
     "metadata": {},
     "output_type": "display_data"
    }
   ],
   "source": [
    "# a neutron model\n",
    "# adding an activitation function, example:\n",
    "\n",
    "plt.plot(np.arange(-5,5,0.2), np.tanh(np.arange(-5,5,0.2))); plt.grid()"
   ]
  },
  {
   "cell_type": "code",
   "execution_count": 292,
   "id": "acf51cc5-e26c-43a6-82dd-bf1279143fdf",
   "metadata": {},
   "outputs": [],
   "source": [
    "# building a neuron\n",
    "# inputs x1, x2\n",
    "x1 = Value(2.0, label='x1')\n",
    "x2 = Value(0.0, label='x2')\n",
    "# weights\n",
    "w1 = Value(-3.0, label='w1')\n",
    "w2 = Value(1.0, label='w2')\n",
    "# bias of the neuron\n",
    "b = Value(6.8813735870195432, label='b')\n",
    "x1w1 = x1*w1; x1w1.label='x1*w1'\n",
    "x2w2 = x2*w2; x2w2.label='x2*w2'\n",
    "x1w1x2w2 = x1w1 + x2w2; x1w1x2w2.label = 'x1*w1 + x2*w2'\n",
    "n = x1w1x2w2 + b; n.label = 'n'\n",
    "o = n.tanh(); o.label = 'o'\n",
    "\n"
   ]
  },
  {
   "cell_type": "code",
   "execution_count": 295,
   "id": "5e3ef7ab-90b9-4ed7-a29b-03aaab334b37",
   "metadata": {},
   "outputs": [
    {
     "data": {
      "image/svg+xml": [
       "<?xml version=\"1.0\" encoding=\"UTF-8\" standalone=\"no\"?>\n",
       "<!DOCTYPE svg PUBLIC \"-//W3C//DTD SVG 1.1//EN\"\n",
       " \"http://www.w3.org/Graphics/SVG/1.1/DTD/svg11.dtd\">\n",
       "<!-- Generated by graphviz version 9.0.0 (20230911.1827)\n",
       " -->\n",
       "<!-- Pages: 1 -->\n",
       "<svg width=\"1567pt\" height=\"210pt\"\n",
       " viewBox=\"0.00 0.00 1566.50 210.00\" xmlns=\"http://www.w3.org/2000/svg\" xmlns:xlink=\"http://www.w3.org/1999/xlink\">\n",
       "<g id=\"graph0\" class=\"graph\" transform=\"scale(1 1) rotate(0) translate(4 206)\">\n",
       "<polygon fill=\"white\" stroke=\"none\" points=\"-4,4 -4,-206 1562.5,-206 1562.5,4 -4,4\"/>\n",
       "<!-- 4719595024 -->\n",
       "<g id=\"node1\" class=\"node\">\n",
       "<title>4719595024</title>\n",
       "<polygon fill=\"none\" stroke=\"black\" points=\"1374.75,-54.5 1374.75,-90.5 1558.5,-90.5 1558.5,-54.5 1374.75,-54.5\"/>\n",
       "<text text-anchor=\"middle\" x=\"1386.12\" y=\"-67.7\" font-family=\"Times,serif\" font-size=\"14.00\">o</text>\n",
       "<polyline fill=\"none\" stroke=\"black\" points=\"1397.5,-55 1397.5,-90.5\"/>\n",
       "<text text-anchor=\"middle\" x=\"1437.38\" y=\"-67.7\" font-family=\"Times,serif\" font-size=\"14.00\">data 0.7071</text>\n",
       "<polyline fill=\"none\" stroke=\"black\" points=\"1477.25,-55 1477.25,-90.5\"/>\n",
       "<text text-anchor=\"middle\" x=\"1517.88\" y=\"-67.7\" font-family=\"Times,serif\" font-size=\"14.00\">grad 1.0000</text>\n",
       "</g>\n",
       "<!-- 4719595024tanh -->\n",
       "<g id=\"node2\" class=\"node\">\n",
       "<title>4719595024tanh</title>\n",
       "<ellipse fill=\"none\" stroke=\"black\" cx=\"1311.75\" cy=\"-72.5\" rx=\"27\" ry=\"18\"/>\n",
       "<text text-anchor=\"middle\" x=\"1311.75\" y=\"-67.45\" font-family=\"Times,serif\" font-size=\"14.00\">tanh</text>\n",
       "</g>\n",
       "<!-- 4719595024tanh&#45;&gt;4719595024 -->\n",
       "<g id=\"edge1\" class=\"edge\">\n",
       "<title>4719595024tanh&#45;&gt;4719595024</title>\n",
       "<path fill=\"none\" stroke=\"black\" d=\"M1339.03,-72.5C1346.17,-72.5 1354.36,-72.5 1363.07,-72.5\"/>\n",
       "<polygon fill=\"black\" stroke=\"black\" points=\"1362.81,-76 1372.81,-72.5 1362.81,-69 1362.81,-76\"/>\n",
       "</g>\n",
       "<!-- 4720277520 -->\n",
       "<g id=\"node3\" class=\"node\">\n",
       "<title>4720277520</title>\n",
       "<polygon fill=\"none\" stroke=\"black\" points=\"326.25,-110.5 326.25,-146.5 540,-146.5 540,-110.5 326.25,-110.5\"/>\n",
       "<text text-anchor=\"middle\" x=\"352.62\" y=\"-123.7\" font-family=\"Times,serif\" font-size=\"14.00\">x2*w2</text>\n",
       "<polyline fill=\"none\" stroke=\"black\" points=\"379,-111 379,-146.5\"/>\n",
       "<text text-anchor=\"middle\" x=\"418.88\" y=\"-123.7\" font-family=\"Times,serif\" font-size=\"14.00\">data 0.0000</text>\n",
       "<polyline fill=\"none\" stroke=\"black\" points=\"458.75,-111 458.75,-146.5\"/>\n",
       "<text text-anchor=\"middle\" x=\"499.38\" y=\"-123.7\" font-family=\"Times,serif\" font-size=\"14.00\">grad 0.5000</text>\n",
       "</g>\n",
       "<!-- 4720265808+ -->\n",
       "<g id=\"node7\" class=\"node\">\n",
       "<title>4720265808+</title>\n",
       "<ellipse fill=\"none\" stroke=\"black\" cx=\"605.25\" cy=\"-100.5\" rx=\"27\" ry=\"18\"/>\n",
       "<text text-anchor=\"middle\" x=\"605.25\" y=\"-95.45\" font-family=\"Times,serif\" font-size=\"14.00\">+</text>\n",
       "</g>\n",
       "<!-- 4720277520&#45;&gt;4720265808+ -->\n",
       "<g id=\"edge7\" class=\"edge\">\n",
       "<title>4720277520&#45;&gt;4720265808+</title>\n",
       "<path fill=\"none\" stroke=\"black\" d=\"M540.42,-111.01C549.89,-109.45 559,-107.95 567.21,-106.6\"/>\n",
       "<polygon fill=\"black\" stroke=\"black\" points=\"567.75,-110.05 577.05,-104.98 566.62,-103.15 567.75,-110.05\"/>\n",
       "</g>\n",
       "<!-- 4720277520* -->\n",
       "<g id=\"node4\" class=\"node\">\n",
       "<title>4720277520*</title>\n",
       "<ellipse fill=\"none\" stroke=\"black\" cx=\"261\" cy=\"-128.5\" rx=\"27\" ry=\"18\"/>\n",
       "<text text-anchor=\"middle\" x=\"261\" y=\"-123.45\" font-family=\"Times,serif\" font-size=\"14.00\">*</text>\n",
       "</g>\n",
       "<!-- 4720277520*&#45;&gt;4720277520 -->\n",
       "<g id=\"edge2\" class=\"edge\">\n",
       "<title>4720277520*&#45;&gt;4720277520</title>\n",
       "<path fill=\"none\" stroke=\"black\" d=\"M288.21,-128.5C296,-128.5 305.08,-128.5 314.82,-128.5\"/>\n",
       "<polygon fill=\"black\" stroke=\"black\" points=\"314.55,-132 324.55,-128.5 314.55,-125 314.55,-132\"/>\n",
       "</g>\n",
       "<!-- 4720278032 -->\n",
       "<g id=\"node5\" class=\"node\">\n",
       "<title>4720278032</title>\n",
       "<polygon fill=\"none\" stroke=\"black\" points=\"3.75,-165.5 3.75,-201.5 194.25,-201.5 194.25,-165.5 3.75,-165.5\"/>\n",
       "<text text-anchor=\"middle\" x=\"18.5\" y=\"-178.7\" font-family=\"Times,serif\" font-size=\"14.00\">x2</text>\n",
       "<polyline fill=\"none\" stroke=\"black\" points=\"33.25,-166 33.25,-201.5\"/>\n",
       "<text text-anchor=\"middle\" x=\"73.12\" y=\"-178.7\" font-family=\"Times,serif\" font-size=\"14.00\">data 0.0000</text>\n",
       "<polyline fill=\"none\" stroke=\"black\" points=\"113,-166 113,-201.5\"/>\n",
       "<text text-anchor=\"middle\" x=\"153.62\" y=\"-178.7\" font-family=\"Times,serif\" font-size=\"14.00\">grad 0.5000</text>\n",
       "</g>\n",
       "<!-- 4720278032&#45;&gt;4720277520* -->\n",
       "<g id=\"edge8\" class=\"edge\">\n",
       "<title>4720278032&#45;&gt;4720277520*</title>\n",
       "<path fill=\"none\" stroke=\"black\" d=\"M172.12,-165.01C180.9,-162.35 189.7,-159.5 198,-156.5 208.09,-152.86 218.82,-148.27 228.47,-143.88\"/>\n",
       "<polygon fill=\"black\" stroke=\"black\" points=\"229.86,-147.09 237.45,-139.69 226.9,-140.75 229.86,-147.09\"/>\n",
       "</g>\n",
       "<!-- 4720265808 -->\n",
       "<g id=\"node6\" class=\"node\">\n",
       "<title>4720265808</title>\n",
       "<polygon fill=\"none\" stroke=\"black\" points=\"668.25,-82.5 668.25,-118.5 939,-118.5 939,-82.5 668.25,-82.5\"/>\n",
       "<text text-anchor=\"middle\" x=\"720.88\" y=\"-95.7\" font-family=\"Times,serif\" font-size=\"14.00\">x1*w1 + x2*w2</text>\n",
       "<polyline fill=\"none\" stroke=\"black\" points=\"773.5,-83 773.5,-118.5\"/>\n",
       "<text text-anchor=\"middle\" x=\"815.62\" y=\"-95.7\" font-family=\"Times,serif\" font-size=\"14.00\">data &#45;6.0000</text>\n",
       "<polyline fill=\"none\" stroke=\"black\" points=\"857.75,-83 857.75,-118.5\"/>\n",
       "<text text-anchor=\"middle\" x=\"898.38\" y=\"-95.7\" font-family=\"Times,serif\" font-size=\"14.00\">grad 0.5000</text>\n",
       "</g>\n",
       "<!-- 4719606992+ -->\n",
       "<g id=\"node12\" class=\"node\">\n",
       "<title>4719606992+</title>\n",
       "<ellipse fill=\"none\" stroke=\"black\" cx=\"1002\" cy=\"-72.5\" rx=\"27\" ry=\"18\"/>\n",
       "<text text-anchor=\"middle\" x=\"1002\" y=\"-67.45\" font-family=\"Times,serif\" font-size=\"14.00\">+</text>\n",
       "</g>\n",
       "<!-- 4720265808&#45;&gt;4719606992+ -->\n",
       "<g id=\"edge14\" class=\"edge\">\n",
       "<title>4720265808&#45;&gt;4719606992+</title>\n",
       "<path fill=\"none\" stroke=\"black\" d=\"M934.24,-82.02C944.99,-80.49 955.18,-79.03 964.21,-77.75\"/>\n",
       "<polygon fill=\"black\" stroke=\"black\" points=\"964.46,-81.25 973.86,-76.37 963.47,-74.32 964.46,-81.25\"/>\n",
       "</g>\n",
       "<!-- 4720265808+&#45;&gt;4720265808 -->\n",
       "<g id=\"edge3\" class=\"edge\">\n",
       "<title>4720265808+&#45;&gt;4720265808</title>\n",
       "<path fill=\"none\" stroke=\"black\" d=\"M632.73,-100.5C639.73,-100.5 647.79,-100.5 656.52,-100.5\"/>\n",
       "<polygon fill=\"black\" stroke=\"black\" points=\"656.39,-104 666.39,-100.5 656.39,-97 656.39,-104\"/>\n",
       "</g>\n",
       "<!-- 4720268176 -->\n",
       "<g id=\"node8\" class=\"node\">\n",
       "<title>4720268176</title>\n",
       "<polygon fill=\"none\" stroke=\"black\" points=\"0,-55.5 0,-91.5 198,-91.5 198,-55.5 0,-55.5\"/>\n",
       "<text text-anchor=\"middle\" x=\"16.25\" y=\"-68.7\" font-family=\"Times,serif\" font-size=\"14.00\">w1</text>\n",
       "<polyline fill=\"none\" stroke=\"black\" points=\"32.5,-56 32.5,-91.5\"/>\n",
       "<text text-anchor=\"middle\" x=\"74.62\" y=\"-68.7\" font-family=\"Times,serif\" font-size=\"14.00\">data &#45;3.0000</text>\n",
       "<polyline fill=\"none\" stroke=\"black\" points=\"116.75,-56 116.75,-91.5\"/>\n",
       "<text text-anchor=\"middle\" x=\"157.38\" y=\"-68.7\" font-family=\"Times,serif\" font-size=\"14.00\">grad 1.0000</text>\n",
       "</g>\n",
       "<!-- 4720266896* -->\n",
       "<g id=\"node10\" class=\"node\">\n",
       "<title>4720266896*</title>\n",
       "<ellipse fill=\"none\" stroke=\"black\" cx=\"261\" cy=\"-73.5\" rx=\"27\" ry=\"18\"/>\n",
       "<text text-anchor=\"middle\" x=\"261\" y=\"-68.45\" font-family=\"Times,serif\" font-size=\"14.00\">*</text>\n",
       "</g>\n",
       "<!-- 4720268176&#45;&gt;4720266896* -->\n",
       "<g id=\"edge6\" class=\"edge\">\n",
       "<title>4720268176&#45;&gt;4720266896*</title>\n",
       "<path fill=\"none\" stroke=\"black\" d=\"M198.14,-73.5C206.61,-73.5 214.8,-73.5 222.29,-73.5\"/>\n",
       "<polygon fill=\"black\" stroke=\"black\" points=\"222.29,-77 232.29,-73.5 222.29,-70 222.29,-77\"/>\n",
       "</g>\n",
       "<!-- 4720266896 -->\n",
       "<g id=\"node9\" class=\"node\">\n",
       "<title>4720266896</title>\n",
       "<polygon fill=\"none\" stroke=\"black\" points=\"324,-55.5 324,-91.5 542.25,-91.5 542.25,-55.5 324,-55.5\"/>\n",
       "<text text-anchor=\"middle\" x=\"350.38\" y=\"-68.7\" font-family=\"Times,serif\" font-size=\"14.00\">x1*w1</text>\n",
       "<polyline fill=\"none\" stroke=\"black\" points=\"376.75,-56 376.75,-91.5\"/>\n",
       "<text text-anchor=\"middle\" x=\"418.88\" y=\"-68.7\" font-family=\"Times,serif\" font-size=\"14.00\">data &#45;6.0000</text>\n",
       "<polyline fill=\"none\" stroke=\"black\" points=\"461,-56 461,-91.5\"/>\n",
       "<text text-anchor=\"middle\" x=\"501.62\" y=\"-68.7\" font-family=\"Times,serif\" font-size=\"14.00\">grad 0.5000</text>\n",
       "</g>\n",
       "<!-- 4720266896&#45;&gt;4720265808+ -->\n",
       "<g id=\"edge11\" class=\"edge\">\n",
       "<title>4720266896&#45;&gt;4720265808+</title>\n",
       "<path fill=\"none\" stroke=\"black\" d=\"M542.35,-90.68C551.12,-92.07 559.54,-93.4 567.19,-94.62\"/>\n",
       "<polygon fill=\"black\" stroke=\"black\" points=\"566.59,-98.07 577.02,-96.18 567.69,-91.15 566.59,-98.07\"/>\n",
       "</g>\n",
       "<!-- 4720266896*&#45;&gt;4720266896 -->\n",
       "<g id=\"edge4\" class=\"edge\">\n",
       "<title>4720266896*&#45;&gt;4720266896</title>\n",
       "<path fill=\"none\" stroke=\"black\" d=\"M288.21,-73.5C295.29,-73.5 303.43,-73.5 312.17,-73.5\"/>\n",
       "<polygon fill=\"black\" stroke=\"black\" points=\"312.01,-77 322.01,-73.5 312.01,-70 312.01,-77\"/>\n",
       "</g>\n",
       "<!-- 4719606992 -->\n",
       "<g id=\"node11\" class=\"node\">\n",
       "<title>4719606992</title>\n",
       "<polygon fill=\"none\" stroke=\"black\" points=\"1065,-54.5 1065,-90.5 1248.75,-90.5 1248.75,-54.5 1065,-54.5\"/>\n",
       "<text text-anchor=\"middle\" x=\"1076.38\" y=\"-67.7\" font-family=\"Times,serif\" font-size=\"14.00\">n</text>\n",
       "<polyline fill=\"none\" stroke=\"black\" points=\"1087.75,-55 1087.75,-90.5\"/>\n",
       "<text text-anchor=\"middle\" x=\"1127.62\" y=\"-67.7\" font-family=\"Times,serif\" font-size=\"14.00\">data 0.8814</text>\n",
       "<polyline fill=\"none\" stroke=\"black\" points=\"1167.5,-55 1167.5,-90.5\"/>\n",
       "<text text-anchor=\"middle\" x=\"1208.12\" y=\"-67.7\" font-family=\"Times,serif\" font-size=\"14.00\">grad 0.5000</text>\n",
       "</g>\n",
       "<!-- 4719606992&#45;&gt;4719595024tanh -->\n",
       "<g id=\"edge10\" class=\"edge\">\n",
       "<title>4719606992&#45;&gt;4719595024tanh</title>\n",
       "<path fill=\"none\" stroke=\"black\" d=\"M1249.01,-72.5C1257.39,-72.5 1265.52,-72.5 1272.98,-72.5\"/>\n",
       "<polygon fill=\"black\" stroke=\"black\" points=\"1272.95,-76 1282.95,-72.5 1272.95,-69 1272.95,-76\"/>\n",
       "</g>\n",
       "<!-- 4719606992+&#45;&gt;4719606992 -->\n",
       "<g id=\"edge5\" class=\"edge\">\n",
       "<title>4719606992+&#45;&gt;4719606992</title>\n",
       "<path fill=\"none\" stroke=\"black\" d=\"M1029.28,-72.5C1036.42,-72.5 1044.61,-72.5 1053.32,-72.5\"/>\n",
       "<polygon fill=\"black\" stroke=\"black\" points=\"1053.06,-76 1063.06,-72.5 1053.06,-69 1053.06,-76\"/>\n",
       "</g>\n",
       "<!-- 4719445776 -->\n",
       "<g id=\"node13\" class=\"node\">\n",
       "<title>4719445776</title>\n",
       "<polygon fill=\"none\" stroke=\"black\" points=\"1.5,-0.5 1.5,-36.5 196.5,-36.5 196.5,-0.5 1.5,-0.5\"/>\n",
       "<text text-anchor=\"middle\" x=\"16.25\" y=\"-13.7\" font-family=\"Times,serif\" font-size=\"14.00\">x1</text>\n",
       "<polyline fill=\"none\" stroke=\"black\" points=\"31,-1 31,-36.5\"/>\n",
       "<text text-anchor=\"middle\" x=\"70.88\" y=\"-13.7\" font-family=\"Times,serif\" font-size=\"14.00\">data 2.0000</text>\n",
       "<polyline fill=\"none\" stroke=\"black\" points=\"110.75,-1 110.75,-36.5\"/>\n",
       "<text text-anchor=\"middle\" x=\"153.62\" y=\"-13.7\" font-family=\"Times,serif\" font-size=\"14.00\">grad &#45;1.5000</text>\n",
       "</g>\n",
       "<!-- 4719445776&#45;&gt;4720266896* -->\n",
       "<g id=\"edge12\" class=\"edge\">\n",
       "<title>4719445776&#45;&gt;4720266896*</title>\n",
       "<path fill=\"none\" stroke=\"black\" d=\"M172.12,-36.99C180.9,-39.65 189.7,-42.5 198,-45.5 208.09,-49.14 218.82,-53.73 228.47,-58.12\"/>\n",
       "<polygon fill=\"black\" stroke=\"black\" points=\"226.9,-61.25 237.45,-62.31 229.86,-54.91 226.9,-61.25\"/>\n",
       "</g>\n",
       "<!-- 4720276880 -->\n",
       "<g id=\"node14\" class=\"node\">\n",
       "<title>4720276880</title>\n",
       "<polygon fill=\"none\" stroke=\"black\" points=\"711.75,-27.5 711.75,-63.5 895.5,-63.5 895.5,-27.5 711.75,-27.5\"/>\n",
       "<text text-anchor=\"middle\" x=\"723.12\" y=\"-40.7\" font-family=\"Times,serif\" font-size=\"14.00\">b</text>\n",
       "<polyline fill=\"none\" stroke=\"black\" points=\"734.5,-28 734.5,-63.5\"/>\n",
       "<text text-anchor=\"middle\" x=\"774.38\" y=\"-40.7\" font-family=\"Times,serif\" font-size=\"14.00\">data 6.8814</text>\n",
       "<polyline fill=\"none\" stroke=\"black\" points=\"814.25,-28 814.25,-63.5\"/>\n",
       "<text text-anchor=\"middle\" x=\"854.88\" y=\"-40.7\" font-family=\"Times,serif\" font-size=\"14.00\">grad 0.5000</text>\n",
       "</g>\n",
       "<!-- 4720276880&#45;&gt;4719606992+ -->\n",
       "<g id=\"edge13\" class=\"edge\">\n",
       "<title>4720276880&#45;&gt;4719606992+</title>\n",
       "<path fill=\"none\" stroke=\"black\" d=\"M895.91,-58.05C919.97,-61.36 944.58,-64.74 963.93,-67.4\"/>\n",
       "<polygon fill=\"black\" stroke=\"black\" points=\"963.36,-70.86 973.75,-68.75 964.32,-63.92 963.36,-70.86\"/>\n",
       "</g>\n",
       "<!-- 4720267216 -->\n",
       "<g id=\"node15\" class=\"node\">\n",
       "<title>4720267216</title>\n",
       "<polygon fill=\"none\" stroke=\"black\" points=\"2.25,-110.5 2.25,-146.5 195.75,-146.5 195.75,-110.5 2.25,-110.5\"/>\n",
       "<text text-anchor=\"middle\" x=\"18.5\" y=\"-123.7\" font-family=\"Times,serif\" font-size=\"14.00\">w2</text>\n",
       "<polyline fill=\"none\" stroke=\"black\" points=\"34.75,-111 34.75,-146.5\"/>\n",
       "<text text-anchor=\"middle\" x=\"74.62\" y=\"-123.7\" font-family=\"Times,serif\" font-size=\"14.00\">data 1.0000</text>\n",
       "<polyline fill=\"none\" stroke=\"black\" points=\"114.5,-111 114.5,-146.5\"/>\n",
       "<text text-anchor=\"middle\" x=\"155.12\" y=\"-123.7\" font-family=\"Times,serif\" font-size=\"14.00\">grad 0.0000</text>\n",
       "</g>\n",
       "<!-- 4720267216&#45;&gt;4720277520* -->\n",
       "<g id=\"edge9\" class=\"edge\">\n",
       "<title>4720267216&#45;&gt;4720277520*</title>\n",
       "<path fill=\"none\" stroke=\"black\" d=\"M195.84,-128.5C205.14,-128.5 214.15,-128.5 222.32,-128.5\"/>\n",
       "<polygon fill=\"black\" stroke=\"black\" points=\"222.13,-132 232.13,-128.5 222.13,-125 222.13,-132\"/>\n",
       "</g>\n",
       "</g>\n",
       "</svg>\n"
      ],
      "text/plain": [
       "<graphviz.graphs.Digraph at 0x1194f5350>"
      ]
     },
     "execution_count": 295,
     "metadata": {},
     "output_type": "execute_result"
    }
   ],
   "source": [
    "draw_dot(o)"
   ]
  },
  {
   "cell_type": "code",
   "execution_count": 290,
   "id": "33853c56-e8bf-44f2-990f-ad38d926855f",
   "metadata": {},
   "outputs": [],
   "source": [
    "# manual back propogation through the neuron\n",
    "o.grad = 1.0\n",
    "# o = n.tanh()\n",
    "#do/dn = 1 - tanh(x) ** 2 = 1 - (0.7071) ** 2 = 0.5\n",
    "n.grad = 0.5\n",
    "\n",
    "x1w1x2w2.grad = n.grad\n",
    "b.grad = n.grad\n",
    "x2w2.grad = n.grad\n",
    "x1w1.grad = n.grad\n",
    "x2.grad = w2.data * x2w2.grad \n",
    "w2.grad = x2.data * x2w2.grad\n",
    "x1.grad = w1.data * x1w1.grad\n",
    "w1.grad = x1.data * x1w1.grad\n",
    "\n"
   ]
  },
  {
   "cell_type": "code",
   "execution_count": 1,
   "id": "a47f4282-3d7d-40f9-92bc-316a96d23706",
   "metadata": {},
   "outputs": [],
   "source": [
    "# this is a closure function - it remembers the env it was created in even if the env is not in scope\n",
    "# we use this to define the backward function.\n",
    "\n",
    "def make_multiplier(multiplier):\n",
    "    def multiply(number):\n",
    "        return number * multiplier\n",
    "    return multiply\n"
   ]
  },
  {
   "cell_type": "code",
   "execution_count": 3,
   "id": "85397175-745c-4f99-be1c-34032ceaba1b",
   "metadata": {},
   "outputs": [
    {
     "name": "stdout",
     "output_type": "stream",
     "text": [
      "10 9\n"
     ]
    }
   ],
   "source": [
    "double = make_multiplier(2)\n",
    "triple = make_multiplier(3)\n",
    "\n",
    "print(double(5), triple(3))"
   ]
  },
  {
   "cell_type": "code",
   "execution_count": 291,
   "id": "323f3b2f-56b6-4328-a094-82ed10fb1171",
   "metadata": {},
   "outputs": [
    {
     "data": {
      "image/svg+xml": [
       "<?xml version=\"1.0\" encoding=\"UTF-8\" standalone=\"no\"?>\n",
       "<!DOCTYPE svg PUBLIC \"-//W3C//DTD SVG 1.1//EN\"\n",
       " \"http://www.w3.org/Graphics/SVG/1.1/DTD/svg11.dtd\">\n",
       "<!-- Generated by graphviz version 9.0.0 (20230911.1827)\n",
       " -->\n",
       "<!-- Pages: 1 -->\n",
       "<svg width=\"1567pt\" height=\"210pt\"\n",
       " viewBox=\"0.00 0.00 1566.50 210.00\" xmlns=\"http://www.w3.org/2000/svg\" xmlns:xlink=\"http://www.w3.org/1999/xlink\">\n",
       "<g id=\"graph0\" class=\"graph\" transform=\"scale(1 1) rotate(0) translate(4 206)\">\n",
       "<polygon fill=\"white\" stroke=\"none\" points=\"-4,4 -4,-206 1562.5,-206 1562.5,4 -4,4\"/>\n",
       "<!-- 4720269328 -->\n",
       "<g id=\"node1\" class=\"node\">\n",
       "<title>4720269328</title>\n",
       "<polygon fill=\"none\" stroke=\"black\" points=\"326.25,-55.5 326.25,-91.5 540,-91.5 540,-55.5 326.25,-55.5\"/>\n",
       "<text text-anchor=\"middle\" x=\"352.62\" y=\"-68.7\" font-family=\"Times,serif\" font-size=\"14.00\">x2*w2</text>\n",
       "<polyline fill=\"none\" stroke=\"black\" points=\"379,-56 379,-91.5\"/>\n",
       "<text text-anchor=\"middle\" x=\"418.88\" y=\"-68.7\" font-family=\"Times,serif\" font-size=\"14.00\">data 0.0000</text>\n",
       "<polyline fill=\"none\" stroke=\"black\" points=\"458.75,-56 458.75,-91.5\"/>\n",
       "<text text-anchor=\"middle\" x=\"499.38\" y=\"-68.7\" font-family=\"Times,serif\" font-size=\"14.00\">grad 0.5000</text>\n",
       "</g>\n",
       "<!-- 4720271184+ -->\n",
       "<g id=\"node13\" class=\"node\">\n",
       "<title>4720271184+</title>\n",
       "<ellipse fill=\"none\" stroke=\"black\" cx=\"605.25\" cy=\"-100.5\" rx=\"27\" ry=\"18\"/>\n",
       "<text text-anchor=\"middle\" x=\"605.25\" y=\"-95.45\" font-family=\"Times,serif\" font-size=\"14.00\">+</text>\n",
       "</g>\n",
       "<!-- 4720269328&#45;&gt;4720271184+ -->\n",
       "<g id=\"edge11\" class=\"edge\">\n",
       "<title>4720269328&#45;&gt;4720271184+</title>\n",
       "<path fill=\"none\" stroke=\"black\" d=\"M540.42,-90.37C549.89,-91.87 559,-93.32 567.21,-94.62\"/>\n",
       "<polygon fill=\"black\" stroke=\"black\" points=\"566.63,-98.07 577.05,-96.18 567.72,-91.16 566.63,-98.07\"/>\n",
       "</g>\n",
       "<!-- 4720269328* -->\n",
       "<g id=\"node2\" class=\"node\">\n",
       "<title>4720269328*</title>\n",
       "<ellipse fill=\"none\" stroke=\"black\" cx=\"261\" cy=\"-73.5\" rx=\"27\" ry=\"18\"/>\n",
       "<text text-anchor=\"middle\" x=\"261\" y=\"-68.45\" font-family=\"Times,serif\" font-size=\"14.00\">*</text>\n",
       "</g>\n",
       "<!-- 4720269328*&#45;&gt;4720269328 -->\n",
       "<g id=\"edge1\" class=\"edge\">\n",
       "<title>4720269328*&#45;&gt;4720269328</title>\n",
       "<path fill=\"none\" stroke=\"black\" d=\"M288.21,-73.5C296,-73.5 305.08,-73.5 314.82,-73.5\"/>\n",
       "<polygon fill=\"black\" stroke=\"black\" points=\"314.55,-77 324.55,-73.5 314.55,-70 314.55,-77\"/>\n",
       "</g>\n",
       "<!-- 4720269392 -->\n",
       "<g id=\"node3\" class=\"node\">\n",
       "<title>4720269392</title>\n",
       "<polygon fill=\"none\" stroke=\"black\" points=\"1065,-109.5 1065,-145.5 1248.75,-145.5 1248.75,-109.5 1065,-109.5\"/>\n",
       "<text text-anchor=\"middle\" x=\"1076.38\" y=\"-122.7\" font-family=\"Times,serif\" font-size=\"14.00\">n</text>\n",
       "<polyline fill=\"none\" stroke=\"black\" points=\"1087.75,-110 1087.75,-145.5\"/>\n",
       "<text text-anchor=\"middle\" x=\"1127.62\" y=\"-122.7\" font-family=\"Times,serif\" font-size=\"14.00\">data 0.8814</text>\n",
       "<polyline fill=\"none\" stroke=\"black\" points=\"1167.5,-110 1167.5,-145.5\"/>\n",
       "<text text-anchor=\"middle\" x=\"1208.12\" y=\"-122.7\" font-family=\"Times,serif\" font-size=\"14.00\">grad 0.5000</text>\n",
       "</g>\n",
       "<!-- 4720272528tanh -->\n",
       "<g id=\"node7\" class=\"node\">\n",
       "<title>4720272528tanh</title>\n",
       "<ellipse fill=\"none\" stroke=\"black\" cx=\"1311.75\" cy=\"-127.5\" rx=\"27\" ry=\"18\"/>\n",
       "<text text-anchor=\"middle\" x=\"1311.75\" y=\"-122.45\" font-family=\"Times,serif\" font-size=\"14.00\">tanh</text>\n",
       "</g>\n",
       "<!-- 4720269392&#45;&gt;4720272528tanh -->\n",
       "<g id=\"edge12\" class=\"edge\">\n",
       "<title>4720269392&#45;&gt;4720272528tanh</title>\n",
       "<path fill=\"none\" stroke=\"black\" d=\"M1249.01,-127.5C1257.39,-127.5 1265.52,-127.5 1272.98,-127.5\"/>\n",
       "<polygon fill=\"black\" stroke=\"black\" points=\"1272.95,-131 1282.95,-127.5 1272.95,-124 1272.95,-131\"/>\n",
       "</g>\n",
       "<!-- 4720269392+ -->\n",
       "<g id=\"node4\" class=\"node\">\n",
       "<title>4720269392+</title>\n",
       "<ellipse fill=\"none\" stroke=\"black\" cx=\"1002\" cy=\"-127.5\" rx=\"27\" ry=\"18\"/>\n",
       "<text text-anchor=\"middle\" x=\"1002\" y=\"-122.45\" font-family=\"Times,serif\" font-size=\"14.00\">+</text>\n",
       "</g>\n",
       "<!-- 4720269392+&#45;&gt;4720269392 -->\n",
       "<g id=\"edge2\" class=\"edge\">\n",
       "<title>4720269392+&#45;&gt;4720269392</title>\n",
       "<path fill=\"none\" stroke=\"black\" d=\"M1029.28,-127.5C1036.42,-127.5 1044.61,-127.5 1053.32,-127.5\"/>\n",
       "<polygon fill=\"black\" stroke=\"black\" points=\"1053.06,-131 1063.06,-127.5 1053.06,-124 1053.06,-131\"/>\n",
       "</g>\n",
       "<!-- 4720263760 -->\n",
       "<g id=\"node5\" class=\"node\">\n",
       "<title>4720263760</title>\n",
       "<polygon fill=\"none\" stroke=\"black\" points=\"3.75,-55.5 3.75,-91.5 194.25,-91.5 194.25,-55.5 3.75,-55.5\"/>\n",
       "<text text-anchor=\"middle\" x=\"18.5\" y=\"-68.7\" font-family=\"Times,serif\" font-size=\"14.00\">x2</text>\n",
       "<polyline fill=\"none\" stroke=\"black\" points=\"33.25,-56 33.25,-91.5\"/>\n",
       "<text text-anchor=\"middle\" x=\"73.12\" y=\"-68.7\" font-family=\"Times,serif\" font-size=\"14.00\">data 0.0000</text>\n",
       "<polyline fill=\"none\" stroke=\"black\" points=\"113,-56 113,-91.5\"/>\n",
       "<text text-anchor=\"middle\" x=\"153.62\" y=\"-68.7\" font-family=\"Times,serif\" font-size=\"14.00\">grad 0.5000</text>\n",
       "</g>\n",
       "<!-- 4720263760&#45;&gt;4720269328* -->\n",
       "<g id=\"edge14\" class=\"edge\">\n",
       "<title>4720263760&#45;&gt;4720269328*</title>\n",
       "<path fill=\"none\" stroke=\"black\" d=\"M194.46,-73.5C204.21,-73.5 213.66,-73.5 222.21,-73.5\"/>\n",
       "<polygon fill=\"black\" stroke=\"black\" points=\"222.12,-77 232.12,-73.5 222.12,-70 222.12,-77\"/>\n",
       "</g>\n",
       "<!-- 4720272528 -->\n",
       "<g id=\"node6\" class=\"node\">\n",
       "<title>4720272528</title>\n",
       "<polygon fill=\"none\" stroke=\"black\" points=\"1374.75,-109.5 1374.75,-145.5 1558.5,-145.5 1558.5,-109.5 1374.75,-109.5\"/>\n",
       "<text text-anchor=\"middle\" x=\"1386.12\" y=\"-122.7\" font-family=\"Times,serif\" font-size=\"14.00\">o</text>\n",
       "<polyline fill=\"none\" stroke=\"black\" points=\"1397.5,-110 1397.5,-145.5\"/>\n",
       "<text text-anchor=\"middle\" x=\"1437.38\" y=\"-122.7\" font-family=\"Times,serif\" font-size=\"14.00\">data 0.7071</text>\n",
       "<polyline fill=\"none\" stroke=\"black\" points=\"1477.25,-110 1477.25,-145.5\"/>\n",
       "<text text-anchor=\"middle\" x=\"1517.88\" y=\"-122.7\" font-family=\"Times,serif\" font-size=\"14.00\">grad 1.0000</text>\n",
       "</g>\n",
       "<!-- 4720272528tanh&#45;&gt;4720272528 -->\n",
       "<g id=\"edge3\" class=\"edge\">\n",
       "<title>4720272528tanh&#45;&gt;4720272528</title>\n",
       "<path fill=\"none\" stroke=\"black\" d=\"M1339.03,-127.5C1346.17,-127.5 1354.36,-127.5 1363.07,-127.5\"/>\n",
       "<polygon fill=\"black\" stroke=\"black\" points=\"1362.81,-131 1372.81,-127.5 1362.81,-124 1362.81,-131\"/>\n",
       "</g>\n",
       "<!-- 4720696976 -->\n",
       "<g id=\"node8\" class=\"node\">\n",
       "<title>4720696976</title>\n",
       "<polygon fill=\"none\" stroke=\"black\" points=\"324,-110.5 324,-146.5 542.25,-146.5 542.25,-110.5 324,-110.5\"/>\n",
       "<text text-anchor=\"middle\" x=\"350.38\" y=\"-123.7\" font-family=\"Times,serif\" font-size=\"14.00\">x1*w1</text>\n",
       "<polyline fill=\"none\" stroke=\"black\" points=\"376.75,-111 376.75,-146.5\"/>\n",
       "<text text-anchor=\"middle\" x=\"418.88\" y=\"-123.7\" font-family=\"Times,serif\" font-size=\"14.00\">data &#45;6.0000</text>\n",
       "<polyline fill=\"none\" stroke=\"black\" points=\"461,-111 461,-146.5\"/>\n",
       "<text text-anchor=\"middle\" x=\"501.62\" y=\"-123.7\" font-family=\"Times,serif\" font-size=\"14.00\">grad 0.5000</text>\n",
       "</g>\n",
       "<!-- 4720696976&#45;&gt;4720271184+ -->\n",
       "<g id=\"edge7\" class=\"edge\">\n",
       "<title>4720696976&#45;&gt;4720271184+</title>\n",
       "<path fill=\"none\" stroke=\"black\" d=\"M542.35,-110.69C551.12,-109.24 559.54,-107.86 567.19,-106.6\"/>\n",
       "<polygon fill=\"black\" stroke=\"black\" points=\"567.72,-110.06 577.02,-104.98 566.58,-103.15 567.72,-110.06\"/>\n",
       "</g>\n",
       "<!-- 4720696976* -->\n",
       "<g id=\"node9\" class=\"node\">\n",
       "<title>4720696976*</title>\n",
       "<ellipse fill=\"none\" stroke=\"black\" cx=\"261\" cy=\"-128.5\" rx=\"27\" ry=\"18\"/>\n",
       "<text text-anchor=\"middle\" x=\"261\" y=\"-123.45\" font-family=\"Times,serif\" font-size=\"14.00\">*</text>\n",
       "</g>\n",
       "<!-- 4720696976*&#45;&gt;4720696976 -->\n",
       "<g id=\"edge4\" class=\"edge\">\n",
       "<title>4720696976*&#45;&gt;4720696976</title>\n",
       "<path fill=\"none\" stroke=\"black\" d=\"M288.21,-128.5C295.29,-128.5 303.43,-128.5 312.17,-128.5\"/>\n",
       "<polygon fill=\"black\" stroke=\"black\" points=\"312.01,-132 322.01,-128.5 312.01,-125 312.01,-132\"/>\n",
       "</g>\n",
       "<!-- 4720273296 -->\n",
       "<g id=\"node10\" class=\"node\">\n",
       "<title>4720273296</title>\n",
       "<polygon fill=\"none\" stroke=\"black\" points=\"0,-165.5 0,-201.5 198,-201.5 198,-165.5 0,-165.5\"/>\n",
       "<text text-anchor=\"middle\" x=\"16.25\" y=\"-178.7\" font-family=\"Times,serif\" font-size=\"14.00\">w1</text>\n",
       "<polyline fill=\"none\" stroke=\"black\" points=\"32.5,-166 32.5,-201.5\"/>\n",
       "<text text-anchor=\"middle\" x=\"74.62\" y=\"-178.7\" font-family=\"Times,serif\" font-size=\"14.00\">data &#45;3.0000</text>\n",
       "<polyline fill=\"none\" stroke=\"black\" points=\"116.75,-166 116.75,-201.5\"/>\n",
       "<text text-anchor=\"middle\" x=\"157.38\" y=\"-178.7\" font-family=\"Times,serif\" font-size=\"14.00\">grad 1.0000</text>\n",
       "</g>\n",
       "<!-- 4720273296&#45;&gt;4720696976* -->\n",
       "<g id=\"edge9\" class=\"edge\">\n",
       "<title>4720273296&#45;&gt;4720696976*</title>\n",
       "<path fill=\"none\" stroke=\"black\" d=\"M172.12,-165.01C180.9,-162.35 189.7,-159.5 198,-156.5 208.09,-152.86 218.82,-148.27 228.47,-143.88\"/>\n",
       "<polygon fill=\"black\" stroke=\"black\" points=\"229.86,-147.09 237.45,-139.69 226.9,-140.75 229.86,-147.09\"/>\n",
       "</g>\n",
       "<!-- 4720266000 -->\n",
       "<g id=\"node11\" class=\"node\">\n",
       "<title>4720266000</title>\n",
       "<polygon fill=\"none\" stroke=\"black\" points=\"2.25,-0.5 2.25,-36.5 195.75,-36.5 195.75,-0.5 2.25,-0.5\"/>\n",
       "<text text-anchor=\"middle\" x=\"18.5\" y=\"-13.7\" font-family=\"Times,serif\" font-size=\"14.00\">w2</text>\n",
       "<polyline fill=\"none\" stroke=\"black\" points=\"34.75,-1 34.75,-36.5\"/>\n",
       "<text text-anchor=\"middle\" x=\"74.62\" y=\"-13.7\" font-family=\"Times,serif\" font-size=\"14.00\">data 1.0000</text>\n",
       "<polyline fill=\"none\" stroke=\"black\" points=\"114.5,-1 114.5,-36.5\"/>\n",
       "<text text-anchor=\"middle\" x=\"155.12\" y=\"-13.7\" font-family=\"Times,serif\" font-size=\"14.00\">grad 0.0000</text>\n",
       "</g>\n",
       "<!-- 4720266000&#45;&gt;4720269328* -->\n",
       "<g id=\"edge10\" class=\"edge\">\n",
       "<title>4720266000&#45;&gt;4720269328*</title>\n",
       "<path fill=\"none\" stroke=\"black\" d=\"M168.91,-36.94C178.74,-39.93 188.67,-43.15 198,-46.5 207.96,-50.07 218.58,-54.47 228.18,-58.68\"/>\n",
       "<polygon fill=\"black\" stroke=\"black\" points=\"226.54,-61.78 237.1,-62.67 229.4,-55.39 226.54,-61.78\"/>\n",
       "</g>\n",
       "<!-- 4720271184 -->\n",
       "<g id=\"node12\" class=\"node\">\n",
       "<title>4720271184</title>\n",
       "<polygon fill=\"none\" stroke=\"black\" points=\"668.25,-82.5 668.25,-118.5 939,-118.5 939,-82.5 668.25,-82.5\"/>\n",
       "<text text-anchor=\"middle\" x=\"720.88\" y=\"-95.7\" font-family=\"Times,serif\" font-size=\"14.00\">x1*w1 + x2*w2</text>\n",
       "<polyline fill=\"none\" stroke=\"black\" points=\"773.5,-83 773.5,-118.5\"/>\n",
       "<text text-anchor=\"middle\" x=\"815.62\" y=\"-95.7\" font-family=\"Times,serif\" font-size=\"14.00\">data &#45;6.0000</text>\n",
       "<polyline fill=\"none\" stroke=\"black\" points=\"857.75,-83 857.75,-118.5\"/>\n",
       "<text text-anchor=\"middle\" x=\"898.38\" y=\"-95.7\" font-family=\"Times,serif\" font-size=\"14.00\">grad 0.5000</text>\n",
       "</g>\n",
       "<!-- 4720271184&#45;&gt;4720269392+ -->\n",
       "<g id=\"edge6\" class=\"edge\">\n",
       "<title>4720271184&#45;&gt;4720269392+</title>\n",
       "<path fill=\"none\" stroke=\"black\" d=\"M939.14,-118.99C947.95,-120.21 956.31,-121.36 963.87,-122.4\"/>\n",
       "<polygon fill=\"black\" stroke=\"black\" points=\"963.16,-125.83 973.55,-123.73 964.12,-118.9 963.16,-125.83\"/>\n",
       "</g>\n",
       "<!-- 4720271184+&#45;&gt;4720271184 -->\n",
       "<g id=\"edge5\" class=\"edge\">\n",
       "<title>4720271184+&#45;&gt;4720271184</title>\n",
       "<path fill=\"none\" stroke=\"black\" d=\"M632.73,-100.5C639.73,-100.5 647.79,-100.5 656.52,-100.5\"/>\n",
       "<polygon fill=\"black\" stroke=\"black\" points=\"656.39,-104 666.39,-100.5 656.39,-97 656.39,-104\"/>\n",
       "</g>\n",
       "<!-- 4720274320 -->\n",
       "<g id=\"node14\" class=\"node\">\n",
       "<title>4720274320</title>\n",
       "<polygon fill=\"none\" stroke=\"black\" points=\"711.75,-137.5 711.75,-173.5 895.5,-173.5 895.5,-137.5 711.75,-137.5\"/>\n",
       "<text text-anchor=\"middle\" x=\"723.12\" y=\"-150.7\" font-family=\"Times,serif\" font-size=\"14.00\">b</text>\n",
       "<polyline fill=\"none\" stroke=\"black\" points=\"734.5,-138 734.5,-173.5\"/>\n",
       "<text text-anchor=\"middle\" x=\"774.38\" y=\"-150.7\" font-family=\"Times,serif\" font-size=\"14.00\">data 6.8814</text>\n",
       "<polyline fill=\"none\" stroke=\"black\" points=\"814.25,-138 814.25,-173.5\"/>\n",
       "<text text-anchor=\"middle\" x=\"854.88\" y=\"-150.7\" font-family=\"Times,serif\" font-size=\"14.00\">grad 0.5000</text>\n",
       "</g>\n",
       "<!-- 4720274320&#45;&gt;4720269392+ -->\n",
       "<g id=\"edge13\" class=\"edge\">\n",
       "<title>4720274320&#45;&gt;4720269392+</title>\n",
       "<path fill=\"none\" stroke=\"black\" d=\"M895.91,-142.48C919.97,-139.05 944.58,-135.55 963.93,-132.79\"/>\n",
       "<polygon fill=\"black\" stroke=\"black\" points=\"964.34,-136.26 973.75,-131.39 963.35,-129.33 964.34,-136.26\"/>\n",
       "</g>\n",
       "<!-- 4720966032 -->\n",
       "<g id=\"node15\" class=\"node\">\n",
       "<title>4720966032</title>\n",
       "<polygon fill=\"none\" stroke=\"black\" points=\"1.5,-110.5 1.5,-146.5 196.5,-146.5 196.5,-110.5 1.5,-110.5\"/>\n",
       "<text text-anchor=\"middle\" x=\"16.25\" y=\"-123.7\" font-family=\"Times,serif\" font-size=\"14.00\">x1</text>\n",
       "<polyline fill=\"none\" stroke=\"black\" points=\"31,-111 31,-146.5\"/>\n",
       "<text text-anchor=\"middle\" x=\"70.88\" y=\"-123.7\" font-family=\"Times,serif\" font-size=\"14.00\">data 2.0000</text>\n",
       "<polyline fill=\"none\" stroke=\"black\" points=\"110.75,-111 110.75,-146.5\"/>\n",
       "<text text-anchor=\"middle\" x=\"153.62\" y=\"-123.7\" font-family=\"Times,serif\" font-size=\"14.00\">grad &#45;1.5000</text>\n",
       "</g>\n",
       "<!-- 4720966032&#45;&gt;4720696976* -->\n",
       "<g id=\"edge8\" class=\"edge\">\n",
       "<title>4720966032&#45;&gt;4720696976*</title>\n",
       "<path fill=\"none\" stroke=\"black\" d=\"M196.76,-128.5C205.77,-128.5 214.47,-128.5 222.4,-128.5\"/>\n",
       "<polygon fill=\"black\" stroke=\"black\" points=\"222.25,-132 232.25,-128.5 222.25,-125 222.25,-132\"/>\n",
       "</g>\n",
       "</g>\n",
       "</svg>\n"
      ],
      "text/plain": [
       "<graphviz.graphs.Digraph at 0x11963a150>"
      ]
     },
     "execution_count": 291,
     "metadata": {},
     "output_type": "execute_result"
    }
   ],
   "source": [
    "# now instead reinitiase the weights and bias in the neuron and run the gradient back propogation\n",
    "draw_dot(o)"
   ]
  },
  {
   "cell_type": "code",
   "execution_count": 256,
   "id": "70b408b8-6895-42a1-921b-9f569f2c81fa",
   "metadata": {},
   "outputs": [],
   "source": [
    "o.grad = 1.0"
   ]
  },
  {
   "cell_type": "code",
   "execution_count": 258,
   "id": "a140e05f-1d7d-46e4-8bc3-700b1023e968",
   "metadata": {},
   "outputs": [],
   "source": [
    "o._backward()"
   ]
  },
  {
   "cell_type": "code",
   "execution_count": 262,
   "id": "c3b509aa-9125-4541-80de-0c6f0b5d4032",
   "metadata": {},
   "outputs": [],
   "source": [
    "n._backward()\n",
    "b._backward()"
   ]
  },
  {
   "cell_type": "code",
   "execution_count": 264,
   "id": "f85a78c0-e776-4d74-9684-b0395c7b4539",
   "metadata": {},
   "outputs": [],
   "source": [
    "x1w1x2w2._backward()"
   ]
  },
  {
   "cell_type": "code",
   "execution_count": 266,
   "id": "eb318f8e-ae24-4da8-8b7d-71d3e52ef7d7",
   "metadata": {},
   "outputs": [],
   "source": [
    "x1w1._backward()\n",
    "x2w2._backward()"
   ]
  },
  {
   "cell_type": "code",
   "execution_count": 277,
   "id": "b02cda61-e1e3-4a8a-9670-54f7de9fa20d",
   "metadata": {},
   "outputs": [
    {
     "name": "stdout",
     "output_type": "stream",
     "text": [
      "Value(data=0.7071067811865476)\n",
      "Value(data=0.8813735870195432)\n",
      "Value(data=6.881373587019543)\n",
      "Value(data=-6.0)\n",
      "Value(data=0.0)\n",
      "Value(data=0.0)\n",
      "Value(data=1.0)\n",
      "Value(data=-6.0)\n",
      "Value(data=2.0)\n",
      "Value(data=-3.0)\n"
     ]
    }
   ],
   "source": [
    "# we want to start at the end and go back to the start when we run the steps of the backpropogation. \n",
    "# We need to go any step further upstream before running backprop on the node. Do get the correct order we use\n",
    "# topological sorting. We take the DAG and sort the vertices so that for every directed edge u -> v, vertex v comes before u.\n",
    "topo = []\n",
    "visited = set()\n",
    "def build_topo(v):\n",
    "    if v not in visited:\n",
    "        visited.add(v)\n",
    "        for child in v._prev:\n",
    "            build_topo(child)\n",
    "        topo.append(v)\n",
    "\n",
    "build_topo(o)\n",
    "\n",
    "o.grad = 1.0\n",
    "# then we can run backward on each node in the right order using the reversed topo list\n",
    "for node in reversed(topo):\n",
    "    print(node)\n",
    "    node._backward()"
   ]
  },
  {
   "cell_type": "code",
   "execution_count": 294,
   "id": "4e26127d-5324-4c9f-9c98-984d16f33d7e",
   "metadata": {},
   "outputs": [],
   "source": [
    "o.backward()"
   ]
  },
  {
   "cell_type": "code",
   "execution_count": 298,
   "id": "f64cb5bf-a28b-4cae-8c3c-a366a53c84b5",
   "metadata": {},
   "outputs": [
    {
     "data": {
      "image/svg+xml": [
       "<?xml version=\"1.0\" encoding=\"UTF-8\" standalone=\"no\"?>\n",
       "<!DOCTYPE svg PUBLIC \"-//W3C//DTD SVG 1.1//EN\"\n",
       " \"http://www.w3.org/Graphics/SVG/1.1/DTD/svg11.dtd\">\n",
       "<!-- Generated by graphviz version 9.0.0 (20230911.1827)\n",
       " -->\n",
       "<!-- Pages: 1 -->\n",
       "<svg width=\"501pt\" height=\"45pt\"\n",
       " viewBox=\"0.00 0.00 500.75 45.00\" xmlns=\"http://www.w3.org/2000/svg\" xmlns:xlink=\"http://www.w3.org/1999/xlink\">\n",
       "<g id=\"graph0\" class=\"graph\" transform=\"scale(1 1) rotate(0) translate(4 41)\">\n",
       "<polygon fill=\"white\" stroke=\"none\" points=\"-4,4 -4,-41 496.75,-41 496.75,4 -4,4\"/>\n",
       "<!-- 4717679760 -->\n",
       "<g id=\"node1\" class=\"node\">\n",
       "<title>4717679760</title>\n",
       "<polygon fill=\"none\" stroke=\"black\" points=\"0,-0.5 0,-36.5 183,-36.5 183,-0.5 0,-0.5\"/>\n",
       "<text text-anchor=\"middle\" x=\"11\" y=\"-13.7\" font-family=\"Times,serif\" font-size=\"14.00\">a</text>\n",
       "<polyline fill=\"none\" stroke=\"black\" points=\"22,-1 22,-36.5\"/>\n",
       "<text text-anchor=\"middle\" x=\"61.88\" y=\"-13.7\" font-family=\"Times,serif\" font-size=\"14.00\">data 3.0000</text>\n",
       "<polyline fill=\"none\" stroke=\"black\" points=\"101.75,-1 101.75,-36.5\"/>\n",
       "<text text-anchor=\"middle\" x=\"142.38\" y=\"-13.7\" font-family=\"Times,serif\" font-size=\"14.00\">grad 2.0000</text>\n",
       "</g>\n",
       "<!-- 4716482512+ -->\n",
       "<g id=\"node3\" class=\"node\">\n",
       "<title>4716482512+</title>\n",
       "<ellipse fill=\"none\" stroke=\"black\" cx=\"246\" cy=\"-18.5\" rx=\"27\" ry=\"18\"/>\n",
       "<text text-anchor=\"middle\" x=\"246\" y=\"-13.45\" font-family=\"Times,serif\" font-size=\"14.00\">+</text>\n",
       "</g>\n",
       "<!-- 4717679760&#45;&gt;4716482512+ -->\n",
       "<g id=\"edge2\" class=\"edge\">\n",
       "<title>4717679760&#45;&gt;4716482512+</title>\n",
       "<path fill=\"none\" stroke=\"black\" d=\"M183.41,-18.5C191.77,-18.5 199.88,-18.5 207.32,-18.5\"/>\n",
       "<polygon fill=\"black\" stroke=\"black\" points=\"207.26,-22 217.26,-18.5 207.26,-15 207.26,-22\"/>\n",
       "</g>\n",
       "<!-- 4716482512 -->\n",
       "<g id=\"node2\" class=\"node\">\n",
       "<title>4716482512</title>\n",
       "<polygon fill=\"none\" stroke=\"black\" points=\"309,-0.5 309,-36.5 492.75,-36.5 492.75,-0.5 309,-0.5\"/>\n",
       "<text text-anchor=\"middle\" x=\"320.38\" y=\"-13.7\" font-family=\"Times,serif\" font-size=\"14.00\">b</text>\n",
       "<polyline fill=\"none\" stroke=\"black\" points=\"331.75,-1 331.75,-36.5\"/>\n",
       "<text text-anchor=\"middle\" x=\"371.62\" y=\"-13.7\" font-family=\"Times,serif\" font-size=\"14.00\">data 6.0000</text>\n",
       "<polyline fill=\"none\" stroke=\"black\" points=\"411.5,-1 411.5,-36.5\"/>\n",
       "<text text-anchor=\"middle\" x=\"452.12\" y=\"-13.7\" font-family=\"Times,serif\" font-size=\"14.00\">grad 1.0000</text>\n",
       "</g>\n",
       "<!-- 4716482512+&#45;&gt;4716482512 -->\n",
       "<g id=\"edge1\" class=\"edge\">\n",
       "<title>4716482512+&#45;&gt;4716482512</title>\n",
       "<path fill=\"none\" stroke=\"black\" d=\"M273.28,-18.5C280.42,-18.5 288.61,-18.5 297.32,-18.5\"/>\n",
       "<polygon fill=\"black\" stroke=\"black\" points=\"297.06,-22 307.06,-18.5 297.06,-15 297.06,-22\"/>\n",
       "</g>\n",
       "</g>\n",
       "</svg>\n"
      ],
      "text/plain": [
       "<graphviz.graphs.Digraph at 0x11947d050>"
      ]
     },
     "execution_count": 298,
     "metadata": {},
     "output_type": "execute_result"
    }
   ],
   "source": [
    "# bug to fix:\n",
    "a = Value(3.0, label='a')\n",
    "b = a + a; b.label='b'\n",
    "b.backward()\n",
    "draw_dot(b)\n",
    "\n",
    "# db/db = 1\n",
    "# db/da = 1 + 1 = 2 but it's one in calc\n",
    "# the gradients are overwriting each other rather than accumulating\n",
    "\n"
   ]
  },
  {
   "cell_type": "code",
   "execution_count": 301,
   "id": "91706a23-32d4-4895-821b-a108930b5c70",
   "metadata": {},
   "outputs": [
    {
     "data": {
      "image/svg+xml": [
       "<?xml version=\"1.0\" encoding=\"UTF-8\" standalone=\"no\"?>\n",
       "<!DOCTYPE svg PUBLIC \"-//W3C//DTD SVG 1.1//EN\"\n",
       " \"http://www.w3.org/Graphics/SVG/1.1/DTD/svg11.dtd\">\n",
       "<!-- Generated by graphviz version 9.0.0 (20230911.1827)\n",
       " -->\n",
       "<!-- Pages: 1 -->\n",
       "<svg width=\"826pt\" height=\"100pt\"\n",
       " viewBox=\"0.00 0.00 826.25 100.00\" xmlns=\"http://www.w3.org/2000/svg\" xmlns:xlink=\"http://www.w3.org/1999/xlink\">\n",
       "<g id=\"graph0\" class=\"graph\" transform=\"scale(1 1) rotate(0) translate(4 96)\">\n",
       "<polygon fill=\"white\" stroke=\"none\" points=\"-4,4 -4,-96 822.25,-96 822.25,4 -4,4\"/>\n",
       "<!-- 4720900880 -->\n",
       "<g id=\"node1\" class=\"node\">\n",
       "<title>4720900880</title>\n",
       "<polygon fill=\"none\" stroke=\"black\" points=\"0,-55.5 0,-91.5 192,-91.5 192,-55.5 0,-55.5\"/>\n",
       "<text text-anchor=\"middle\" x=\"11\" y=\"-68.7\" font-family=\"Times,serif\" font-size=\"14.00\">a</text>\n",
       "<polyline fill=\"none\" stroke=\"black\" points=\"22,-56 22,-91.5\"/>\n",
       "<text text-anchor=\"middle\" x=\"64.12\" y=\"-68.7\" font-family=\"Times,serif\" font-size=\"14.00\">data &#45;2.0000</text>\n",
       "<polyline fill=\"none\" stroke=\"black\" points=\"106.25,-56 106.25,-91.5\"/>\n",
       "<text text-anchor=\"middle\" x=\"149.12\" y=\"-68.7\" font-family=\"Times,serif\" font-size=\"14.00\">grad &#45;3.0000</text>\n",
       "</g>\n",
       "<!-- 4720268624+ -->\n",
       "<g id=\"node3\" class=\"node\">\n",
       "<title>4720268624+</title>\n",
       "<ellipse fill=\"none\" stroke=\"black\" cx=\"255\" cy=\"-73.5\" rx=\"27\" ry=\"18\"/>\n",
       "<text text-anchor=\"middle\" x=\"255\" y=\"-68.45\" font-family=\"Times,serif\" font-size=\"14.00\">+</text>\n",
       "</g>\n",
       "<!-- 4720900880&#45;&gt;4720268624+ -->\n",
       "<g id=\"edge8\" class=\"edge\">\n",
       "<title>4720900880&#45;&gt;4720268624+</title>\n",
       "<path fill=\"none\" stroke=\"black\" d=\"M192.4,-73.5C200.73,-73.5 208.79,-73.5 216.18,-73.5\"/>\n",
       "<polygon fill=\"black\" stroke=\"black\" points=\"216.05,-77 226.05,-73.5 216.05,-70 216.05,-77\"/>\n",
       "</g>\n",
       "<!-- 4720269200* -->\n",
       "<g id=\"node6\" class=\"node\">\n",
       "<title>4720269200*</title>\n",
       "<ellipse fill=\"none\" stroke=\"black\" cx=\"255\" cy=\"-18.5\" rx=\"27\" ry=\"18\"/>\n",
       "<text text-anchor=\"middle\" x=\"255\" y=\"-13.45\" font-family=\"Times,serif\" font-size=\"14.00\">*</text>\n",
       "</g>\n",
       "<!-- 4720900880&#45;&gt;4720269200* -->\n",
       "<g id=\"edge6\" class=\"edge\">\n",
       "<title>4720900880&#45;&gt;4720269200*</title>\n",
       "<path fill=\"none\" stroke=\"black\" d=\"M166.39,-55.06C175.08,-52.38 183.79,-49.5 192,-46.5 201.99,-42.85 212.63,-38.3 222.22,-33.93\"/>\n",
       "<polygon fill=\"black\" stroke=\"black\" points=\"223.55,-37.17 231.15,-29.78 220.6,-30.83 223.55,-37.17\"/>\n",
       "</g>\n",
       "<!-- 4720268624 -->\n",
       "<g id=\"node2\" class=\"node\">\n",
       "<title>4720268624</title>\n",
       "<polygon fill=\"none\" stroke=\"black\" points=\"318.38,-55.5 318.38,-91.5 505.88,-91.5 505.88,-55.5 318.38,-55.5\"/>\n",
       "<text text-anchor=\"middle\" x=\"329.38\" y=\"-68.7\" font-family=\"Times,serif\" font-size=\"14.00\">e</text>\n",
       "<polyline fill=\"none\" stroke=\"black\" points=\"340.38,-56 340.38,-91.5\"/>\n",
       "<text text-anchor=\"middle\" x=\"380.25\" y=\"-68.7\" font-family=\"Times,serif\" font-size=\"14.00\">data 1.0000</text>\n",
       "<polyline fill=\"none\" stroke=\"black\" points=\"420.12,-56 420.12,-91.5\"/>\n",
       "<text text-anchor=\"middle\" x=\"463\" y=\"-68.7\" font-family=\"Times,serif\" font-size=\"14.00\">grad &#45;6.0000</text>\n",
       "</g>\n",
       "<!-- 4720263632* -->\n",
       "<g id=\"node8\" class=\"node\">\n",
       "<title>4720263632*</title>\n",
       "<ellipse fill=\"none\" stroke=\"black\" cx=\"569.25\" cy=\"-45.5\" rx=\"27\" ry=\"18\"/>\n",
       "<text text-anchor=\"middle\" x=\"569.25\" y=\"-40.45\" font-family=\"Times,serif\" font-size=\"14.00\">*</text>\n",
       "</g>\n",
       "<!-- 4720268624&#45;&gt;4720263632* -->\n",
       "<g id=\"edge4\" class=\"edge\">\n",
       "<title>4720268624&#45;&gt;4720263632*</title>\n",
       "<path fill=\"none\" stroke=\"black\" d=\"M506.05,-56.73C514.96,-55.12 523.59,-53.56 531.44,-52.14\"/>\n",
       "<polygon fill=\"black\" stroke=\"black\" points=\"531.99,-55.6 541.21,-50.38 530.75,-48.71 531.99,-55.6\"/>\n",
       "</g>\n",
       "<!-- 4720268624+&#45;&gt;4720268624 -->\n",
       "<g id=\"edge1\" class=\"edge\">\n",
       "<title>4720268624+&#45;&gt;4720268624</title>\n",
       "<path fill=\"none\" stroke=\"black\" d=\"M282.31,-73.5C289.55,-73.5 297.86,-73.5 306.7,-73.5\"/>\n",
       "<polygon fill=\"black\" stroke=\"black\" points=\"306.62,-77 316.62,-73.5 306.62,-70 306.62,-77\"/>\n",
       "</g>\n",
       "<!-- 4720278352 -->\n",
       "<g id=\"node4\" class=\"node\">\n",
       "<title>4720278352</title>\n",
       "<polygon fill=\"none\" stroke=\"black\" points=\"1.88,-0.5 1.88,-36.5 190.12,-36.5 190.12,-0.5 1.88,-0.5\"/>\n",
       "<text text-anchor=\"middle\" x=\"13.25\" y=\"-13.7\" font-family=\"Times,serif\" font-size=\"14.00\">b</text>\n",
       "<polyline fill=\"none\" stroke=\"black\" points=\"24.62,-1 24.62,-36.5\"/>\n",
       "<text text-anchor=\"middle\" x=\"64.5\" y=\"-13.7\" font-family=\"Times,serif\" font-size=\"14.00\">data 3.0000</text>\n",
       "<polyline fill=\"none\" stroke=\"black\" points=\"104.38,-1 104.38,-36.5\"/>\n",
       "<text text-anchor=\"middle\" x=\"147.25\" y=\"-13.7\" font-family=\"Times,serif\" font-size=\"14.00\">grad &#45;8.0000</text>\n",
       "</g>\n",
       "<!-- 4720278352&#45;&gt;4720268624+ -->\n",
       "<g id=\"edge9\" class=\"edge\">\n",
       "<title>4720278352&#45;&gt;4720268624+</title>\n",
       "<path fill=\"none\" stroke=\"black\" d=\"M163.53,-36.96C173.14,-39.96 182.87,-43.18 192,-46.5 201.86,-50.08 212.39,-54.46 221.92,-58.63\"/>\n",
       "<polygon fill=\"black\" stroke=\"black\" points=\"220.23,-61.71 230.79,-62.59 223.09,-55.32 220.23,-61.71\"/>\n",
       "</g>\n",
       "<!-- 4720278352&#45;&gt;4720269200* -->\n",
       "<g id=\"edge7\" class=\"edge\">\n",
       "<title>4720278352&#45;&gt;4720269200*</title>\n",
       "<path fill=\"none\" stroke=\"black\" d=\"M190.59,-18.5C199.58,-18.5 208.29,-18.5 216.23,-18.5\"/>\n",
       "<polygon fill=\"black\" stroke=\"black\" points=\"216.11,-22 226.11,-18.5 216.11,-15 216.11,-22\"/>\n",
       "</g>\n",
       "<!-- 4720269200 -->\n",
       "<g id=\"node5\" class=\"node\">\n",
       "<title>4720269200</title>\n",
       "<polygon fill=\"none\" stroke=\"black\" points=\"318,-0.5 318,-36.5 506.25,-36.5 506.25,-0.5 318,-0.5\"/>\n",
       "<text text-anchor=\"middle\" x=\"329.38\" y=\"-13.7\" font-family=\"Times,serif\" font-size=\"14.00\">d</text>\n",
       "<polyline fill=\"none\" stroke=\"black\" points=\"340.75,-1 340.75,-36.5\"/>\n",
       "<text text-anchor=\"middle\" x=\"382.88\" y=\"-13.7\" font-family=\"Times,serif\" font-size=\"14.00\">data &#45;6.0000</text>\n",
       "<polyline fill=\"none\" stroke=\"black\" points=\"425,-1 425,-36.5\"/>\n",
       "<text text-anchor=\"middle\" x=\"465.62\" y=\"-13.7\" font-family=\"Times,serif\" font-size=\"14.00\">grad 1.0000</text>\n",
       "</g>\n",
       "<!-- 4720269200&#45;&gt;4720263632* -->\n",
       "<g id=\"edge5\" class=\"edge\">\n",
       "<title>4720269200&#45;&gt;4720263632*</title>\n",
       "<path fill=\"none\" stroke=\"black\" d=\"M506.49,-34.75C515.27,-36.28 523.77,-37.76 531.51,-39.1\"/>\n",
       "<polygon fill=\"black\" stroke=\"black\" points=\"530.66,-42.51 541.11,-40.78 531.86,-35.61 530.66,-42.51\"/>\n",
       "</g>\n",
       "<!-- 4720269200*&#45;&gt;4720269200 -->\n",
       "<g id=\"edge2\" class=\"edge\">\n",
       "<title>4720269200*&#45;&gt;4720269200</title>\n",
       "<path fill=\"none\" stroke=\"black\" d=\"M282.31,-18.5C289.49,-18.5 297.72,-18.5 306.47,-18.5\"/>\n",
       "<polygon fill=\"black\" stroke=\"black\" points=\"306.29,-22 316.29,-18.5 306.29,-15 306.29,-22\"/>\n",
       "</g>\n",
       "<!-- 4720263632 -->\n",
       "<g id=\"node7\" class=\"node\">\n",
       "<title>4720263632</title>\n",
       "<polygon fill=\"none\" stroke=\"black\" points=\"632.25,-27.5 632.25,-63.5 818.25,-63.5 818.25,-27.5 632.25,-27.5\"/>\n",
       "<text text-anchor=\"middle\" x=\"642.5\" y=\"-40.7\" font-family=\"Times,serif\" font-size=\"14.00\">f</text>\n",
       "<polyline fill=\"none\" stroke=\"black\" points=\"652.75,-28 652.75,-63.5\"/>\n",
       "<text text-anchor=\"middle\" x=\"694.88\" y=\"-40.7\" font-family=\"Times,serif\" font-size=\"14.00\">data &#45;6.0000</text>\n",
       "<polyline fill=\"none\" stroke=\"black\" points=\"737,-28 737,-63.5\"/>\n",
       "<text text-anchor=\"middle\" x=\"777.62\" y=\"-40.7\" font-family=\"Times,serif\" font-size=\"14.00\">grad 1.0000</text>\n",
       "</g>\n",
       "<!-- 4720263632*&#45;&gt;4720263632 -->\n",
       "<g id=\"edge3\" class=\"edge\">\n",
       "<title>4720263632*&#45;&gt;4720263632</title>\n",
       "<path fill=\"none\" stroke=\"black\" d=\"M596.72,-45.5C603.86,-45.5 612.03,-45.5 620.71,-45.5\"/>\n",
       "<polygon fill=\"black\" stroke=\"black\" points=\"620.44,-49 630.44,-45.5 620.44,-42 620.44,-49\"/>\n",
       "</g>\n",
       "</g>\n",
       "</svg>\n"
      ],
      "text/plain": [
       "<graphviz.graphs.Digraph at 0x11959b090>"
      ]
     },
     "execution_count": 301,
     "metadata": {},
     "output_type": "execute_result"
    }
   ],
   "source": [
    "a = Value(-2.0, label='a')\n",
    "b = Value(3.0, label='b')\n",
    "d = a * b; d.label='d'\n",
    "e = a + b; e.label='e'\n",
    "f = d * e; f.label='f'\n",
    "f.backward()\n",
    "draw_dot(f)\n",
    "\n",
    "# here a.grad and b.grad are incorrect as + operation has overwritten"
   ]
  },
  {
   "cell_type": "code",
   "execution_count": null,
   "id": "ad15b86d-e8d9-4059-8ca6-9f28cc99169d",
   "metadata": {},
   "outputs": [],
   "source": []
  },
  {
   "cell_type": "code",
   "execution_count": 304,
   "id": "a16ab57b-b52b-4984-8745-f5c9a9fd025a",
   "metadata": {},
   "outputs": [
    {
     "data": {
      "text/plain": [
       "Value(data=2)"
      ]
     },
     "execution_count": 304,
     "metadata": {},
     "output_type": "execute_result"
    }
   ],
   "source": [
    "# cant do this as numeric datatype can be added directly to the Value instance \n",
    "a = Value (1)\n",
    "a + 1"
   ]
  },
  {
   "cell_type": "code",
   "execution_count": 307,
   "id": "5f76cb6c-5671-40db-80e0-20c3adb92cf9",
   "metadata": {},
   "outputs": [
    {
     "data": {
      "text/plain": [
       "Value(data=6)"
      ]
     },
     "execution_count": 307,
     "metadata": {},
     "output_type": "execute_result"
    }
   ],
   "source": [
    "# similarlly for multiplication\n",
    "b = Value (2)\n",
    "b * 3"
   ]
  },
  {
   "cell_type": "code",
   "execution_count": 322,
   "id": "4bc8d8cf-acb8-4503-bf02-c6ae1d40e411",
   "metadata": {},
   "outputs": [
    {
     "data": {
      "text/plain": [
       "Value(data=4)"
      ]
     },
     "execution_count": 322,
     "metadata": {},
     "output_type": "execute_result"
    }
   ],
   "source": [
    "b = Value(2)\n",
    "2 * b"
   ]
  },
  {
   "cell_type": "code",
   "execution_count": 311,
   "id": "a99e5859-6aa6-44c1-bc6c-4e5317146bf7",
   "metadata": {},
   "outputs": [
    {
     "ename": "TypeError",
     "evalue": "unsupported operand type(s) for +: 'int' and 'Value'",
     "output_type": "error",
     "traceback": [
      "\u001b[0;31m---------------------------------------------------------------------------\u001b[0m",
      "\u001b[0;31mTypeError\u001b[0m                                 Traceback (most recent call last)",
      "Cell \u001b[0;32mIn[311], line 2\u001b[0m\n\u001b[1;32m      1\u001b[0m a \u001b[38;5;241m=\u001b[39m Value (\u001b[38;5;241m1\u001b[39m)\n\u001b[0;32m----> 2\u001b[0m \u001b[38;5;241;43m1\u001b[39;49m\u001b[43m \u001b[49m\u001b[38;5;241;43m+\u001b[39;49m\u001b[43m \u001b[49m\u001b[43ma\u001b[49m\n",
      "\u001b[0;31mTypeError\u001b[0m: unsupported operand type(s) for +: 'int' and 'Value'"
     ]
    }
   ],
   "source": [
    "a = Value (1)\n",
    "1 + a"
   ]
  },
  {
   "cell_type": "code",
   "execution_count": 331,
   "id": "8b6ae508-e137-4b13-91b8-d507f4d6fd16",
   "metadata": {},
   "outputs": [
    {
     "data": {
      "text/plain": [
       "Value(data=0.5)"
      ]
     },
     "execution_count": 331,
     "metadata": {},
     "output_type": "execute_result"
    }
   ],
   "source": [
    "# for division we can have a special way\n",
    "a = Value(2.0)\n",
    "b = Value(4.0)\n",
    "a / b\n",
    "# a * (1/b)\n",
    "# a * (b**-1)\n",
    "\n",
    "# instead make a general case of:\n",
    "# x ** k\n"
   ]
  },
  {
   "cell_type": "code",
   "execution_count": 339,
   "id": "098f3b68-affa-41c0-a017-f012343ac4ad",
   "metadata": {},
   "outputs": [],
   "source": [
    "a = Value(data=5)\n",
    "b = Value(data=2)\n",
    "\n",
    "c = a/b"
   ]
  },
  {
   "cell_type": "code",
   "execution_count": 340,
   "id": "ffa1f35b-14e9-43a6-a038-2be0822a4bb6",
   "metadata": {},
   "outputs": [
    {
     "data": {
      "text/plain": [
       "{'data': 2.5,\n",
       " 'grad': 0.0,\n",
       " '_backward': <function __main__.Value.__mul__.<locals>._backward()>,\n",
       " '_prev': {Value(data=0.5), Value(data=5)},\n",
       " '_op': '*',\n",
       " 'label': ''}"
      ]
     },
     "execution_count": 340,
     "metadata": {},
     "output_type": "execute_result"
    }
   ],
   "source": [
    "c.__dict__"
   ]
  },
  {
   "cell_type": "code",
   "execution_count": 347,
   "id": "8627c9e2-bcd1-477f-8ca6-cb7dc019db8a",
   "metadata": {},
   "outputs": [
    {
     "data": {
      "text/plain": [
       "{'data': 0.5,\n",
       " 'grad': 0.0,\n",
       " '_backward': <function __main__.Value.__pow__.<locals>._backward()>,\n",
       " '_prev': {Value(data=2)},\n",
       " '_op': '**-1',\n",
       " 'label': ''}"
      ]
     },
     "execution_count": 347,
     "metadata": {},
     "output_type": "execute_result"
    }
   ],
   "source": [
    "val = list(c._prev)[1]\n",
    "val.__dict__"
   ]
  },
  {
   "cell_type": "code",
   "execution_count": 354,
   "id": "0d852a98-39f1-48cd-90a6-bfa7f390f08d",
   "metadata": {},
   "outputs": [
    {
     "data": {
      "text/plain": [
       "Value(data=1.0)"
      ]
     },
     "execution_count": 354,
     "metadata": {},
     "output_type": "execute_result"
    }
   ],
   "source": [
    "a= Value(3.0)\n",
    "b = Value(2.0)\n",
    "a - b"
   ]
  },
  {
   "cell_type": "code",
   "execution_count": 367,
   "id": "c6b06285-1ad6-4694-84ae-d5334d558ecf",
   "metadata": {},
   "outputs": [],
   "source": [
    "# building a neuron\n",
    "# inputs x1, x2\n",
    "x1 = Value(2.0, label='x1')\n",
    "x2 = Value(0.0, label='x2')\n",
    "# weights\n",
    "w1 = Value(-3.0, label='w1')\n",
    "w2 = Value(1.0, label='w2')\n",
    "# bias of the neuron\n",
    "b = Value(6.8813735870195432, label='b')\n",
    "x1w1 = x1*w1; x1w1.label='x1*w1'\n",
    "x2w2 = x2*w2; x2w2.label='x2*w2'\n",
    "x1w1x2w2 = x1w1 + x2w2; x1w1x2w2.label = 'x1*w1 + x2*w2'\n",
    "n = x1w1x2w2 + b; n.label = 'n'\n",
    "# --- break up tanh\n",
    "# o = n.tanh(); o.label = 'o'\n",
    "e = (2 * n).exp()\n",
    "o = (e - 1)/(e + 1) \n",
    "# ---\n",
    "o.backward()"
   ]
  },
  {
   "cell_type": "code",
   "execution_count": 368,
   "id": "1042672b-69d4-43c0-9e62-98cb8497afdd",
   "metadata": {},
   "outputs": [
    {
     "data": {
      "image/svg+xml": [
       "<?xml version=\"1.0\" encoding=\"UTF-8\" standalone=\"no\"?>\n",
       "<!DOCTYPE svg PUBLIC \"-//W3C//DTD SVG 1.1//EN\"\n",
       " \"http://www.w3.org/Graphics/SVG/1.1/DTD/svg11.dtd\">\n",
       "<!-- Generated by graphviz version 9.0.0 (20230911.1827)\n",
       " -->\n",
       "<!-- Pages: 1 -->\n",
       "<svg width=\"2926pt\" height=\"210pt\"\n",
       " viewBox=\"0.00 0.00 2926.25 210.00\" xmlns=\"http://www.w3.org/2000/svg\" xmlns:xlink=\"http://www.w3.org/1999/xlink\">\n",
       "<g id=\"graph0\" class=\"graph\" transform=\"scale(1 1) rotate(0) translate(4 206)\">\n",
       "<polygon fill=\"white\" stroke=\"none\" points=\"-4,4 -4,-206 2922.25,-206 2922.25,4 -4,4\"/>\n",
       "<!-- 4714861584 -->\n",
       "<g id=\"node1\" class=\"node\">\n",
       "<title>4714861584</title>\n",
       "<polygon fill=\"none\" stroke=\"black\" points=\"1066.5,-109.5 1066.5,-145.5 1247.25,-145.5 1247.25,-109.5 1066.5,-109.5\"/>\n",
       "<text text-anchor=\"middle\" x=\"1076.38\" y=\"-122.7\" font-family=\"Times,serif\" font-size=\"14.00\"> </text>\n",
       "<polyline fill=\"none\" stroke=\"black\" points=\"1086.25,-110 1086.25,-145.5\"/>\n",
       "<text text-anchor=\"middle\" x=\"1126.12\" y=\"-122.7\" font-family=\"Times,serif\" font-size=\"14.00\">data 2.0000</text>\n",
       "<polyline fill=\"none\" stroke=\"black\" points=\"1166,-110 1166,-145.5\"/>\n",
       "<text text-anchor=\"middle\" x=\"1206.62\" y=\"-122.7\" font-family=\"Times,serif\" font-size=\"14.00\">grad 0.2203</text>\n",
       "</g>\n",
       "<!-- 4534865232* -->\n",
       "<g id=\"node20\" class=\"node\">\n",
       "<title>4534865232*</title>\n",
       "<ellipse fill=\"none\" stroke=\"black\" cx=\"1311.75\" cy=\"-99.5\" rx=\"27\" ry=\"18\"/>\n",
       "<text text-anchor=\"middle\" x=\"1311.75\" y=\"-94.45\" font-family=\"Times,serif\" font-size=\"14.00\">*</text>\n",
       "</g>\n",
       "<!-- 4714861584&#45;&gt;4534865232* -->\n",
       "<g id=\"edge16\" class=\"edge\">\n",
       "<title>4714861584&#45;&gt;4534865232*</title>\n",
       "<path fill=\"none\" stroke=\"black\" d=\"M1247.69,-111.05C1256.94,-109.35 1265.93,-107.71 1274.08,-106.22\"/>\n",
       "<polygon fill=\"black\" stroke=\"black\" points=\"1274.67,-109.67 1283.87,-104.42 1273.41,-102.78 1274.67,-109.67\"/>\n",
       "</g>\n",
       "<!-- 4534871120 -->\n",
       "<g id=\"node2\" class=\"node\">\n",
       "<title>4534871120</title>\n",
       "<polygon fill=\"none\" stroke=\"black\" points=\"668.25,-82.5 668.25,-118.5 939,-118.5 939,-82.5 668.25,-82.5\"/>\n",
       "<text text-anchor=\"middle\" x=\"720.88\" y=\"-95.7\" font-family=\"Times,serif\" font-size=\"14.00\">x1*w1 + x2*w2</text>\n",
       "<polyline fill=\"none\" stroke=\"black\" points=\"773.5,-83 773.5,-118.5\"/>\n",
       "<text text-anchor=\"middle\" x=\"815.62\" y=\"-95.7\" font-family=\"Times,serif\" font-size=\"14.00\">data &#45;6.0000</text>\n",
       "<polyline fill=\"none\" stroke=\"black\" points=\"857.75,-83 857.75,-118.5\"/>\n",
       "<text text-anchor=\"middle\" x=\"898.38\" y=\"-95.7\" font-family=\"Times,serif\" font-size=\"14.00\">grad 0.5000</text>\n",
       "</g>\n",
       "<!-- 4534870480+ -->\n",
       "<g id=\"node28\" class=\"node\">\n",
       "<title>4534870480+</title>\n",
       "<ellipse fill=\"none\" stroke=\"black\" cx=\"1002\" cy=\"-72.5\" rx=\"27\" ry=\"18\"/>\n",
       "<text text-anchor=\"middle\" x=\"1002\" y=\"-67.45\" font-family=\"Times,serif\" font-size=\"14.00\">+</text>\n",
       "</g>\n",
       "<!-- 4534871120&#45;&gt;4534870480+ -->\n",
       "<g id=\"edge24\" class=\"edge\">\n",
       "<title>4534871120&#45;&gt;4534870480+</title>\n",
       "<path fill=\"none\" stroke=\"black\" d=\"M934.24,-82.02C944.99,-80.49 955.18,-79.03 964.21,-77.75\"/>\n",
       "<polygon fill=\"black\" stroke=\"black\" points=\"964.46,-81.25 973.86,-76.37 963.47,-74.32 964.46,-81.25\"/>\n",
       "</g>\n",
       "<!-- 4534871120+ -->\n",
       "<g id=\"node3\" class=\"node\">\n",
       "<title>4534871120+</title>\n",
       "<ellipse fill=\"none\" stroke=\"black\" cx=\"605.25\" cy=\"-100.5\" rx=\"27\" ry=\"18\"/>\n",
       "<text text-anchor=\"middle\" x=\"605.25\" y=\"-95.45\" font-family=\"Times,serif\" font-size=\"14.00\">+</text>\n",
       "</g>\n",
       "<!-- 4534871120+&#45;&gt;4534871120 -->\n",
       "<g id=\"edge1\" class=\"edge\">\n",
       "<title>4534871120+&#45;&gt;4534871120</title>\n",
       "<path fill=\"none\" stroke=\"black\" d=\"M632.73,-100.5C639.73,-100.5 647.79,-100.5 656.52,-100.5\"/>\n",
       "<polygon fill=\"black\" stroke=\"black\" points=\"656.39,-104 666.39,-100.5 656.39,-97 656.39,-104\"/>\n",
       "</g>\n",
       "<!-- 4534870608 -->\n",
       "<g id=\"node4\" class=\"node\">\n",
       "<title>4534870608</title>\n",
       "<polygon fill=\"none\" stroke=\"black\" points=\"326.25,-110.5 326.25,-146.5 540,-146.5 540,-110.5 326.25,-110.5\"/>\n",
       "<text text-anchor=\"middle\" x=\"352.62\" y=\"-123.7\" font-family=\"Times,serif\" font-size=\"14.00\">x2*w2</text>\n",
       "<polyline fill=\"none\" stroke=\"black\" points=\"379,-111 379,-146.5\"/>\n",
       "<text text-anchor=\"middle\" x=\"418.88\" y=\"-123.7\" font-family=\"Times,serif\" font-size=\"14.00\">data 0.0000</text>\n",
       "<polyline fill=\"none\" stroke=\"black\" points=\"458.75,-111 458.75,-146.5\"/>\n",
       "<text text-anchor=\"middle\" x=\"499.38\" y=\"-123.7\" font-family=\"Times,serif\" font-size=\"14.00\">grad 0.5000</text>\n",
       "</g>\n",
       "<!-- 4534870608&#45;&gt;4534871120+ -->\n",
       "<g id=\"edge17\" class=\"edge\">\n",
       "<title>4534870608&#45;&gt;4534871120+</title>\n",
       "<path fill=\"none\" stroke=\"black\" d=\"M540.42,-111.01C549.89,-109.45 559,-107.95 567.21,-106.6\"/>\n",
       "<polygon fill=\"black\" stroke=\"black\" points=\"567.75,-110.05 577.05,-104.98 566.62,-103.15 567.75,-110.05\"/>\n",
       "</g>\n",
       "<!-- 4534870608* -->\n",
       "<g id=\"node5\" class=\"node\">\n",
       "<title>4534870608*</title>\n",
       "<ellipse fill=\"none\" stroke=\"black\" cx=\"261\" cy=\"-128.5\" rx=\"27\" ry=\"18\"/>\n",
       "<text text-anchor=\"middle\" x=\"261\" y=\"-123.45\" font-family=\"Times,serif\" font-size=\"14.00\">*</text>\n",
       "</g>\n",
       "<!-- 4534870608*&#45;&gt;4534870608 -->\n",
       "<g id=\"edge2\" class=\"edge\">\n",
       "<title>4534870608*&#45;&gt;4534870608</title>\n",
       "<path fill=\"none\" stroke=\"black\" d=\"M288.21,-128.5C296,-128.5 305.08,-128.5 314.82,-128.5\"/>\n",
       "<polygon fill=\"black\" stroke=\"black\" points=\"314.55,-132 324.55,-128.5 314.55,-125 314.55,-132\"/>\n",
       "</g>\n",
       "<!-- 4713491152 -->\n",
       "<g id=\"node6\" class=\"node\">\n",
       "<title>4713491152</title>\n",
       "<polygon fill=\"none\" stroke=\"black\" points=\"2737.5,-80.5 2737.5,-116.5 2918.25,-116.5 2918.25,-80.5 2737.5,-80.5\"/>\n",
       "<text text-anchor=\"middle\" x=\"2747.38\" y=\"-93.7\" font-family=\"Times,serif\" font-size=\"14.00\"> </text>\n",
       "<polyline fill=\"none\" stroke=\"black\" points=\"2757.25,-81 2757.25,-116.5\"/>\n",
       "<text text-anchor=\"middle\" x=\"2797.12\" y=\"-93.7\" font-family=\"Times,serif\" font-size=\"14.00\">data 0.7071</text>\n",
       "<polyline fill=\"none\" stroke=\"black\" points=\"2837,-81 2837,-116.5\"/>\n",
       "<text text-anchor=\"middle\" x=\"2877.62\" y=\"-93.7\" font-family=\"Times,serif\" font-size=\"14.00\">grad 1.0000</text>\n",
       "</g>\n",
       "<!-- 4713491152* -->\n",
       "<g id=\"node7\" class=\"node\">\n",
       "<title>4713491152*</title>\n",
       "<ellipse fill=\"none\" stroke=\"black\" cx=\"2674.5\" cy=\"-98.5\" rx=\"27\" ry=\"18\"/>\n",
       "<text text-anchor=\"middle\" x=\"2674.5\" y=\"-93.45\" font-family=\"Times,serif\" font-size=\"14.00\">*</text>\n",
       "</g>\n",
       "<!-- 4713491152*&#45;&gt;4713491152 -->\n",
       "<g id=\"edge3\" class=\"edge\">\n",
       "<title>4713491152*&#45;&gt;4713491152</title>\n",
       "<path fill=\"none\" stroke=\"black\" d=\"M2701.87,-98.5C2709.01,-98.5 2717.2,-98.5 2725.89,-98.5\"/>\n",
       "<polygon fill=\"black\" stroke=\"black\" points=\"2725.61,-102 2735.61,-98.5 2725.61,-95 2725.61,-102\"/>\n",
       "</g>\n",
       "<!-- 4534870416 -->\n",
       "<g id=\"node8\" class=\"node\">\n",
       "<title>4534870416</title>\n",
       "<polygon fill=\"none\" stroke=\"black\" points=\"2.25,-165.5 2.25,-201.5 195.75,-201.5 195.75,-165.5 2.25,-165.5\"/>\n",
       "<text text-anchor=\"middle\" x=\"18.5\" y=\"-178.7\" font-family=\"Times,serif\" font-size=\"14.00\">w2</text>\n",
       "<polyline fill=\"none\" stroke=\"black\" points=\"34.75,-166 34.75,-201.5\"/>\n",
       "<text text-anchor=\"middle\" x=\"74.62\" y=\"-178.7\" font-family=\"Times,serif\" font-size=\"14.00\">data 1.0000</text>\n",
       "<polyline fill=\"none\" stroke=\"black\" points=\"114.5,-166 114.5,-201.5\"/>\n",
       "<text text-anchor=\"middle\" x=\"155.12\" y=\"-178.7\" font-family=\"Times,serif\" font-size=\"14.00\">grad 0.0000</text>\n",
       "</g>\n",
       "<!-- 4534870416&#45;&gt;4534870608* -->\n",
       "<g id=\"edge14\" class=\"edge\">\n",
       "<title>4534870416&#45;&gt;4534870608*</title>\n",
       "<path fill=\"none\" stroke=\"black\" d=\"M172.12,-165.01C180.9,-162.35 189.7,-159.5 198,-156.5 208.09,-152.86 218.82,-148.27 228.47,-143.88\"/>\n",
       "<polygon fill=\"black\" stroke=\"black\" points=\"229.86,-147.09 237.45,-139.69 226.9,-140.75 229.86,-147.09\"/>\n",
       "</g>\n",
       "<!-- 4534871248 -->\n",
       "<g id=\"node9\" class=\"node\">\n",
       "<title>4534871248</title>\n",
       "<polygon fill=\"none\" stroke=\"black\" points=\"3.75,-110.5 3.75,-146.5 194.25,-146.5 194.25,-110.5 3.75,-110.5\"/>\n",
       "<text text-anchor=\"middle\" x=\"18.5\" y=\"-123.7\" font-family=\"Times,serif\" font-size=\"14.00\">x2</text>\n",
       "<polyline fill=\"none\" stroke=\"black\" points=\"33.25,-111 33.25,-146.5\"/>\n",
       "<text text-anchor=\"middle\" x=\"73.12\" y=\"-123.7\" font-family=\"Times,serif\" font-size=\"14.00\">data 0.0000</text>\n",
       "<polyline fill=\"none\" stroke=\"black\" points=\"113,-111 113,-146.5\"/>\n",
       "<text text-anchor=\"middle\" x=\"153.62\" y=\"-123.7\" font-family=\"Times,serif\" font-size=\"14.00\">grad 0.5000</text>\n",
       "</g>\n",
       "<!-- 4534871248&#45;&gt;4534870608* -->\n",
       "<g id=\"edge19\" class=\"edge\">\n",
       "<title>4534871248&#45;&gt;4534870608*</title>\n",
       "<path fill=\"none\" stroke=\"black\" d=\"M194.46,-128.5C204.21,-128.5 213.66,-128.5 222.21,-128.5\"/>\n",
       "<polygon fill=\"black\" stroke=\"black\" points=\"222.12,-132 232.12,-128.5 222.12,-125 222.12,-132\"/>\n",
       "</g>\n",
       "<!-- 4534869712 -->\n",
       "<g id=\"node10\" class=\"node\">\n",
       "<title>4534869712</title>\n",
       "<polygon fill=\"none\" stroke=\"black\" points=\"324,-55.5 324,-91.5 542.25,-91.5 542.25,-55.5 324,-55.5\"/>\n",
       "<text text-anchor=\"middle\" x=\"350.38\" y=\"-68.7\" font-family=\"Times,serif\" font-size=\"14.00\">x1*w1</text>\n",
       "<polyline fill=\"none\" stroke=\"black\" points=\"376.75,-56 376.75,-91.5\"/>\n",
       "<text text-anchor=\"middle\" x=\"418.88\" y=\"-68.7\" font-family=\"Times,serif\" font-size=\"14.00\">data &#45;6.0000</text>\n",
       "<polyline fill=\"none\" stroke=\"black\" points=\"461,-56 461,-91.5\"/>\n",
       "<text text-anchor=\"middle\" x=\"501.62\" y=\"-68.7\" font-family=\"Times,serif\" font-size=\"14.00\">grad 0.5000</text>\n",
       "</g>\n",
       "<!-- 4534869712&#45;&gt;4534871120+ -->\n",
       "<g id=\"edge15\" class=\"edge\">\n",
       "<title>4534869712&#45;&gt;4534871120+</title>\n",
       "<path fill=\"none\" stroke=\"black\" d=\"M542.35,-90.68C551.12,-92.07 559.54,-93.4 567.19,-94.62\"/>\n",
       "<polygon fill=\"black\" stroke=\"black\" points=\"566.59,-98.07 577.02,-96.18 567.69,-91.15 566.59,-98.07\"/>\n",
       "</g>\n",
       "<!-- 4534869712* -->\n",
       "<g id=\"node11\" class=\"node\">\n",
       "<title>4534869712*</title>\n",
       "<ellipse fill=\"none\" stroke=\"black\" cx=\"261\" cy=\"-73.5\" rx=\"27\" ry=\"18\"/>\n",
       "<text text-anchor=\"middle\" x=\"261\" y=\"-68.45\" font-family=\"Times,serif\" font-size=\"14.00\">*</text>\n",
       "</g>\n",
       "<!-- 4534869712*&#45;&gt;4534869712 -->\n",
       "<g id=\"edge4\" class=\"edge\">\n",
       "<title>4534869712*&#45;&gt;4534869712</title>\n",
       "<path fill=\"none\" stroke=\"black\" d=\"M288.21,-73.5C295.29,-73.5 303.43,-73.5 312.17,-73.5\"/>\n",
       "<polygon fill=\"black\" stroke=\"black\" points=\"312.01,-77 322.01,-73.5 312.01,-70 312.01,-77\"/>\n",
       "</g>\n",
       "<!-- 4713480976 -->\n",
       "<g id=\"node12\" class=\"node\">\n",
       "<title>4713480976</title>\n",
       "<polygon fill=\"none\" stroke=\"black\" points=\"1992.75,-108.5 1992.75,-144.5 2178,-144.5 2178,-108.5 1992.75,-108.5\"/>\n",
       "<text text-anchor=\"middle\" x=\"2002.62\" y=\"-121.7\" font-family=\"Times,serif\" font-size=\"14.00\"> </text>\n",
       "<polyline fill=\"none\" stroke=\"black\" points=\"2012.5,-109 2012.5,-144.5\"/>\n",
       "<text text-anchor=\"middle\" x=\"2052.38\" y=\"-121.7\" font-family=\"Times,serif\" font-size=\"14.00\">data 6.8284</text>\n",
       "<polyline fill=\"none\" stroke=\"black\" points=\"2092.25,-109 2092.25,-144.5\"/>\n",
       "<text text-anchor=\"middle\" x=\"2135.12\" y=\"-121.7\" font-family=\"Times,serif\" font-size=\"14.00\">grad &#45;0.1036</text>\n",
       "</g>\n",
       "<!-- 4713491344**&#45;1 -->\n",
       "<g id=\"node24\" class=\"node\">\n",
       "<title>4713491344**&#45;1</title>\n",
       "<ellipse fill=\"none\" stroke=\"black\" cx=\"2304.38\" cy=\"-126.5\" rx=\"27.81\" ry=\"18\"/>\n",
       "<text text-anchor=\"middle\" x=\"2304.38\" y=\"-121.45\" font-family=\"Times,serif\" font-size=\"14.00\">**&#45;1</text>\n",
       "</g>\n",
       "<!-- 4713480976&#45;&gt;4713491344**&#45;1 -->\n",
       "<g id=\"edge12\" class=\"edge\">\n",
       "<title>4713480976&#45;&gt;4713491344**&#45;1</title>\n",
       "<path fill=\"none\" stroke=\"black\" d=\"M2178.4,-126.5C2208.64,-126.5 2240.63,-126.5 2264.67,-126.5\"/>\n",
       "<polygon fill=\"black\" stroke=\"black\" points=\"2264.62,-130 2274.62,-126.5 2264.62,-123 2264.62,-130\"/>\n",
       "</g>\n",
       "<!-- 4713480976+ -->\n",
       "<g id=\"node13\" class=\"node\">\n",
       "<title>4713480976+</title>\n",
       "<ellipse fill=\"none\" stroke=\"black\" cx=\"1929.75\" cy=\"-126.5\" rx=\"27\" ry=\"18\"/>\n",
       "<text text-anchor=\"middle\" x=\"1929.75\" y=\"-121.45\" font-family=\"Times,serif\" font-size=\"14.00\">+</text>\n",
       "</g>\n",
       "<!-- 4713480976+&#45;&gt;4713480976 -->\n",
       "<g id=\"edge5\" class=\"edge\">\n",
       "<title>4713480976+&#45;&gt;4713480976</title>\n",
       "<path fill=\"none\" stroke=\"black\" d=\"M1957.16,-126.5C1964.2,-126.5 1972.25,-126.5 1980.8,-126.5\"/>\n",
       "<polygon fill=\"black\" stroke=\"black\" points=\"1980.79,-130 1990.79,-126.5 1980.79,-123 1980.79,-130\"/>\n",
       "</g>\n",
       "<!-- 4534867728 -->\n",
       "<g id=\"node14\" class=\"node\">\n",
       "<title>4534867728</title>\n",
       "<polygon fill=\"none\" stroke=\"black\" points=\"1.5,-55.5 1.5,-91.5 196.5,-91.5 196.5,-55.5 1.5,-55.5\"/>\n",
       "<text text-anchor=\"middle\" x=\"16.25\" y=\"-68.7\" font-family=\"Times,serif\" font-size=\"14.00\">x1</text>\n",
       "<polyline fill=\"none\" stroke=\"black\" points=\"31,-56 31,-91.5\"/>\n",
       "<text text-anchor=\"middle\" x=\"70.88\" y=\"-68.7\" font-family=\"Times,serif\" font-size=\"14.00\">data 2.0000</text>\n",
       "<polyline fill=\"none\" stroke=\"black\" points=\"110.75,-56 110.75,-91.5\"/>\n",
       "<text text-anchor=\"middle\" x=\"153.62\" y=\"-68.7\" font-family=\"Times,serif\" font-size=\"14.00\">grad &#45;1.5000</text>\n",
       "</g>\n",
       "<!-- 4534867728&#45;&gt;4534869712* -->\n",
       "<g id=\"edge26\" class=\"edge\">\n",
       "<title>4534867728&#45;&gt;4534869712*</title>\n",
       "<path fill=\"none\" stroke=\"black\" d=\"M196.76,-73.5C205.77,-73.5 214.47,-73.5 222.4,-73.5\"/>\n",
       "<polygon fill=\"black\" stroke=\"black\" points=\"222.25,-77 232.25,-73.5 222.25,-70 222.25,-77\"/>\n",
       "</g>\n",
       "<!-- 4534862288 -->\n",
       "<g id=\"node15\" class=\"node\">\n",
       "<title>4534862288</title>\n",
       "<polygon fill=\"none\" stroke=\"black\" points=\"0,-0.5 0,-36.5 198,-36.5 198,-0.5 0,-0.5\"/>\n",
       "<text text-anchor=\"middle\" x=\"16.25\" y=\"-13.7\" font-family=\"Times,serif\" font-size=\"14.00\">w1</text>\n",
       "<polyline fill=\"none\" stroke=\"black\" points=\"32.5,-1 32.5,-36.5\"/>\n",
       "<text text-anchor=\"middle\" x=\"74.62\" y=\"-13.7\" font-family=\"Times,serif\" font-size=\"14.00\">data &#45;3.0000</text>\n",
       "<polyline fill=\"none\" stroke=\"black\" points=\"116.75,-1 116.75,-36.5\"/>\n",
       "<text text-anchor=\"middle\" x=\"157.38\" y=\"-13.7\" font-family=\"Times,serif\" font-size=\"14.00\">grad 1.0000</text>\n",
       "</g>\n",
       "<!-- 4534862288&#45;&gt;4534869712* -->\n",
       "<g id=\"edge25\" class=\"edge\">\n",
       "<title>4534862288&#45;&gt;4534869712*</title>\n",
       "<path fill=\"none\" stroke=\"black\" d=\"M172.12,-36.99C180.9,-39.65 189.7,-42.5 198,-45.5 208.09,-49.14 218.82,-53.73 228.47,-58.12\"/>\n",
       "<polygon fill=\"black\" stroke=\"black\" points=\"226.9,-61.25 237.45,-62.31 229.86,-54.91 226.9,-61.25\"/>\n",
       "</g>\n",
       "<!-- 4713494288 -->\n",
       "<g id=\"node16\" class=\"node\">\n",
       "<title>4713494288</title>\n",
       "<polygon fill=\"none\" stroke=\"black\" points=\"1681.5,-26.5 1681.5,-62.5 1866.75,-62.5 1866.75,-26.5 1681.5,-26.5\"/>\n",
       "<text text-anchor=\"middle\" x=\"1691.38\" y=\"-39.7\" font-family=\"Times,serif\" font-size=\"14.00\"> </text>\n",
       "<polyline fill=\"none\" stroke=\"black\" points=\"1701.25,-27 1701.25,-62.5\"/>\n",
       "<text text-anchor=\"middle\" x=\"1743.38\" y=\"-39.7\" font-family=\"Times,serif\" font-size=\"14.00\">data &#45;1.0000</text>\n",
       "<polyline fill=\"none\" stroke=\"black\" points=\"1785.5,-27 1785.5,-62.5\"/>\n",
       "<text text-anchor=\"middle\" x=\"1826.12\" y=\"-39.7\" font-family=\"Times,serif\" font-size=\"14.00\">grad 0.1464</text>\n",
       "</g>\n",
       "<!-- 4713485136+ -->\n",
       "<g id=\"node26\" class=\"node\">\n",
       "<title>4713485136+</title>\n",
       "<ellipse fill=\"none\" stroke=\"black\" cx=\"1929.75\" cy=\"-71.5\" rx=\"27\" ry=\"18\"/>\n",
       "<text text-anchor=\"middle\" x=\"1929.75\" y=\"-66.45\" font-family=\"Times,serif\" font-size=\"14.00\">+</text>\n",
       "</g>\n",
       "<!-- 4713494288&#45;&gt;4713485136+ -->\n",
       "<g id=\"edge22\" class=\"edge\">\n",
       "<title>4713494288&#45;&gt;4713485136+</title>\n",
       "<path fill=\"none\" stroke=\"black\" d=\"M1867.15,-60.67C1875.89,-62.21 1884.36,-63.7 1892.08,-65.05\"/>\n",
       "<polygon fill=\"black\" stroke=\"black\" points=\"1891.2,-68.45 1901.66,-66.74 1892.41,-61.56 1891.2,-68.45\"/>\n",
       "</g>\n",
       "<!-- 4534869328 -->\n",
       "<g id=\"node17\" class=\"node\">\n",
       "<title>4534869328</title>\n",
       "<polygon fill=\"none\" stroke=\"black\" points=\"1683.75,-81.5 1683.75,-117.5 1864.5,-117.5 1864.5,-81.5 1683.75,-81.5\"/>\n",
       "<text text-anchor=\"middle\" x=\"1693.62\" y=\"-94.7\" font-family=\"Times,serif\" font-size=\"14.00\"> </text>\n",
       "<polyline fill=\"none\" stroke=\"black\" points=\"1703.5,-82 1703.5,-117.5\"/>\n",
       "<text text-anchor=\"middle\" x=\"1743.38\" y=\"-94.7\" font-family=\"Times,serif\" font-size=\"14.00\">data 5.8284</text>\n",
       "<polyline fill=\"none\" stroke=\"black\" points=\"1783.25,-82 1783.25,-117.5\"/>\n",
       "<text text-anchor=\"middle\" x=\"1823.88\" y=\"-94.7\" font-family=\"Times,serif\" font-size=\"14.00\">grad 0.0429</text>\n",
       "</g>\n",
       "<!-- 4534869328&#45;&gt;4713480976+ -->\n",
       "<g id=\"edge11\" class=\"edge\">\n",
       "<title>4534869328&#45;&gt;4713480976+</title>\n",
       "<path fill=\"none\" stroke=\"black\" d=\"M1864.93,-115.28C1874.48,-116.96 1883.76,-118.59 1892.14,-120.07\"/>\n",
       "<polygon fill=\"black\" stroke=\"black\" points=\"1891.39,-123.49 1901.85,-121.77 1892.61,-116.59 1891.39,-123.49\"/>\n",
       "</g>\n",
       "<!-- 4534869328&#45;&gt;4713485136+ -->\n",
       "<g id=\"edge13\" class=\"edge\">\n",
       "<title>4534869328&#45;&gt;4713485136+</title>\n",
       "<path fill=\"none\" stroke=\"black\" d=\"M1864.93,-83.13C1874.48,-81.39 1883.76,-79.7 1892.14,-78.17\"/>\n",
       "<polygon fill=\"black\" stroke=\"black\" points=\"1892.64,-81.64 1901.85,-76.4 1891.39,-74.75 1892.64,-81.64\"/>\n",
       "</g>\n",
       "<!-- 4534869328exp -->\n",
       "<g id=\"node18\" class=\"node\">\n",
       "<title>4534869328exp</title>\n",
       "<ellipse fill=\"none\" stroke=\"black\" cx=\"1618.5\" cy=\"-99.5\" rx=\"27\" ry=\"18\"/>\n",
       "<text text-anchor=\"middle\" x=\"1618.5\" y=\"-94.45\" font-family=\"Times,serif\" font-size=\"14.00\">exp</text>\n",
       "</g>\n",
       "<!-- 4534869328exp&#45;&gt;4534869328 -->\n",
       "<g id=\"edge6\" class=\"edge\">\n",
       "<title>4534869328exp&#45;&gt;4534869328</title>\n",
       "<path fill=\"none\" stroke=\"black\" d=\"M1645.91,-99.5C1653.62,-99.5 1662.54,-99.5 1672.01,-99.5\"/>\n",
       "<polygon fill=\"black\" stroke=\"black\" points=\"1671.82,-103 1681.82,-99.5 1671.82,-96 1671.82,-103\"/>\n",
       "</g>\n",
       "<!-- 4534865232 -->\n",
       "<g id=\"node19\" class=\"node\">\n",
       "<title>4534865232</title>\n",
       "<polygon fill=\"none\" stroke=\"black\" points=\"1374.75,-81.5 1374.75,-117.5 1555.5,-117.5 1555.5,-81.5 1374.75,-81.5\"/>\n",
       "<text text-anchor=\"middle\" x=\"1384.62\" y=\"-94.7\" font-family=\"Times,serif\" font-size=\"14.00\"> </text>\n",
       "<polyline fill=\"none\" stroke=\"black\" points=\"1394.5,-82 1394.5,-117.5\"/>\n",
       "<text text-anchor=\"middle\" x=\"1434.38\" y=\"-94.7\" font-family=\"Times,serif\" font-size=\"14.00\">data 1.7627</text>\n",
       "<polyline fill=\"none\" stroke=\"black\" points=\"1474.25,-82 1474.25,-117.5\"/>\n",
       "<text text-anchor=\"middle\" x=\"1514.88\" y=\"-94.7\" font-family=\"Times,serif\" font-size=\"14.00\">grad 0.2500</text>\n",
       "</g>\n",
       "<!-- 4534865232&#45;&gt;4534869328exp -->\n",
       "<g id=\"edge18\" class=\"edge\">\n",
       "<title>4534865232&#45;&gt;4534869328exp</title>\n",
       "<path fill=\"none\" stroke=\"black\" d=\"M1555.93,-99.5C1564.27,-99.5 1572.37,-99.5 1579.81,-99.5\"/>\n",
       "<polygon fill=\"black\" stroke=\"black\" points=\"1579.75,-103 1589.75,-99.5 1579.75,-96 1579.75,-103\"/>\n",
       "</g>\n",
       "<!-- 4534865232*&#45;&gt;4534865232 -->\n",
       "<g id=\"edge7\" class=\"edge\">\n",
       "<title>4534865232*&#45;&gt;4534865232</title>\n",
       "<path fill=\"none\" stroke=\"black\" d=\"M1339.12,-99.5C1346.26,-99.5 1354.45,-99.5 1363.14,-99.5\"/>\n",
       "<polygon fill=\"black\" stroke=\"black\" points=\"1362.86,-103 1372.86,-99.5 1362.86,-96 1362.86,-103\"/>\n",
       "</g>\n",
       "<!-- 4534862672 -->\n",
       "<g id=\"node21\" class=\"node\">\n",
       "<title>4534862672</title>\n",
       "<polygon fill=\"none\" stroke=\"black\" points=\"711.75,-27.5 711.75,-63.5 895.5,-63.5 895.5,-27.5 711.75,-27.5\"/>\n",
       "<text text-anchor=\"middle\" x=\"723.12\" y=\"-40.7\" font-family=\"Times,serif\" font-size=\"14.00\">b</text>\n",
       "<polyline fill=\"none\" stroke=\"black\" points=\"734.5,-28 734.5,-63.5\"/>\n",
       "<text text-anchor=\"middle\" x=\"774.38\" y=\"-40.7\" font-family=\"Times,serif\" font-size=\"14.00\">data 6.8814</text>\n",
       "<polyline fill=\"none\" stroke=\"black\" points=\"814.25,-28 814.25,-63.5\"/>\n",
       "<text text-anchor=\"middle\" x=\"854.88\" y=\"-40.7\" font-family=\"Times,serif\" font-size=\"14.00\">grad 0.5000</text>\n",
       "</g>\n",
       "<!-- 4534862672&#45;&gt;4534870480+ -->\n",
       "<g id=\"edge23\" class=\"edge\">\n",
       "<title>4534862672&#45;&gt;4534870480+</title>\n",
       "<path fill=\"none\" stroke=\"black\" d=\"M895.91,-58.05C919.97,-61.36 944.58,-64.74 963.93,-67.4\"/>\n",
       "<polygon fill=\"black\" stroke=\"black\" points=\"963.36,-70.86 973.75,-68.75 964.32,-63.92 963.36,-70.86\"/>\n",
       "</g>\n",
       "<!-- 4713482576 -->\n",
       "<g id=\"node22\" class=\"node\">\n",
       "<title>4713482576</title>\n",
       "<polygon fill=\"none\" stroke=\"black\" points=\"1681.5,-136.5 1681.5,-172.5 1866.75,-172.5 1866.75,-136.5 1681.5,-136.5\"/>\n",
       "<text text-anchor=\"middle\" x=\"1691.38\" y=\"-149.7\" font-family=\"Times,serif\" font-size=\"14.00\"> </text>\n",
       "<polyline fill=\"none\" stroke=\"black\" points=\"1701.25,-137 1701.25,-172.5\"/>\n",
       "<text text-anchor=\"middle\" x=\"1741.12\" y=\"-149.7\" font-family=\"Times,serif\" font-size=\"14.00\">data 1.0000</text>\n",
       "<polyline fill=\"none\" stroke=\"black\" points=\"1781,-137 1781,-172.5\"/>\n",
       "<text text-anchor=\"middle\" x=\"1823.88\" y=\"-149.7\" font-family=\"Times,serif\" font-size=\"14.00\">grad &#45;0.1036</text>\n",
       "</g>\n",
       "<!-- 4713482576&#45;&gt;4713480976+ -->\n",
       "<g id=\"edge20\" class=\"edge\">\n",
       "<title>4713482576&#45;&gt;4713480976+</title>\n",
       "<path fill=\"none\" stroke=\"black\" d=\"M1867.15,-137.73C1875.89,-136.13 1884.36,-134.59 1892.08,-133.18\"/>\n",
       "<polygon fill=\"black\" stroke=\"black\" points=\"1892.45,-136.67 1901.66,-131.44 1891.19,-129.79 1892.45,-136.67\"/>\n",
       "</g>\n",
       "<!-- 4713491344 -->\n",
       "<g id=\"node23\" class=\"node\">\n",
       "<title>4713491344</title>\n",
       "<polygon fill=\"none\" stroke=\"black\" points=\"2430.75,-106.5 2430.75,-142.5 2611.5,-142.5 2611.5,-106.5 2430.75,-106.5\"/>\n",
       "<text text-anchor=\"middle\" x=\"2440.62\" y=\"-119.7\" font-family=\"Times,serif\" font-size=\"14.00\"> </text>\n",
       "<polyline fill=\"none\" stroke=\"black\" points=\"2450.5,-107 2450.5,-142.5\"/>\n",
       "<text text-anchor=\"middle\" x=\"2490.38\" y=\"-119.7\" font-family=\"Times,serif\" font-size=\"14.00\">data 0.1464</text>\n",
       "<polyline fill=\"none\" stroke=\"black\" points=\"2530.25,-107 2530.25,-142.5\"/>\n",
       "<text text-anchor=\"middle\" x=\"2570.88\" y=\"-119.7\" font-family=\"Times,serif\" font-size=\"14.00\">grad 4.8284</text>\n",
       "</g>\n",
       "<!-- 4713491344&#45;&gt;4713491152* -->\n",
       "<g id=\"edge27\" class=\"edge\">\n",
       "<title>4713491344&#45;&gt;4713491152*</title>\n",
       "<path fill=\"none\" stroke=\"black\" d=\"M2611.93,-109.08C2620.54,-107.6 2628.89,-106.16 2636.53,-104.85\"/>\n",
       "<polygon fill=\"black\" stroke=\"black\" points=\"2637.11,-108.3 2646.37,-103.16 2635.92,-101.4 2637.11,-108.3\"/>\n",
       "</g>\n",
       "<!-- 4713491344**&#45;1&#45;&gt;4713491344 -->\n",
       "<g id=\"edge8\" class=\"edge\">\n",
       "<title>4713491344**&#45;1&#45;&gt;4713491344</title>\n",
       "<path fill=\"none\" stroke=\"black\" d=\"M2332.57,-126.25C2354.68,-126.04 2387.33,-125.74 2419.22,-125.44\"/>\n",
       "<polygon fill=\"black\" stroke=\"black\" points=\"2418.96,-128.94 2428.93,-125.35 2418.9,-121.94 2418.96,-128.94\"/>\n",
       "</g>\n",
       "<!-- 4713485136 -->\n",
       "<g id=\"node25\" class=\"node\">\n",
       "<title>4713485136</title>\n",
       "<polygon fill=\"none\" stroke=\"black\" points=\"2214,-53.5 2214,-89.5 2394.75,-89.5 2394.75,-53.5 2214,-53.5\"/>\n",
       "<text text-anchor=\"middle\" x=\"2223.88\" y=\"-66.7\" font-family=\"Times,serif\" font-size=\"14.00\"> </text>\n",
       "<polyline fill=\"none\" stroke=\"black\" points=\"2233.75,-54 2233.75,-89.5\"/>\n",
       "<text text-anchor=\"middle\" x=\"2273.62\" y=\"-66.7\" font-family=\"Times,serif\" font-size=\"14.00\">data 4.8284</text>\n",
       "<polyline fill=\"none\" stroke=\"black\" points=\"2313.5,-54 2313.5,-89.5\"/>\n",
       "<text text-anchor=\"middle\" x=\"2354.12\" y=\"-66.7\" font-family=\"Times,serif\" font-size=\"14.00\">grad 0.1464</text>\n",
       "</g>\n",
       "<!-- 4713485136&#45;&gt;4713491152* -->\n",
       "<g id=\"edge28\" class=\"edge\">\n",
       "<title>4713485136&#45;&gt;4713491152*</title>\n",
       "<path fill=\"none\" stroke=\"black\" d=\"M2394.96,-78.07C2472.25,-83.74 2580.03,-91.64 2636.17,-95.76\"/>\n",
       "<polygon fill=\"black\" stroke=\"black\" points=\"2635.59,-99.23 2645.82,-96.47 2636.1,-92.25 2635.59,-99.23\"/>\n",
       "</g>\n",
       "<!-- 4713485136+&#45;&gt;4713485136 -->\n",
       "<g id=\"edge9\" class=\"edge\">\n",
       "<title>4713485136+&#45;&gt;4713485136</title>\n",
       "<path fill=\"none\" stroke=\"black\" d=\"M1957.25,-71.5C2007.51,-71.5 2119.07,-71.5 2202.03,-71.5\"/>\n",
       "<polygon fill=\"black\" stroke=\"black\" points=\"2202.02,-75 2212.02,-71.5 2202.02,-68 2202.02,-75\"/>\n",
       "</g>\n",
       "<!-- 4534870480 -->\n",
       "<g id=\"node27\" class=\"node\">\n",
       "<title>4534870480</title>\n",
       "<polygon fill=\"none\" stroke=\"black\" points=\"1065,-54.5 1065,-90.5 1248.75,-90.5 1248.75,-54.5 1065,-54.5\"/>\n",
       "<text text-anchor=\"middle\" x=\"1076.38\" y=\"-67.7\" font-family=\"Times,serif\" font-size=\"14.00\">n</text>\n",
       "<polyline fill=\"none\" stroke=\"black\" points=\"1087.75,-55 1087.75,-90.5\"/>\n",
       "<text text-anchor=\"middle\" x=\"1127.62\" y=\"-67.7\" font-family=\"Times,serif\" font-size=\"14.00\">data 0.8814</text>\n",
       "<polyline fill=\"none\" stroke=\"black\" points=\"1167.5,-55 1167.5,-90.5\"/>\n",
       "<text text-anchor=\"middle\" x=\"1208.12\" y=\"-67.7\" font-family=\"Times,serif\" font-size=\"14.00\">grad 0.5000</text>\n",
       "</g>\n",
       "<!-- 4534870480&#45;&gt;4534865232* -->\n",
       "<g id=\"edge21\" class=\"edge\">\n",
       "<title>4534870480&#45;&gt;4534865232*</title>\n",
       "<path fill=\"none\" stroke=\"black\" d=\"M1249.01,-88.6C1257.84,-90.16 1266.4,-91.67 1274.19,-93.04\"/>\n",
       "<polygon fill=\"black\" stroke=\"black\" points=\"1273.42,-96.46 1283.88,-94.75 1274.64,-89.57 1273.42,-96.46\"/>\n",
       "</g>\n",
       "<!-- 4534870480+&#45;&gt;4534870480 -->\n",
       "<g id=\"edge10\" class=\"edge\">\n",
       "<title>4534870480+&#45;&gt;4534870480</title>\n",
       "<path fill=\"none\" stroke=\"black\" d=\"M1029.28,-72.5C1036.42,-72.5 1044.61,-72.5 1053.32,-72.5\"/>\n",
       "<polygon fill=\"black\" stroke=\"black\" points=\"1053.06,-76 1063.06,-72.5 1053.06,-69 1053.06,-76\"/>\n",
       "</g>\n",
       "</g>\n",
       "</svg>\n"
      ],
      "text/plain": [
       "<graphviz.graphs.Digraph at 0x10e4c9d90>"
      ]
     },
     "execution_count": 368,
     "metadata": {},
     "output_type": "execute_result"
    }
   ],
   "source": [
    "draw_dot(o)"
   ]
  },
  {
   "cell_type": "code",
   "execution_count": 370,
   "id": "b68e19c1-20cd-4b5c-b1b3-b1a4641b8c61",
   "metadata": {},
   "outputs": [
    {
     "data": {
      "text/plain": [
       "0.7071056177142523"
      ]
     },
     "execution_count": 370,
     "metadata": {},
     "output_type": "execute_result"
    }
   ],
   "source": [
    "4.8284 / 6.8284"
   ]
  },
  {
   "cell_type": "code",
   "execution_count": 382,
   "id": "a14fb0ef-5762-4a69-8631-8680979be44f",
   "metadata": {},
   "outputs": [
    {
     "name": "stdout",
     "output_type": "stream",
     "text": [
      "0.7071066904050358\n",
      "---\n",
      "w2 0.0\n",
      "x2 0.5000001283844369\n",
      "x1 -1.5000003851533106\n",
      "w1 1.0000002567688737\n"
     ]
    }
   ],
   "source": [
    "# doing the same with pytorch.\n",
    "# explictly state that all nodes have gradients\n",
    "import torch\n",
    "\n",
    "x1 = torch.Tensor([2.0]).double()                ; x1.requires_grad = True\n",
    "x2 = torch.Tensor([0.0]).double()                ; x2.requires_grad = True\n",
    "w1 = torch.Tensor([-3.0]).double()                ; w1.requires_grad = True\n",
    "w2 = torch.Tensor([1.0]).double()                ; w2.requires_grad = True\n",
    "b  = torch.Tensor([6.8813735870195432]).double() ; b.requires_grad = True\n",
    "n  = x1*w1 + x2*w2 + b\n",
    "o  = torch.tanh(n)\n",
    "\n",
    "print(o.data.item())\n",
    "o.backward()\n",
    "# grads match to our examples\n",
    "print('---')\n",
    "print('w2',w2.grad.item())\n",
    "print('x2',x2.grad.item())\n",
    "print('x1',x1.grad.item())\n",
    "print('w1',w1.grad.item())"
   ]
  },
  {
   "cell_type": "code",
   "execution_count": 373,
   "id": "708600bd-3bd4-4077-a566-e391325b238c",
   "metadata": {},
   "outputs": [
    {
     "data": {
      "text/plain": [
       "tensor([2.], dtype=torch.float64, requires_grad=True)"
      ]
     },
     "execution_count": 373,
     "metadata": {},
     "output_type": "execute_result"
    }
   ],
   "source": [
    "x1"
   ]
  },
  {
   "cell_type": "code",
   "execution_count": 375,
   "id": "fd80a53c-bc81-4a55-964b-9d3dea7244a9",
   "metadata": {},
   "outputs": [
    {
     "data": {
      "text/plain": [
       "tensor([[1., 2., 3.],\n",
       "        [4., 5., 6.]])"
      ]
     },
     "execution_count": 375,
     "metadata": {},
     "output_type": "execute_result"
    }
   ],
   "source": [
    "torch.Tensor([[1,2,3],[4,5,6]])"
   ]
  },
  {
   "cell_type": "code",
   "execution_count": 377,
   "id": "f5bf19ca-e23c-4c8c-9306-3b8820c6a037",
   "metadata": {},
   "outputs": [
    {
     "data": {
      "text/plain": [
       "torch.float32"
      ]
     },
     "execution_count": 377,
     "metadata": {},
     "output_type": "execute_result"
    }
   ],
   "source": [
    "torch.Tensor([2.0]).dtype # default is float32 but we want float64 (double) which is the same as python"
   ]
  },
  {
   "cell_type": "code",
   "execution_count": 388,
   "id": "be883c54-b881-4354-9c5d-d4a1f6dd812d",
   "metadata": {},
   "outputs": [
    {
     "data": {
      "text/plain": [
       "(0.7071066904050358, 0.7071066904050358, -1.5000003851533106)"
      ]
     },
     "execution_count": 388,
     "metadata": {},
     "output_type": "execute_result"
    }
   ],
   "source": [
    "o.item(), o.data.item(), x1.grad.item()"
   ]
  },
  {
   "cell_type": "code",
   "execution_count": null,
   "id": "ca004d54-ce33-4a07-bcb5-11b9e5d07e4a",
   "metadata": {},
   "outputs": [],
   "source": [
    "\"\"\"\n",
    "What have we learnt so far:\n",
    "\n",
    "defining a basic function and graphing it\n",
    "computing it's derivite for certain values\n",
    "building a value object which records operations performed for add and substract\n",
    "extending the value object to record children, label and operations\n",
    "visualse presenting the value object as a DAG\n",
    "performing manual back propgration using partial derivatition and the chain rule to understand the impact of each variable\n",
    "creating closure functions in the value object to perform the back propgation automatically\n",
    "build a dependent list using topological search to workout the order to apply back propgation in\n",
    "adding backpropgation to create this list and backprop through the Value instance tree\n",
    "applying Value to model a neuron\n",
    "investigating activiation functions and tanh\n",
    "extending Value object to tanh and it's derivative\n",
    "dealing with reverse ops for addition and multiplication\n",
    "dealing with int and float numbers adding to Value \n",
    "extending value object to the exponential definition of tanh using pow, subtraction and expotentials\n",
    "showing these graphically\n",
    "demonstrating how to do the same with pytorch and calculation of backprogations results\n",
    "\"\"\""
   ]
  },
  {
   "cell_type": "code",
   "execution_count": 1001,
   "id": "461b85a4-e0ce-4a95-ab64-ee72e3141b9f",
   "metadata": {},
   "outputs": [
    {
     "data": {
      "text/plain": [
       "Value(data=-0.6414028050468273)"
      ]
     },
     "execution_count": 1001,
     "metadata": {},
     "output_type": "execute_result"
    }
   ],
   "source": [
    "class Neuron: \n",
    "    \n",
    "    def __init__(self, nin):\n",
    "        # print(f'setup neuron: {nin} inputs + bias')\n",
    "        self.w = [Value(random.uniform(-1,1)) for _ in range(nin)]\n",
    "        self.b = Value(random.uniform(-1,1))\n",
    "        \n",
    "    def __call__(self, x):   \n",
    "        # print(f'neuron : calc output from {len(x)} inputs')\n",
    "        act = sum((wi * xi for wi, xi in zip(self.w,x)), self.b)\n",
    "        out = act.tanh()\n",
    "        return out\n",
    "\n",
    "    def parameters(self):\n",
    "        return self.w + [self.b]\n",
    "\n",
    "class Layer:\n",
    "    \n",
    "    def __init__(self, nin, nout):\n",
    "        # print(f\"setup layer : {nout} neurons\")\n",
    "        self.neurons = [Neuron(nin) for _ in range(nout)]\n",
    "\n",
    "    def __call__(self, x):\n",
    "        # print(f'layer  : calc layer output')\n",
    "        outs = [n(x) for n in self.neurons]\n",
    "        return outs[0] if len(outs) == 1 else outs\n",
    "        \n",
    "    def parameters(self):\n",
    "        return [p for neuron in self.neurons for p in neuron.parameters()]\n",
    "        # params = []\n",
    "        # for neuron in self.neurons:\n",
    "        #     ps = neuron.parameters()\n",
    "        #     paramas.extend(ps)\n",
    "        # return params\n",
    "\n",
    "class MLP:\n",
    "\n",
    "    def __init__(self, nin, nouts):\n",
    "        # print(f'setup mlp   : {nouts} layers')\n",
    "        sz = [nin] + nouts\n",
    "        self.layers = [Layer(sz[i], sz[i+1]) for i in range(len(nouts))]\n",
    "\n",
    "    def __call__(self, x):\n",
    "        for layer in self.layers:\n",
    "            # print(f'mlp    : pass {len(x)} calculated outputs to layer')\n",
    "            x = layer(x)\n",
    "        return x\n",
    "\n",
    "    def parameters(self):\n",
    "        return [p for layer in self.layers for p in layer.parameters()]\n",
    "\n",
    "# n = Neuron(2)\n",
    "# x = [2.0, 3.0]\n",
    "# n(x)\n",
    "\n",
    "# l = Layer(2,3)\n",
    "\n",
    "# print(l([2.0, 3.0]))\n",
    "# print('---')\n",
    "\n",
    "# for n in l.neurons:\n",
    "#     print(n.w, n.b)\n",
    "\n",
    "\n",
    "n = MLP(3, [4, 4, 1])\n",
    "x = [2.0, 3.0, -1.0]\n",
    "n(x)\n",
    "# n.layers"
   ]
  },
  {
   "cell_type": "code",
   "execution_count": null,
   "id": "9fe98535-e885-43c3-88e8-012ca43f360f",
   "metadata": {},
   "outputs": [],
   "source": [
    "draw_dot(n(x))"
   ]
  },
  {
   "cell_type": "code",
   "execution_count": 520,
   "id": "35a504f3-6196-472e-b485-28310b16d397",
   "metadata": {},
   "outputs": [
    {
     "data": {
      "text/plain": [
       "Value(data=6.0)"
      ]
     },
     "execution_count": 520,
     "metadata": {},
     "output_type": "execute_result"
    }
   ],
   "source": [
    "Value(3) + 3.0\n",
    "3.0 + Value(3)"
   ]
  },
  {
   "cell_type": "code",
   "execution_count": 425,
   "id": "0835665c-620a-4054-a2c7-cdcf2164b57e",
   "metadata": {},
   "outputs": [
    {
     "data": {
      "text/plain": [
       "(6, 9)"
      ]
     },
     "execution_count": 425,
     "metadata": {},
     "output_type": "execute_result"
    }
   ],
   "source": [
    "sum([1,2,3]), sum([1,2,3],3) # second sum param adds the result to the sum"
   ]
  },
  {
   "cell_type": "code",
   "execution_count": 732,
   "id": "255322bb-abed-4291-bfc0-7ab0c2cc52a8",
   "metadata": {},
   "outputs": [
    {
     "data": {
      "text/plain": [
       "[Value(data=0.828647337660683),\n",
       " Value(data=0.9613764151886546),\n",
       " Value(data=0.9260761523403511),\n",
       " Value(data=0.95002429682839)]"
      ]
     },
     "execution_count": 732,
     "metadata": {},
     "output_type": "execute_result"
    }
   ],
   "source": [
    "xs = [\n",
    "    [2.0, 3.0, -1.0],\n",
    "    [3.0, -1.0, 0.5],\n",
    "    [0.5, 1.0, 1.0],\n",
    "    [1.0, 1.0, -1.0]\n",
    "]\n",
    "\n",
    "ys = [1.0, -1.0, -1.0, 1.0] # desired targets\n",
    "ypred = [n(x) for x in xs]\n",
    "ypred"
   ]
  },
  {
   "cell_type": "code",
   "execution_count": 688,
   "id": "d812fbb4-1caf-4a0b-aca0-df85497187aa",
   "metadata": {},
   "outputs": [
    {
     "data": {
      "text/plain": [
       "Value(data=7.51073189238054)"
      ]
     },
     "execution_count": 688,
     "metadata": {},
     "output_type": "execute_result"
    }
   ],
   "source": [
    "# mean squared error loss. You get zero if the out and the pred is the same, the more you're off the greater the loss will be.\n",
    "# [(yout- ygt)**2 for ygt, yout in zip(ys, ypred)]\n",
    "loss = sum([(yout- ygt)**2 for ygt, yout in zip(ys, ypred)])\n",
    "loss"
   ]
  },
  {
   "cell_type": "code",
   "execution_count": 679,
   "id": "2a652e31-34d1-4ee7-a7c5-07911d5a644c",
   "metadata": {},
   "outputs": [],
   "source": [
    "loss.backward()"
   ]
  },
  {
   "cell_type": "code",
   "execution_count": 681,
   "id": "7bad779c-0610-4df5-a6fb-48647ed01652",
   "metadata": {},
   "outputs": [
    {
     "data": {
      "text/plain": [
       "0.19428151235008395"
      ]
     },
     "execution_count": 681,
     "metadata": {},
     "output_type": "execute_result"
    }
   ],
   "source": [
    "n.layers[0].neurons[0].w[0].grad"
   ]
  },
  {
   "cell_type": "code",
   "execution_count": null,
   "id": "31266633-1bab-4326-ae8b-107b6500f8af",
   "metadata": {},
   "outputs": [],
   "source": [
    "draw_dot(loss)"
   ]
  },
  {
   "cell_type": "code",
   "execution_count": 682,
   "id": "b753dbb2-b54d-42d2-b021-aadafd3a1aa3",
   "metadata": {},
   "outputs": [
    {
     "data": {
      "text/plain": [
       "-8"
      ]
     },
     "execution_count": 682,
     "metadata": {},
     "output_type": "execute_result"
    }
   ],
   "source": [
    "n.layers[0].neurons[0].w[0].data"
   ]
  },
  {
   "cell_type": "code",
   "execution_count": 566,
   "id": "e032ac15-f126-443b-88c1-4ef46850d257",
   "metadata": {},
   "outputs": [
    {
     "data": {
      "text/plain": [
       "Value(data=6.293722131243563)"
      ]
     },
     "execution_count": 566,
     "metadata": {},
     "output_type": "execute_result"
    }
   ],
   "source": [
    "loss"
   ]
  },
  {
   "cell_type": "code",
   "execution_count": 994,
   "id": "e0fd3d50-bffc-435f-b691-558e7f59c5be",
   "metadata": {},
   "outputs": [
    {
     "data": {
      "text/plain": [
       "Value(data=0.0007521597815551142)"
      ]
     },
     "execution_count": 994,
     "metadata": {},
     "output_type": "execute_result"
    }
   ],
   "source": [
    "# this is gradient descent:\n",
    "\n",
    "# forward pass\n",
    "ypred = [n(x) for x in xs]\n",
    "loss = sum([(yout- ygt)**2 for ygt, yout in zip(ys, ypred)])\n",
    "loss"
   ]
  },
  {
   "cell_type": "code",
   "execution_count": 995,
   "id": "ff08153f-32bb-4165-a843-9d13898bfe2a",
   "metadata": {},
   "outputs": [],
   "source": [
    "# backward pass\n",
    "loss.backward()"
   ]
  },
  {
   "cell_type": "code",
   "execution_count": 996,
   "id": "2bbeae95-7ce5-453b-8a1b-e1295601dd52",
   "metadata": {},
   "outputs": [],
   "source": [
    "# update parameters \n",
    "for p in n.parameters():\n",
    "    p.data += -0.0005 * p.grad "
   ]
  },
  {
   "cell_type": "code",
   "execution_count": 997,
   "id": "f4bae2a9-2ba6-452e-947f-735879b69fb4",
   "metadata": {},
   "outputs": [
    {
     "data": {
      "text/plain": [
       "[Value(data=0.9881852067711676),\n",
       " Value(data=-0.9820997151400154),\n",
       " Value(data=-0.9901350358428653),\n",
       " Value(data=0.9860417505888129)]"
      ]
     },
     "execution_count": 997,
     "metadata": {},
     "output_type": "execute_result"
    }
   ],
   "source": [
    "ypred"
   ]
  },
  {
   "cell_type": "code",
   "execution_count": 998,
   "id": "7bee3564-4836-469b-bcda-600827e96cee",
   "metadata": {},
   "outputs": [
    {
     "data": {
      "text/plain": [
       "[Value(data=0.6572703821390008),\n",
       " Value(data=0.6578707518214094),\n",
       " Value(data=-1.1643815564483846),\n",
       " Value(data=-0.30828742772335593),\n",
       " Value(data=-0.219309005595846),\n",
       " Value(data=-1.4652091153087548),\n",
       " Value(data=1.5426267065036987),\n",
       " Value(data=0.31133372952012484),\n",
       " Value(data=-0.5782791659572286),\n",
       " Value(data=-0.10755021327984024),\n",
       " Value(data=0.4720594999482675),\n",
       " Value(data=0.4372468175091597),\n",
       " Value(data=1.023613199545252),\n",
       " Value(data=-0.7180801778439329),\n",
       " Value(data=-1.1684437228603775),\n",
       " Value(data=-0.10426172282995379),\n",
       " Value(data=0.13650308589527188),\n",
       " Value(data=-0.9683363981602073),\n",
       " Value(data=0.5554887156172308),\n",
       " Value(data=-0.27435811437951957),\n",
       " Value(data=-0.058673344137741924),\n",
       " Value(data=-0.8959708821878248),\n",
       " Value(data=0.8990569606571657),\n",
       " Value(data=0.26131527886629186),\n",
       " Value(data=-1.1701965212380891),\n",
       " Value(data=0.800741544159937),\n",
       " Value(data=0.2502247400082775),\n",
       " Value(data=-0.6959469543436472),\n",
       " Value(data=-0.19116483055837782),\n",
       " Value(data=-1.0887555965585685),\n",
       " Value(data=0.11366302982830775),\n",
       " Value(data=-1.45304042710342),\n",
       " Value(data=1.1185733988836242),\n",
       " Value(data=0.3498089680895026),\n",
       " Value(data=-0.4901821594941594),\n",
       " Value(data=0.3120686048882221),\n",
       " Value(data=0.880945167609947),\n",
       " Value(data=-0.5531867936086656),\n",
       " Value(data=0.8823184832974301),\n",
       " Value(data=-2.1427584749901354),\n",
       " Value(data=-0.7327423218349519)]"
      ]
     },
     "execution_count": 998,
     "metadata": {},
     "output_type": "execute_result"
    }
   ],
   "source": [
    "n.parameters()"
   ]
  },
  {
   "cell_type": "code",
   "execution_count": 1139,
   "id": "90dea40e-b15c-4e0e-9115-b4a2a54b086e",
   "metadata": {},
   "outputs": [
    {
     "data": {
      "text/plain": [
       "[Value(data=-0.3215735356276752),\n",
       " Value(data=-0.3704913348471981),\n",
       " Value(data=-0.39638679470952115),\n",
       " Value(data=-0.5242963254364683)]"
      ]
     },
     "execution_count": 1139,
     "metadata": {},
     "output_type": "execute_result"
    }
   ],
   "source": [
    "## initialise the MLP \n",
    "n = MLP(3, [4, 4, 1])\n",
    "\n",
    "## set up training set\n",
    "xs = [\n",
    "    [2.0, 3.0, -1.0],\n",
    "    [3.0, -1.0, 0.5],\n",
    "    [0.5, 1.0, 1.0],\n",
    "    [1.0, 1.0, -1.0]\n",
    "]\n",
    "\n",
    "ys = [1.0, -1.0, -1.0, 1.0] # desired targets\n",
    "ypred = [n(x) for x in xs]\n",
    "ypred"
   ]
  },
  {
   "cell_type": "code",
   "execution_count": 1140,
   "id": "ec20e63d-a5bb-40eb-bcc1-37812c4ad339",
   "metadata": {},
   "outputs": [
    {
     "name": "stdout",
     "output_type": "stream",
     "text": [
      "0 4.830665958914063\n",
      "1 3.848675265195377\n",
      "2 3.4246805269679452\n",
      "3 2.8773355910748357\n",
      "4 2.244061023510251\n",
      "5 1.7746120297611827\n",
      "6 1.3709201217818208\n",
      "7 1.0151205364430937\n",
      "8 0.7408845475278767\n",
      "9 0.5516889686624854\n"
     ]
    }
   ],
   "source": [
    "for k in range(10):\n",
    "    # forward pass\n",
    "    ypred = [n(x) for x in xs] # determine current predictions\n",
    "    loss = sum([(yout- ygt)**2 for ygt, yout in zip(ys, ypred)]) # calculate the loss\n",
    "    \n",
    "    # backward pass\n",
    "    for p in n.parameters():\n",
    "        p.grad = 0.0\n",
    "    loss.backward()\n",
    "    \n",
    "    # update params\n",
    "    for p in n.parameters():\n",
    "        p.data += -0.05 * p.grad\n",
    "\n",
    "    print(k, loss.data)\n"
   ]
  },
  {
   "cell_type": "code",
   "execution_count": 1026,
   "id": "cc55d075-5adf-498f-bf34-1f75118b3c8d",
   "metadata": {},
   "outputs": [
    {
     "data": {
      "text/plain": [
       "[Value(data=-0.10433632874372444),\n",
       " Value(data=0.5533245770131929),\n",
       " Value(data=-0.09724206982117163),\n",
       " Value(data=-0.2675127710365069)]"
      ]
     },
     "execution_count": 1026,
     "metadata": {},
     "output_type": "execute_result"
    }
   ],
   "source": [
    "ypred"
   ]
  },
  {
   "cell_type": "code",
   "execution_count": 1054,
   "id": "9bf419a0-a103-43b7-b9c5-0b9814f70139",
   "metadata": {},
   "outputs": [
    {
     "name": "stdout",
     "output_type": "stream",
     "text": [
      "-0.03 -1943.525413691898\n"
     ]
    }
   ],
   "source": [
    "d = n.layers[1].neurons[1].w[1].data\n",
    "g = n.layers[1].neurons[1].w[1].grad\n",
    "print (d,g)\n",
    "\n",
    "n.layers[1].neurons[1].w[1].data = -0.03 # -0.05404385163249947\n",
    "\n"
   ]
  },
  {
   "cell_type": "code",
   "execution_count": 1057,
   "id": "fa0270cb-9648-4dbc-a907-d035263c79c3",
   "metadata": {},
   "outputs": [
    {
     "data": {
      "text/plain": [
       "Value(data=6.038236006615932)"
      ]
     },
     "execution_count": 1057,
     "metadata": {},
     "output_type": "execute_result"
    }
   ],
   "source": [
    "ypred = [n(x) for x in xs] # determine current predictions\n",
    "loss = sum([(yout - ygt)**2 for ygt, yout in zip(ys, ypred)]) # calculate the loss\n",
    "# backward pass\n",
    "for p in n.parameters():\n",
    "    p.grad = 0.0\n",
    "loss.backward()\n",
    "loss"
   ]
  },
  {
   "cell_type": "code",
   "execution_count": 1150,
   "id": "33dc0aa8-4307-45ee-88ca-fa6d6a95a768",
   "metadata": {},
   "outputs": [
    {
     "name": "stdout",
     "output_type": "stream",
     "text": [
      " -6.0 |  0.000 | 3.76419 | -6.0000\n",
      "-5.75 | -0.035 | 3.75507 | -5.7482\n",
      " -5.5 | -0.038 | 3.74535 | -5.4981\n",
      "-5.25 | -0.040 | 3.73506 | -5.2480\n",
      " -5.0 | -0.042 | 3.72426 | -4.9979\n",
      "-4.75 | -0.044 | 3.71309 | -4.7478\n",
      " -4.5 | -0.045 | 3.70174 | -4.4977\n",
      "-4.25 | -0.045 | 3.69053 | -4.2477\n",
      " -4.0 | -0.044 | 3.67996 | -3.9978\n",
      "-3.75 | -0.040 | 3.67078 | -3.7480\n",
      " -3.5 | -0.033 | 3.66414 | -3.4984\n",
      "-3.25 | -0.019 | 3.66176 | -3.2490\n",
      " -3.0 |  0.002 | 3.66618 | -3.0001\n",
      "-2.75 |  0.036 | 3.68113 | -2.7518\n",
      " -2.5 |  0.087 | 3.71201 | -2.5044\n",
      "-2.25 |  0.165 | 3.76639 | -2.2582\n",
      " -2.0 |  0.277 | 3.85442 | -2.0139\n",
      "-1.75 |  0.436 | 3.98866 | -1.7718\n",
      " -1.5 |  0.648 | 4.18241 | -1.5324\n",
      "-1.25 |  0.910 | 4.44547 | -1.2955\n",
      " -1.0 |  1.195 | 4.77683 | -1.0597\n",
      "-0.75 |  1.444 | 5.15765 | -0.8222\n",
      " -0.5 |  1.578 | 5.55125 | -0.5789\n",
      "-0.25 |  1.542 | 5.91526 | -0.3271\n",
      "  0.0 |  1.349 | 6.21867 | -0.0674\n",
      " 0.25 |  1.071 | 6.45073 | 0.1964\n",
      "  0.5 |  0.790 | 6.61726 | 0.4605\n",
      " 0.75 |  0.552 | 6.73165 | 0.7224\n",
      "  1.0 |  0.373 | 6.80797 | 0.9814\n",
      " 1.25 |  0.246 | 6.85789 | 1.2377\n",
      "  1.5 |  0.159 | 6.89002 | 1.4920\n",
      " 1.75 |  0.102 | 6.91039 | 1.7449\n",
      "  2.0 |  0.064 | 6.92309 | 1.9968\n",
      " 2.25 |  0.039 | 6.93083 | 2.2480\n",
      "  2.5 |  0.024 | 6.93538 | 2.4988\n",
      " 2.75 |  0.014 | 6.93792 | 2.7493\n",
      "  3.0 |  0.007 | 6.93919 | 2.9996\n",
      " 3.25 |  0.003 | 6.93968 | 3.2498\n",
      "  3.5 |  0.001 | 6.93970 | 3.5000\n",
      " 3.75 | -0.001 | 6.93945 | 3.7500\n",
      "  4.0 | -0.001 | 6.93906 | 4.0001\n",
      " 4.25 | -0.002 | 6.93859 | 4.2501\n",
      "  4.5 | -0.002 | 6.93811 | 4.5001\n",
      " 4.75 | -0.002 | 6.93763 | 4.7501\n",
      "  5.0 | -0.002 | 6.93717 | 5.0001\n",
      " 5.25 | -0.002 | 6.93675 | 5.2501\n",
      "  5.5 | -0.002 | 6.93635 | 5.5001\n",
      " 5.75 | -0.002 | 6.93600 | 5.7501\n"
     ]
    }
   ],
   "source": [
    "# investigate how by adjusting one neuron, the grad and loss alter for a distributions of values\n",
    "\n",
    "# setup \n",
    "## initialise the MLP \n",
    "n = MLP(3, [4, 4, 1])\n",
    "\n",
    "## set up training set\n",
    "xs = [\n",
    "    [2.0, 3.0, -1.0],\n",
    "    [3.0, -1.0, 0.5],\n",
    "    [0.5, 1.0, 1.0],\n",
    "    [1.0, 1.0, -1.0]\n",
    "]\n",
    "\n",
    "ys = [1.0, -1.0, -1.0, 1.0] # desired targets\n",
    "\n",
    "results = []\n",
    "\n",
    "for n_data in np.arange(-6, 6, 0.25):\n",
    "    n.layers[1].neurons[1].w[1].data = n_data\n",
    "    ypred = [n(x) for x in xs] # determine current predictions\n",
    "    loss = sum([(yout - ygt)**2 for ygt, yout in zip(ys, ypred)]) # calculate the loss\n",
    "    n_grad = n.layers[1].neurons[1].w[1].grad\n",
    "\n",
    "    # backpropagate - calc grads\n",
    "    for p in n.parameters():\n",
    "        p.grad = 0.0\n",
    "    loss.backward()\n",
    "\n",
    "    n_data_new_val = n_data + -0.05 * n_grad\n",
    "\n",
    "    # show neuron data val and grad and current loss\n",
    "    print(f\"{n_data:5} | {n_grad:6.3f} | {loss.data:.5f} | {n_data_new_val:.4f}\")\n",
    "    results.append((n_data, n_grad, loss.data))\n",
    "    \n",
    "n_data, n_grad, loss =zip(*results)    "
   ]
  },
  {
   "cell_type": "code",
   "execution_count": 1151,
   "id": "eafa861c-d293-42a8-aafe-f326c0a7a0e8",
   "metadata": {},
   "outputs": [
    {
     "data": {
      "image/png": "[encoded data removed]",
      "text/plain": [
       "<Figure size 640x480 with 1 Axes>"
      ]
     },
     "metadata": {},
     "output_type": "display_data"
    }
   ],
   "source": [
    "plt.plot(n_data, n_grad, label = 'n_grad')\n",
    "plt.plot(n_data, loss, label = 'loss')\n",
    "plt.legend()\n",
    "plt.grid(True)\n",
    "plt.show()\n"
   ]
  },
  {
   "cell_type": "code",
   "execution_count": null,
   "id": "716ba2f9-4744-44c1-9de1-4904bfc92544",
   "metadata": {},
   "outputs": [],
   "source": []
  }
 ],
 "metadata": {
  "kernelspec": {
   "display_name": "Python 3 (ipykernel)",
   "language": "python",
   "name": "python3"
  },
  "language_info": {
   "codemirror_mode": {
    "name": "ipython",
    "version": 3
   },
   "file_extension": ".py",
   "mimetype": "text/x-python",
   "name": "python",
   "nbconvert_exporter": "python",
   "pygments_lexer": "ipython3",
   "version": "3.11.2"
  }
 },
 "nbformat": 4,
 "nbformat_minor": 5
}
