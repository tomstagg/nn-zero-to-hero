{
 "cells": [
  {
   "cell_type": "code",
   "execution_count": 1,
   "id": "71320047-2abf-40df-9f71-c87122e04aa0",
   "metadata": {},
   "outputs": [],
   "source": [
    "# demonstrates a bigram approach using 27 neuron layer\n",
    "\n",
    "# this demo will:\n",
    "#   generate training sets\n",
    "#   initalise a model with random weights"
   ]
  },
  {
   "cell_type": "code",
   "execution_count": 2,
   "id": "a4ecfcab-ff6c-4333-8ecc-1125dcbfdeae",
   "metadata": {},
   "outputs": [],
   "source": [
    "import torch\n",
    "import torch.nn.functional as F\n",
    "import matplotlib.pyplot as plt\n",
    "g = torch.Generator().manual_seed(2147483647)\n",
    "words = open('names.txt').read().splitlines()"
   ]
  },
  {
   "cell_type": "code",
   "execution_count": 3,
   "id": "d2a0f0d5-73da-4ef1-a309-e187ad252d76",
   "metadata": {},
   "outputs": [],
   "source": [
    "chars = ['.'] + sorted(list(set(''.join(words))))\n",
    "itos = {k: v for k,v in enumerate(chars)}\n",
    "stoi = {v:k for k,v in itos.items()}"
   ]
  },
  {
   "cell_type": "code",
   "execution_count": 4,
   "id": "5011b771-3b3a-471b-9977-892b7b6168f1",
   "metadata": {},
   "outputs": [
    {
     "name": "stdout",
     "output_type": "stream",
     "text": [
      ". e\n",
      "e m\n",
      "m m\n",
      "m a\n",
      "a .\n"
     ]
    },
    {
     "data": {
      "text/plain": [
       "(tensor([ 0,  5, 13, 13,  1]), tensor([ 5, 13, 13,  1,  0]))"
      ]
     },
     "execution_count": 4,
     "metadata": {},
     "output_type": "execute_result"
    }
   ],
   "source": [
    "# creating the training set\n",
    "xs, ys = [],[]\n",
    "\n",
    "for word in words[:1]:\n",
    "    chs = ['.'] + list(word) + ['.']\n",
    "    for ch1, ch2 in zip(chs, chs[1:]):\n",
    "        print(ch1, ch2)\n",
    "        ix1 = stoi[ch1]\n",
    "        ix2 = stoi[ch2]\n",
    "        xs.append(ix1)\n",
    "        ys.append(ix2)\n",
    "\n",
    "xs = torch.tensor(xs)\n",
    "ys = torch.tensor(ys)\n",
    "xs,ys"
   ]
  },
  {
   "cell_type": "code",
   "execution_count": 5,
   "id": "496e1268-424a-419f-a3d6-df104bf2549e",
   "metadata": {},
   "outputs": [
    {
     "data": {
      "text/plain": [
       "tensor([-4.3297e-01, -9.6478e-01,  2.1346e+00, -7.2759e-01, -1.3753e-01,\n",
       "        -1.3132e-03, -3.1566e-01,  1.1199e+00, -4.7701e-01, -1.5065e+00,\n",
       "         1.2108e+00, -4.0636e-01,  1.9110e-01,  3.7882e-02,  1.3431e+00,\n",
       "         2.4311e-01, -1.5364e-01, -1.1583e+00,  1.1614e+00,  4.2016e-01,\n",
       "         2.7359e-01,  3.6583e-01,  1.7128e+00,  1.3769e+00, -8.9778e-01,\n",
       "        -9.5177e-01,  1.4723e-01])"
      ]
     },
     "execution_count": 5,
     "metadata": {},
     "output_type": "execute_result"
    }
   ],
   "source": [
    "# initialise the weights of a model\n",
    "W = torch.randn((27,27), generator=g)\n",
    "W[:,13]"
   ]
  },
  {
   "cell_type": "code",
   "execution_count": 6,
   "id": "f1a23997-63fb-47e8-8ef1-159d4f09eaca",
   "metadata": {},
   "outputs": [
    {
     "data": {
      "text/plain": [
       "<matplotlib.image.AxesImage at 0x127f3e050>"
      ]
     },
     "execution_count": 6,
     "metadata": {},
     "output_type": "execute_result"
    },
    {
     "data": {
      "image/png": "[encoded data removed]",
      "text/plain": [
       "<Figure size 640x480 with 1 Axes>"
      ]
     },
     "metadata": {},
     "output_type": "display_data"
    }
   ],
   "source": [
    "# convert the training input to one hot encoded values (5,27) aligned to the neuron weights (27,27). Ensure it's floats\n",
    "xenc = F.one_hot(xs, num_classes=27).float()\n",
    "plt.imshow(xenc)"
   ]
  },
  {
   "cell_type": "code",
   "execution_count": 7,
   "id": "f91ec272-2b1a-4401-97cb-fe9ec497f9cd",
   "metadata": {},
   "outputs": [
    {
     "data": {
      "text/plain": [
       "tensor([[0.0607, 0.0100, 0.0123, 0.0042, 0.0168, 0.0123, 0.0027, 0.0232, 0.0137,\n",
       "         0.0313, 0.0079, 0.0278, 0.0091, 0.0082, 0.0500, 0.2378, 0.0603, 0.0025,\n",
       "         0.0249, 0.0055, 0.0339, 0.0109, 0.0029, 0.0198, 0.0118, 0.1537, 0.1459],\n",
       "        [0.0290, 0.0796, 0.0248, 0.0521, 0.1989, 0.0289, 0.0094, 0.0335, 0.0097,\n",
       "         0.0301, 0.0702, 0.0228, 0.0115, 0.0181, 0.0108, 0.0315, 0.0291, 0.0045,\n",
       "         0.0916, 0.0215, 0.0486, 0.0300, 0.0501, 0.0027, 0.0118, 0.0022, 0.0472],\n",
       "        [0.0312, 0.0737, 0.0484, 0.0333, 0.0674, 0.0200, 0.0263, 0.0249, 0.1226,\n",
       "         0.0164, 0.0075, 0.0789, 0.0131, 0.0267, 0.0147, 0.0112, 0.0585, 0.0121,\n",
       "         0.0650, 0.0058, 0.0208, 0.0078, 0.0133, 0.0203, 0.1204, 0.0469, 0.0126],\n",
       "        [0.0312, 0.0737, 0.0484, 0.0333, 0.0674, 0.0200, 0.0263, 0.0249, 0.1226,\n",
       "         0.0164, 0.0075, 0.0789, 0.0131, 0.0267, 0.0147, 0.0112, 0.0585, 0.0121,\n",
       "         0.0650, 0.0058, 0.0208, 0.0078, 0.0133, 0.0203, 0.1204, 0.0469, 0.0126],\n",
       "        [0.0150, 0.0086, 0.0396, 0.0100, 0.0606, 0.0308, 0.1084, 0.0131, 0.0125,\n",
       "         0.0048, 0.1024, 0.0086, 0.0988, 0.0112, 0.0232, 0.0207, 0.0408, 0.0078,\n",
       "         0.0899, 0.0531, 0.0463, 0.0309, 0.0051, 0.0329, 0.0654, 0.0503, 0.0091]])"
      ]
     },
     "execution_count": 7,
     "metadata": {},
     "output_type": "execute_result"
    }
   ],
   "source": [
    "# we need to change the nn output to provide the counts which represent the probability. They must be proabilities, positive and sum to 1. How do we get there?\\\n",
    "# first convert the log counts / logits from -ive and +ive to +ive by taking the exponential. All negative values will become positive and less\n",
    "# than 1 and all postive values will also be positive and great than 1\n",
    "# counts are also not good to output from a NN\n",
    "# The output is \"log counts\" and we need to take the exponential to get the counts which will always be positive \n",
    "\n",
    "logits = (xenc @ W) # (5,27) @ (27,27) -> (5,27) this is the log counts\n",
    "# this two lines below are called a 'softmax':\n",
    "counts = logits.exp() # converts all numbers to positive numbers (see graph below)\n",
    "probs = counts / counts.sum(1, keepdims=True) # now get the probability (bearing in mind broadcasting)\n",
    "probs[0].sum() # all rows sum to 1, we're getting rows with a probaility distribution\n",
    "probs\n",
    "\n",
    "# we can backprogagate, they are all differentiable. through the above to determine gradient :)\n",
    "# we are feeding in a one hot encoding (1,27) and return a (1,27) which provides a probabilty for every character.\n"
   ]
  },
  {
   "cell_type": "code",
   "execution_count": 8,
   "id": "9562c296-e6c1-4e51-967b-e97f383e371b",
   "metadata": {},
   "outputs": [
    {
     "data": {
      "text/plain": [
       "[<matplotlib.lines.Line2D at 0x128576a90>]"
      ]
     },
     "execution_count": 8,
     "metadata": {},
     "output_type": "execute_result"
    },
    {
     "data": {
      "image/png": "[encoded data removed]",
      "text/plain": [
       "<Figure size 640x480 with 1 Axes>"
      ]
     },
     "metadata": {},
     "output_type": "display_data"
    }
   ],
   "source": [
    "x = torch.arange(-3, 3, 0.1)\n",
    "x\n",
    "plt.plot(x, torch.exp(x)) # y = exp(0) = 1.0"
   ]
  },
  {
   "cell_type": "code",
   "execution_count": 154,
   "id": "f41428d4-442d-4100-8418-988ccd574fde",
   "metadata": {},
   "outputs": [
    {
     "name": "stdout",
     "output_type": "stream",
     "text": [
      "--------------------\n",
      "bigram example: 1 bigram combo: .e index: 0,5\n",
      "input into neural net: 0\n",
      "output from neural net: tensor([0.0013, 0.1376, 0.0407, 0.0481, 0.0527, 0.0477, 0.0129, 0.0208, 0.0272,\n",
      "        0.0184, 0.0755, 0.0924, 0.0490, 0.0792, 0.0357, 0.0122, 0.0160, 0.0028,\n",
      "        0.0511, 0.0641, 0.0408, 0.0028, 0.0117, 0.0095, 0.0042, 0.0166, 0.0289],\n",
      "       grad_fn=<SelectBackward0>)\n",
      "the actual next char: e and it's probability: 0.047725286334753036\n",
      "the log likelihood for this char: -3.0422940254211426\n",
      "the nll likelihood for this char: 3.0422940254211426\n",
      "--------------------\n",
      "bigram example: 2 bigram combo: em index: 5,13\n",
      "input into neural net: 5\n",
      "output from neural net: tensor([0.1949, 0.0331, 0.0060, 0.0075, 0.0187, 0.0621, 0.0041, 0.0062, 0.0072,\n",
      "        0.0400, 0.0035, 0.0086, 0.1589, 0.0376, 0.1309, 0.0130, 0.0044, 0.0015,\n",
      "        0.0958, 0.0421, 0.0283, 0.0039, 0.0226, 0.0021, 0.0063, 0.0523, 0.0088],\n",
      "       grad_fn=<SelectBackward0>)\n",
      "the actual next char: m and it's probability: 0.03755149617791176\n",
      "the log likelihood for this char: -3.2820420265197754\n",
      "the nll likelihood for this char: 3.2820420265197754\n",
      "--------------------\n",
      "bigram example: 3 bigram combo: mm index: 13,13\n",
      "input into neural net: 13\n",
      "output from neural net: tensor([0.0752, 0.3877, 0.0141, 0.0069, 0.0055, 0.1208, 0.0032, 0.0031, 0.0045,\n",
      "        0.1868, 0.0019, 0.0041, 0.0025, 0.0214, 0.0034, 0.0654, 0.0064, 0.0022,\n",
      "        0.0125, 0.0027, 0.0031, 0.0141, 0.0025, 0.0029, 0.0042, 0.0402, 0.0028],\n",
      "       grad_fn=<SelectBackward0>)\n",
      "the actual next char: m and it's probability: 0.02135073021054268\n",
      "the log likelihood for this char: -3.8466694355010986\n",
      "the nll likelihood for this char: 3.8466694355010986\n",
      "--------------------\n",
      "bigram example: 4 bigram combo: ma index: 13,1\n",
      "input into neural net: 13\n",
      "output from neural net: tensor([0.0752, 0.3877, 0.0141, 0.0069, 0.0055, 0.1208, 0.0032, 0.0031, 0.0045,\n",
      "        0.1868, 0.0019, 0.0041, 0.0025, 0.0214, 0.0034, 0.0654, 0.0064, 0.0022,\n",
      "        0.0125, 0.0027, 0.0031, 0.0141, 0.0025, 0.0029, 0.0042, 0.0402, 0.0028],\n",
      "       grad_fn=<SelectBackward0>)\n",
      "the actual next char: a and it's probability: 0.38768768310546875\n",
      "the log likelihood for this char: -0.9475551843643188\n",
      "the nll likelihood for this char: 0.9475551843643188\n",
      "--------------------\n",
      "bigram example: 5 bigram combo: a. index: 1,0\n",
      "input into neural net: 1\n",
      "output from neural net: tensor([0.1959, 0.0164, 0.0159, 0.0138, 0.0307, 0.0204, 0.0040, 0.0049, 0.0688,\n",
      "        0.0486, 0.0052, 0.0167, 0.0746, 0.0482, 0.1604, 0.0023, 0.0027, 0.0021,\n",
      "        0.0963, 0.0329, 0.0202, 0.0112, 0.0246, 0.0047, 0.0053, 0.0605, 0.0128],\n",
      "       grad_fn=<SelectBackward0>)\n",
      "the actual next char: . and it's probability: 0.1959124207496643\n",
      "the log likelihood for this char: -1.6300874948501587\n",
      "the nll likelihood for this char: 1.6300874948501587\n",
      "====================\n",
      "the average negative log likelihood or loss = 2.549729824066162\n"
     ]
    }
   ],
   "source": [
    "# calculating the loss for the above model\n",
    "nlls = torch.zeros(5)\n",
    "\n",
    "for i in range(5):\n",
    "    print(\"-\" * 20)\n",
    "    x = xs[i].item()\n",
    "    y = ys[i].item()\n",
    "    # print(f\"{x=} {itos[x]=}, {itos[y]=} {prob[i]=}\")\n",
    "    print(f\"bigram example: {i+1} bigram combo: {itos[x]}{itos[y]} index: {x},{y}\")\n",
    "    print(f\"input into neural net: {x}\");\n",
    "    print(f\"output from neural net: {probs[i]}\");\n",
    "    p = probs[i][y]\n",
    "    print(f\"the actual next char: {itos[y]} and it's probability: {p}\")\n",
    "    logp = torch.log(p)\n",
    "    print(f\"the log likelihood for this char: {logp}\")\n",
    "    nll = - logp\n",
    "    print(f\"the nll likelihood for this char: {nll}\")\n",
    "    nlls[i] =nll \n",
    "print(\"=\" * 20)\n",
    "\n",
    "print(f\"the average negative log likelihood or loss = {nlls.mean()}\")    "
   ]
  },
  {
   "cell_type": "code",
   "execution_count": 3,
   "id": "1756a036-1f10-4681-a38c-3f42517f0235",
   "metadata": {},
   "outputs": [
    {
     "data": {
      "text/plain": [
       "(tensor([ 0,  5, 13, 13,  1]), tensor([ 5, 13, 13,  1,  0]), 5)"
      ]
     },
     "execution_count": 3,
     "metadata": {},
     "output_type": "execute_result"
    }
   ],
   "source": [
    "# creating training set\n",
    "itos = {k:v for k,v in enumerate(['.'] + sorted(list(set(''.join(words)))))}\n",
    "stoi = {v:k for k,v in itos.items()}\n",
    "\n",
    "xs,ys = [],[]\n",
    "for word in words[:1]:\n",
    "    word = ['.'] + list(word) + ['.']\n",
    "    for ch1, ch2 in zip(word,word[1:]):\n",
    "        ix1, ix2 = stoi[ch1], stoi[ch2]\n",
    "        xs.append(ix1)\n",
    "        ys.append(ix2)\n",
    "xs = torch.tensor(xs)\n",
    "ys = torch.tensor(ys)\n",
    "num = xs.nelement()\n",
    "\n",
    "xs, ys, num"
   ]
  },
  {
   "cell_type": "code",
   "execution_count": 4,
   "id": "49d13bbd-c00d-4873-be43-4e152dd1f9d0",
   "metadata": {},
   "outputs": [
    {
     "data": {
      "text/plain": [
       "tensor([[1., 0., 0., 0., 0., 0., 0., 0., 0., 0., 0., 0., 0., 0., 0., 0., 0., 0.,\n",
       "         0., 0., 0., 0., 0., 0., 0., 0., 0.],\n",
       "        [0., 0., 0., 0., 0., 1., 0., 0., 0., 0., 0., 0., 0., 0., 0., 0., 0., 0.,\n",
       "         0., 0., 0., 0., 0., 0., 0., 0., 0.],\n",
       "        [0., 0., 0., 0., 0., 0., 0., 0., 0., 0., 0., 0., 0., 1., 0., 0., 0., 0.,\n",
       "         0., 0., 0., 0., 0., 0., 0., 0., 0.],\n",
       "        [0., 0., 0., 0., 0., 0., 0., 0., 0., 0., 0., 0., 0., 1., 0., 0., 0., 0.,\n",
       "         0., 0., 0., 0., 0., 0., 0., 0., 0.],\n",
       "        [0., 1., 0., 0., 0., 0., 0., 0., 0., 0., 0., 0., 0., 0., 0., 0., 0., 0.,\n",
       "         0., 0., 0., 0., 0., 0., 0., 0., 0.]])"
      ]
     },
     "execution_count": 4,
     "metadata": {},
     "output_type": "execute_result"
    }
   ],
   "source": [
    "# initialise model and one hot encode input\n",
    "g = torch.Generator().manual_seed(12345)\n",
    "W = torch.randn((27,27), generator=g)\n",
    "W\n",
    "\n",
    "xenc = F.one_hot(xs, num_classes=27).float()\n",
    "xenc"
   ]
  },
  {
   "cell_type": "code",
   "execution_count": 22,
   "id": "20685807-17a7-4e68-ae83-c584cb3ffb73",
   "metadata": {},
   "outputs": [
    {
     "name": "stdout",
     "output_type": "stream",
     "text": [
      "number of examples: 228146\n",
      "W shape: torch.Size([27, 27])\n"
     ]
    }
   ],
   "source": [
    "# creating the full training set\n",
    "# - process the words and write index to two training sets\n",
    "# - initialise the model\n",
    "\n",
    "xs, ys = [], []\n",
    "for word in words:\n",
    "    chs = ['.'] + list(word) + ['.']\n",
    "    for ch1, ch2 in zip(chs, chs[1:]):\n",
    "        ix1, ix2 = stoi[ch1], stoi[ch2]\n",
    "        xs.append(ix1)\n",
    "        ys.append(ix2)\n",
    "\n",
    "xs = torch.tensor(xs)\n",
    "ys = torch.tensor(ys)\n",
    "num = xs.nelement()\n",
    "\n",
    "print(f'number of examples: {num}')\n",
    "# initalise a model\n",
    "g = torch.Generator().manual_seed(2147483647)\n",
    "W = torch.randn((27,27), generator=g, requires_grad=True) # as this is leaf, by default it doesn't calc grads for itjj\n",
    "\n",
    "print(f\"W shape: {W.shape}\")"
   ]
  },
  {
   "cell_type": "code",
   "execution_count": 23,
   "id": "3818e5a7-6615-42f5-b681-bdbdb9c73957",
   "metadata": {},
   "outputs": [
    {
     "name": "stdout",
     "output_type": "stream",
     "text": [
      "0 3.768618583679199\n",
      "10 2.696505308151245\n",
      "20 2.5822560787200928\n",
      "30 2.5413522720336914\n",
      "40 2.52126407623291\n",
      "50 2.509855031967163\n",
      "60 2.5027060508728027\n",
      "70 2.4978787899017334\n",
      "80 2.494438886642456\n",
      "90 2.4918935298919678\n",
      "100 2.4899587631225586\n",
      "110 2.4884581565856934\n",
      "120 2.4872729778289795\n",
      "130 2.486323356628418\n",
      "140 2.4855518341064453\n",
      "150 2.484917163848877\n",
      "160 2.484389066696167\n",
      "170 2.483945846557617\n",
      "180 2.483569383621216\n",
      "190 2.4832475185394287\n",
      "200 2.4829697608947754\n",
      "210 2.4827287197113037\n",
      "220 2.482518196105957\n",
      "230 2.482333183288574\n",
      "240 2.4821698665618896\n",
      "250 2.482024908065796\n",
      "260 2.481895685195923\n",
      "270 2.481780529022217\n",
      "280 2.4816765785217285\n",
      "290 2.481583833694458\n",
      "300 2.481499195098877\n",
      "310 2.4814231395721436\n",
      "320 2.481353759765625\n",
      "330 2.481290817260742\n",
      "340 2.4812331199645996\n",
      "350 2.481180191040039\n",
      "360 2.4811322689056396\n",
      "370 2.4810876846313477\n",
      "380 2.4810471534729004\n",
      "390 2.4810092449188232\n",
      "400 2.4809746742248535\n",
      "410 2.480942726135254\n",
      "420 2.480912685394287\n",
      "430 2.4808850288391113\n",
      "440 2.4808590412139893\n",
      "450 2.480835199356079\n",
      "460 2.4808127880096436\n",
      "470 2.4807920455932617\n",
      "480 2.4807724952697754\n",
      "490 2.4807546138763428\n",
      "500 2.4807369709014893\n",
      "510 2.4807209968566895\n",
      "520 2.480705738067627\n",
      "530 2.48069167137146\n",
      "540 2.4806785583496094\n",
      "550 2.480665922164917\n",
      "560 2.480653762817383\n",
      "570 2.480642795562744\n",
      "580 2.4806318283081055\n",
      "590 2.480621814727783\n",
      "600 2.4806125164031982\n",
      "610 2.4806032180786133\n",
      "620 2.4805946350097656\n",
      "630 2.4805870056152344\n",
      "640 2.480579137802124\n",
      "650 2.4805715084075928\n",
      "660 2.480564594268799\n",
      "670 2.480558156967163\n",
      "680 2.4805519580841064\n",
      "690 2.480545997619629\n",
      "700 2.4805402755737305\n",
      "710 2.480534553527832\n",
      "720 2.480529546737671\n",
      "730 2.4805245399475098\n",
      "740 2.4805195331573486\n",
      "750 2.4805150032043457\n",
      "760 2.480510950088501\n",
      "770 2.480506658554077\n",
      "780 2.4805028438568115\n",
      "790 2.480499029159546\n",
      "800 2.4804952144622803\n",
      "810 2.480491876602173\n",
      "820 2.4804883003234863\n",
      "830 2.480484962463379\n",
      "840 2.480482339859009\n",
      "850 2.4804792404174805\n",
      "860 2.4804763793945312\n",
      "870 2.4804739952087402\n",
      "880 2.48047137260437\n",
      "890 2.480468988418579\n",
      "900 2.480466365814209\n",
      "910 2.480463981628418\n",
      "920 2.480462074279785\n",
      "930 2.480459451675415\n",
      "940 2.4804577827453613\n",
      "950 2.4804558753967285\n",
      "960 2.4804534912109375\n",
      "970 2.480452060699463\n",
      "980 2.480449914932251\n",
      "990 2.4804487228393555\n"
     ]
    }
   ],
   "source": [
    "# forward pass - this means calculating the output from a NN for a given input\n",
    "# - setup one hot encodings for inputs\n",
    "# - matmul encodings with weights\n",
    "# - determine probs from logcount outputs (softmax): \n",
    "#   - take exp to make them positive numbers \n",
    "#   - calc probs based on row sums \n",
    "\n",
    "loss_scores = []\n",
    "\n",
    "for i in range(1000):\n",
    "    xenc = F.one_hot(xs, num_classes=27).float()\n",
    "    logits = xenc @ W # predict log-counts (5,27) @ (27,27) -> (5,27)\n",
    "    counts = logits.exp() # convert to counts from weights, equiv to N in bigram count\n",
    "    probs = counts / counts.sum(1, keepdim=True) # probabilities for the next char\n",
    "    loss = -probs[torch.arange(num), ys].log().mean() + 0.01*(W**2).mean()\n",
    "    loss_scores.append(loss)\n",
    "    if i % 10 == 0: \n",
    "        print(i, loss.item())\n",
    "\n",
    "    # backward pass\n",
    "    W.grad = None\n",
    "    loss.backward()\n",
    "\n",
    "    # update\n",
    "    W.data += -50 * W.grad\n"
   ]
  },
  {
   "cell_type": "code",
   "execution_count": 24,
   "id": "d17fbe1c-590a-4c13-8b28-b4edb82d1451",
   "metadata": {},
   "outputs": [
    {
     "data": {
      "text/plain": [
       "(2.45, 2.6)"
      ]
     },
     "execution_count": 24,
     "metadata": {},
     "output_type": "execute_result"
    },
    {
     "data": {
      "image/png": "[encoded data removed]",
      "text/plain": [
       "<Figure size 640x480 with 1 Axes>"
      ]
     },
     "metadata": {},
     "output_type": "display_data"
    }
   ],
   "source": [
    "plt.plot([t.item() for t in loss_scores])\n",
    "plt.ylim(2.45,2.6)"
   ]
  },
  {
   "cell_type": "code",
   "execution_count": 213,
   "id": "a1970a4f-ed8e-408b-8003-4fa1d9542ddc",
   "metadata": {},
   "outputs": [
    {
     "name": "stdout",
     "output_type": "stream",
     "text": [
      "junide.\n",
      "janasah.\n",
      "p.\n",
      "cony.\n",
      "a.\n",
      "nn.\n",
      "kohin.\n",
      "tolian.\n",
      "juee.\n",
      "ksahnaauranilevias.\n",
      "dedainrwieta.\n",
      "ssonielylarte.\n",
      "faveumerifontume.\n",
      "phynslenaruani.\n",
      "core.\n",
      "yaenon.\n",
      "ka.\n",
      "jabdinerimikimaynin.\n",
      "anaasn.\n",
      "ssorionsush.\n"
     ]
    }
   ],
   "source": [
    "# sampling from the NN\n",
    "g = torch.Generator().manual_seed(2147483647)\n",
    "for i in range(20):\n",
    "    out = []\n",
    "    ix = 0\n",
    "    while True:\n",
    "        xenc = F.one_hot(torch.tensor([ix]), num_classes=27).float()\n",
    "        logits = xenc @ W\n",
    "        # logits = W[ix,:]\n",
    "        counts = logits.exp()\n",
    "        probs = counts / counts.sum(1, keepdims=True)\n",
    "        ix = torch.multinomial(probs, num_samples=1, replacement=True, generator=g).item()\n",
    "        out.append(itos[ix])\n",
    "        if ix == 0:\n",
    "            break\n",
    "    print(''.join(out))\n"
   ]
  },
  {
   "cell_type": "code",
   "execution_count": 6,
   "id": "967b3f97-d97d-4fed-95e6-4a009bf95234",
   "metadata": {},
   "outputs": [
    {
     "data": {
      "text/plain": [
       "tensor([1.])"
      ]
     },
     "execution_count": 6,
     "metadata": {},
     "output_type": "execute_result"
    }
   ],
   "source": [
    "torch.exp(torch.tensor([0]))"
   ]
  },
  {
   "cell_type": "code",
   "execution_count": null,
   "id": "09011688-b62c-4024-b626-26d0f72b16d0",
   "metadata": {},
   "outputs": [],
   "source": []
  }
 ],
 "metadata": {
  "kernelspec": {
   "display_name": "Python 3 (ipykernel)",
   "language": "python",
   "name": "python3"
  },
  "language_info": {
   "codemirror_mode": {
    "name": "ipython",
    "version": 3
   },
   "file_extension": ".py",
   "mimetype": "text/x-python",
   "name": "python",
   "nbconvert_exporter": "python",
   "pygments_lexer": "ipython3",
   "version": "3.11.6"
  }
 },
 "nbformat": 4,
 "nbformat_minor": 5
}
