{
 "cells": [
  {
   "cell_type": "code",
   "execution_count": 2,
   "id": "00b1860d-3583-4457-afa3-0f0b77033a67",
   "metadata": {},
   "outputs": [
    {
     "name": "stdout",
     "output_type": "stream",
     "text": [
      "Original Tensor:\n",
      "tensor([[1, 2, 3],\n",
      "        [4, 5, 6],\n",
      "        [7, 8, 9]])\n",
      "\n",
      "Sum (Default): tensor(45)\n",
      "\n",
      "Sum along dimension 0 (rows):\n",
      "tensor([12, 15, 18])\n",
      "torch.Size([3])\n",
      "\n",
      "Sum along dimension 1 (columns):\n",
      "tensor([ 6, 15, 24])\n",
      "torch.Size([3])\n",
      "\n",
      "Sum along dimension 0, keepdim True (rows):\n",
      "tensor([[12, 15, 18]])\n",
      "torch.Size([1, 3])\n",
      "\n",
      "Sum along dimension 1 (columns):\n",
      "tensor([[ 6],\n",
      "        [15],\n",
      "        [24]])\n",
      "torch.Size([3, 1])\n"
     ]
    }
   ],
   "source": [
    "import torch\n",
    "\n",
    "# Create a 2D tensor\n",
    "tensor = torch.tensor([[1, 2, 3],\n",
    "                       [4, 5, 6],\n",
    "                       [7, 8, 9]])\n",
    "\n",
    "# Display the original tensor\n",
    "print(\"Original Tensor:\")\n",
    "print(tensor)\n",
    "\n",
    "# Sum along all dimensions (default behavior)\n",
    "sum_default = tensor.sum()\n",
    "print(\"\\nSum (Default):\", sum_default)\n",
    "\n",
    "# Sum along a specific dimension (e.g., dim=0 for rows)\n",
    "sum_dim0 = tensor.sum(dim=0)\n",
    "print(\"\\nSum along dimension 0 (rows):\")\n",
    "print(sum_dim0)\n",
    "print(sum_dim0.shape)\n",
    "\n",
    "# Sum along the other dimension (e.g., dim=1 for columns)\n",
    "sum_dim1 = tensor.sum(dim=1)\n",
    "print(\"\\nSum along dimension 1 (columns):\")\n",
    "print(sum_dim1)\n",
    "print(sum_dim1.shape)\n",
    "\n",
    "# Sum along a specific dimension (e.g., dim=0 for rows)\n",
    "sum_dim0 = tensor.sum(dim=0, keepdim=True)\n",
    "print(\"\\nSum along dimension 0, keepdim True (rows):\")\n",
    "print(sum_dim0)\n",
    "print(sum_dim0.shape)\n",
    "\n",
    "# Sum along the other dimension (e.g., dim=1 for columns)\n",
    "sum_dim1 = tensor.sum(dim=1, keepdim=True)\n",
    "print(\"\\nSum along dimension 1 (columns):\")\n",
    "print(sum_dim1)\n",
    "print(sum_dim1.shape)\n"
   ]
  },
  {
   "cell_type": "code",
   "execution_count": 6,
   "id": "3530eb53-6959-44e7-9057-afb8e067ed99",
   "metadata": {},
   "outputs": [
    {
     "name": "stdout",
     "output_type": "stream",
     "text": [
      "Original Tensor:\n",
      "tensor([[1, 2, 3],\n",
      "        [4, 5, 6]])\n",
      "torch.Size([2, 3])\n",
      "Sum along dimension 0 without keepdim:\n",
      "tensor([5, 7, 9])\n",
      "\n",
      "Sum along dimension 0 with keepdim:\n",
      "tensor([[5, 7, 9]])\n"
     ]
    }
   ],
   "source": [
    "import torch\n",
    "\n",
    "tensor = torch.tensor([[1, 2, 3],\n",
    "                       [4, 5, 6]])\n",
    "\n",
    "# Display the original tensor\n",
    "print(\"Original Tensor:\")\n",
    "print(tensor)\n",
    "print(tensor.shape)\n",
    "\n",
    "# Sum along dimension 0 without keepdim\n",
    "sum_dim0_no_keepdim = tensor.sum(dim=0, keepdim=False)\n",
    "\n",
    "# Sum along dimension 0 with keepdim\n",
    "sum_dim0_keepdim = tensor.sum(dim=0, keepdim=True)\n",
    "\n",
    "print(\"Sum along dimension 0 without keepdim:\")\n",
    "print(sum_dim0_no_keepdim)\n",
    "\n",
    "print(\"\\nSum along dimension 0 with keepdim:\")\n",
    "print(sum_dim0_keepdim)\n"
   ]
  },
  {
   "cell_type": "code",
   "execution_count": 8,
   "id": "d10d2dc9-da31-4dc3-b961-3df7b7f55bbb",
   "metadata": {},
   "outputs": [],
   "source": [
    "# Tensor Tutorial - Tensors"
   ]
  },
  {
   "cell_type": "code",
   "execution_count": 9,
   "id": "55ebb0a8-73cf-482b-af81-7b8989a958a9",
   "metadata": {},
   "outputs": [],
   "source": [
    "import torch\n",
    "import numpy as np"
   ]
  },
  {
   "cell_type": "code",
   "execution_count": 10,
   "id": "542c2993-3282-4cd6-af73-cc2dd7951fb5",
   "metadata": {},
   "outputs": [
    {
     "data": {
      "text/plain": [
       "tensor([[1, 2],\n",
       "        [3, 4]])"
      ]
     },
     "execution_count": 10,
     "metadata": {},
     "output_type": "execute_result"
    }
   ],
   "source": [
    "data = [[1,2],[3,4]]\n",
    "x_data = torch.tensor(data)\n",
    "x_data"
   ]
  },
  {
   "cell_type": "code",
   "execution_count": 11,
   "id": "9bcd5019-e225-46b4-93d6-5ce9ea853299",
   "metadata": {},
   "outputs": [
    {
     "data": {
      "text/plain": [
       "(tensor([[1, 2],\n",
       "         [3, 4]]),\n",
       " array([[1, 2],\n",
       "        [3, 4]]))"
      ]
     },
     "execution_count": 11,
     "metadata": {},
     "output_type": "execute_result"
    }
   ],
   "source": [
    "# create tensor from numpy\n",
    "a = np.array(data)\n",
    "x_np = torch.from_numpy(a)\n",
    "x_np, a"
   ]
  },
  {
   "cell_type": "code",
   "execution_count": 16,
   "id": "7be44a6b-7878-4cf6-a246-f23c949641f9",
   "metadata": {},
   "outputs": [
    {
     "data": {
      "text/plain": [
       "(tensor([[1, 1],\n",
       "         [1, 1]]),\n",
       " tensor([[0.0940, 0.9136],\n",
       "         [0.8321, 0.4096]]))"
      ]
     },
     "execution_count": 16,
     "metadata": {},
     "output_type": "execute_result"
    }
   ],
   "source": [
    "# from another tensor - retains properties (shape and datatype) unless overridden\n",
    "x_ones = torch.ones_like(x_data)\n",
    "x_rand = torch.rand_like(x_data, dtype=torch.float)\n",
    "x_ones, x_rand"
   ]
  },
  {
   "cell_type": "code",
   "execution_count": 18,
   "id": "b6e33c86-5179-41d6-b420-408574725e47",
   "metadata": {},
   "outputs": [
    {
     "data": {
      "text/plain": [
       "(tensor([[0.7623, 0.7910, 0.6005],\n",
       "         [0.4134, 0.1243, 0.5269]]),\n",
       " tensor([[1., 1., 1.],\n",
       "         [1., 1., 1.]]),\n",
       " tensor([[0., 0., 0.],\n",
       "         [0., 0., 0.]]))"
      ]
     },
     "execution_count": 18,
     "metadata": {},
     "output_type": "execute_result"
    }
   ],
   "source": [
    "# create tensor based on shape\n",
    "shape = (2,3,)\n",
    "rand_tensor = torch.rand(shape)\n",
    "ones_tensor = torch.ones(shape)\n",
    "zeros_tensor = torch.zeros(shape)\n",
    "rand_tensor, ones_tensor, zeros_tensor"
   ]
  },
  {
   "cell_type": "code",
   "execution_count": 21,
   "id": "64baf62d-8785-4ff8-b03e-7966cad82226",
   "metadata": {},
   "outputs": [
    {
     "data": {
      "text/plain": [
       "(tensor([[0.1167, 0.0362, 0.7312, 0.2926],\n",
       "         [0.4257, 0.1127, 0.2330, 0.3681],\n",
       "         [0.6747, 0.0258, 0.8133, 0.6229]]),\n",
       " torch.Size([3, 4]),\n",
       " torch.float32,\n",
       " device(type='cpu'))"
      ]
     },
     "execution_count": 21,
     "metadata": {},
     "output_type": "execute_result"
    }
   ],
   "source": [
    "# attributes\n",
    "t = torch.rand(3,4)\n",
    "t, t.shape, t.dtype, t.device"
   ]
  },
  {
   "cell_type": "code",
   "execution_count": 22,
   "id": "3eec04b8-e02b-4e08-8e1b-b6e9c4323868",
   "metadata": {},
   "outputs": [
    {
     "data": {
      "text/plain": [
       "False"
      ]
     },
     "execution_count": 22,
     "metadata": {},
     "output_type": "execute_result"
    }
   ],
   "source": [
    "torch.cuda.is_available()"
   ]
  },
  {
   "cell_type": "code",
   "execution_count": 25,
   "id": "6eb512bb-ea4f-471d-b88e-c7bf482b5b1c",
   "metadata": {},
   "outputs": [
    {
     "data": {
      "text/plain": [
       "(tensor([[0.2429, 0.6281, 0.6582, 0.4493],\n",
       "         [0.8681, 0.2256, 0.2734, 0.4572],\n",
       "         [0.5981, 0.3929, 0.3289, 0.0309],\n",
       "         [0.1563, 0.9387, 0.3520, 0.5596]]),\n",
       " tensor([0.2429, 0.6281, 0.6582, 0.4493]),\n",
       " tensor([0.2429, 0.8681, 0.5981, 0.1563]),\n",
       " tensor([0.4493, 0.4572, 0.0309, 0.5596]),\n",
       " tensor([0.4493, 0.4572, 0.0309, 0.5596]))"
      ]
     },
     "execution_count": 25,
     "metadata": {},
     "output_type": "execute_result"
    }
   ],
   "source": [
    "tensor = torch.rand(4,4)\n",
    "tensor, tensor[0], tensor[:,0], tensor[...,-1],tensor[:,-1]"
   ]
  },
  {
   "cell_type": "code",
   "execution_count": 26,
   "id": "43b709e1-5064-4dca-8b9a-75a7340b072c",
   "metadata": {},
   "outputs": [
    {
     "data": {
      "text/plain": [
       "tensor([[0.2429, 0.6281, 1.0000, 0.4493],\n",
       "        [0.8681, 0.2256, 1.0000, 0.4572],\n",
       "        [0.5981, 0.3929, 1.0000, 0.0309],\n",
       "        [0.1563, 0.9387, 1.0000, 0.5596]])"
      ]
     },
     "execution_count": 26,
     "metadata": {},
     "output_type": "execute_result"
    }
   ],
   "source": [
    "tensor[:,2] = 1\n",
    "tensor"
   ]
  },
  {
   "cell_type": "code",
   "execution_count": 30,
   "id": "61829f08-8a61-4ef7-a793-4ae73596ba30",
   "metadata": {},
   "outputs": [
    {
     "data": {
      "text/plain": [
       "(tensor([[0.2429, 0.6281, 1.0000, 0.4493, 0.2429, 0.6281, 1.0000, 0.4493],\n",
       "         [0.8681, 0.2256, 1.0000, 0.4572, 0.8681, 0.2256, 1.0000, 0.4572],\n",
       "         [0.5981, 0.3929, 1.0000, 0.0309, 0.5981, 0.3929, 1.0000, 0.0309],\n",
       "         [0.1563, 0.9387, 1.0000, 0.5596, 0.1563, 0.9387, 1.0000, 0.5596]]),\n",
       " tensor([[0.2429, 0.6281, 1.0000, 0.4493],\n",
       "         [0.8681, 0.2256, 1.0000, 0.4572],\n",
       "         [0.5981, 0.3929, 1.0000, 0.0309],\n",
       "         [0.1563, 0.9387, 1.0000, 0.5596],\n",
       "         [0.2429, 0.6281, 1.0000, 0.4493],\n",
       "         [0.8681, 0.2256, 1.0000, 0.4572],\n",
       "         [0.5981, 0.3929, 1.0000, 0.0309],\n",
       "         [0.1563, 0.9387, 1.0000, 0.5596]]))"
      ]
     },
     "execution_count": 30,
     "metadata": {},
     "output_type": "execute_result"
    }
   ],
   "source": [
    "# concat tensor together on 0, or 1 dim:\n",
    "t1 = torch.cat([tensor,tensor],dim=1)\n",
    "t2 = torch.cat([tensor, tensor], dim=0)\n",
    "t1,t2"
   ]
  },
  {
   "cell_type": "code",
   "execution_count": 44,
   "id": "7c9aa5e0-007e-425d-a005-8843489abaf8",
   "metadata": {},
   "outputs": [
    {
     "data": {
      "text/plain": [
       "tensor([[5.9004e-02, 3.9446e-01, 1.0000e+00, 2.0190e-01],\n",
       "        [7.5363e-01, 5.0877e-02, 1.0000e+00, 2.0906e-01],\n",
       "        [3.5770e-01, 1.5437e-01, 1.0000e+00, 9.5288e-04],\n",
       "        [2.4445e-02, 8.8123e-01, 1.0000e+00, 3.1310e-01]])"
      ]
     },
     "execution_count": 44,
     "metadata": {},
     "output_type": "execute_result"
    }
   ],
   "source": [
    "# arithmetic ops - matrix multiplication\n",
    "y1 = tensor @ tensor.T\n",
    "y2 = tensor.matmul(tensor.T)\n",
    "y3 = torch.rand_like(y1)\n",
    "x = torch.rand_like(tensor)\n",
    "torch.mul(tensor, tensor, out = x)\n",
    "x"
   ]
  },
  {
   "cell_type": "code",
   "execution_count": 49,
   "id": "34d6180b-ede2-4b11-a255-ae0eada31e40",
   "metadata": {},
   "outputs": [
    {
     "data": {
      "text/plain": [
       "(tensor(9.5477), 9.547708511352539, float)"
      ]
     },
     "execution_count": 49,
     "metadata": {},
     "output_type": "execute_result"
    }
   ],
   "source": [
    "# single-element tensors\n",
    "agg = tensor.sum()\n",
    "agg, agg.item(), type(agg.item())"
   ]
  },
  {
   "cell_type": "code",
   "execution_count": 53,
   "id": "5520f79a-479e-4535-bdd8-3abb61c99d28",
   "metadata": {},
   "outputs": [
    {
     "name": "stdout",
     "output_type": "stream",
     "text": [
      "tensor([[0.6028, 0.6183, 0.6238, 0.5735],\n",
      "        [0.4881, 0.5419, 0.9079, 0.6192],\n",
      "        [0.8587, 0.1784, 0.9256, 0.9913],\n",
      "        [0.5183, 0.8278, 0.7790, 0.6513]])\n",
      "tensor([[1.6028, 1.6183, 1.6238, 1.5735],\n",
      "        [1.4881, 1.5419, 1.9079, 1.6192],\n",
      "        [1.8587, 1.1784, 1.9256, 1.9913],\n",
      "        [1.5183, 1.8278, 1.7790, 1.6513]])\n"
     ]
    }
   ],
   "source": [
    "# inplace ops are denoted with _ suffix \n",
    "t = torch.rand(4,4)\n",
    "print(t)\n",
    "print(t.add_(1))"
   ]
  },
  {
   "cell_type": "code",
   "execution_count": 57,
   "id": "bd259440-b426-43c7-b2f7-fdbcd2316e6c",
   "metadata": {},
   "outputs": [
    {
     "data": {
      "text/plain": [
       "(tensor([2., 2., 2., 2., 2.]), array([2., 2., 2., 2., 2.], dtype=float32))"
      ]
     },
     "execution_count": 57,
     "metadata": {},
     "output_type": "execute_result"
    }
   ],
   "source": [
    "# bridge with numpy - sharing underlying memory\n",
    "t= torch.ones(5)\n",
    "n = t.numpy()\n",
    "t.add_(1)\n",
    "t, n"
   ]
  },
  {
   "cell_type": "code",
   "execution_count": 61,
   "id": "32b8bce9-236e-403d-a3b5-6143518c0583",
   "metadata": {},
   "outputs": [
    {
     "name": "stdout",
     "output_type": "stream",
     "text": [
      "tensor([1., 1., 1., 1., 1.], dtype=torch.float64)\n",
      "tensor([2., 2., 2., 2., 2.], dtype=torch.float64)\n"
     ]
    }
   ],
   "source": [
    "# bridge - numpy to tensor\n",
    "n = np.ones(5)\n",
    "t = torch.from_numpy(n)\n",
    "print(t)\n",
    "np.add(n,1, out=n)\n",
    "print(t)"
   ]
  },
  {
   "cell_type": "code",
   "execution_count": 12,
   "id": "3f008b6e-ccdc-4e69-9940-116288dc776d",
   "metadata": {},
   "outputs": [
    {
     "data": {
      "text/plain": [
       "(tensor([[1, 2],\n",
       "         [3, 4]]),\n",
       " tensor([[1, 2],\n",
       "         [3, 4],\n",
       "         [5, 6],\n",
       "         [7, 8]]),\n",
       " tensor([[1, 2, 5, 6],\n",
       "         [3, 4, 7, 8]]))"
      ]
     },
     "execution_count": 12,
     "metadata": {},
     "output_type": "execute_result"
    }
   ],
   "source": [
    "# concat tensors together on rows(0) and on cols(1)\n",
    "a = torch.tensor([[1,2],[3,4]])\n",
    "b = torch.tensor([[5,6],[7,8]])\n",
    "a, torch.cat((a,b),0), torch.cat((a,b),1)"
   ]
  },
  {
   "cell_type": "code",
   "execution_count": 19,
   "id": "94ea140d-b516-4d9b-a3ca-5056f1a1ae91",
   "metadata": {},
   "outputs": [
    {
     "data": {
      "text/plain": [
       "(tensor([[ 0,  1,  2,  3,  4,  5],\n",
       "         [ 6,  7,  8,  9, 10, 11],\n",
       "         [12, 13, 14, 15, 16, 17]]),\n",
       " tensor([[ 0,  1,  2,  3,  4,  5,  6,  7,  8],\n",
       "         [ 9, 10, 11, 12, 13, 14, 15, 16, 17]]),\n",
       " tensor([[[ 0,  1],\n",
       "          [ 2,  3],\n",
       "          [ 4,  5]],\n",
       " \n",
       "         [[ 6,  7],\n",
       "          [ 8,  9],\n",
       "          [10, 11]],\n",
       " \n",
       "         [[12, 13],\n",
       "          [14, 15],\n",
       "          [16, 17]]]),\n",
       "  0\n",
       "  1\n",
       "  2\n",
       "  3\n",
       "  4\n",
       "  5\n",
       "  6\n",
       "  7\n",
       "  8\n",
       "  9\n",
       "  10\n",
       "  11\n",
       "  12\n",
       "  13\n",
       "  14\n",
       "  15\n",
       "  16\n",
       "  17\n",
       " [torch.storage.TypedStorage(dtype=torch.int64, device=cpu) of size 18])"
      ]
     },
     "execution_count": 19,
     "metadata": {},
     "output_type": "execute_result"
    }
   ],
   "source": [
    "# manipulating a flat array,which uses the underlying storage, it's really efficient\n",
    "a = torch.arange(18)\n",
    "a.view(3,6), a.view(2,9), a.view(3,3,2), a.storage()"
   ]
  },
  {
   "cell_type": "code",
   "execution_count": 22,
   "id": "74948770-e76c-45bb-a9b3-156bad8a694f",
   "metadata": {},
   "outputs": [
    {
     "data": {
      "text/plain": [
       "((2, 1),\n",
       "  1\n",
       "  2\n",
       "  3\n",
       "  4\n",
       " [torch.storage.TypedStorage(dtype=torch.int64, device=cpu) of size 4])"
      ]
     },
     "execution_count": 22,
     "metadata": {},
     "output_type": "execute_result"
    }
   ],
   "source": [
    "# strides\n",
    "t= torch.tensor([[1,2],[3,4]])\n",
    "t.stride(), t.storage()"
   ]
  },
  {
   "cell_type": "code",
   "execution_count": 26,
   "id": "feeaadb9-7093-4e7a-9cb8-54ffdb6b8413",
   "metadata": {},
   "outputs": [
    {
     "data": {
      "text/plain": [
       "(tensor(3), tensor([3, 4]))"
      ]
     },
     "execution_count": 26,
     "metadata": {},
     "output_type": "execute_result"
    }
   ],
   "source": [
    "t[1,0], t[1,:]"
   ]
  },
  {
   "cell_type": "code",
   "execution_count": null,
   "id": "a0ad72bc-1dc7-4355-890f-3a97b9d9ac44",
   "metadata": {},
   "outputs": [],
   "source": []
  }
 ],
 "metadata": {
  "kernelspec": {
   "display_name": "Python 3 (ipykernel)",
   "language": "python",
   "name": "python3"
  },
  "language_info": {
   "codemirror_mode": {
    "name": "ipython",
    "version": 3
   },
   "file_extension": ".py",
   "mimetype": "text/x-python",
   "name": "python",
   "nbconvert_exporter": "python",
   "pygments_lexer": "ipython3",
   "version": "3.11.2"
  }
 },
 "nbformat": 4,
 "nbformat_minor": 5
}
