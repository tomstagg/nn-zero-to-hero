{
 "cells": [
  {
   "cell_type": "markdown",
   "id": "af216051-17ef-4466-82b3-3a476d80e194",
   "metadata": {},
   "source": [
    "# makemore: part 3 - gradients and activations"
   ]
  },
  {
   "cell_type": "code",
   "execution_count": 1,
   "id": "a3879a40-50b4-466e-8181-1fd289065e68",
   "metadata": {},
   "outputs": [],
   "source": [
    "import torch\n",
    "import torch.nn.functional as F\n",
    "import matplotlib.pyplot as plt"
   ]
  },
  {
   "cell_type": "code",
   "execution_count": 2,
   "id": "1f612483-e42c-41f5-a7e4-8ca35b8f17e2",
   "metadata": {},
   "outputs": [],
   "source": [
    "# read all words\n",
    "words = open('../names.txt', \"r\").read().splitlines()"
   ]
  },
  {
   "cell_type": "code",
   "execution_count": 3,
   "id": "49fb3b02-726e-4ff5-b0f5-a82533cacaef",
   "metadata": {},
   "outputs": [
    {
     "data": {
      "text/plain": [
       "(['emma', 'olivia', 'ava', 'isabella', 'sophia', 'charlotte', 'mia', 'amelia'],\n",
       " 32033)"
      ]
     },
     "execution_count": 3,
     "metadata": {},
     "output_type": "execute_result"
    }
   ],
   "source": [
    "words[:8], len(words)"
   ]
  },
  {
   "cell_type": "code",
   "execution_count": 4,
   "id": "3af652ee-1f6d-4e93-b16a-0ca7c54872ef",
   "metadata": {},
   "outputs": [
    {
     "data": {
      "text/plain": [
       "{'.': 0,\n",
       " 'a': 1,\n",
       " 'b': 2,\n",
       " 'c': 3,\n",
       " 'd': 4,\n",
       " 'e': 5,\n",
       " 'f': 6,\n",
       " 'g': 7,\n",
       " 'h': 8,\n",
       " 'i': 9,\n",
       " 'j': 10,\n",
       " 'k': 11,\n",
       " 'l': 12,\n",
       " 'm': 13,\n",
       " 'n': 14,\n",
       " 'o': 15,\n",
       " 'p': 16,\n",
       " 'q': 17,\n",
       " 'r': 18,\n",
       " 's': 19,\n",
       " 't': 20,\n",
       " 'u': 21,\n",
       " 'v': 22,\n",
       " 'w': 23,\n",
       " 'x': 24,\n",
       " 'y': 25,\n",
       " 'z': 26}"
      ]
     },
     "execution_count": 4,
     "metadata": {},
     "output_type": "execute_result"
    }
   ],
   "source": [
    "# build vocabulary of characters and mappings to and from ints:\n",
    "chars = [\".\"] + sorted(set(''.join(words)))\n",
    "itos = {k:v for k,v in enumerate(chars)}\n",
    "stoi = {v:k  for k,v in itos.items()}\n",
    "stoi"
   ]
  },
  {
   "cell_type": "code",
   "execution_count": 5,
   "id": "db415898-02a3-4213-be55-c690ec75d093",
   "metadata": {},
   "outputs": [
    {
     "name": "stdout",
     "output_type": "stream",
     "text": [
      "torch.Size([182625, 3]) torch.Size([182625])\n",
      "torch.Size([22655, 3]) torch.Size([22655])\n",
      "torch.Size([22866, 3]) torch.Size([22866])\n"
     ]
    }
   ],
   "source": [
    "# build the dataset\n",
    "block_size = 3\n",
    "words = open('../names.txt', \"r\").read().splitlines()\n",
    "\n",
    "def build_dataset(words):\n",
    "    X, Y = [],[]\n",
    "    for word in words:\n",
    "        context = [0] * block_size\n",
    "        for char in word + '.':\n",
    "            ix = stoi[char]\n",
    "            # print (\"\".join([itos[c] for c in context]), \"->\", char)\n",
    "            X.append(context)\n",
    "            Y.append(ix)\n",
    "            context = context[1:] + [ix]\n",
    "    X, Y = torch.tensor(X), torch.tensor(Y)\n",
    "    print(X.shape, Y.shape)\n",
    "    return X,Y\n",
    "\n",
    "import random\n",
    "random.seed(42)\n",
    "random.shuffle(words)\n",
    "n1 = int(0.8 * len(words))\n",
    "n2 = int(0.9 * len(words))\n",
    "Xtr, Ytr = build_dataset(words[:n1]) # 80%\n",
    "Xdev, Ydev = build_dataset(words[n1:n2]) # 10%\n",
    "Xte, Yte = build_dataset(words[n2:]) # 10%"
   ]
  },
  {
   "cell_type": "code",
   "execution_count": 6,
   "id": "6c620332-2220-45b2-803a-70c8903415d8",
   "metadata": {},
   "outputs": [
    {
     "name": "stdout",
     "output_type": "stream",
     "text": [
      "11897\n"
     ]
    }
   ],
   "source": [
    "#MLP\n",
    "n_embd = 10 # the dimensionality of the character embedding vectors\n",
    "n_hidden = 200 # the number of neurons in the hidden layer of the \n",
    "vocab_size = len(stoi) # the number of distinct characters \n",
    "\n",
    "g  = torch.Generator().manual_seed(2147483647)\n",
    "C  = torch.randn((vocab_size, n_embd),            generator=g)\n",
    "W1 = torch.randn((n_embd * block_size, n_hidden), generator=g)\n",
    "b1 = torch.randn(n_hidden,                        generator=g)\n",
    "W2 = torch.randn((n_hidden, vocab_size),          generator=g) \n",
    "b2 = torch.randn(vocab_size,                      generator=g)\n",
    "\n",
    "parameters = [C, W1, b1, W2, b2]\n",
    "print(sum(p.nelement() for p in parameters))\n",
    "for p in parameters:\n",
    "    p.requires_grad = True"
   ]
  },
  {
   "cell_type": "code",
   "execution_count": 7,
   "id": "320b803a-23cc-4d52-a396-4a5260aaf2e3",
   "metadata": {},
   "outputs": [
    {
     "name": "stdout",
     "output_type": "stream",
     "text": [
      "      0/ 200000: 27.8817\n"
     ]
    }
   ],
   "source": [
    "# same optimisation but with parameters\n",
    "max_steps = 200_000\n",
    "batch_size = 32\n",
    "lossi = []\n",
    "\n",
    "for i in range(max_steps):\n",
    "    \n",
    "    # minibatch\n",
    "    ix = torch.randint(0, Xtr.shape[0], (batch_size,), generator=g)\n",
    "    Xb, Yb = Xtr[ix], Ytr[ix]    \n",
    "    \n",
    "    # forward pass\n",
    "    emb = C[Xb] # emb chars into vectors\n",
    "    embcat = emb.view(emb.shape[0],-1) # concat the vectors\n",
    "    hpreact = embcat @ W1 + b1 # hidden layer pre-activation\n",
    "    h = torch.tanh(hpreact) # hidden layer\n",
    "    logits = h @ W2 + b2 # output layer\n",
    "    loss = F.cross_entropy(logits, Yb) # loss function\n",
    "\n",
    "    # backward pass\n",
    "    for p in parameters:\n",
    "        p.grad = None\n",
    "    loss.backward()\n",
    "\n",
    "    # update\n",
    "    lr = 0.1 if i < 100_000 else 0.01 # step learning decay\n",
    "    for p in parameters:\n",
    "        p.data += -lr * p.grad\n",
    "\n",
    "    # track stats\n",
    "    if i % 10000 == 0: # print every so often\n",
    "        print(f\"{i:7d}/{max_steps:7d}: {loss.item():.4f}\")\n",
    "    lossi.append(loss.log10().item())\n",
    "    break\n"
   ]
  },
  {
   "cell_type": "code",
   "execution_count": 26,
   "id": "8141219c-c91e-4179-b4c2-28687bb196c9",
   "metadata": {},
   "outputs": [
    {
     "data": {
      "text/plain": [
       "tensor(3.2958)"
      ]
     },
     "execution_count": 26,
     "metadata": {},
     "output_type": "execute_result"
    }
   ],
   "source": [
    "# initial loss in 27.9 which is very high. If it were a uniform loss that it would be as follows:\n",
    "-torch.tensor(1/27.0).log() # 3.29"
   ]
  },
  {
   "cell_type": "code",
   "execution_count": 88,
   "id": "cb7fc78f-bc21-4aef-88ec-c34267287c3a",
   "metadata": {},
   "outputs": [
    {
     "data": {
      "text/plain": [
       "(tensor([-3.,  5.,  0.,  2.]),\n",
       " tensor([3.1741e-04, 9.4620e-01, 6.3754e-03, 4.7108e-02]),\n",
       " tensor(5.0553))"
      ]
     },
     "execution_count": 88,
     "metadata": {},
     "output_type": "execute_result"
    }
   ],
   "source": [
    "# 4 dimensional example of the issue\n",
    "# changes: 1. random, 2.random * 10 or 100, 3. extreme values, 4. uniform\n",
    "# logits = torch.randn(4) * 10 0\n",
    "# logits = torch.tensor([0.0,0.0,0.0,0.0])\n",
    "# logits = torch.tensor([-3.0,5.0,0.0,2.0])\n",
    "logits = torch.randn(4) * 10\n",
    "probs = torch.softmax(logits, dim=0)\n",
    "loss = -probs[2].log()\n",
    "probs, loss\n",
    "\n",
    "logits_4d = torch.tensor([-3.0, 5.0, 0.0, 2.0])\n",
    "probs = torch.softmax(logits_4d, dim=0)\n",
    "loss = -probs[2].log()\n",
    "logits, probs, loss"
   ]
  },
  {
   "cell_type": "code",
   "execution_count": 93,
   "id": "85dd6f90-cb99-4f71-8d57-da865f3a6191",
   "metadata": {},
   "outputs": [
    {
     "data": {
      "text/plain": [
       "(tensor(27.8817, grad_fn=<NllLossBackward0>),\n",
       " tensor([ -2.3527,  36.4366, -10.7306,   5.7165,  18.6409, -11.6998,  -2.1991,\n",
       "           1.8535,  10.9996,  10.6730,  12.3507, -10.3809,   4.7243, -24.4257,\n",
       "          -8.5909,   1.9024, -12.2744, -12.4751, -23.2778,  -2.0163,  25.8767,\n",
       "          14.2108,  17.7691, -10.9204, -20.7335,   6.4560,  11.1615],\n",
       "        grad_fn=<SelectBackward0>))"
      ]
     },
     "execution_count": 93,
     "metadata": {},
     "output_type": "execute_result"
    }
   ],
   "source": [
    "# this is the loss after the first iteration in the model and the weights of the logits: \n",
    "loss, logits[0]"
   ]
  },
  {
   "cell_type": "code",
   "execution_count": 104,
   "id": "0ab12029-b0db-4d2f-be4d-1032d126be83",
   "metadata": {},
   "outputs": [
    {
     "name": "stdout",
     "output_type": "stream",
     "text": [
      "11897\n"
     ]
    }
   ],
   "source": [
    "#MLP\n",
    "n_embd = 10 # the dimensionality of the character embedding vectors\n",
    "n_hidden = 200 # the number of neurons in the hidden layer of the \n",
    "vocab_size = len(stoi) # the number of distinct characters \n",
    "\n",
    "g  = torch.Generator().manual_seed(2147483647)\n",
    "C  = torch.randn((vocab_size, n_embd),            generator=g)\n",
    "W1 = torch.randn((n_embd * block_size, n_hidden), generator=g)\n",
    "b1 = torch.randn(n_hidden,                        generator=g)\n",
    "W2 = torch.randn((n_hidden, vocab_size),          generator=g) * 0.01 # setting these weights initial to minimise initial loss\n",
    "b2 = torch.randn(vocab_size,                      generator=g) * 0 # minimise initial loss\n",
    "\n",
    "parameters = [C, W1, b1, W2, b2]\n",
    "print(sum(p.nelement() for p in parameters))\n",
    "for p in parameters:\n",
    "    p.requires_grad = True"
   ]
  },
  {
   "cell_type": "code",
   "execution_count": 105,
   "id": "e061bca7-22b2-4d00-8e95-bdded3c6962c",
   "metadata": {},
   "outputs": [
    {
     "name": "stdout",
     "output_type": "stream",
     "text": [
      "      0/ 200000: 3.3221\n",
      "  10000/ 200000: 2.1900\n",
      "  20000/ 200000: 2.4196\n",
      "  30000/ 200000: 2.6067\n",
      "  40000/ 200000: 2.0601\n",
      "  50000/ 200000: 2.4988\n",
      "  60000/ 200000: 2.3902\n",
      "  70000/ 200000: 2.1344\n",
      "  80000/ 200000: 2.3369\n",
      "  90000/ 200000: 2.1299\n",
      " 100000/ 200000: 1.8329\n",
      " 110000/ 200000: 2.2053\n",
      " 120000/ 200000: 1.8540\n",
      " 130000/ 200000: 2.4566\n",
      " 140000/ 200000: 2.1879\n",
      " 150000/ 200000: 2.1118\n",
      " 160000/ 200000: 1.8956\n",
      " 170000/ 200000: 1.8644\n",
      " 180000/ 200000: 2.0326\n",
      " 190000/ 200000: 1.8417\n"
     ]
    }
   ],
   "source": [
    "# same optimisation but with parameters\n",
    "max_steps = 200_000\n",
    "batch_size = 32\n",
    "lossi = []\n",
    "\n",
    "for i in range(max_steps):\n",
    "    \n",
    "    # minibatch\n",
    "    ix = torch.randint(0, Xtr.shape[0], (batch_size,), generator=g)\n",
    "    Xb, Yb = Xtr[ix], Ytr[ix]    \n",
    "    \n",
    "    # forward pass\n",
    "    emb = C[Xb] # emb chars into vectors\n",
    "    embcat = emb.view(emb.shape[0],-1) # concat the vectors\n",
    "    hpreact = embcat @ W1 + b1 # hidden layer pre-activation\n",
    "    h = torch.tanh(hpreact) # hidden layer\n",
    "    logits = h @ W2 + b2 # output layer\n",
    "    loss = F.cross_entropy(logits, Yb) # loss function\n",
    "\n",
    "    # backward pass\n",
    "    for p in parameters:\n",
    "        p.grad = None\n",
    "    loss.backward()\n",
    "\n",
    "    # update\n",
    "    lr = 0.1 if i < 100_000 else 0.01 # step learning decay\n",
    "    for p in parameters:\n",
    "        p.data += -lr * p.grad\n",
    "\n",
    "    # track stats\n",
    "    if i % 10000 == 0: # print every so often\n",
    "        print(f\"{i:7d}/{max_steps:7d}: {loss.item():.4f}\")\n",
    "    lossi.append(loss.log10().item())\n"
   ]
  },
  {
   "cell_type": "code",
   "execution_count": 106,
   "id": "01cc1ada-302e-4dc6-bd8e-d3d35c20d363",
   "metadata": {},
   "outputs": [
    {
     "data": {
      "text/plain": [
       "[<matplotlib.lines.Line2D at 0x11fbbd5d0>]"
      ]
     },
     "execution_count": 106,
     "metadata": {},
     "output_type": "execute_result"
    },
    {
     "data": {
      "image/png": "[encoded data removed]",
      "text/plain": [
       "<Figure size 640x480 with 1 Axes>"
      ]
     },
     "metadata": {},
     "output_type": "display_data"
    }
   ],
   "source": [
    "plt.plot(lossi)"
   ]
  },
  {
   "cell_type": "code",
   "execution_count": 35,
   "id": "cf82de8e-dd57-4c2f-97ec-fa7f157bd6e6",
   "metadata": {},
   "outputs": [
    {
     "name": "stdout",
     "output_type": "stream",
     "text": [
      "train 2.0355966091156006\n",
      "val 2.1026782989501953\n"
     ]
    }
   ],
   "source": [
    "# function to calculate the losses for each data set. \n",
    "@torch.no_grad() # decorator disables gradient tracking\n",
    "def split_loss(split):\n",
    "    x, y = {\n",
    "        'train': (Xtr,Ytr),\n",
    "        'val': (Xdev, Ydev),\n",
    "        'test': (Xtr, Yte)\n",
    "    }[split]\n",
    "\n",
    "    emb = C[x] # load examples and embed the char vector\n",
    "    embcat = emb.view(emb.shape[0], -1) # adjust shape \n",
    "    h = torch.tanh(embcat @ W1 + b1) # matmul: (samples, block_size * emb) @ (block_size * emb, n_hidden), h: samples, n_hidden\n",
    "    logits = h @ W2 + b2 #(samples, 27)\n",
    "    loss= F.cross_entropy(logits, y)\n",
    "    print(split, loss.item())\n",
    "\n",
    "split_loss('train')\n",
    "split_loss('val')"
   ]
  },
  {
   "cell_type": "code",
   "execution_count": 108,
   "id": "0bccd6fa-1cc4-4a5c-9e1c-9ed5608756c2",
   "metadata": {},
   "outputs": [
    {
     "name": "stdout",
     "output_type": "stream",
     "text": [
      "11897\n"
     ]
    }
   ],
   "source": [
    "# fixing the saturated tanh \n",
    "# setup again: \n",
    "n_embd = 10 # the dimensionality of the character embedding vectors\n",
    "n_hidden = 200 # the number of neurons in the hidden layer of the \n",
    "vocab_size = len(stoi) # the number of distinct characters \n",
    "\n",
    "g  = torch.Generator().manual_seed(2147483647)\n",
    "C  = torch.randn((vocab_size, n_embd),            generator=g)\n",
    "W1 = torch.randn((n_embd * block_size, n_hidden), generator=g)\n",
    "b1 = torch.randn(n_hidden,                        generator=g)\n",
    "W2 = torch.randn((n_hidden, vocab_size),          generator=g) * 0.01 # setting these weights initial to minimise initial loss\n",
    "b2 = torch.randn(vocab_size,                      generator=g) * 0 # minimise initial loss\n",
    "\n",
    "parameters = [C, W1, b1, W2, b2]\n",
    "print(sum(p.nelement() for p in parameters))\n",
    "for p in parameters:\n",
    "    p.requires_grad = True"
   ]
  },
  {
   "cell_type": "code",
   "execution_count": 109,
   "id": "923d5eb2-5663-429b-8ee7-b99eaabe2308",
   "metadata": {},
   "outputs": [
    {
     "name": "stdout",
     "output_type": "stream",
     "text": [
      "      0/ 200000: 3.3221\n"
     ]
    }
   ],
   "source": [
    "# break after first \n",
    "# same optimisation but with parameters, and \n",
    "max_steps = 200_000\n",
    "batch_size = 32\n",
    "lossi = []\n",
    "\n",
    "for i in range(max_steps):\n",
    "    \n",
    "    # minibatch\n",
    "    ix = torch.randint(0, Xtr.shape[0], (batch_size,), generator=g)\n",
    "    Xb, Yb = Xtr[ix], Ytr[ix]    \n",
    "    \n",
    "    # forward pass\n",
    "    emb = C[Xb] # emb chars into vectors\n",
    "    embcat = emb.view(emb.shape[0],-1) # concat the vectors\n",
    "    hpreact = embcat @ W1 + b1 # hidden layer pre-activation\n",
    "    h = torch.tanh(hpreact) # hidden layer\n",
    "    logits = h @ W2 + b2 # output layer\n",
    "    loss = F.cross_entropy(logits, Yb) # loss function\n",
    "\n",
    "    # backward pass\n",
    "    for p in parameters:\n",
    "        p.grad = None\n",
    "    loss.backward()\n",
    "\n",
    "    # update\n",
    "    lr = 0.1 if i < 100_000 else 0.01 # step learning decay\n",
    "    for p in parameters:\n",
    "        p.data += -lr * p.grad\n",
    "\n",
    "    # track stats\n",
    "    if i % 10000 == 0: # print every so often\n",
    "        print(f\"{i:7d}/{max_steps:7d}: {loss.item():.4f}\")\n",
    "    lossi.append(loss.log10().item())\n",
    "    break\n"
   ]
  },
  {
   "cell_type": "code",
   "execution_count": 111,
   "id": "a5f94450-1831-42b0-8ceb-40946ef5dca4",
   "metadata": {},
   "outputs": [
    {
     "data": {
      "text/plain": [
       "(tensor([[ 0.8100, -0.8997, -0.9993,  ..., -0.9097, -1.0000,  1.0000],\n",
       "         [-1.0000, -0.9571, -0.7145,  ...,  0.4898,  0.9090,  0.9937],\n",
       "         [ 0.9983, -0.3340,  1.0000,  ...,  0.9443,  0.9905,  1.0000],\n",
       "         ...,\n",
       "         [-1.0000,  0.9604, -0.1418,  ..., -0.1266,  1.0000,  1.0000],\n",
       "         [-1.0000, -0.4385, -0.8882,  ..., -0.3316,  0.9995,  1.0000],\n",
       "         [-1.0000,  0.9604, -0.1418,  ..., -0.1266,  1.0000,  1.0000]],\n",
       "        grad_fn=<TanhBackward0>),\n",
       " torch.Size([32, 200]))"
      ]
     },
     "execution_count": 111,
     "metadata": {},
     "output_type": "execute_result"
    }
   ],
   "source": [
    "# look into the initialisation\n",
    "# h has values -1, 1 in some cases:\n",
    "h, h.shape"
   ]
  },
  {
   "cell_type": "code",
   "execution_count": 116,
   "id": "dc633524-cd2f-4fbf-9783-8bf58164c210",
   "metadata": {},
   "outputs": [
    {
     "data": {
      "text/plain": [
       "[0.8100222945213318,\n",
       " -0.8996702432632446,\n",
       " -0.999309241771698,\n",
       " 0.9980825185775757,\n",
       " -0.6508485078811646,\n",
       " -0.6897533535957336,\n",
       " -0.9619210362434387,\n",
       " -0.9999876022338867,\n",
       " -0.3420684039592743,\n",
       " 0.999920666217804,\n",
       " 0.9999915957450867,\n",
       " -0.9980642199516296,\n",
       " 0.9876819252967834,\n",
       " 0.8998496532440186,\n",
       " 0.8862370252609253,\n",
       " 0.7360541820526123,\n",
       " -0.9959285855293274,\n",
       " -0.981837809085846,\n",
       " -0.989227294921875,\n",
       " 0.9997955560684204,\n",
       " -0.9220333695411682,\n",
       " -0.8541557192802429,\n",
       " 0.0639711245894432,\n",
       " 0.9999996423721313,\n",
       " 0.9979971051216125,\n",
       " -0.9949458837509155,\n",
       " 0.9996280670166016,\n",
       " -0.9998515844345093,\n",
       " 0.6444535255432129,\n",
       " 0.7554441690444946,\n",
       " -0.9997296929359436,\n",
       " 0.9996114373207092,\n",
       " 0.9912618398666382,\n",
       " 0.9449755549430847,\n",
       " 0.9999983310699463,\n",
       " -0.9999998211860657,\n",
       " 0.9999754428863525,\n",
       " -0.9999991059303284,\n",
       " 1.0,\n",
       " -0.5565183758735657,\n",
       " 0.9787917137145996,\n",
       " -0.9885085225105286,\n",
       " 0.9983248710632324,\n",
       " -0.9999771118164062,\n",
       " -0.03651892766356468,\n",
       " 0.9999677538871765,\n",
       " 0.9990684986114502,\n",
       " -0.7250170707702637,\n",
       " -0.9920523762702942,\n",
       " -0.9998557567596436,\n",
       " -0.9981667995452881,\n",
       " -0.9987424612045288,\n",
       " -0.9999971985816956,\n",
       " -0.9002600908279419,\n",
       " -1.0,\n",
       " 0.936903715133667,\n",
       " -0.8497678637504578,\n",
       " -0.9963060021400452,\n",
       " -0.9943669438362122,\n",
       " -0.9300776720046997,\n",
       " 0.9993545413017273,\n",
       " 0.5702776908874512,\n",
       " -0.1881488412618637,\n",
       " -0.9940271377563477,\n",
       " 0.9875222444534302,\n",
       " 0.24000857770442963,\n",
       " 0.936622142791748,\n",
       " -0.9982050061225891,\n",
       " -0.9999827742576599,\n",
       " 0.997356653213501,\n",
       " 0.997997522354126,\n",
       " 0.884395182132721,\n",
       " -0.32619577646255493,\n",
       " -0.8462291955947876,\n",
       " 0.9521182775497437,\n",
       " 0.986286461353302,\n",
       " 0.9999999403953552,\n",
       " 0.06176954135298729,\n",
       " 0.9887018203735352,\n",
       " 0.9958049058914185,\n",
       " 0.9999606609344482,\n",
       " 0.9997110366821289,\n",
       " -0.9999688863754272,\n",
       " -0.9999934434890747,\n",
       " 0.9999960064888,\n",
       " -0.9999960660934448,\n",
       " 0.9035525321960449,\n",
       " -0.9713432192802429,\n",
       " -0.9945881366729736,\n",
       " -0.7770710587501526,\n",
       " 0.5586827993392944,\n",
       " 0.9999998807907104,\n",
       " -0.999806821346283,\n",
       " 0.9999704360961914,\n",
       " -0.999687910079956,\n",
       " 0.9993345141410828,\n",
       " -0.9997174143791199,\n",
       " -0.9999829530715942,\n",
       " -0.9977675676345825,\n",
       " -1.0,\n",
       " -0.9977041482925415,\n",
       " 0.9996653199195862,\n",
       " 0.9783895611763,\n",
       " -0.9999988675117493,\n",
       " -0.9961305260658264,\n",
       " 1.0,\n",
       " 0.9912627935409546,\n",
       " -0.9803954362869263,\n",
       " 1.0,\n",
       " -0.999946117401123,\n",
       " 0.9999759793281555,\n",
       " 0.9812180399894714,\n",
       " -0.9996610283851624,\n",
       " 0.9999865293502808,\n",
       " -0.9987479448318481,\n",
       " -1.0,\n",
       " -0.5870453715324402,\n",
       " -0.6761994361877441,\n",
       " 0.8443387150764465,\n",
       " 0.9899460077285767,\n",
       " 0.9999991059303284,\n",
       " 0.9998961687088013,\n",
       " -0.8078444600105286,\n",
       " -0.030112696811556816,\n",
       " -0.9869007468223572,\n",
       " -0.3957512378692627,\n",
       " -1.0,\n",
       " -0.9934996962547302,\n",
       " 0.9999702572822571,\n",
       " 0.6229590773582458,\n",
       " -0.8014499545097351,\n",
       " -0.9999998807907104,\n",
       " -0.9999948143959045,\n",
       " 0.8815972805023193,\n",
       " 0.6985348463058472,\n",
       " 0.9590637683868408,\n",
       " -0.9998769164085388,\n",
       " -0.9998448491096497,\n",
       " 0.9467464089393616,\n",
       " 0.9936731457710266,\n",
       " -0.9963385462760925,\n",
       " -1.0,\n",
       " -0.9992644786834717,\n",
       " 0.9999996423721313,\n",
       " -0.887437105178833,\n",
       " 0.9999810457229614,\n",
       " 0.7788862586021423,\n",
       " 0.9999997615814209,\n",
       " 0.999984085559845,\n",
       " -0.9999938607215881,\n",
       " -0.9998727440834045,\n",
       " 0.9999978542327881,\n",
       " 0.9212281703948975,\n",
       " 0.9990051984786987,\n",
       " -0.02490023523569107,\n",
       " -0.949470579624176,\n",
       " 0.9998114705085754,\n",
       " -0.2346501350402832,\n",
       " -0.9822018146514893,\n",
       " -0.9989956021308899,\n",
       " 0.9024653434753418,\n",
       " 0.9995178580284119,\n",
       " 0.9997413754463196,\n",
       " 0.9984540939331055,\n",
       " 0.9999995231628418,\n",
       " 0.9999933838844299,\n",
       " 0.9999788999557495,\n",
       " 0.9989426136016846,\n",
       " -0.9533621072769165,\n",
       " -0.9924253821372986,\n",
       " 0.9993343949317932,\n",
       " -0.9999023079872131,\n",
       " -0.999996542930603,\n",
       " 0.9959509372711182,\n",
       " -0.9999775886535645,\n",
       " -0.99789959192276,\n",
       " -0.9301584362983704,\n",
       " 0.9999384880065918,\n",
       " 0.9859923720359802,\n",
       " 0.41335660219192505,\n",
       " 0.9913343787193298,\n",
       " -0.9888933897018433,\n",
       " 1.0,\n",
       " -0.9996615648269653,\n",
       " 0.7882043719291687,\n",
       " -0.8811990022659302,\n",
       " 1.0,\n",
       " 0.49482184648513794,\n",
       " -0.9999998807907104,\n",
       " -0.9999991059303284,\n",
       " 0.9263261556625366,\n",
       " -0.9999998211860657,\n",
       " -0.9975093007087708,\n",
       " -0.9927806258201599,\n",
       " 0.9999793171882629,\n",
       " 0.6177859902381897,\n",
       " -1.0,\n",
       " -0.9096859693527222,\n",
       " -1.0,\n",
       " 0.999999463558197,\n",
       " -1.0,\n",
       " -0.9571480751037598,\n",
       " -0.7144942879676819,\n",
       " 0.6083071231842041,\n",
       " -0.9999923706054688,\n",
       " -0.9999361634254456,\n",
       " 0.992590069770813,\n",
       " -0.2302337884902954,\n",
       " -0.995219886302948,\n",
       " 0.9999175667762756,\n",
       " -0.16357509791851044,\n",
       " -0.9754257202148438,\n",
       " -0.9999455809593201,\n",
       " 0.9999546408653259,\n",
       " -0.9152316451072693,\n",
       " -0.9999316930770874,\n",
       " 0.9998354315757751,\n",
       " -0.9999645948410034,\n",
       " 0.9749691486358643,\n",
       " 0.9999935030937195,\n",
       " -1.0,\n",
       " -0.9999347925186157,\n",
       " -0.23398840427398682,\n",
       " -0.8811324834823608,\n",
       " 0.999308168888092,\n",
       " 0.9999399781227112,\n",
       " 0.8158496022224426,\n",
       " -0.9805248379707336,\n",
       " 0.9999948740005493,\n",
       " 0.09357710182666779,\n",
       " 0.999998152256012,\n",
       " 0.9986162781715393,\n",
       " -0.31729018688201904,\n",
       " -0.999615490436554,\n",
       " 0.9779644012451172,\n",
       " -0.993132472038269,\n",
       " -0.3045630156993866,\n",
       " -0.9999614953994751,\n",
       " 0.46406447887420654,\n",
       " -0.9999939799308777,\n",
       " 0.9684109091758728,\n",
       " -0.6552895307540894,\n",
       " 0.9999061822891235,\n",
       " -0.9693756103515625,\n",
       " -0.9755738377571106,\n",
       " 0.5817576050758362,\n",
       " -0.0019762639421969652,\n",
       " -0.9783424139022827,\n",
       " 0.996645450592041,\n",
       " 0.34755533933639526,\n",
       " -0.8612284660339355,\n",
       " 0.9934705495834351,\n",
       " 0.9292687773704529,\n",
       " 0.27449727058410645,\n",
       " 0.35823187232017517,\n",
       " -0.2502455413341522,\n",
       " -0.4245903491973877,\n",
       " -0.28276774287223816,\n",
       " 0.990460991859436,\n",
       " 0.9999821782112122,\n",
       " 0.9995743036270142,\n",
       " -0.4116075932979584,\n",
       " 0.9996185898780823,\n",
       " -0.9627837538719177,\n",
       " -0.9999964833259583,\n",
       " -0.9961535334587097,\n",
       " 0.9999749660491943,\n",
       " -0.4199199378490448,\n",
       " -0.999995768070221,\n",
       " -0.9082736372947693,\n",
       " 0.9957168698310852,\n",
       " -0.88327556848526,\n",
       " -0.8657534122467041,\n",
       " -0.9999595284461975,\n",
       " -0.9996703863143921,\n",
       " 0.9959312677383423,\n",
       " 0.8767479658126831,\n",
       " -0.9999995231628418,\n",
       " -0.24313990771770477,\n",
       " 0.9900190234184265,\n",
       " 0.9998999238014221,\n",
       " 0.9995512962341309,\n",
       " 0.8095014691352844,\n",
       " 0.9999955296516418,\n",
       " -0.9779530167579651,\n",
       " 0.6011896729469299,\n",
       " -0.8299559950828552,\n",
       " -0.2544006407260895,\n",
       " -0.7841112017631531,\n",
       " -0.655247151851654,\n",
       " 0.9999873638153076,\n",
       " 0.9999319911003113,\n",
       " -0.9739892482757568,\n",
       " -0.9996010065078735,\n",
       " 0.9935691952705383,\n",
       " 0.9264558553695679,\n",
       " 0.6537737846374512,\n",
       " -0.999888002872467,\n",
       " -0.9999980926513672,\n",
       " -0.9848827719688416,\n",
       " -0.9999999403953552,\n",
       " 0.9455534815788269,\n",
       " -1.0,\n",
       " -0.43477463722229004,\n",
       " 0.9960339665412903,\n",
       " 0.999993622303009,\n",
       " -0.9999443888664246,\n",
       " -0.9335628151893616,\n",
       " 0.9999955296516418,\n",
       " 0.9999945759773254,\n",
       " 0.9319666624069214,\n",
       " 0.999705970287323,\n",
       " 0.9779127240180969,\n",
       " -0.9999997615814209,\n",
       " -0.9999979734420776,\n",
       " 0.9998584389686584,\n",
       " -0.9318667650222778,\n",
       " -0.9997481107711792,\n",
       " -0.9510407447814941,\n",
       " 0.9660475850105286,\n",
       " -0.25995391607284546,\n",
       " 0.9999544620513916,\n",
       " 0.9792223572731018,\n",
       " 0.9992381930351257,\n",
       " -0.9990394711494446,\n",
       " 1.0,\n",
       " 0.9966996908187866,\n",
       " -0.9132043719291687,\n",
       " 0.838374674320221,\n",
       " -0.9955636858940125,\n",
       " 0.9999999403953552,\n",
       " 0.6927376389503479,\n",
       " -1.0,\n",
       " 0.999942421913147,\n",
       " -0.998464047908783,\n",
       " -0.9998220801353455,\n",
       " -0.9999482035636902,\n",
       " -0.9999680519104004,\n",
       " -0.9992222785949707,\n",
       " -0.9932911396026611,\n",
       " -0.9999990463256836,\n",
       " -0.9983988404273987,\n",
       " -1.0,\n",
       " -0.9999499320983887,\n",
       " 0.9999954700469971,\n",
       " 0.9766961932182312,\n",
       " -0.9806585907936096,\n",
       " 0.9999988079071045,\n",
       " 0.9987587928771973,\n",
       " -0.9726281762123108,\n",
       " -0.8263391852378845,\n",
       " -0.9998685121536255,\n",
       " -0.9999945759773254,\n",
       " 0.9999999403953552,\n",
       " 0.9993388056755066,\n",
       " 0.9996516108512878,\n",
       " 1.0,\n",
       " -0.9970816969871521,\n",
       " 0.022478504106402397,\n",
       " 0.6257531046867371,\n",
       " 0.9999946355819702,\n",
       " 0.9067501425743103,\n",
       " -0.9879018664360046,\n",
       " -0.8666961193084717,\n",
       " 0.9825180768966675,\n",
       " -0.8207034468650818,\n",
       " -0.9972060918807983,\n",
       " 0.3626458942890167,\n",
       " -0.9543379545211792,\n",
       " -0.9995741248130798,\n",
       " 0.9997570514678955,\n",
       " 0.902159571647644,\n",
       " -0.9999995827674866,\n",
       " -0.6650106310844421,\n",
       " 0.9999971389770508,\n",
       " -0.9279245138168335,\n",
       " -0.7687101364135742,\n",
       " -0.9780287742614746,\n",
       " -0.9752737283706665,\n",
       " -0.9814651012420654,\n",
       " 0.9999958872795105,\n",
       " -0.9999933838844299,\n",
       " -0.9999985694885254,\n",
       " -0.8322640657424927,\n",
       " 0.9999794960021973,\n",
       " 0.9998984932899475,\n",
       " 0.9564246535301208,\n",
       " -0.7396096587181091,\n",
       " -0.9999993443489075,\n",
       " 0.9999769926071167,\n",
       " -0.6260090470314026,\n",
       " 0.9983258247375488,\n",
       " 0.9999971985816956,\n",
       " 0.656215250492096,\n",
       " -0.9567598700523376,\n",
       " -0.978378176689148,\n",
       " -0.2786065340042114,\n",
       " 0.4898131787776947,\n",
       " 0.9090303778648376,\n",
       " 0.9937247037887573,\n",
       " 0.9983464479446411,\n",
       " -0.33404776453971863,\n",
       " 0.999984085559845,\n",
       " 0.9973723888397217,\n",
       " 1.0,\n",
       " 0.9870656132698059,\n",
       " 0.9821177124977112,\n",
       " -0.9929129481315613,\n",
       " 0.9903533458709717,\n",
       " 0.9052072763442993,\n",
       " -0.9621332287788391,\n",
       " 0.7818783521652222,\n",
       " 0.9985976219177246,\n",
       " 0.9999998807907104,\n",
       " -0.9028629064559937,\n",
       " -1.0,\n",
       " 1.0,\n",
       " -0.9733802080154419,\n",
       " -0.9999938011169434,\n",
       " 1.0,\n",
       " 0.9957493543624878,\n",
       " 0.9054945707321167,\n",
       " 0.9920600056648254,\n",
       " -0.947655975818634,\n",
       " -0.9999943971633911,\n",
       " 0.9929003715515137,\n",
       " -0.9999613165855408,\n",
       " 0.9825388789176941,\n",
       " 0.9997782111167908,\n",
       " 0.9996485710144043,\n",
       " -0.9996919631958008,\n",
       " -0.9997891783714294,\n",
       " -0.9998714327812195,\n",
       " -0.9513139128684998,\n",
       " -0.9999999403953552,\n",
       " -0.9222100973129272,\n",
       " 0.9999514222145081,\n",
       " -0.28046584129333496,\n",
       " -0.9748883247375488,\n",
       " 0.9992789626121521,\n",
       " -0.9999714493751526,\n",
       " -0.9999977946281433,\n",
       " -0.9977434277534485,\n",
       " -1.0,\n",
       " -0.983590304851532,\n",
       " -0.9999945163726807,\n",
       " -0.9999674558639526,\n",
       " -0.9130507707595825,\n",
       " 0.9999872446060181,\n",
       " -0.39764976501464844,\n",
       " -0.9992930293083191,\n",
       " -0.9998430013656616,\n",
       " 0.5310963988304138,\n",
       " -0.9404958486557007,\n",
       " -0.6501374840736389,\n",
       " -1.0,\n",
       " -0.2447752207517624,\n",
       " 1.0,\n",
       " 0.5303421020507812,\n",
       " 0.6159259676933289,\n",
       " -0.9999622702598572,\n",
       " 0.9550118446350098,\n",
       " -0.9994868040084839,\n",
       " -0.8761022686958313,\n",
       " 0.9999842047691345,\n",
       " 0.9999968409538269,\n",
       " 0.9990549087524414,\n",
       " 0.995032787322998,\n",
       " -0.9990866184234619,\n",
       " -0.9878761768341064,\n",
       " 0.9984807968139648,\n",
       " 0.9992800951004028,\n",
       " 0.9997925162315369,\n",
       " -0.7200010418891907,\n",
       " -0.9999915361404419,\n",
       " 0.2702150344848633,\n",
       " 0.9999979138374329,\n",
       " -0.9956304430961609,\n",
       " -0.9999998807907104,\n",
       " 0.9992889165878296,\n",
       " -0.9931018948554993,\n",
       " 0.9999996423721313,\n",
       " 0.9999974966049194,\n",
       " 0.9970600008964539,\n",
       " 0.7636448740959167,\n",
       " 0.2492344081401825,\n",
       " 0.9976241588592529,\n",
       " -0.9999987483024597,\n",
       " -0.47703319787979126,\n",
       " -0.9999880194664001,\n",
       " 1.0,\n",
       " 0.7559318542480469,\n",
       " -0.9999725222587585,\n",
       " -0.9999901056289673,\n",
       " -0.9796571135520935,\n",
       " -0.9999903440475464,\n",
       " -0.8328923583030701,\n",
       " -0.999634325504303,\n",
       " 0.9999718070030212,\n",
       " -0.9999997019767761,\n",
       " -0.7009114027023315,\n",
       " 0.9999982714653015,\n",
       " -0.9999439716339111,\n",
       " -0.7958828210830688,\n",
       " 0.8320106863975525,\n",
       " 0.9991364479064941,\n",
       " -1.0,\n",
       " -0.9999945759773254,\n",
       " 0.4160964787006378,\n",
       " -0.9955074787139893,\n",
       " 0.999874472618103,\n",
       " 0.9826292395591736,\n",
       " 0.9866594672203064,\n",
       " 0.9999998211860657,\n",
       " 0.9999876618385315,\n",
       " -0.9773608446121216,\n",
       " 0.5750698447227478,\n",
       " 0.9954397082328796,\n",
       " 0.9999579191207886,\n",
       " -0.9906917214393616,\n",
       " 0.9990525841712952,\n",
       " -0.9973344206809998,\n",
       " 0.9999914765357971,\n",
       " 0.9976105690002441,\n",
       " 0.9859640002250671,\n",
       " -0.9769060015678406,\n",
       " -0.9446994662284851,\n",
       " -0.9999971985816956,\n",
       " -0.9999997615814209,\n",
       " 0.9999994039535522,\n",
       " 0.9998224377632141,\n",
       " -0.9994728565216064,\n",
       " -0.9950333833694458,\n",
       " 0.9548152089118958,\n",
       " 1.0,\n",
       " -0.8797428011894226,\n",
       " -0.9979642033576965,\n",
       " 0.9995211362838745,\n",
       " 1.0,\n",
       " 0.999915361404419,\n",
       " 0.9999303817749023,\n",
       " -0.986506998538971,\n",
       " -0.9950563311576843,\n",
       " 0.9891979694366455,\n",
       " -0.9645188450813293,\n",
       " 0.8403622508049011,\n",
       " -1.0,\n",
       " 0.980726957321167,\n",
       " -0.9747490286827087,\n",
       " 0.9969861507415771,\n",
       " 0.9996926188468933,\n",
       " 0.5214999318122864,\n",
       " 0.9999546408653259,\n",
       " 1.0,\n",
       " 0.9975482821464539,\n",
       " 0.3493708670139313,\n",
       " -0.9408074617385864,\n",
       " -0.9848994612693787,\n",
       " 0.9999991059303284,\n",
       " 0.9999986886978149,\n",
       " 0.9996723532676697,\n",
       " 0.9998769760131836,\n",
       " -0.9134386777877808,\n",
       " -1.0,\n",
       " 0.9746703505516052,\n",
       " -0.7196568846702576,\n",
       " 0.9706290364265442,\n",
       " 0.9999999403953552,\n",
       " 0.987764835357666,\n",
       " -0.9999974370002747,\n",
       " -0.9999721050262451,\n",
       " 0.30241113901138306,\n",
       " 0.9996621608734131,\n",
       " 0.9962711930274963,\n",
       " -0.9922471642494202,\n",
       " 0.9999954104423523,\n",
       " 1.0,\n",
       " -1.0,\n",
       " -0.09162861108779907,\n",
       " -1.0,\n",
       " 0.9989571571350098,\n",
       " -0.043971359729766846,\n",
       " -0.9999627470970154,\n",
       " 1.0,\n",
       " 0.9935245513916016,\n",
       " 0.995844841003418,\n",
       " 1.0,\n",
       " -0.9974619150161743,\n",
       " 0.9988872408866882,\n",
       " -0.990105390548706,\n",
       " -0.9995347261428833,\n",
       " 0.9999986290931702,\n",
       " -0.9997025728225708,\n",
       " 0.9999253153800964,\n",
       " -0.4356435239315033,\n",
       " 0.99943608045578,\n",
       " 0.9993577599525452,\n",
       " 0.9442523717880249,\n",
       " 0.9904565215110779,\n",
       " 0.9999993443489075,\n",
       " -0.999702513217926,\n",
       " -0.998415470123291,\n",
       " -0.9957821369171143,\n",
       " 0.9999998211860657,\n",
       " -0.6713684797286987,\n",
       " 0.9960029125213623,\n",
       " -0.9968059659004211,\n",
       " -0.9999995827674866,\n",
       " -0.9994470477104187,\n",
       " 0.9999910593032837,\n",
       " 0.9999874830245972,\n",
       " -0.9999997019767761,\n",
       " 0.9999908804893494,\n",
       " -0.9951553344726562,\n",
       " 0.39348721504211426,\n",
       " 0.9987305402755737,\n",
       " 0.998256504535675,\n",
       " -0.9995287656784058,\n",
       " 0.9820500612258911,\n",
       " 0.9902275800704956,\n",
       " 0.7407776117324829,\n",
       " 0.9949837923049927,\n",
       " -0.9121968746185303,\n",
       " 1.0,\n",
       " -0.7470597624778748,\n",
       " -0.9782114028930664,\n",
       " 0.9999995231628418,\n",
       " -0.9997835755348206,\n",
       " -0.9923784136772156,\n",
       " -0.9999942779541016,\n",
       " -0.7962195873260498,\n",
       " 0.999998927116394,\n",
       " 0.9975151419639587,\n",
       " 0.9999403953552246,\n",
       " 0.9999962449073792,\n",
       " -0.9999780058860779,\n",
       " -0.5222489237785339,\n",
       " -0.9999966621398926,\n",
       " 0.9999998807907104,\n",
       " 0.9999922513961792,\n",
       " -0.9977543950080872,\n",
       " 0.6347000002861023,\n",
       " 0.9994788765907288,\n",
       " -0.05019519850611687,\n",
       " 0.9893428087234497,\n",
       " 0.9999948740005493,\n",
       " 0.9964742064476013,\n",
       " 0.9961764216423035,\n",
       " -0.9993854761123657,\n",
       " -0.9986874461174011,\n",
       " -0.9831814765930176,\n",
       " -0.9087436199188232,\n",
       " -0.9343031048774719,\n",
       " 0.9971264004707336,\n",
       " 0.20328299701213837,\n",
       " 0.9395431280136108,\n",
       " -0.6999019980430603,\n",
       " -0.751151442527771,\n",
       " -0.9984282851219177,\n",
       " 0.9993659257888794,\n",
       " 0.9999983310699463,\n",
       " -0.7132717370986938,\n",
       " -0.9963781237602234,\n",
       " 0.9972250461578369,\n",
       " 0.9998613595962524,\n",
       " -0.7047333121299744,\n",
       " -0.9999969601631165,\n",
       " 0.24810314178466797,\n",
       " -0.9873166680335999,\n",
       " 0.22199462354183197,\n",
       " 1.0,\n",
       " -0.9607786536216736,\n",
       " 0.05196515470743179,\n",
       " -0.9854405522346497,\n",
       " 0.9999419450759888,\n",
       " 0.9439250230789185,\n",
       " 1.0,\n",
       " 1.0,\n",
       " 0.9996009469032288,\n",
       " 0.9999962449073792,\n",
       " 1.0,\n",
       " 0.9998196959495544,\n",
       " -0.999979555606842,\n",
       " -0.9999801516532898,\n",
       " 0.998870313167572,\n",
       " -0.8343365788459778,\n",
       " -0.9711052775382996,\n",
       " -0.9043067693710327,\n",
       " 0.4106879234313965,\n",
       " -0.838234007358551,\n",
       " -0.9127987027168274,\n",
       " 0.7615436315536499,\n",
       " 0.9999739527702332,\n",
       " 1.0,\n",
       " 0.999081552028656,\n",
       " 0.9999966621398926,\n",
       " 0.9978997707366943,\n",
       " 0.9597756266593933,\n",
       " 0.09858626127243042,\n",
       " -0.9846727252006531,\n",
       " 0.9997222423553467,\n",
       " 1.0,\n",
       " 0.9643713235855103,\n",
       " 0.9962643384933472,\n",
       " 0.991788387298584,\n",
       " 1.0,\n",
       " 0.9963077902793884,\n",
       " -0.9940040707588196,\n",
       " 1.0,\n",
       " -0.9999576210975647,\n",
       " 0.9998401999473572,\n",
       " -0.9999987483024597,\n",
       " -0.9997629523277283,\n",
       " -0.8682723045349121,\n",
       " 0.6903637647628784,\n",
       " -1.0,\n",
       " 0.989473819732666,\n",
       " 0.9958595037460327,\n",
       " -0.9995633959770203,\n",
       " -0.7832345962524414,\n",
       " 0.9999671578407288,\n",
       " -1.0,\n",
       " -0.9760886430740356,\n",
       " -0.9961367249488831,\n",
       " -0.9999999403953552,\n",
       " -1.0,\n",
       " -0.9999998807907104,\n",
       " 0.005122259259223938,\n",
       " -0.9945639371871948,\n",
       " -0.9934664964675903,\n",
       " -0.9356577396392822,\n",
       " -0.9999848008155823,\n",
       " 0.9147897958755493,\n",
       " 0.9794677495956421,\n",
       " -0.29749825596809387,\n",
       " 0.9999982714653015,\n",
       " 0.999993085861206,\n",
       " -0.986939013004303,\n",
       " 0.970585286617279,\n",
       " 0.9999008774757385,\n",
       " 0.9567596316337585,\n",
       " -0.8896993398666382,\n",
       " -0.3964606523513794,\n",
       " -0.9999851584434509,\n",
       " -0.9994198679924011,\n",
       " 0.9999923706054688,\n",
       " 0.9998577833175659,\n",
       " 1.0,\n",
       " 0.999999463558197,\n",
       " -0.8073893189430237,\n",
       " -0.9999308586120605,\n",
       " 0.9996596574783325,\n",
       " -0.921589195728302,\n",
       " -0.36408570408821106,\n",
       " -0.9999755620956421,\n",
       " -0.9999774694442749,\n",
       " -0.49837175011634827,\n",
       " 0.6994410753250122,\n",
       " -0.9999438524246216,\n",
       " -0.9997803568840027,\n",
       " 0.9991251230239868,\n",
       " 0.9669179320335388,\n",
       " 0.9999998807907104,\n",
       " 1.0,\n",
       " 1.0,\n",
       " 0.9715887904167175,\n",
       " -0.9998754858970642,\n",
       " 0.9942351579666138,\n",
       " 0.9990424513816833,\n",
       " -0.9996504187583923,\n",
       " 0.9999974966049194,\n",
       " 0.9998712539672852,\n",
       " 0.5606968402862549,\n",
       " -0.7505902647972107,\n",
       " 0.9999971985816956,\n",
       " -0.9998314380645752,\n",
       " 0.9403148889541626,\n",
       " -0.39404648542404175,\n",
       " 0.9999219179153442,\n",
       " 0.6005099415779114,\n",
       " 0.9930739402770996,\n",
       " -1.0,\n",
       " 1.0,\n",
       " -0.9999856948852539,\n",
       " 0.9931708574295044,\n",
       " 0.9999233484268188,\n",
       " -0.9080143570899963,\n",
       " 0.9995772242546082,\n",
       " -0.08491752296686172,\n",
       " -0.9690040946006775,\n",
       " 0.9562428593635559,\n",
       " -0.9981966018676758,\n",
       " -0.7484925985336304,\n",
       " -0.9999805688858032,\n",
       " 0.9960989356040955,\n",
       " 0.9999951720237732,\n",
       " -0.9999837875366211,\n",
       " -0.9691164493560791,\n",
       " -0.9999955892562866,\n",
       " 0.9999868869781494,\n",
       " 0.9671061635017395,\n",
       " -0.7792121767997742,\n",
       " -0.9337118864059448,\n",
       " -0.993659257888794,\n",
       " 0.9999024271965027,\n",
       " -0.997288167476654,\n",
       " -0.47519904375076294,\n",
       " 0.4616181552410126,\n",
       " 0.8195043206214905,\n",
       " 0.984412431716919,\n",
       " 0.6601706147193909,\n",
       " 0.9969537854194641,\n",
       " 0.9999974370002747,\n",
       " 0.9999994039535522,\n",
       " -0.34522518515586853,\n",
       " -0.6576290726661682,\n",
       " 1.0,\n",
       " -0.9999820590019226,\n",
       " -0.9999999403953552,\n",
       " 0.9999564290046692,\n",
       " -0.8079715967178345,\n",
       " -0.84161776304245,\n",
       " -0.993401050567627,\n",
       " 0.9968197345733643,\n",
       " -0.9698160290718079,\n",
       " -0.9644455909729004,\n",
       " -0.9961028099060059,\n",
       " 0.9609128832817078,\n",
       " 0.991883397102356,\n",
       " -0.7623031735420227,\n",
       " -0.9651315212249756,\n",
       " -0.9997057914733887,\n",
       " -0.9998828768730164,\n",
       " -0.9823068976402283,\n",
       " -0.5724995732307434,\n",
       " 0.961392879486084,\n",
       " -0.49251875281333923,\n",
       " -0.9999995827674866,\n",
       " -0.9118373990058899,\n",
       " 0.9509289860725403,\n",
       " 0.2798522710800171,\n",
       " -0.999107301235199,\n",
       " 0.9760764241218567,\n",
       " -0.9999996423721313,\n",
       " -0.044087719172239304,\n",
       " -0.9991833567619324,\n",
       " -0.9979013204574585,\n",
       " -0.999039888381958,\n",
       " 0.999996542930603,\n",
       " -0.756571888923645,\n",
       " 0.4602434039115906,\n",
       " 0.9941437840461731,\n",
       " -0.9431617856025696,\n",
       " 0.9993552565574646,\n",
       " 0.9996356964111328,\n",
       " -0.9999986290931702,\n",
       " -0.7378553152084351,\n",
       " 0.9015825986862183,\n",
       " -0.9979897737503052,\n",
       " 0.9999216198921204,\n",
       " -0.9416670799255371,\n",
       " -0.8336087465286255,\n",
       " 0.6840472221374512,\n",
       " -0.9980457425117493,\n",
       " 1.0,\n",
       " 0.9988377094268799,\n",
       " -0.4745524525642395,\n",
       " 0.9579533338546753,\n",
       " -1.0,\n",
       " -1.0,\n",
       " 0.9993125200271606,\n",
       " 0.9999632239341736,\n",
       " 0.7483909726142883,\n",
       " -0.9890069961547852,\n",
       " -0.6051071286201477,\n",
       " -0.18170763552188873,\n",
       " -0.45043516159057617,\n",
       " 0.9562355875968933,\n",
       " 0.9200426936149597,\n",
       " 0.9998474717140198,\n",
       " 0.9999961256980896,\n",
       " 0.9997398257255554,\n",
       " 0.6016088128089905,\n",
       " 0.9987313747406006,\n",
       " 0.9018996953964233,\n",
       " -0.7301978468894958,\n",
       " -0.9999962449073792,\n",
       " -0.999671220779419,\n",
       " 0.9886369705200195,\n",
       " -0.9999673962593079,\n",
       " 1.0,\n",
       " 0.9947219491004944,\n",
       " 0.34133169054985046,\n",
       " -0.005188880488276482,\n",
       " 0.9999997615814209,\n",
       " 0.6746324896812439,\n",
       " -0.3639852702617645,\n",
       " 0.969049334526062,\n",
       " 0.9870827794075012,\n",
       " -0.9999589920043945,\n",
       " -0.22613836824893951,\n",
       " 0.9999959468841553,\n",
       " -0.9999569654464722,\n",
       " 0.9960743188858032,\n",
       " -0.9197620749473572,\n",
       " 0.9999962449073792,\n",
       " -0.9993183016777039,\n",
       " -0.9341831207275391,\n",
       " 0.9999995231628418,\n",
       " 0.999370276927948,\n",
       " 0.9999995827674866,\n",
       " -0.9999933838844299,\n",
       " 0.9842402935028076,\n",
       " 0.9720037579536438,\n",
       " 0.9999738931655884,\n",
       " 0.9927579164505005,\n",
       " 0.9633733034133911,\n",
       " 0.99931800365448,\n",
       " 0.9985504746437073,\n",
       " 0.023632893338799477,\n",
       " 0.9965823292732239,\n",
       " -1.0,\n",
       " 0.9238297939300537,\n",
       " 0.9994994401931763,\n",
       " -0.9962184429168701,\n",
       " -0.9970365762710571,\n",
       " -0.744782567024231,\n",
       " -0.9969920516014099,\n",
       " -0.9999805688858032,\n",
       " -0.4616599977016449,\n",
       " 0.9943370819091797,\n",
       " -0.9999995827674866,\n",
       " -0.9936453104019165,\n",
       " 0.9226515293121338,\n",
       " 0.2630254924297333,\n",
       " -0.7297933101654053,\n",
       " -0.9972667694091797,\n",
       " 0.9999992847442627,\n",
       " 1.0,\n",
       " 0.9935709834098816,\n",
       " 0.9999993443489075,\n",
       " 0.9742825031280518,\n",
       " -0.6215583682060242,\n",
       " -0.9923649430274963,\n",
       " 1.0,\n",
       " 0.9989307522773743,\n",
       " -0.2641673982143402,\n",
       " 0.9999962449073792,\n",
       " 0.9796607494354248,\n",
       " 0.7210972905158997,\n",
       " -0.6381289958953857,\n",
       " -0.8915582895278931,\n",
       " 0.4034971296787262,\n",
       " 0.9999991059303284,\n",
       " 0.7616604566574097,\n",
       " 0.9997807145118713,\n",
       " 0.9950311779975891,\n",
       " 0.9999856948852539,\n",
       " -0.9136130213737488,\n",
       " 0.5313976407051086,\n",
       " 0.9990641474723816,\n",
       " 0.9990935325622559,\n",
       " 0.996920645236969,\n",
       " -0.9827965497970581,\n",
       " 0.9914767742156982,\n",
       " -0.7608608603477478,\n",
       " -0.9999951720237732,\n",
       " 0.9999887347221375,\n",
       " 0.9723817706108093,\n",
       " -1.0,\n",
       " 0.040627844631671906,\n",
       " 0.9995129108428955,\n",
       " 0.9999307990074158,\n",
       " 0.999830961227417,\n",
       " -0.9938316941261292,\n",
       " -0.830994725227356,\n",
       " 0.9999995827674866,\n",
       " -0.9997881650924683,\n",
       " 0.9331309199333191,\n",
       " -0.9989826679229736,\n",
       " 0.817861795425415,\n",
       " -0.9998709559440613,\n",
       " 0.9968336820602417,\n",
       " -0.4521482586860657,\n",
       " 0.987983763217926,\n",
       " 0.9983922243118286,\n",
       " 0.9999996423721313,\n",
       " 0.9996381998062134,\n",
       " 0.9999989867210388,\n",
       " -0.34491539001464844,\n",
       " -1.0,\n",
       " 0.9999995231628418,\n",
       " -0.5721126794815063,\n",
       " 0.5975663661956787,\n",
       " -0.9999942183494568,\n",
       " 0.999568521976471,\n",
       " 0.9999996423721313,\n",
       " -0.9979686737060547,\n",
       " 0.955635666847229,\n",
       " -0.960921585559845,\n",
       " ...]"
      ]
     },
     "execution_count": 116,
     "metadata": {},
     "output_type": "execute_result"
    }
   ],
   "source": [
    "h.view(-1).tolist()"
   ]
  },
  {
   "cell_type": "code",
   "execution_count": 117,
   "id": "b7b55bb3-4463-4097-b23e-cb114b420f88",
   "metadata": {},
   "outputs": [
    {
     "data": {
      "image/png": "[encoded data removed]",
      "text/plain": [
       "<Figure size 640x480 with 1 Axes>"
      ]
     },
     "metadata": {},
     "output_type": "display_data"
    }
   ],
   "source": [
    "# histogram of h values - in 50 bins\n",
    "# this is bad! as for tanh(x) = -1 and 1 the gradient is ~ 0 so optimisation is stuck. derivative of tanh(x) is 1-tanh^2(x)\n",
    "# this means that there is no impact to the loss. \n",
    "plt.hist(h.view(-1).tolist(), 50);"
   ]
  },
  {
   "cell_type": "code",
   "execution_count": 40,
   "id": "a2fa1c52-d3d9-495b-94cb-a1a003140922",
   "metadata": {},
   "outputs": [
    {
     "data": {
      "image/png": "[encoded data removed]",
      "text/plain": [
       "<Figure size 640x480 with 1 Axes>"
      ]
     },
     "metadata": {},
     "output_type": "display_data"
    }
   ],
   "source": [
    "# the pre activations are too broad here: \n",
    "plt.hist(hpreact.view(-1).tolist(), 50);"
   ]
  },
  {
   "cell_type": "code",
   "execution_count": 41,
   "id": "8a11d94d-9cdd-4ff9-854c-35b3fe05ca0e",
   "metadata": {},
   "outputs": [
    {
     "data": {
      "image/png": "[encoded data removed]",
      "text/plain": [
       "<Figure size 640x480 with 1 Axes>"
      ]
     },
     "metadata": {},
     "output_type": "display_data"
    }
   ],
   "source": [
    "## if the tanh value is on the flat bits of the curve then the gradient ~ 0 and any passing through\n",
    "# gradient is destroyed as it's x 0. If the tanh(x) = 0 the the gradient is 1 and all gradients pass through and impact the loss\n",
    "# gradient is 'squashed' in the flat regions, ie I think reduced?!j\n",
    "\n",
    "x = torch.arange(-3,3,0.1)\n",
    "plt.plot(x, torch.tanh(x));"
   ]
  },
  {
   "cell_type": "code",
   "execution_count": 118,
   "id": "bc983040-b407-4c91-b9a3-59a9bb5bc8eb",
   "metadata": {},
   "outputs": [
    {
     "data": {
      "text/plain": [
       "(tensor([-0.9999, -0.9993, -0.9951, -0.9640, -0.7616,  0.0000,  0.7616,  0.9640,\n",
       "          0.9951,  0.9993]),\n",
       " tensor([-5, -4, -3, -2, -1,  0,  1,  2,  3,  4]))"
      ]
     },
     "execution_count": 118,
     "metadata": {},
     "output_type": "execute_result"
    }
   ],
   "source": [
    "x = torch.arange(-5,5,1)\n",
    "torch.tanh(x),x"
   ]
  },
  {
   "cell_type": "code",
   "execution_count": 119,
   "id": "8b6fda64-82fc-4ac1-b5cd-e7e8318dde40",
   "metadata": {},
   "outputs": [
    {
     "data": {
      "image/png": "[encoded data removed]",
      "text/plain": [
       "<Figure size 2000x1000 with 1 Axes>"
      ]
     },
     "metadata": {},
     "output_type": "display_data"
    }
   ],
   "source": [
    "# this shows for the batch of 32, every neuron (200) in black where neuron in the flat part of the curve, i.e. grad = 0\n",
    "# white are where grad is 0, -1 or +1 and effectively dead. Black means in a good zone for optimisation.\n",
    "# if all column is white, for each training example, then neuron is dead. It will never be active. \n",
    "# other activiation functions have the same problem like sigmoid, reLU, ELU not leaky ReLU.\n",
    "# this can happen at initialisation or during optimisation - if the learning rate is too high, the neuron can get knocked out. \n",
    "# the network has permanent brain damage\n",
    "# this no example activiates this neuron, so it's dead\n",
    "plt.figure(figsize=(20,10))\n",
    "plt.imshow(h.abs() > 0.99, cmap ='gray', interpolation='nearest');\n"
   ]
  },
  {
   "cell_type": "code",
   "execution_count": 139,
   "id": "7fc8d04e-0cd0-4b2a-affd-86d94a2869a4",
   "metadata": {},
   "outputs": [
    {
     "name": "stdout",
     "output_type": "stream",
     "text": [
      "11897\n"
     ]
    }
   ],
   "source": [
    "# to fix - we need to fix the preactivation. so can make it close to zero by setting b1 to 0-0.01\n",
    "# and W1 lower\n",
    "# rerun with this: \n",
    "n_embd = 10 # the dimensionality of the character embedding vectors\n",
    "n_hidden = 200 # the number of neurons in the hidden layer of the \n",
    "vocab_size = len(stoi) # the number of distinct characters \n",
    "\n",
    "g  = torch.Generator().manual_seed(2147483647)\n",
    "C  = torch.randn((vocab_size, n_embd),            generator=g) \n",
    "W1 = torch.randn((n_embd * block_size, n_hidden), generator=g) * 0.2 # setting to lower for less extreme pre optimisation\n",
    "b1 = torch.randn(n_hidden,                        generator=g) * 0.01\n",
    "W2 = torch.randn((n_hidden, vocab_size),          generator=g) * 0.01 # setting these weights initial to minimise initial loss\n",
    "b2 = torch.randn(vocab_size,                      generator=g) * 0 # minimise initial loss\n",
    "\n",
    "parameters = [C, W1, b1, W2, b2]\n",
    "print(sum(p.nelement() for p in parameters))\n",
    "for p in parameters:\n",
    "    p.requires_grad = True"
   ]
  },
  {
   "cell_type": "code",
   "execution_count": 140,
   "id": "15578928-ab0b-41a0-ba31-3833ea6bbfb4",
   "metadata": {},
   "outputs": [
    {
     "name": "stdout",
     "output_type": "stream",
     "text": [
      "      0/ 200000: 3.3135\n"
     ]
    }
   ],
   "source": [
    "max_steps = 200_000\n",
    "batch_size = 32\n",
    "lossi = []\n",
    "\n",
    "for i in range(max_steps):\n",
    "    \n",
    "    # minibatch\n",
    "    ix = torch.randint(0, Xtr.shape[0], (batch_size,), generator=g)\n",
    "    Xb, Yb = Xtr[ix], Ytr[ix]    \n",
    "    \n",
    "    # forward pass\n",
    "    emb = C[Xb] # emb chars into vectors\n",
    "    embcat = emb.view(emb.shape[0],-1) # concat the vectors\n",
    "    hpreact = embcat @ W1 + b1 # hidden layer pre-activation\n",
    "    h = torch.tanh(hpreact) # hidden layer\n",
    "    logits = h @ W2 + b2 # output layer\n",
    "    loss = F.cross_entropy(logits, Yb) # loss function\n",
    "\n",
    "    # backward pass\n",
    "    for p in parameters:\n",
    "        p.grad = None\n",
    "    loss.backward()\n",
    "\n",
    "    # update\n",
    "    lr = 0.1 if i < 100_000 else 0.01 # step learning decay\n",
    "    for p in parameters:\n",
    "        p.data += -lr * p.grad\n",
    "\n",
    "    # track stats\n",
    "    if i % 10000 == 0: # print every so often\n",
    "        print(f\"{i:7d}/{max_steps:7d}: {loss.item():.4f}\")\n",
    "    lossi.append(loss.log10().item())\n",
    "    break\n"
   ]
  },
  {
   "cell_type": "code",
   "execution_count": 144,
   "id": "f8472647-685a-4574-aa2f-57217b190ecd",
   "metadata": {},
   "outputs": [
    {
     "data": {
      "image/png": "[encoded data removed]",
      "text/plain": [
       "<Figure size 640x480 with 1 Axes>"
      ]
     },
     "metadata": {},
     "output_type": "display_data"
    }
   ],
   "source": [
    "# the distribution is more uniform and not less around -1/+1\n",
    "plt.hist(h.view(-1).tolist(), 50);"
   ]
  },
  {
   "cell_type": "code",
   "execution_count": 145,
   "id": "4d1e1054-5542-4d1c-8989-86750fa22655",
   "metadata": {},
   "outputs": [
    {
     "data": {
      "image/png": "[encoded data removed]",
      "text/plain": [
       "<Figure size 640x480 with 1 Axes>"
      ]
     },
     "metadata": {},
     "output_type": "display_data"
    }
   ],
   "source": [
    "plt.hist(hpreact.view(-1).tolist(), 50);"
   ]
  },
  {
   "cell_type": "code",
   "execution_count": 146,
   "id": "fff84dce-0d09-41c1-8778-1e0f0ec7d9a6",
   "metadata": {},
   "outputs": [
    {
     "data": {
      "image/png": "[encoded data removed]",
      "text/plain": [
       "<Figure size 2000x1000 with 1 Axes>"
      ]
     },
     "metadata": {},
     "output_type": "display_data"
    }
   ],
   "source": [
    "# not much white: \n",
    "plt.figure(figsize=(20,10))\n",
    "plt.imshow(h.abs() > 0.99, cmap ='gray', interpolation='nearest');"
   ]
  },
  {
   "cell_type": "code",
   "execution_count": 31,
   "id": "4ec7146a-9353-473b-bf69-129854d09c4b",
   "metadata": {},
   "outputs": [
    {
     "name": "stdout",
     "output_type": "stream",
     "text": [
      "11897\n"
     ]
    }
   ],
   "source": [
    "# now run training runs: \n",
    "n_embd = 10 # the dimensionality of the character embedding vectors\n",
    "n_hidden = 200 # the number of neurons in the hidden layer of the \n",
    "vocab_size = len(stoi) # the number of distinct characters \n",
    "\n",
    "g  = torch.Generator().manual_seed(2147483647)\n",
    "C  = torch.randn((vocab_size, n_embd),            generator=g) \n",
    "W1 = torch.randn((n_embd * block_size, n_hidden), generator=g) * 0.2 # setting to lower for less extreme pre optimisation\n",
    "b1 = torch.randn(n_hidden,                        generator=g) * 0.01\n",
    "W2 = torch.randn((n_hidden, vocab_size),          generator=g) * 0.01 # setting these weights initial to minimise initial loss\n",
    "b2 = torch.randn(vocab_size,                      generator=g) * 0 # minimise initial loss\n",
    "\n",
    "parameters = [C, W1, b1, W2, b2]\n",
    "print(sum(p.nelement() for p in parameters))\n",
    "for p in parameters:\n",
    "    p.requires_grad = True"
   ]
  },
  {
   "cell_type": "code",
   "execution_count": 32,
   "id": "340f6ac4-f987-4add-a7fd-493f38c4cd8e",
   "metadata": {},
   "outputs": [
    {
     "name": "stdout",
     "output_type": "stream",
     "text": [
      "      0/ 200000: 3.3135\n",
      "  10000/ 200000: 2.1648\n",
      "  20000/ 200000: 2.3061\n",
      "  30000/ 200000: 2.4541\n",
      "  40000/ 200000: 1.9787\n",
      "  50000/ 200000: 2.2930\n",
      "  60000/ 200000: 2.4232\n",
      "  70000/ 200000: 2.0680\n",
      "  80000/ 200000: 2.3095\n",
      "  90000/ 200000: 2.1207\n",
      " 100000/ 200000: 1.8269\n",
      " 110000/ 200000: 2.2045\n",
      " 120000/ 200000: 1.9797\n",
      " 130000/ 200000: 2.3946\n",
      " 140000/ 200000: 2.1000\n",
      " 150000/ 200000: 2.1948\n",
      " 160000/ 200000: 1.8619\n",
      " 170000/ 200000: 1.7809\n",
      " 180000/ 200000: 1.9673\n",
      " 190000/ 200000: 1.8295\n"
     ]
    }
   ],
   "source": [
    "max_steps = 200_000\n",
    "batch_size = 32\n",
    "lossi = []\n",
    "\n",
    "for i in range(max_steps):\n",
    "    \n",
    "    # minibatch\n",
    "    ix = torch.randint(0, Xtr.shape[0], (batch_size,), generator=g)\n",
    "    Xb, Yb = Xtr[ix], Ytr[ix]    \n",
    "    \n",
    "    # forward pass\n",
    "    emb = C[Xb] # emb chars into vectors\n",
    "    embcat = emb.view(emb.shape[0],-1) # concat the vectors\n",
    "    hpreact = embcat @ W1 + b1 # hidden layer pre-activation\n",
    "    h = torch.tanh(hpreact) # hidden layer\n",
    "    logits = h @ W2 + b2 # output layer\n",
    "    loss = F.cross_entropy(logits, Yb) # loss function\n",
    "\n",
    "    # backward pass\n",
    "    for p in parameters:\n",
    "        p.grad = None\n",
    "    loss.backward()\n",
    "\n",
    "    # update\n",
    "    lr = 0.1 if i < 100_000 else 0.01 # step learning decay\n",
    "    for p in parameters:\n",
    "        p.data += -lr * p.grad\n",
    "\n",
    "    # track stats\n",
    "    if i % 10000 == 0: # print every so often\n",
    "        print(f\"{i:7d}/{max_steps:7d}: {loss.item():.4f}\")\n",
    "    lossi.append(loss.log10().item())"
   ]
  },
  {
   "cell_type": "code",
   "execution_count": 33,
   "id": "0b223ffd-bf51-4875-9ea4-e29659ef0708",
   "metadata": {},
   "outputs": [
    {
     "data": {
      "image/png": "[encoded data removed]",
      "text/plain": [
       "<Figure size 640x480 with 1 Axes>"
      ]
     },
     "metadata": {},
     "output_type": "display_data"
    }
   ],
   "source": [
    "plt.plot(lossi);"
   ]
  },
  {
   "cell_type": "code",
   "execution_count": 34,
   "id": "992d0830-e47a-45b0-a22a-863e630e5def",
   "metadata": {},
   "outputs": [
    {
     "name": "stdout",
     "output_type": "stream",
     "text": [
      "train 2.0355966091156006\n",
      "val 2.1026782989501953\n"
     ]
    }
   ],
   "source": [
    "split_loss('train')\n",
    "split_loss('val')\n",
    "\n",
    "## loss log at bottom"
   ]
  },
  {
   "cell_type": "code",
   "execution_count": null,
   "id": "a0e6684d-d06f-4f70-ad2d-9c68c25e0940",
   "metadata": {},
   "outputs": [],
   "source": [
    "# this is easy to fix for a simple network with 1 layer, but much more complex for multiple layers\n",
    "# the network still learned even though. if you have 50 layers, prob is more complex and problems stack in\n",
    "# deeper networks may not learn because of this. "
   ]
  },
  {
   "cell_type": "code",
   "execution_count": null,
   "id": "dc5015a0-fb21-47ff-9a90-e77ffd53efa1",
   "metadata": {},
   "outputs": [],
   "source": [
    "# how do you set this init values? We don't do it by hand"
   ]
  },
  {
   "cell_type": "code",
   "execution_count": 13,
   "id": "191e673d-97f8-4edc-8a00-690fece9914c",
   "metadata": {},
   "outputs": [
    {
     "name": "stdout",
     "output_type": "stream",
     "text": [
      "tensor(0.0125) tensor(0.9822)\n",
      "tensor(-0.0015) tensor(0.9869)\n"
     ]
    },
    {
     "data": {
      "image/png": "[encoded data removed]",
      "text/plain": [
       "<Figure size 2000x500 with 2 Axes>"
      ]
     },
     "metadata": {},
     "output_type": "display_data"
    }
   ],
   "source": [
    "# guassian is expanding from std dev 1 to std dev 3\n",
    "# ideally we want to perserve the guassian std dev\n",
    "x = torch.randn(1000, 10) # 1000 examples with 10 inputs\n",
    "w = torch.randn(10, 200) / 10 ** 0.5 # 10 inputs and 200 neurons for example\n",
    "y = x @ w\n",
    "print(x.mean(), x.std())\n",
    "print(y.mean(), y.std())\n",
    "plt.figure(figsize=(20,5))\n",
    "plt.subplot(121)\n",
    "plt.hist(x.view(-1).tolist(), 50, density=True, range=(-12,12));\n",
    "plt.subplot(122)\n",
    "plt.hist(y.view(-1).tolist(), 50, density=True, range=(-12,12));\n"
   ]
  },
  {
   "cell_type": "code",
   "execution_count": 8,
   "id": "bd67e565-1ea6-4615-9dfa-64bcaacdc8be",
   "metadata": {},
   "outputs": [
    {
     "name": "stdout",
     "output_type": "stream",
     "text": [
      "tensor(-0.0020) tensor(0.9934)\n",
      "tensor(-0.0016) tensor(1.5686)\n"
     ]
    },
    {
     "data": {
      "image/png": "[encoded data removed]",
      "text/plain": [
       "<Figure size 2000x500 with 2 Axes>"
      ]
     },
     "metadata": {},
     "output_type": "display_data"
    }
   ],
   "source": [
    "# to perserve the std deviation we need to scale the weights by a factor \n",
    "x = torch.randn(1000, 10)\n",
    "w = torch.randn(10,200) / 2 # 10**0.5 # divide the weights by sqrt of fan in\n",
    "y = x @ w\n",
    "print(x.mean(), x.std())\n",
    "print(y.mean(), y.std())\n",
    "plt.figure(figsize=(20,5))\n",
    "plt.subplot(121)\n",
    "plt.hist(x.view(-1).tolist(), 50, density=True, range=(-12,12));\n",
    "plt.subplot(122)\n",
    "plt.hist(y.view(-1).tolist(), 50, density=True, range=(-12,12));"
   ]
  },
  {
   "cell_type": "code",
   "execution_count": 9,
   "id": "ef88c12c-6f9d-4828-8a2e-f1a13bbcd6ac",
   "metadata": {},
   "outputs": [
    {
     "data": {
      "text/plain": [
       "(tensor(1.0151), tensor(0.2030))"
      ]
     },
     "execution_count": 9,
     "metadata": {},
     "output_type": "execute_result"
    }
   ],
   "source": [
    "# see kaiming_normal in torch torch.nn.init. the gain is dependeny t on the nonlinaerity function used (tanh, RELu, etc).\n",
    "# modern techniques such as normalisation layers and other optimistion mean this is now less important, but still need to be set.\n",
    "\n",
    "# this scales the guassian by 0.2: \n",
    "x = torch.randn(10000)\n",
    "x.std(), (x * 0.2).std() \n"
   ]
  },
  {
   "cell_type": "code",
   "execution_count": 15,
   "id": "7b8af72a-8e36-41eb-8291-520d453af5c6",
   "metadata": {},
   "outputs": [
    {
     "data": {
      "text/plain": [
       "0.3042903097250923"
      ]
     },
     "execution_count": 15,
     "metadata": {},
     "output_type": "execute_result"
    }
   ],
   "source": [
    "# for tann and fanin of 10 x 3 (  characters 10 dimension) we have and we can use this in our weight inits\n",
    "(5/3) / (30**0.5)"
   ]
  },
  {
   "cell_type": "code",
   "execution_count": 43,
   "id": "25a0c1a6-0e80-43ba-b9f1-0b77828eb297",
   "metadata": {},
   "outputs": [
    {
     "name": "stdout",
     "output_type": "stream",
     "text": [
      "12297\n"
     ]
    }
   ],
   "source": [
    "n_embd = 10 # the dimensionality of the character embedding vectors\n",
    "n_hidden = 200 # the number of neurons in the hidden layer of the \n",
    "vocab_size = len(stoi) # the number of distinct characters \n",
    "\n",
    "g  = torch.Generator().manual_seed(2147483647)\n",
    "C  = torch.randn((vocab_size, n_embd),            generator=g) \n",
    "W1 = torch.randn((n_embd * block_size, n_hidden), generator=g) * (5/3)/((n_embd * block_size)**0.5) # 0.304 (prev 0.2)\n",
    "b1 = torch.randn(n_hidden,                        generator=g) * 0.01\n",
    "W2 = torch.randn((n_hidden, vocab_size),          generator=g) * 0.01 # setting these weights initial to minimise initial loss\n",
    "b2 = torch.randn(vocab_size,                      generator=g) * 0 # minimise initial loss\n",
    "\n",
    "# batch normalisation properties for moving the distributions around prior to the activation layer\n",
    "bngain = torch.ones((1, n_hidden))\n",
    "bnbias = torch.zeros((1, n_hidden))\n",
    "\n",
    "parameters = [C, W1, b1, W2, b2, bngain, bnbias]\n",
    "print(sum(p.nelement() for p in parameters))\n",
    "for p in parameters:\n",
    "    p.requires_grad = True"
   ]
  },
  {
   "cell_type": "code",
   "execution_count": 44,
   "id": "e5848271-f84c-4635-a40f-3646b387b7d6",
   "metadata": {},
   "outputs": [],
   "source": [
    "batch_size = 32\n",
    "lossi = []\n",
    "\n",
    "    # minibatch\n",
    "ix = torch.randint(0, Xtr.shape[0], (batch_size,), generator=g)\n",
    "Xb, Yb = Xtr[ix], Ytr[ix]    \n",
    "\n",
    "# forward pass\n",
    "emb = C[Xb] # emb chars into vectors\n",
    "embcat = emb.view(emb.shape[0],-1) # concat the vectors\n",
    "hpreact = embcat @ W1 + b1 # hidden layer pre-activation\n",
    "# hpreact  = bngain * (hpreact - hpreact.mean(0, keepdim=True)) / hpreact.std(0, keepdim=True) + bnbias # batch normalisation"
   ]
  },
  {
   "cell_type": "code",
   "execution_count": 51,
   "id": "2aec1b1d-0699-413d-b7ed-77124bc306a2",
   "metadata": {},
   "outputs": [
    {
     "data": {
      "image/png": "[encoded data removed]",
      "text/plain": [
       "<Figure size 640x480 with 2 Axes>"
      ]
     },
     "metadata": {},
     "output_type": "display_data"
    }
   ],
   "source": [
    "## the hidden layer in to the normalisation function looks like this, you can see that if this is passed into the activation function\n",
    "# it would situate the inputs\n",
    "# we normalise the results \n",
    "hpreact.mean(0), hpreact.std()\n",
    "# plt.figure(figsize=(20,5))\n",
    "plt.subplot(121)\n",
    "plt.hist(hpreact.view(-1).tolist(), 50, density=True, range=(-5,5));\n",
    "hpreact_normalised = (hpreact - hpreact.mean(0, keepdim=True)) / hpreact.std(0, keepdim=True)\n",
    "plt.subplot(122)\n",
    "plt.hist(hpreact_normalised.view(-1).tolist(), 50, density=True, range=(-5,5));\n",
    "# hpreact.mean(0, keepdim=True)"
   ]
  },
  {
   "cell_type": "code",
   "execution_count": 12,
   "id": "876f3fcb-6125-49fb-b376-090b79838c79",
   "metadata": {},
   "outputs": [
    {
     "data": {
      "text/plain": [
       "(tensor([ 1.,  5.,  7., 10., 14.]),\n",
       " tensor([-1.2983, -0.4869, -0.0811,  0.5274,  1.3389]))"
      ]
     },
     "execution_count": 12,
     "metadata": {},
     "output_type": "execute_result"
    }
   ],
   "source": [
    "t = torch.tensor([1.0,5,7,10,14])\n",
    "\n",
    "t.mean(), t.std()\n",
    "\n",
    "t, (t-t.mean())/t.std()"
   ]
  },
  {
   "cell_type": "code",
   "execution_count": 13,
   "id": "62d955ff-8be5-45e3-a802-d54c67e71f44",
   "metadata": {},
   "outputs": [
    {
     "data": {
      "text/plain": [
       "tensor([[ 0.7684, -0.0085, -0.2600,  ..., -0.0766, -0.9756,  0.6436],\n",
       "        [-0.7802, -0.1092,  0.3240,  ...,  0.3891,  0.2304, -0.1649],\n",
       "        [ 0.9022,  0.2443,  0.9296,  ...,  0.6069,  0.4123,  0.6291],\n",
       "        ...,\n",
       "        [-0.8040,  0.6509,  0.4486,  ...,  0.2486,  0.7272,  0.6350],\n",
       "        [-0.8423,  0.2175,  0.2310,  ...,  0.1998,  0.6036,  0.7062],\n",
       "        [-0.8040,  0.6509,  0.4486,  ...,  0.2486,  0.7272,  0.6350]],\n",
       "       grad_fn=<TanhBackward0>)"
      ]
     },
     "execution_count": 13,
     "metadata": {},
     "output_type": "execute_result"
    }
   ],
   "source": [
    "torch.tanh(hpreact)\n",
    "torch.tanh((hpreact - hpreact.mean(0, keepdim=True)) / hpreact.std(0, keepdim=True))\n"
   ]
  },
  {
   "cell_type": "code",
   "execution_count": 39,
   "id": "881545c3-b7d5-4141-ad95-7a5d16e82ea2",
   "metadata": {},
   "outputs": [
    {
     "data": {
      "text/plain": [
       "torch.Size([1, 200])"
      ]
     },
     "execution_count": 39,
     "metadata": {},
     "output_type": "execute_result"
    }
   ],
   "source": [
    "hpreact.std(0, keepdim=True).shape"
   ]
  },
  {
   "cell_type": "code",
   "execution_count": 44,
   "id": "e7dc2c40-7ad6-4e2b-aaa6-002fdaa04c01",
   "metadata": {},
   "outputs": [
    {
     "data": {
      "text/plain": [
       "tensor([[-5.9463e-01,  3.4700e-01, -1.0026e+00,  ...,  2.6492e-01,\n",
       "          6.3158e-01, -2.5486e-01],\n",
       "        [ 9.4725e-01,  1.1695e+00,  8.4106e-01,  ..., -4.1402e-01,\n",
       "         -1.9019e+00, -2.8816e-01],\n",
       "        [-2.8090e-01, -7.9473e-02, -8.3266e-01,  ...,  7.8353e-01,\n",
       "         -1.3001e+00, -2.8070e+00],\n",
       "        ...,\n",
       "        [ 3.6324e-02, -3.9484e-01,  8.0711e-01,  ...,  1.9542e-01,\n",
       "          1.4429e+00,  9.7142e-01],\n",
       "        [-1.1300e+00, -8.5776e-01, -2.2593e+00,  ...,  2.0953e+00,\n",
       "         -1.3826e-01, -1.7820e+00],\n",
       "        [-3.8166e-01, -1.9438e-03,  2.3947e-01,  ...,  1.2000e-01,\n",
       "          4.1730e-01, -5.0159e-01]], grad_fn=<DivBackward0>)"
      ]
     },
     "execution_count": 44,
     "metadata": {},
     "output_type": "execute_result"
    }
   ],
   "source": [
    "(hpreact - hpreact.mean(0, keepdim=True)) / hpreact.std(0, keepdim=True)"
   ]
  },
  {
   "cell_type": "code",
   "execution_count": 57,
   "id": "f4e14263-9379-4145-a890-b60bc4eb3624",
   "metadata": {},
   "outputs": [
    {
     "name": "stdout",
     "output_type": "stream",
     "text": [
      "12297\n"
     ]
    }
   ],
   "source": [
    "n_embd = 10 # the dimensionality of the character embedding vectors\n",
    "n_hidden = 200 # the number of neurons in the hidden layer of the \n",
    "vocab_size = len(stoi) # the number of distinct characters \n",
    "\n",
    "g  = torch.Generator().manual_seed(2147483647)\n",
    "C  = torch.randn((vocab_size, n_embd),            generator=g) \n",
    "W1 = torch.randn((n_embd * block_size, n_hidden), generator=g) * (5/3)/((n_embd * block_size)**0.5) # 0.304 (prev 0.2)\n",
    "b1 = torch.randn(n_hidden,                        generator=g) * 0.01\n",
    "W2 = torch.randn((n_hidden, vocab_size),          generator=g) * 0.01 # setting these weights initial to minimise initial loss\n",
    "b2 = torch.randn(vocab_size,                      generator=g) * 0 # minimise initial loss\n",
    "\n",
    "# batch normalisation properties for moving the distributions around prior to the activation layer\n",
    "bngain = torch.ones((1, n_hidden))\n",
    "bnbias = torch.zeros((1, n_hidden))\n",
    "\n",
    "parameters = [C, W1, b1, W2, b2, bngain, bnbias]\n",
    "print(sum(p.nelement() for p in parameters))\n",
    "for p in parameters:\n",
    "    p.requires_grad = True"
   ]
  },
  {
   "cell_type": "code",
   "execution_count": 58,
   "id": "0fc5a814-2689-4166-b140-1f8a0f7d8f5a",
   "metadata": {},
   "outputs": [
    {
     "name": "stdout",
     "output_type": "stream",
     "text": [
      "      0/ 200000: 3.3147\n",
      "  10000/ 200000: 2.1984\n",
      "  20000/ 200000: 2.3375\n",
      "  30000/ 200000: 2.4359\n",
      "  40000/ 200000: 2.0119\n",
      "  50000/ 200000: 2.2595\n",
      "  60000/ 200000: 2.4775\n",
      "  70000/ 200000: 2.1020\n",
      "  80000/ 200000: 2.2788\n",
      "  90000/ 200000: 2.1862\n",
      " 100000/ 200000: 1.9474\n",
      " 110000/ 200000: 2.3010\n",
      " 120000/ 200000: 1.9837\n",
      " 130000/ 200000: 2.4523\n",
      " 140000/ 200000: 2.3839\n",
      " 150000/ 200000: 2.1987\n",
      " 160000/ 200000: 1.9733\n",
      " 170000/ 200000: 1.8668\n",
      " 180000/ 200000: 1.9973\n",
      " 190000/ 200000: 1.8347\n"
     ]
    }
   ],
   "source": [
    "max_steps = 200_000\n",
    "batch_size = 32\n",
    "lossi = []\n",
    "\n",
    "for i in range(max_steps):\n",
    "    \n",
    "    # minibatch\n",
    "    ix = torch.randint(0, Xtr.shape[0], (batch_size,), generator=g)\n",
    "    Xb, Yb = Xtr[ix], Ytr[ix]    \n",
    "    \n",
    "    # forward pass\n",
    "    emb = C[Xb] # emb chars into vectors\n",
    "    embcat = emb.view(emb.shape[0],-1) # concat the vectors\n",
    "    hpreact = embcat @ W1 + b1 # hidden layer pre-activation\n",
    "    hpreact  = bngain * (hpreact - hpreact.mean(0, keepdim=True)) / hpreact.std(0, keepdim=True) + bnbias # batch normalisation\n",
    "    h = torch.tanh(hpreact) # hidden layer\n",
    "    logits = h @ W2 + b2 # output layer\n",
    "    loss = F.cross_entropy(logits, Yb) # loss function\n",
    "\n",
    "    # backward pass\n",
    "    for p in parameters:\n",
    "        p.grad = None\n",
    "    loss.backward()\n",
    "\n",
    "    # update\n",
    "    lr = 0.1 if i < 100_000 else 0.01 # step learning decay\n",
    "    for p in parameters:\n",
    "        p.data += -lr * p.grad\n",
    "\n",
    "    # track stats\n",
    "    if i % 10000 == 0: # print every so often\n",
    "        print(f\"{i:7d}/{max_steps:7d}: {loss.item():.4f}\")\n",
    "    lossi.append(loss.log10().item())"
   ]
  },
  {
   "cell_type": "code",
   "execution_count": 54,
   "id": "262f98f9-f8b4-4423-ba39-7815382ad748",
   "metadata": {},
   "outputs": [],
   "source": [
    "# calibrate the batch norm at the end of training\n",
    "with torch.no_grad():\n",
    "    # pass the training set through\n",
    "    emb = C[Xtr]\n",
    "    embcat = emb.view(emb.shape[0], -1)\n",
    "    # measure the mean/std over the entire dataset\n",
    "    hpreact = embcat @ W1 + b1\n",
    "    bnmean = hpreact.mean(0, keepdim=True)\n",
    "    bnstd = hpreact.std(0, keepdim=True)\n"
   ]
  },
  {
   "cell_type": "code",
   "execution_count": 55,
   "id": "d5f0247c-db0e-49ea-85bd-f305f677cd44",
   "metadata": {},
   "outputs": [],
   "source": [
    "@torch.no_grad() # decorator disables gradient tracking\n",
    "def split_loss(split):\n",
    "    x, y = {\n",
    "        'train': (Xtr,Ytr),\n",
    "        'val': (Xdev, Ydev),\n",
    "        'test': (Xtr, Yte)\n",
    "    }[split]\n",
    "\n",
    "    emb = C[x] # load examples and embed the char vector\n",
    "    embcat = emb.view(emb.shape[0], -1) # adjust shape \n",
    "    hpreact = embcat @ W1 + b1\n",
    "    # hpreact = bngain * (hpreact - hpreact.mean(0, keepdim=True)) / hpreact.std(0, keepdim=True) + bnbias\n",
    "    hpreact = bngain * (hpreact - bnmean) / bnstd + bnbias\n",
    "    h = torch.tanh(hpreact) # matmul: (samples, block_size * emb) @ (block_size * emb, n_hidden), h: samples, n_hidden\n",
    "    logits = h @ W2 + b2 #(samples, 27)\n",
    "    loss= F.cross_entropy(logits, y)\n",
    "    print(split, loss.item())"
   ]
  },
  {
   "cell_type": "code",
   "execution_count": 56,
   "id": "75b567bc-9c7a-4c6d-87ac-e9aeebc07401",
   "metadata": {},
   "outputs": [
    {
     "name": "stdout",
     "output_type": "stream",
     "text": [
      "train 3.3056492805480957\n",
      "val 3.305365800857544\n"
     ]
    }
   ],
   "source": [
    "split_loss('train')\n",
    "split_loss('val')"
   ]
  },
  {
   "cell_type": "code",
   "execution_count": 52,
   "id": "34f086f6-0038-4fcb-bc21-75d75cca9cd7",
   "metadata": {},
   "outputs": [
    {
     "data": {
      "text/plain": [
       "(torch.Size([32, 200]), torch.Size([1, 200]))"
      ]
     },
     "execution_count": 52,
     "metadata": {},
     "output_type": "execute_result"
    }
   ],
   "source": [
    "# the normalisation couples the mini batches together which introduces a jitter for hpreact, h, logits\n",
    "# this is actually good, it's like a regulariser, adding a bit of entropy - data argumentation so avoid overfitting\n",
    "# slightly weird! \n",
    "\n",
    "hpreact.shape, hpreact.mean(0, keepdim=True).shape"
   ]
  },
  {
   "cell_type": "code",
   "execution_count": 42,
   "id": "3f6f66a3-d120-44e9-b0ca-a3e0153b28aa",
   "metadata": {},
   "outputs": [
    {
     "name": "stdout",
     "output_type": "stream",
     "text": [
      "briangmyazziyes.\n",
      "bdulyah.\n",
      "briyas.\n",
      "brdrner.\n",
      "sherkodrlithlyllsenleigh.\n",
      "santhannchyziohmkrrnn.\n",
      "shdumrishimnest.\n",
      "jadestly.\n",
      "prgbdulfuubdgghder.\n",
      "jaquezmashburjahsis.\n",
      "dashby.\n",
      "sadya.\n",
      "sus.\n",
      "zakquslutel.\n",
      "subristia.\n",
      "sumprrdnn.\n",
      "quloeonandphillsamreyxa.\n",
      "hunton.\n",
      "bdasirfalvinnwrllwildtalfr.\n",
      "tandysestss.\n"
     ]
    }
   ],
   "source": [
    "# sample from the model. start with context and predict next char index, by passing in context to model, generating the logits \n",
    "# using softmax to convert them to a prob distribution. select char indexes from the prob randomly and add these to a result out array\n",
    "# print out the array when predicted char index ref to '.' is returned\n",
    "    \n",
    "g = torch.Generator().manual_seed(2147483647 + 10)\n",
    "\n",
    "for _ in range(20):\n",
    "    context = [0] * block_size\n",
    "    out = []\n",
    "    while True:\n",
    "        emb = C[torch.tensor(context)]\n",
    "        embcat = emb.view(1, -1)\n",
    "        h = torch.tanh(embcat @ W1 + b1)\n",
    "        logits = h @ W2 + b2\n",
    "        probs = F.softmax(logits, dim=1) # exponent of logits and sum so each distribution sums to 1\n",
    "        ix = torch.multinomial(probs, num_samples=1, generator=g).item() # select one char index from distribution based on probs\n",
    "        context = context[1:] + [ix]\n",
    "        out.append(ix)\n",
    "        if ix == 0:\n",
    "            break\n",
    "    print(''.join([itos[i] for i in out]))\n"
   ]
  },
  {
   "cell_type": "code",
   "execution_count": null,
   "id": "5008acce-89bd-410c-b99c-1673124dbcd9",
   "metadata": {},
   "outputs": [],
   "source": []
  },
  {
   "cell_type": "code",
   "execution_count": null,
   "id": "62068662-207c-48e6-b6a4-e42aab229d04",
   "metadata": {},
   "outputs": [],
   "source": [
    "# loss log\n",
    "# original \n",
    "train: 2.1234\n",
    "val:   2.168\n",
    "\n",
    "# fix softmax confidently wrong: \n",
    "train: 2.07\n",
    "val:   2.13\n",
    "\n",
    "# fix tanh layer too saturated at init:\n",
    "train:  2.04\n",
    "val:    2.10\n",
    "\n",
    "# adusting initialsation weights and bias manually\n",
    "train 2.0355966091156006\n",
    "val 2.1026782989501953"
   ]
  },
  {
   "cell_type": "code",
   "execution_count": null,
   "id": "1a865290-0640-483a-af86-57fb2f4f53b5",
   "metadata": {},
   "outputs": [],
   "source": []
  }
 ],
 "metadata": {
  "kernelspec": {
   "display_name": "Python 3 (ipykernel)",
   "language": "python",
   "name": "python3"
  },
  "language_info": {
   "codemirror_mode": {
    "name": "ipython",
    "version": 3
   },
   "file_extension": ".py",
   "mimetype": "text/x-python",
   "name": "python",
   "nbconvert_exporter": "python",
   "pygments_lexer": "ipython3",
   "version": "3.11.6"
  }
 },
 "nbformat": 4,
 "nbformat_minor": 5
}
