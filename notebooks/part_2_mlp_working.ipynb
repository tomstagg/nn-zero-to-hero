{
 "cells": [
  {
   "cell_type": "code",
   "execution_count": 14,
   "id": "4a2504fd-f69c-4ccb-8b0b-0c3a441a8b2a",
   "metadata": {},
   "outputs": [],
   "source": [
    "import torch\n",
    "import torch.nn.functional as F\n",
    "import matplotlib.pyplot as plt"
   ]
  },
  {
   "cell_type": "code",
   "execution_count": 15,
   "id": "d9a37b59-f4e1-46f5-a639-ec1053a71bc5",
   "metadata": {},
   "outputs": [],
   "source": [
    "words = open(\"../names.txt\",\"r\").read().splitlines()"
   ]
  },
  {
   "cell_type": "code",
   "execution_count": 16,
   "id": "d61110b7-bb45-4cd3-a0ce-6f0d67dc8539",
   "metadata": {},
   "outputs": [
    {
     "data": {
      "text/plain": [
       "(['emma', 'olivia', 'ava', 'isabella', 'sophia', 'charlotte', 'mia', 'amelia'],\n",
       " 32033)"
      ]
     },
     "execution_count": 16,
     "metadata": {},
     "output_type": "execute_result"
    }
   ],
   "source": [
    "words[:8], len(words)"
   ]
  },
  {
   "cell_type": "code",
   "execution_count": 17,
   "id": "42e19e2a-d07d-449c-9a2e-ff225ed0e8d9",
   "metadata": {},
   "outputs": [
    {
     "name": "stdout",
     "output_type": "stream",
     "text": [
      "{0: '.', 1: 'a', 2: 'b', 3: 'c', 4: 'd', 5: 'e', 6: 'f', 7: 'g', 8: 'h', 9: 'i', 10: 'j', 11: 'k', 12: 'l', 13: 'm', 14: 'n', 15: 'o', 16: 'p', 17: 'q', 18: 'r', 19: 's', 20: 't', 21: 'u', 22: 'v', 23: 'w', 24: 'x', 25: 'y', 26: 'z'}\n"
     ]
    }
   ],
   "source": [
    "# build chars into mapping to and from ints:\n",
    "chars = ['.'] + sorted(list(set(''.join(words))))\n",
    "itos = {k:v for k,v in enumerate(chars)}\n",
    "stoi = {v:k for k,v in itos.items()}\n",
    "print(itos)"
   ]
  },
  {
   "cell_type": "code",
   "execution_count": 18,
   "id": "2b2f08d6",
   "metadata": {},
   "outputs": [
    {
     "name": "stdout",
     "output_type": "stream",
     "text": [
      "emma\n",
      "... --> e\n",
      "..e --> m\n",
      ".em --> m\n",
      "emm --> a\n",
      "mma --> .\n",
      "olivia\n",
      "... --> o\n",
      "..o --> l\n",
      ".ol --> i\n",
      "oli --> v\n",
      "liv --> i\n",
      "ivi --> a\n",
      "via --> .\n",
      "ava\n",
      "... --> a\n",
      "..a --> v\n",
      ".av --> a\n",
      "ava --> .\n",
      "isabella\n",
      "... --> i\n",
      "..i --> s\n",
      ".is --> a\n",
      "isa --> b\n",
      "sab --> e\n",
      "abe --> l\n",
      "bel --> l\n",
      "ell --> a\n",
      "lla --> .\n",
      "sophia\n",
      "... --> s\n",
      "..s --> o\n",
      ".so --> p\n",
      "sop --> h\n",
      "oph --> i\n",
      "phi --> a\n",
      "hia --> .\n"
     ]
    }
   ],
   "source": [
    "# building the dataset\n",
    "\n",
    "block_size = 3 # how many characters do we want to use to predict the next one\n",
    "\n",
    "X,Y = [],[]\n",
    "for word in words[:5]:\n",
    "    print(word)\n",
    "    context = [0] * block_size\n",
    "    for chr in word + '.':\n",
    "        ix = stoi[chr]\n",
    "        X.append(context)\n",
    "        Y.append(ix)\n",
    "        print(''.join(itos[c] for c in context), '-->', chr)\n",
    "        context = context[1:] + [ix] # crop the first and add the next\n",
    "X = torch.tensor(X)\n",
    "Y = torch.tensor(Y)"
   ]
  },
  {
   "cell_type": "code",
   "execution_count": 19,
   "id": "9b0ff84a-be4a-4fc9-8d54-812d133254f4",
   "metadata": {},
   "outputs": [
    {
     "data": {
      "text/plain": [
       "(torch.Size([32, 3]), torch.int64, torch.Size([32]), torch.int64)"
      ]
     },
     "execution_count": 19,
     "metadata": {},
     "output_type": "execute_result"
    }
   ],
   "source": [
    "# resulting shapes:\n",
    "X.shape, X.dtype, Y.shape, Y.dtype"
   ]
  },
  {
   "cell_type": "code",
   "execution_count": 20,
   "id": "6fa11a80-1901-4d15-ad56-b5244ab86ef9",
   "metadata": {},
   "outputs": [],
   "source": [
    "# creating the lookup table - we'll create a 2d embedding for 27 character\n",
    "C = torch.rand((27,2))"
   ]
  },
  {
   "cell_type": "code",
   "execution_count": 21,
   "id": "5008986e-6534-436b-b917-fba075b23797",
   "metadata": {},
   "outputs": [
    {
     "data": {
      "text/plain": [
       "tensor([True, True])"
      ]
     },
     "execution_count": 21,
     "metadata": {},
     "output_type": "execute_result"
    }
   ],
   "source": [
    "# previously we used one hot encoding\n",
    "# note that need to pass a tensor into this, output is a int - cast to float()\n",
    "# one-hot will use matmul to pick out the 5th row of C and is equivalent:\n",
    "F.one_hot(torch.tensor(5), num_classes=27).float() @ C == C[5]"
   ]
  },
  {
   "cell_type": "code",
   "execution_count": 22,
   "id": "9ab9eac1-cfd9-49e5-ac0a-169def065d21",
   "metadata": {},
   "outputs": [
    {
     "data": {
      "text/plain": [
       "(tensor([0.1541, 0.6384]),\n",
       " tensor([[0.1541, 0.6384],\n",
       "         [0.1541, 0.6384],\n",
       "         [0.1187, 0.2019]]),\n",
       " tensor([[0.1541, 0.6384],\n",
       "         [0.1541, 0.6384],\n",
       "         [0.1187, 0.2019]]))"
      ]
     },
     "execution_count": 22,
     "metadata": {},
     "output_type": "execute_result"
    }
   ],
   "source": [
    "# pytorch is flexible for indexing, you can use a list or even a tensor:\n",
    "C[5], C[[5,5,6]], C[torch.tensor([5,5,6])]"
   ]
  },
  {
   "cell_type": "code",
   "execution_count": 23,
   "id": "e4b9a531-a56c-40b7-b3e6-fba72f7f9ab6",
   "metadata": {},
   "outputs": [
    {
     "data": {
      "text/plain": [
       "(torch.int64, torch.Size([32, 3, 2]))"
      ]
     },
     "execution_count": 23,
     "metadata": {},
     "output_type": "execute_result"
    }
   ],
   "source": [
    "# you can even use a multi dimensional tensor of integers:\n",
    "X.dtype, C[X].shape"
   ]
  },
  {
   "cell_type": "code",
   "execution_count": 24,
   "id": "c705bf93-f7b8-4209-a1a8-5e1a7f05ad6c",
   "metadata": {},
   "outputs": [
    {
     "data": {
      "text/plain": [
       "(tensor([0.3946, 0.9265]),\n",
       " tensor([[[0.9850, 0.8307],\n",
       "          [0.9850, 0.8307],\n",
       "          [0.9850, 0.8307]],\n",
       " \n",
       "         [[0.9850, 0.8307],\n",
       "          [0.9850, 0.8307],\n",
       "          [0.1541, 0.6384]],\n",
       " \n",
       "         [[0.9850, 0.8307],\n",
       "          [0.1541, 0.6384],\n",
       "          [0.3882, 0.4267]],\n",
       " \n",
       "         [[0.1541, 0.6384],\n",
       "          [0.3882, 0.4267],\n",
       "          [0.3882, 0.4267]],\n",
       " \n",
       "         [[0.3882, 0.4267],\n",
       "          [0.3882, 0.4267],\n",
       "          [0.3946, 0.9265]],\n",
       " \n",
       "         [[0.9850, 0.8307],\n",
       "          [0.9850, 0.8307],\n",
       "          [0.9850, 0.8307]],\n",
       " \n",
       "         [[0.9850, 0.8307],\n",
       "          [0.9850, 0.8307],\n",
       "          [0.8874, 0.4195]],\n",
       " \n",
       "         [[0.9850, 0.8307],\n",
       "          [0.8874, 0.4195],\n",
       "          [0.0071, 0.3440]],\n",
       " \n",
       "         [[0.8874, 0.4195],\n",
       "          [0.0071, 0.3440],\n",
       "          [0.4621, 0.0948]],\n",
       " \n",
       "         [[0.0071, 0.3440],\n",
       "          [0.4621, 0.0948],\n",
       "          [0.5333, 0.4286]],\n",
       " \n",
       "         [[0.4621, 0.0948],\n",
       "          [0.5333, 0.4286],\n",
       "          [0.4621, 0.0948]],\n",
       " \n",
       "         [[0.5333, 0.4286],\n",
       "          [0.4621, 0.0948],\n",
       "          [0.3946, 0.9265]],\n",
       " \n",
       "         [[0.9850, 0.8307],\n",
       "          [0.9850, 0.8307],\n",
       "          [0.9850, 0.8307]],\n",
       " \n",
       "         [[0.9850, 0.8307],\n",
       "          [0.9850, 0.8307],\n",
       "          [0.3946, 0.9265]],\n",
       " \n",
       "         [[0.9850, 0.8307],\n",
       "          [0.3946, 0.9265],\n",
       "          [0.5333, 0.4286]],\n",
       " \n",
       "         [[0.3946, 0.9265],\n",
       "          [0.5333, 0.4286],\n",
       "          [0.3946, 0.9265]],\n",
       " \n",
       "         [[0.9850, 0.8307],\n",
       "          [0.9850, 0.8307],\n",
       "          [0.9850, 0.8307]],\n",
       " \n",
       "         [[0.9850, 0.8307],\n",
       "          [0.9850, 0.8307],\n",
       "          [0.4621, 0.0948]],\n",
       " \n",
       "         [[0.9850, 0.8307],\n",
       "          [0.4621, 0.0948],\n",
       "          [0.3561, 0.9755]],\n",
       " \n",
       "         [[0.4621, 0.0948],\n",
       "          [0.3561, 0.9755],\n",
       "          [0.3946, 0.9265]],\n",
       " \n",
       "         [[0.3561, 0.9755],\n",
       "          [0.3946, 0.9265],\n",
       "          [0.9117, 0.8477]],\n",
       " \n",
       "         [[0.3946, 0.9265],\n",
       "          [0.9117, 0.8477],\n",
       "          [0.1541, 0.6384]],\n",
       " \n",
       "         [[0.9117, 0.8477],\n",
       "          [0.1541, 0.6384],\n",
       "          [0.0071, 0.3440]],\n",
       " \n",
       "         [[0.1541, 0.6384],\n",
       "          [0.0071, 0.3440],\n",
       "          [0.0071, 0.3440]],\n",
       " \n",
       "         [[0.0071, 0.3440],\n",
       "          [0.0071, 0.3440],\n",
       "          [0.3946, 0.9265]],\n",
       " \n",
       "         [[0.9850, 0.8307],\n",
       "          [0.9850, 0.8307],\n",
       "          [0.9850, 0.8307]],\n",
       " \n",
       "         [[0.9850, 0.8307],\n",
       "          [0.9850, 0.8307],\n",
       "          [0.3561, 0.9755]],\n",
       " \n",
       "         [[0.9850, 0.8307],\n",
       "          [0.3561, 0.9755],\n",
       "          [0.8874, 0.4195]],\n",
       " \n",
       "         [[0.3561, 0.9755],\n",
       "          [0.8874, 0.4195],\n",
       "          [0.2422, 0.9759]],\n",
       " \n",
       "         [[0.8874, 0.4195],\n",
       "          [0.2422, 0.9759],\n",
       "          [0.4761, 0.8414]],\n",
       " \n",
       "         [[0.2422, 0.9759],\n",
       "          [0.4761, 0.8414],\n",
       "          [0.4621, 0.0948]],\n",
       " \n",
       "         [[0.4761, 0.8414],\n",
       "          [0.4621, 0.0948],\n",
       "          [0.3946, 0.9265]]]),\n",
       " tensor([True, True]))"
      ]
     },
     "execution_count": 24,
     "metadata": {},
     "output_type": "execute_result"
    }
   ],
   "source": [
    "# X    -> (32, 3)\n",
    "# C    -> (27, 2)\n",
    "# C[X] -> (32, 3, 2) \n",
    "C[1], C[X], C[X][13,2] == C[1]"
   ]
  },
  {
   "cell_type": "code",
   "execution_count": 25,
   "id": "636a412a-3d54-47aa-ae37-86d8726db45f",
   "metadata": {},
   "outputs": [
    {
     "data": {
      "text/plain": [
       "torch.Size([32, 3, 2])"
      ]
     },
     "execution_count": 25,
     "metadata": {},
     "output_type": "execute_result"
    }
   ],
   "source": [
    "# create the embedding, associate 2d embedding with each character in block for each training example\n",
    "emb = C[X]\n",
    "emb.shape"
   ]
  },
  {
   "cell_type": "code",
   "execution_count": 26,
   "id": "2fbe03e9-fbb5-49f7-a1d5-e5e0c10b84f5",
   "metadata": {},
   "outputs": [],
   "source": [
    "# build the hidden layer: pick 100, a hyperparameter. Weights plus bias\n",
    "W1 = torch.randn((6,100))\n",
    "b1 = torch.randn(100)"
   ]
  },
  {
   "cell_type": "code",
   "execution_count": 27,
   "id": "b5022f17-46d6-4715-a42a-ecba9360af62",
   "metadata": {},
   "outputs": [
    {
     "data": {
      "text/plain": [
       "tensor([[0.9850, 0.8307, 0.9850, 0.8307, 0.9850, 0.8307],\n",
       "        [0.9850, 0.8307, 0.9850, 0.8307, 0.1541, 0.6384],\n",
       "        [0.9850, 0.8307, 0.1541, 0.6384, 0.3882, 0.4267],\n",
       "        [0.1541, 0.6384, 0.3882, 0.4267, 0.3882, 0.4267],\n",
       "        [0.3882, 0.4267, 0.3882, 0.4267, 0.3946, 0.9265],\n",
       "        [0.9850, 0.8307, 0.9850, 0.8307, 0.9850, 0.8307],\n",
       "        [0.9850, 0.8307, 0.9850, 0.8307, 0.8874, 0.4195],\n",
       "        [0.9850, 0.8307, 0.8874, 0.4195, 0.0071, 0.3440],\n",
       "        [0.8874, 0.4195, 0.0071, 0.3440, 0.4621, 0.0948],\n",
       "        [0.0071, 0.3440, 0.4621, 0.0948, 0.5333, 0.4286],\n",
       "        [0.4621, 0.0948, 0.5333, 0.4286, 0.4621, 0.0948],\n",
       "        [0.5333, 0.4286, 0.4621, 0.0948, 0.3946, 0.9265],\n",
       "        [0.9850, 0.8307, 0.9850, 0.8307, 0.9850, 0.8307],\n",
       "        [0.9850, 0.8307, 0.9850, 0.8307, 0.3946, 0.9265],\n",
       "        [0.9850, 0.8307, 0.3946, 0.9265, 0.5333, 0.4286],\n",
       "        [0.3946, 0.9265, 0.5333, 0.4286, 0.3946, 0.9265],\n",
       "        [0.9850, 0.8307, 0.9850, 0.8307, 0.9850, 0.8307],\n",
       "        [0.9850, 0.8307, 0.9850, 0.8307, 0.4621, 0.0948],\n",
       "        [0.9850, 0.8307, 0.4621, 0.0948, 0.3561, 0.9755],\n",
       "        [0.4621, 0.0948, 0.3561, 0.9755, 0.3946, 0.9265],\n",
       "        [0.3561, 0.9755, 0.3946, 0.9265, 0.9117, 0.8477],\n",
       "        [0.3946, 0.9265, 0.9117, 0.8477, 0.1541, 0.6384],\n",
       "        [0.9117, 0.8477, 0.1541, 0.6384, 0.0071, 0.3440],\n",
       "        [0.1541, 0.6384, 0.0071, 0.3440, 0.0071, 0.3440],\n",
       "        [0.0071, 0.3440, 0.0071, 0.3440, 0.3946, 0.9265],\n",
       "        [0.9850, 0.8307, 0.9850, 0.8307, 0.9850, 0.8307],\n",
       "        [0.9850, 0.8307, 0.9850, 0.8307, 0.3561, 0.9755],\n",
       "        [0.9850, 0.8307, 0.3561, 0.9755, 0.8874, 0.4195],\n",
       "        [0.3561, 0.9755, 0.8874, 0.4195, 0.2422, 0.9759],\n",
       "        [0.8874, 0.4195, 0.2422, 0.9759, 0.4761, 0.8414],\n",
       "        [0.2422, 0.9759, 0.4761, 0.8414, 0.4621, 0.0948],\n",
       "        [0.4761, 0.8414, 0.4621, 0.0948, 0.3946, 0.9265]])"
      ]
     },
     "execution_count": 27,
     "metadata": {},
     "output_type": "execute_result"
    }
   ],
   "source": [
    "# we can't multiple matrixes together as emb -> (32, 3, 2) and W1 -> (6, 100)\n",
    "# matmul only works if A is m x n, B is n x p, then for C = AB, C is m x p , n must be the same in both matrixes\n",
    "# so above won't work as emb can be multiplied by W1 so must convert emb -> (32, 6)\n",
    "\n",
    "# first way to do thi us via concat, where we pick the sequence char indexes of the block and concat on the columns (1):\n",
    "torch.cat([emb[:,0,:], emb[:,1,:],emb[:,2,:]],1)"
   ]
  },
  {
   "cell_type": "code",
   "execution_count": 28,
   "id": "71a6050b-a36c-43e8-9f62-708af4a52f92",
   "metadata": {},
   "outputs": [
    {
     "data": {
      "text/plain": [
       "torch.Size([32, 6])"
      ]
     },
     "execution_count": 28,
     "metadata": {},
     "output_type": "execute_result"
    }
   ],
   "source": [
    "# second option: the above would work but doesn't generalise to the block size\n",
    "# instead can use torch.unbind - this removes a dimesion and returns a tuple, no data is lost\n",
    "# then this can be passed into the cat function on columns to make a (32, 6) output:\n",
    "torch.cat(torch.unbind(emb,1),1).shape"
   ]
  },
  {
   "cell_type": "code",
   "execution_count": 29,
   "id": "d17f54bb-c75d-423c-a023-b478a3b66d09",
   "metadata": {},
   "outputs": [
    {
     "data": {
      "text/plain": [
       "tensor([[True, True, True, True, True, True],\n",
       "        [True, True, True, True, True, True],\n",
       "        [True, True, True, True, True, True],\n",
       "        [True, True, True, True, True, True],\n",
       "        [True, True, True, True, True, True],\n",
       "        [True, True, True, True, True, True],\n",
       "        [True, True, True, True, True, True],\n",
       "        [True, True, True, True, True, True],\n",
       "        [True, True, True, True, True, True],\n",
       "        [True, True, True, True, True, True],\n",
       "        [True, True, True, True, True, True],\n",
       "        [True, True, True, True, True, True],\n",
       "        [True, True, True, True, True, True],\n",
       "        [True, True, True, True, True, True],\n",
       "        [True, True, True, True, True, True],\n",
       "        [True, True, True, True, True, True],\n",
       "        [True, True, True, True, True, True],\n",
       "        [True, True, True, True, True, True],\n",
       "        [True, True, True, True, True, True],\n",
       "        [True, True, True, True, True, True],\n",
       "        [True, True, True, True, True, True],\n",
       "        [True, True, True, True, True, True],\n",
       "        [True, True, True, True, True, True],\n",
       "        [True, True, True, True, True, True],\n",
       "        [True, True, True, True, True, True],\n",
       "        [True, True, True, True, True, True],\n",
       "        [True, True, True, True, True, True],\n",
       "        [True, True, True, True, True, True],\n",
       "        [True, True, True, True, True, True],\n",
       "        [True, True, True, True, True, True],\n",
       "        [True, True, True, True, True, True],\n",
       "        [True, True, True, True, True, True]])"
      ]
     },
     "execution_count": 29,
     "metadata": {},
     "output_type": "execute_result"
    }
   ],
   "source": [
    "# third and simpliest option is to make use of pytorch internals. data is stored continguously within the tensor \n",
    "# and we can use a view on top of the data structure to shape our tensors dimensionality, via stride properties, to do this:\n",
    "emb.view(32,6) == torch.cat(torch.unbind(emb,1),1)"
   ]
  },
  {
   "cell_type": "code",
   "execution_count": 30,
   "id": "c8c672f9-1dfc-4063-8359-27bf314cbf0e",
   "metadata": {},
   "outputs": [
    {
     "data": {
      "text/plain": [
       "torch.Size([32, 100])"
      ]
     },
     "execution_count": 30,
     "metadata": {},
     "output_type": "execute_result"
    }
   ],
   "source": [
    "# so this will work matmul: (32,6) @ (6,100) -> (32,100). Also using -1 will infer what it should be.\n",
    "# This is more efficient whereas cat creates a new tensor which requires more memory. \n",
    "h = torch.tanh(emb.view(-1, 6) @ W1 + b1)\n",
    "h.shape"
   ]
  },
  {
   "cell_type": "code",
   "execution_count": 31,
   "id": "ecfe73b2-d5df-4467-b867-09f13561b21a",
   "metadata": {},
   "outputs": [
    {
     "data": {
      "text/plain": [
       "(torch.Size([32, 100]), torch.Size([100]))"
      ]
     },
     "execution_count": 31,
     "metadata": {},
     "output_type": "execute_result"
    }
   ],
   "source": [
    "# need to be careful about broadcasting. In this case:\n",
    "# (32,100) \n",
    "#  ( 1,100) broadcasting is aligned to right\n",
    "(emb.view(-1,6) @ W1).shape, b1.shape"
   ]
  },
  {
   "cell_type": "code",
   "execution_count": 32,
   "id": "d98d3628-6403-4aa6-b8c3-247eced53a44",
   "metadata": {},
   "outputs": [],
   "source": [
    "# this is the hidden layer which we initalise with same number of neurons as hidden layer, output is one of 27 char values\n",
    "W2 = torch.randn((100,27))\n",
    "b2 = torch.randn(27)\n",
    "logits = h @ W2 + b2"
   ]
  },
  {
   "cell_type": "code",
   "execution_count": 33,
   "id": "e607810f-02b9-430b-9042-e781e019d1c3",
   "metadata": {},
   "outputs": [
    {
     "data": {
      "text/plain": [
       "torch.Size([32, 27])"
      ]
     },
     "execution_count": 33,
     "metadata": {},
     "output_type": "execute_result"
    }
   ],
   "source": [
    "logits.shape"
   ]
  },
  {
   "cell_type": "code",
   "execution_count": 34,
   "id": "5d931f00-f72c-4e2c-b5fe-45ba997633f8",
   "metadata": {},
   "outputs": [
    {
     "data": {
      "text/plain": [
       "torch.Size([32, 27])"
      ]
     },
     "execution_count": 34,
     "metadata": {},
     "output_type": "execute_result"
    }
   ],
   "source": [
    "# we now do the same as previously to get the probability: \n",
    "counts = logits.exp()\n",
    "prob = counts / counts.sum(1, keepdims=True)\n",
    "prob.shape"
   ]
  },
  {
   "cell_type": "code",
   "execution_count": 35,
   "id": "28cbd294-8908-41c2-b069-6a95b1586cbb",
   "metadata": {},
   "outputs": [
    {
     "data": {
      "text/plain": [
       "tensor(1.0000)"
      ]
     },
     "execution_count": 35,
     "metadata": {},
     "output_type": "execute_result"
    }
   ],
   "source": [
    "prob[0].sum()"
   ]
  },
  {
   "cell_type": "code",
   "execution_count": 36,
   "id": "583c8020-8f92-443e-9075-a1abb4cac6c1",
   "metadata": {},
   "outputs": [
    {
     "data": {
      "text/plain": [
       "tensor([ 5, 13, 13,  1,  0, 15, 12,  9, 22,  9,  1,  0,  1, 22,  1,  0,  9, 19,\n",
       "         1,  2,  5, 12, 12,  1,  0, 19, 15, 16,  8,  9,  1,  0])"
      ]
     },
     "execution_count": 36,
     "metadata": {},
     "output_type": "execute_result"
    }
   ],
   "source": [
    "# next we calculate the loss based on the training set output. We need to pull out the prob for each result.\n",
    "# the results are:\n",
    "Y"
   ]
  },
  {
   "cell_type": "code",
   "execution_count": 37,
   "id": "c52e1306-46ec-4261-99d0-d227e910d634",
   "metadata": {},
   "outputs": [
    {
     "data": {
      "text/plain": [
       "tensor(13.9523)"
      ]
     },
     "execution_count": 37,
     "metadata": {},
     "output_type": "execute_result"
    }
   ],
   "source": [
    "# using the natural log (ln) and mean to get the loss for the training set:  \n",
    "loss = -prob[torch.arange(32),Y].log().mean()\n",
    "loss"
   ]
  },
  {
   "cell_type": "code",
   "execution_count": 38,
   "id": "081a463c-2367-447b-8ba7-d221245ac88e",
   "metadata": {},
   "outputs": [
    {
     "data": {
      "text/plain": [
       "(torch.Size([32, 3]), torch.Size([32]))"
      ]
     },
     "execution_count": 38,
     "metadata": {},
     "output_type": "execute_result"
    }
   ],
   "source": [
    "# refactor the above and summarise:\n",
    "X.shape, Y.shape"
   ]
  },
  {
   "cell_type": "code",
   "execution_count": 39,
   "id": "1e2a3b5e-fde2-418f-91a9-62056ca71d06",
   "metadata": {},
   "outputs": [
    {
     "data": {
      "text/plain": [
       "tensor(13.9523)"
      ]
     },
     "execution_count": 39,
     "metadata": {},
     "output_type": "execute_result"
    }
   ],
   "source": [
    "# forward pass consolidation: \n",
    "emb = C[X] # (32, 3, 2)\n",
    "h = torch.tanh(emb.view(-1,6) @ W1 + b1) # (32,100)\n",
    "logits = h @ W2 + b2 # (32,27)\n",
    "## replace below with cross entropy: \n",
    "counts = logits.exp()\n",
    "prob = counts / counts.sum(1, keepdims=True)\n",
    "loss = -prob[torch.arange(32), Y].log().mean()\n",
    "loss"
   ]
  },
  {
   "cell_type": "code",
   "execution_count": 40,
   "id": "7e470eff-e77c-4653-824a-64728bac9f72",
   "metadata": {},
   "outputs": [
    {
     "data": {
      "text/plain": [
       "tensor(13.9523)"
      ]
     },
     "execution_count": 40,
     "metadata": {},
     "output_type": "execute_result"
    }
   ],
   "source": [
    "# cross entropy can be used for classification in NNs. cross-entropy is a loss function to compare differences between two prob distributions\n",
    "# the actual labels, and the predicted distribution. this is used as minimise this during training: \n",
    "F.cross_entropy(logits, Y)"
   ]
  },
  {
   "cell_type": "code",
   "execution_count": 41,
   "id": "5cd1ee68-8cef-4479-a097-e72ff90f5254",
   "metadata": {},
   "outputs": [
    {
     "data": {
      "text/plain": [
       "tensor([0., 0., 0., nan])"
      ]
     },
     "execution_count": 41,
     "metadata": {},
     "output_type": "execute_result"
    }
   ],
   "source": [
    "# cross entropy will: \n",
    "# 1) doesn't create intermediate tensors - has kernels to do this\n",
    "# 2) backward pass is much simplier to implement, a bit like tanh in micrograd\n",
    "# 3) better behaved - when some logit is extreme, during optimisation. below see nan for prob when 100:\n",
    "\n",
    "logits = torch.tensor([-100,-3, 0, 100])\n",
    "counts = logits.exp()\n",
    "probs = counts / counts.sum()\n",
    "probs"
   ]
  },
  {
   "cell_type": "code",
   "execution_count": 42,
   "id": "7c30a6ab-1f7f-4ddf-98b2-3ecb25e9926b",
   "metadata": {},
   "outputs": [
    {
     "data": {
      "text/plain": [
       "tensor([0.0000e+00, 3.3311e-04, 6.6906e-03, 9.9298e-01])"
      ]
     },
     "execution_count": 42,
     "metadata": {},
     "output_type": "execute_result"
    }
   ],
   "source": [
    "# cross entropy fixes this by offsetting values by the maximum value. The offset doesn't impact the resulting probabilities\n",
    "logits = torch.tensor([-100,-3,0,5]) - 5\n",
    "counts = logits.exp()\n",
    "probs = counts / counts.sum()\n",
    "probs"
   ]
  },
  {
   "cell_type": "code",
   "execution_count": 43,
   "id": "3a239c17-9f2e-4db2-96a7-fb4a5f189e4c",
   "metadata": {},
   "outputs": [],
   "source": [
    "g = torch.Generator().manual_seed(2147483647)\n",
    "C = torch.randn((27,2), generator=g)\n",
    "W1 = torch.rand((6,100), generator=g)\n",
    "b1 = torch.rand(100, generator=g)\n",
    "W2 = torch.rand((100,27), generator=g)\n",
    "b2 = torch.rand(27, generator=g)\n",
    "parameters = [C, W1, b1, W2, b2]"
   ]
  },
  {
   "cell_type": "code",
   "execution_count": 44,
   "id": "991c9f84-4090-4e11-8e8e-4d9b7cffaed2",
   "metadata": {},
   "outputs": [
    {
     "data": {
      "text/plain": [
       "3481"
      ]
     },
     "execution_count": 44,
     "metadata": {},
     "output_type": "execute_result"
    }
   ],
   "source": [
    "sum(p.nelement() for p in parameters)"
   ]
  },
  {
   "cell_type": "code",
   "execution_count": 45,
   "id": "0e731801-f77d-4b8c-863e-6e19bf927d90",
   "metadata": {},
   "outputs": [],
   "source": [
    "for p in parameters: \n",
    "    p.requires_grad = True"
   ]
  },
  {
   "cell_type": "code",
   "execution_count": 46,
   "id": "728d14be-bb03-4350-9f9d-169988715e02",
   "metadata": {},
   "outputs": [
    {
     "name": "stdout",
     "output_type": "stream",
     "text": [
      "0.267802357673645\n"
     ]
    }
   ],
   "source": [
    "# loss is low as we're overfitting the data\n",
    "for _ in range(1000):\n",
    "    # forward pass\n",
    "    emb = C[X] # (32, 3, 2)\n",
    "    h = torch.tanh(emb.view(-1, 6) @ W1 + b1) # (32, 100)\n",
    "    logits = h @ W2 + b2 # (32, 27)\n",
    "    loss = F.cross_entropy(logits, Y)\n",
    "    # backward pass\n",
    "    for p in parameters:\n",
    "        p.grad = None\n",
    "    loss.backward()\n",
    "    # update\n",
    "    for p in parameters:\n",
    "        p.data += -0.1 * p.grad\n",
    "print(loss.item())"
   ]
  },
  {
   "cell_type": "code",
   "execution_count": 47,
   "id": "8e0a6b04-1dcc-4fe3-a2be-bce7f49918fa",
   "metadata": {},
   "outputs": [
    {
     "data": {
      "text/plain": [
       "(torch.return_types.max(\n",
       " values=tensor([ 55.1669,  55.9033,  53.3494,  38.5483,  21.6247,  55.1669,  46.2224,\n",
       "          47.4314,  36.1415,  43.0257,  22.0477,   3.2516,  55.1669,  49.2692,\n",
       "          34.3166, -10.1395,  55.1669,  53.9260,  18.2422, -21.1448, -19.0877,\n",
       "          32.4733,  50.4130,  55.6918,  50.7119,  55.1669,  37.6700,  -0.8023,\n",
       "          -4.7286,  18.8418,  39.9256,  10.7085], grad_fn=<MaxBackward0>),\n",
       " indices=tensor([19, 13, 13,  1,  0, 19, 12,  9, 22,  9,  1,  0, 19, 22,  1,  0, 19, 19,\n",
       "          1,  2,  5, 12, 12,  1,  0, 19, 15, 16,  8,  9,  1,  0])),\n",
       " tensor([ 5, 13, 13,  1,  0, 15, 12,  9, 22,  9,  1,  0,  1, 22,  1,  0,  9, 19,\n",
       "          1,  2,  5, 12, 12,  1,  0, 19, 15, 16,  8,  9,  1,  0]))"
      ]
     },
     "execution_count": 47,
     "metadata": {},
     "output_type": "execute_result"
    }
   ],
   "source": [
    "# loss is low as we are overfitting data. but can't make loss = 0 as we have multiple options for the same input, e.g. ... > a,e,s,i or o\n",
    "logits.max(1), Y"
   ]
  },
  {
   "cell_type": "code",
   "execution_count": 48,
   "id": "999792da-9194-4244-99f4-c55496c7c925",
   "metadata": {},
   "outputs": [
    {
     "data": {
      "text/plain": [
       "tensor([[1, 2],\n",
       "        [3, 4]])"
      ]
     },
     "execution_count": 48,
     "metadata": {},
     "output_type": "execute_result"
    }
   ],
   "source": [
    "a = torch.tensor([[1,2],[3,4]])\n",
    "a"
   ]
  },
  {
   "cell_type": "code",
   "execution_count": 49,
   "id": "b38e61a9-e9ed-46f9-9f09-f328b47c0979",
   "metadata": {},
   "outputs": [
    {
     "data": {
      "text/plain": [
       "(torch.return_types.max(\n",
       " values=tensor([2, 4]),\n",
       " indices=tensor([1, 1])),\n",
       " tensor(3))"
      ]
     },
     "execution_count": 49,
     "metadata": {},
     "output_type": "execute_result"
    }
   ],
   "source": [
    "a.max(1), a[1,0]"
   ]
  },
  {
   "cell_type": "code",
   "execution_count": 50,
   "id": "e7d68bac-ba65-482a-8215-cc0dfaebdf59",
   "metadata": {},
   "outputs": [],
   "source": [
    "# now use full dataset: \n",
    "\n",
    "block_size = 3 # how many characters do we want to use to predict the next one\n",
    "\n",
    "X,Y = [],[]\n",
    "for word in words:\n",
    "    context = [0] * block_size\n",
    "    for chr in word + '.':\n",
    "        ix = stoi[chr]\n",
    "        X.append(context)\n",
    "        Y.append(ix)\n",
    "        # print(''.join(itos[c] for c in context), '-->', chr)\n",
    "        context = context[1:] + [ix] # crop the first and add the next\n",
    "X = torch.tensor(X)\n",
    "Y = torch.tensor(Y)"
   ]
  },
  {
   "cell_type": "code",
   "execution_count": 51,
   "id": "989dff73-d7fd-44b8-9e35-1283e59ef562",
   "metadata": {},
   "outputs": [
    {
     "data": {
      "text/plain": [
       "(torch.Size([228146, 3]), torch.int64, torch.Size([228146]), torch.int64)"
      ]
     },
     "execution_count": 51,
     "metadata": {},
     "output_type": "execute_result"
    }
   ],
   "source": [
    "X.shape, X.dtype, Y.shape, Y.dtype"
   ]
  },
  {
   "cell_type": "code",
   "execution_count": 52,
   "id": "2ee91df0-8b42-472b-8535-1e1714d0d079",
   "metadata": {},
   "outputs": [],
   "source": [
    "g = torch.Generator().manual_seed(2147483647)\n",
    "C = torch.randn((27,2), generator=g)\n",
    "W1 = torch.randn((6,100), generator=g)\n",
    "b1 = torch.randn(100, generator=g)\n",
    "W2 = torch.randn((100,27), generator=g)\n",
    "b2 = torch.randn(27, generator=g)\n",
    "parameters = [C, W1, b1, W2, b2]"
   ]
  },
  {
   "cell_type": "code",
   "execution_count": 53,
   "id": "989e5d04-90ff-4dd2-bc55-c51133cf9f61",
   "metadata": {},
   "outputs": [
    {
     "data": {
      "text/plain": [
       "3481"
      ]
     },
     "execution_count": 53,
     "metadata": {},
     "output_type": "execute_result"
    }
   ],
   "source": [
    "sum(p.nelement() for p in parameters)"
   ]
  },
  {
   "cell_type": "code",
   "execution_count": 54,
   "id": "eb809084-e1cf-490c-9b6c-1ab7b9b13934",
   "metadata": {},
   "outputs": [],
   "source": [
    "for p in parameters:\n",
    "    p.requires_grad = True"
   ]
  },
  {
   "cell_type": "code",
   "execution_count": 55,
   "id": "f3285d8a-5f48-411f-b063-1d0be6f9eb91",
   "metadata": {},
   "outputs": [
    {
     "name": "stdout",
     "output_type": "stream",
     "text": [
      "19.505229949951172\n",
      "17.08448600769043\n",
      "15.776532173156738\n",
      "14.833340644836426\n",
      "14.002605438232422\n",
      "13.253263473510742\n",
      "12.57991886138916\n",
      "11.983102798461914\n",
      "11.470495223999023\n",
      "11.05185604095459\n"
     ]
    }
   ],
   "source": [
    "# this is quite slow as we're using all 228,000 examples. Instead pick a mini-batch and forward and backwards on that.\n",
    "# pick the mini-batch randomly.\n",
    "for _ in range(10):\n",
    "\n",
    "    # forward pass\n",
    "    emb = C[X]\n",
    "    h = torch.tanh(emb.view(-1,6) @ W1 + b1)\n",
    "    logits = h @ W2 + b2\n",
    "    loss = F.cross_entropy(logits, Y)\n",
    "    print(loss.item())\n",
    "\n",
    "    # backward pass\n",
    "    for p in parameters:\n",
    "        p.grad = None\n",
    "\n",
    "    loss.backward()\n",
    "\n",
    "    # update\n",
    "    for p in parameters:\n",
    "        p.data += -0.1 * p.grad"
   ]
  },
  {
   "cell_type": "code",
   "execution_count": 43,
   "id": "676e4806-47f7-4288-80f5-63fe2877d13c",
   "metadata": {},
   "outputs": [
    {
     "data": {
      "text/plain": [
       "tensor([ 89661,  67213, 188399,  13614,  59977,  34924, 149897,   1656, 161709,\n",
       "        180002,  53632, 178869,  53254,  70218, 164374, 156845,  31384,   9101,\n",
       "         21364,  20712, 136082,  49691, 181266, 152804,   4260,  85537, 106884,\n",
       "         64125,  53042, 149261, 139871,   1899])"
      ]
     },
     "execution_count": 43,
     "metadata": {},
     "output_type": "execute_result"
    }
   ],
   "source": [
    "# create a mini batch of 32 examples from the 228,000. The following get's random indexes for the batch and returns 32 of them\n",
    "torch.randint(0,X.shape[0],(32,))"
   ]
  },
  {
   "cell_type": "code",
   "execution_count": 44,
   "id": "f49d81d5-63c0-4185-85da-7d5025bee4db",
   "metadata": {},
   "outputs": [
    {
     "name": "stdout",
     "output_type": "stream",
     "text": [
      "2.7047901153564453\n"
     ]
    }
   ],
   "source": [
    "# using minibatches for each iteration, ix is a random index used to get 32 examples, and cross entropy Y also uses these.\n",
    "# this is still useful, it's better to get the approximate gradient and take more steps than get an accurate gradient and fewer steps\n",
    "for _ in range(1000):\n",
    "\n",
    "    # minibatch\n",
    "    ix = torch.randint(0, X.shape[0], (32,))\n",
    "    \n",
    "\n",
    "    # forward pass\n",
    "    emb = C[X[ix]]\n",
    "    h = torch.tanh(emb.view(-1,6) @ W1 + b1)\n",
    "    logits = h @ W2 + b2\n",
    "    loss = F.cross_entropy(logits, Y[ix])\n",
    "\n",
    "    # backward pass\n",
    "    for p in parameters:\n",
    "        p.grad = None\n",
    "\n",
    "    loss.backward()\n",
    "\n",
    "    # update\n",
    "    for p in parameters:\n",
    "        p.data += -0.1 * p.grad\n",
    "print(loss.item())"
   ]
  },
  {
   "cell_type": "code",
   "execution_count": 45,
   "id": "e62b92c9-9ea2-498f-965d-5933a77b6a1e",
   "metadata": {},
   "outputs": [
    {
     "name": "stdout",
     "output_type": "stream",
     "text": [
      "tensor(2.6808, grad_fn=<NllLossBackward0>)\n"
     ]
    }
   ],
   "source": [
    "# get loss for all examples, after running above for a few times\n",
    "emb  = C[X]\n",
    "h = torch.tanh(emb.view(-1,6) @ W1 + b1)\n",
    "logits = h @ W2 + b2\n",
    "loss = F.cross_entropy(logits, Y)\n",
    "print(loss)\n"
   ]
  },
  {
   "cell_type": "code",
   "execution_count": 6,
   "id": "1d4f9669-b60a-4d5f-bb34-56b05e694a60",
   "metadata": {},
   "outputs": [],
   "source": [
    "# how do we determine the learning rate? 10 is too high, loss doesn't reduce, 0.001 is quite low and takes a long time\n",
    "g = torch.Generator().manual_seed(2147483647)\n",
    "C = torch.randn((27,2), generator=g)\n",
    "W1 = torch.randn((6,100), generator=g)\n",
    "b1 = torch.randn(100, generator=g)\n",
    "W2 = torch.randn((100,27), generator=g)\n",
    "b2 = torch.randn(27, generator=g)\n",
    "parameters = [C, W1, b1, W2, b2]"
   ]
  },
  {
   "cell_type": "code",
   "execution_count": 7,
   "id": "de552758-1a94-4990-bc91-411555aca789",
   "metadata": {},
   "outputs": [],
   "source": [
    "for p in parameters:\n",
    "    p.requires_grad = True"
   ]
  },
  {
   "cell_type": "code",
   "execution_count": 8,
   "id": "b3daae9b-887c-4015-a133-eaf7ed35b0cb",
   "metadata": {},
   "outputs": [
    {
     "data": {
      "text/plain": [
       "[<matplotlib.lines.Line2D at 0x1254f8990>]"
      ]
     },
     "execution_count": 8,
     "metadata": {},
     "output_type": "execute_result"
    },
    {
     "data": {
      "image/png": "[encoded data removed]",
      "text/plain": [
       "<Figure size 640x480 with 1 Axes>"
      ]
     },
     "metadata": {},
     "output_type": "display_data"
    }
   ],
   "source": [
    "# learning rate is spaced exponentially\n",
    "lre = torch.linspace(-3,0,1000)\n",
    "lrs = 10**lre\n",
    "# print(lrs)\n",
    "plt.plot(lrs)"
   ]
  },
  {
   "cell_type": "code",
   "execution_count": 26,
   "id": "7cf2d963-6469-48c9-a553-7f91eb90cc76",
   "metadata": {},
   "outputs": [
    {
     "name": "stdout",
     "output_type": "stream",
     "text": [
      "11.621245384216309\n"
     ]
    }
   ],
   "source": [
    "# rather than use a fixed learning rate, we use a low learning rate initially and increase it as per graph above\n",
    "# we capture the loss and the rate and go from the low to high (1) learning rates\n",
    "lri, lossi = [],[]\n",
    "\n",
    "for i in range(1000):\n",
    "\n",
    "    # minibatch\n",
    "    ix = torch.randint(0, X.shape[0], (32,))\n",
    "\n",
    "    # forward pass\n",
    "    emb = C[X[ix]]\n",
    "    h = torch.tanh(emb.view(-1,6) @ W1 + b1)\n",
    "    logits = h @ W2 + b2\n",
    "    loss = F.cross_entropy(logits, Y[ix])\n",
    "    # print(loss.item())\n",
    "\n",
    "    # backward pass\n",
    "    for p in parameters:\n",
    "        p.grad = None\n",
    "\n",
    "    loss.backward()\n",
    "\n",
    "    # update\n",
    "    lr = lrs[i]\n",
    "    for p in parameters:\n",
    "        p.data += -lr * p.grad\n",
    "    # track stats\n",
    "    lri.append(lre[i])\n",
    "    lossi.append(loss.item())\n",
    "print(loss.item())\n"
   ]
  },
  {
   "cell_type": "code",
   "execution_count": 27,
   "id": "6503f603-0f12-4519-8f97-670d27737476",
   "metadata": {},
   "outputs": [
    {
     "data": {
      "text/plain": [
       "[<matplotlib.lines.Line2D at 0x121ed00d0>]"
      ]
     },
     "execution_count": 27,
     "metadata": {},
     "output_type": "execute_result"
    },
    {
     "data": {
      "image/png": "[encoded data removed]",
      "text/plain": [
       "<Figure size 640x480 with 1 Axes>"
      ]
     },
     "metadata": {},
     "output_type": "display_data"
    }
   ],
   "source": [
    "# prints the exponent of the learning rate against the loss. so 10**-1 = 0.1 is a good learning rate \n",
    "plt.plot(lri, lossi)"
   ]
  },
  {
   "cell_type": "code",
   "execution_count": 9,
   "id": "2e337eff-d560-425d-95be-8be61c8f616a",
   "metadata": {},
   "outputs": [],
   "source": [
    "# now reset and use this learning rate, -0.1 (10^-1 = 0.1) and then reduce it to :\n",
    "g = torch.Generator().manual_seed(2147483647)\n",
    "C = torch.randn((27,2), generator=g)\n",
    "W1 = torch.randn((6,100), generator=g)\n",
    "b1 = torch.randn(100, generator=g)\n",
    "W2 = torch.randn((100,27), generator=g)\n",
    "b2 = torch.randn(27, generator=g)\n",
    "parameters = [C, W1, b1, W2, b2]"
   ]
  },
  {
   "cell_type": "code",
   "execution_count": 10,
   "id": "f40b6603-3559-478b-a373-8a62af46aa1b",
   "metadata": {},
   "outputs": [],
   "source": [
    "for p in parameters:\n",
    "    p.requires_grad = True"
   ]
  },
  {
   "cell_type": "code",
   "execution_count": 11,
   "id": "a7a12f51-d1fc-4a99-85d0-08ac4e2b6242",
   "metadata": {},
   "outputs": [],
   "source": [
    "# start with learning rate of 0.1 and then drop it to 0.01 (learning rate decay) after ~60,000 iterations\n",
    "for _ in range(10000):\n",
    "\n",
    "    # minibatch\n",
    "    ix = torch.randint(0, X.shape[0], (32,))\n",
    "    \n",
    "    # forward pass\n",
    "    emb = C[X[ix]]\n",
    "    h = torch.tanh(emb.view(-1,6) @ W1 + b1)\n",
    "    logits = h @ W2 + b2\n",
    "    loss = F.cross_entropy(logits, Y[ix])\n",
    "\n",
    "    # backward pass\n",
    "    for p in parameters:\n",
    "        p.grad = None\n",
    "\n",
    "    loss.backward()\n",
    "\n",
    "    lr = 0.1\n",
    "    # update\n",
    "    for p in parameters:\n",
    "        p.data += -lr * p.grad\n"
   ]
  },
  {
   "cell_type": "code",
   "execution_count": 13,
   "id": "46822458-204a-461b-9751-60ab9003bf63",
   "metadata": {},
   "outputs": [
    {
     "name": "stdout",
     "output_type": "stream",
     "text": [
      "tensor(0.2635, grad_fn=<NllLossBackward0>)\n"
     ]
    }
   ],
   "source": [
    "# check loss: \n",
    "emb  = C[X]\n",
    "h = torch.tanh(emb.view(-1,6) @ W1 + b1)\n",
    "logits = h @ W2 + b2\n",
    "loss = F.cross_entropy(logits, Y)\n",
    "print(loss)"
   ]
  },
  {
   "cell_type": "code",
   "execution_count": 56,
   "id": "a7ac96e5-75a4-4a7f-90c8-8ffeb6231d75",
   "metadata": {},
   "outputs": [],
   "source": [
    "# potential for overfitting, which means the loss can go to zero and works really well on the training set\n",
    "# if you then evaluate the loss on a withhold set of data it be can very high\n",
    "# It's best practice to split the dateset into three: training (80%), dev/validation (10%) and test split (10%).\n",
    "# the training split is to optimise the parameters using gradient descent\n",
    "# the dev split is used for different hyperparameter parameters such as the size of the hidden layer, the size of the embedding,  \n",
    "# the regulisation strength, etc. \n",
    "# the test split is used to eval the model performance - everytime you evalulate the loss on the test set you risk overfitting to it"
   ]
  },
  {
   "cell_type": "code",
   "execution_count": 28,
   "id": "b5c56621-864c-4840-ab40-8580bc6cb0cd",
   "metadata": {},
   "outputs": [
    {
     "name": "stdout",
     "output_type": "stream",
     "text": [
      "torch.Size([182625, 3]) torch.Size([182625])\n",
      "torch.Size([22655, 3]) torch.Size([22655])\n",
      "torch.Size([22866, 3]) torch.Size([22866])\n"
     ]
    }
   ],
   "source": [
    "# create splits:\n",
    "\n",
    "def build_datasets(words):\n",
    "    block_size = 3\n",
    "    X, Y = [], []\n",
    "    for w in words:\n",
    "        context = [0] * block_size\n",
    "        for ch in w + '.':\n",
    "            ix = stoi[ch]\n",
    "            X.append(context)\n",
    "            Y.append(ix)\n",
    "            context = context[1:] + [ix]\n",
    "    X = torch.tensor(X)\n",
    "    Y = torch.tensor(Y)\n",
    "    print(X.shape, Y.shape)\n",
    "    return X, Y\n",
    "    \n",
    "import random\n",
    "\n",
    "words = open(\"../names.txt\",\"r\").read().splitlines()\n",
    "\n",
    "random.seed(42)\n",
    "random.shuffle(words)\n",
    "n1 = int(0.8*len(words))\n",
    "n2 = int(0.9*len(words))\n",
    "\n",
    "Xtr, Ytr = build_datasets(words[:n1])\n",
    "Xdev, Ydev = build_datasets(words[n1:n2])\n",
    "Xte, Yte = build_datasets(words[n2:])\n"
   ]
  },
  {
   "cell_type": "code",
   "execution_count": 29,
   "id": "5a219559-449e-4048-a609-337dc13b4abd",
   "metadata": {},
   "outputs": [],
   "source": [
    "# using the training set: \n",
    "# initialise: \n",
    "g = torch.Generator().manual_seed(2147483647)\n",
    "C = torch.randn((27,2), generator=g)\n",
    "W1 = torch.randn((6,100), generator=g)\n",
    "b1 = torch.randn(100, generator=g)\n",
    "W2 = torch.randn((100,27), generator=g)\n",
    "b2 = torch.randn(27, generator=g)\n",
    "parameters = [C, W1, b1, W2, b2]"
   ]
  },
  {
   "cell_type": "code",
   "execution_count": 30,
   "id": "5c62c786-42bb-49e6-829d-b1a4b37ac36f",
   "metadata": {},
   "outputs": [],
   "source": [
    "for p in parameters:\n",
    "    p.requires_grad = True"
   ]
  },
  {
   "cell_type": "code",
   "execution_count": 31,
   "id": "5c4cade5-6162-4251-b946-4bd8439077ca",
   "metadata": {},
   "outputs": [],
   "source": [
    "for _ in range(30000):\n",
    "\n",
    "    # minibatch\n",
    "    ix = torch.randint(0, Xtr.shape[0], (32,))\n",
    "    \n",
    "    # forward pass\n",
    "    emb = C[Xtr[ix]]\n",
    "    h = torch.tanh(emb.view(-1,6) @ W1 + b1)\n",
    "    logits = h @ W2 + b2\n",
    "    loss = F.cross_entropy(logits, Ytr[ix])\n",
    "\n",
    "    # backward pass\n",
    "    for p in parameters:\n",
    "        p.grad = None\n",
    "\n",
    "    loss.backward()\n",
    "\n",
    "    lr = 0.01 # run on 30000 batches with 0.1 and then 10000 batchs with 0.01\n",
    "    \n",
    "    # update\n",
    "    for p in parameters:\n",
    "        p.data += -lr * p.grad"
   ]
  },
  {
   "cell_type": "code",
   "execution_count": 32,
   "id": "e9015cf9-b71e-44c2-a104-946bd9914c61",
   "metadata": {},
   "outputs": [
    {
     "name": "stdout",
     "output_type": "stream",
     "text": [
      "2.4472105503082275\n"
     ]
    }
   ],
   "source": [
    "print(loss.item())"
   ]
  },
  {
   "cell_type": "code",
   "execution_count": 33,
   "id": "38e51bd5-c993-49af-8dd2-774869a47e25",
   "metadata": {},
   "outputs": [
    {
     "name": "stdout",
     "output_type": "stream",
     "text": [
      "tensor(2.4780, grad_fn=<NllLossBackward0>)\n"
     ]
    }
   ],
   "source": [
    "# check loss on dev split: \n",
    "emb  = C[Xdev]\n",
    "h = torch.tanh(emb.view(-1,6) @ W1 + b1)\n",
    "logits = h @ W2 + b2\n",
    "loss = F.cross_entropy(logits, Ydev)\n",
    "print(loss)"
   ]
  },
  {
   "cell_type": "code",
   "execution_count": 34,
   "id": "635839d6-73b7-4cdf-9a0f-04ca42c4c8a7",
   "metadata": {},
   "outputs": [
    {
     "name": "stdout",
     "output_type": "stream",
     "text": [
      "tensor(2.4841, grad_fn=<NllLossBackward0>)\n"
     ]
    }
   ],
   "source": [
    "# check loss on test split:\n",
    "emb  = C[Xte]\n",
    "h = torch.tanh(emb.view(-1,6) @ W1 + b1)\n",
    "logits = h @ W2 + b2\n",
    "loss = F.cross_entropy(logits, Yte)\n",
    "print(loss)"
   ]
  },
  {
   "cell_type": "code",
   "execution_count": 38,
   "id": "13fea2e5-bf87-4040-9b55-84531d0aa80a",
   "metadata": {},
   "outputs": [],
   "source": [
    "# if dev and test losses are similar (2.27) which means network is very small and can make improvements by making it bigger\n",
    "# so scale up the network: \n",
    "g = torch.Generator().manual_seed(2147483647)\n",
    "C = torch.randn((27,2), generator=g)\n",
    "W1 = torch.randn((6,300), generator=g)\n",
    "b1 = torch.randn(300, generator=g)\n",
    "W2 = torch.randn((300,27), generator=g)\n",
    "b2 = torch.randn(27, generator=g)\n",
    "parameters = [C, W1, b1, W2, b2]"
   ]
  },
  {
   "cell_type": "code",
   "execution_count": 39,
   "id": "d5b19a61-bd80-4c06-8ebe-8f6945836853",
   "metadata": {},
   "outputs": [
    {
     "data": {
      "text/plain": [
       "10281"
      ]
     },
     "execution_count": 39,
     "metadata": {},
     "output_type": "execute_result"
    }
   ],
   "source": [
    "sum(p.nelement() for p in parameters)"
   ]
  },
  {
   "cell_type": "code",
   "execution_count": 37,
   "id": "6af6988a-302b-4044-81e9-a97126daa623",
   "metadata": {},
   "outputs": [],
   "source": [
    "for p in parameters:\n",
    "    p.requires_grad = True"
   ]
  },
  {
   "cell_type": "code",
   "execution_count": 7,
   "id": "aba73644-a07d-483e-b971-017b8a49c28f",
   "metadata": {},
   "outputs": [
    {
     "ename": "NameError",
     "evalue": "name 'Xtr' is not defined",
     "output_type": "error",
     "traceback": [
      "\u001b[0;31m---------------------------------------------------------------------------\u001b[0m",
      "\u001b[0;31mNameError\u001b[0m                                 Traceback (most recent call last)",
      "Cell \u001b[0;32mIn[7], line 7\u001b[0m\n\u001b[1;32m      3\u001b[0m lossi, stepi \u001b[38;5;241m=\u001b[39m [],[]\n\u001b[1;32m      4\u001b[0m \u001b[38;5;28;01mfor\u001b[39;00m i \u001b[38;5;129;01min\u001b[39;00m \u001b[38;5;28mrange\u001b[39m(\u001b[38;5;241m50000\u001b[39m):\n\u001b[1;32m      5\u001b[0m \n\u001b[1;32m      6\u001b[0m     \u001b[38;5;66;03m# minibatch\u001b[39;00m\n\u001b[0;32m----> 7\u001b[0m     ix \u001b[38;5;241m=\u001b[39m torch\u001b[38;5;241m.\u001b[39mrandint(\u001b[38;5;241m0\u001b[39m, \u001b[43mXtr\u001b[49m\u001b[38;5;241m.\u001b[39mshape[\u001b[38;5;241m0\u001b[39m], (\u001b[38;5;241m32\u001b[39m,))\n\u001b[1;32m      9\u001b[0m     \u001b[38;5;66;03m# forward pass\u001b[39;00m\n\u001b[1;32m     10\u001b[0m     emb \u001b[38;5;241m=\u001b[39m C[Xtr[ix]]\n",
      "\u001b[0;31mNameError\u001b[0m: name 'Xtr' is not defined"
     ]
    }
   ],
   "source": [
    "# run again keeping track of loss and steps, using training set:\n",
    "\n",
    "lossi, stepi = [],[]\n",
    "for i in range(50000):\n",
    "\n",
    "    # minibatch\n",
    "    ix = torch.randint(0, Xtr.shape[0], (32,))\n",
    "    \n",
    "    # forward pass\n",
    "    emb = C[Xtr[ix]]\n",
    "    h = torch.tanh(emb.view(-1,6) @ W1 + b1)\n",
    "    logits = h @ W2 + b2\n",
    "    loss = F.cross_entropy(logits, Ytr[ix])\n",
    "\n",
    "    # backward pass\n",
    "    for p in parameters:\n",
    "        p.grad = None\n",
    "\n",
    "    loss.backward()\n",
    "\n",
    "    lr = 0.01 # run on 10000 batches with 0.1 and then 10,000 batchs with 0.05-0.01\n",
    "\n",
    "    \n",
    "    # update\n",
    "    for p in parameters:\n",
    "        p.data += -lr * p.grad\n",
    "    stepi.append(i)\n",
    "    lossi.append(loss.item())"
   ]
  },
  {
   "cell_type": "code",
   "execution_count": 157,
   "id": "04e2d29b-f3ab-4b8e-802f-402c7c5828c8",
   "metadata": {},
   "outputs": [
    {
     "data": {
      "text/plain": [
       "[<matplotlib.lines.Line2D at 0x12e2cb7d0>]"
      ]
     },
     "execution_count": 157,
     "metadata": {},
     "output_type": "execute_result"
    },
    {
     "data": {
      "image/png": "[encoded data removed]",
      "text/plain": [
       "<Figure size 640x480 with 1 Axes>"
      ]
     },
     "metadata": {},
     "output_type": "display_data"
    }
   ],
   "source": [
    "# noise in steps is due to the size of the mini-batch. a bigger batchsize would improve this\n",
    "plt.plot(stepi,lossi)"
   ]
  },
  {
   "cell_type": "code",
   "execution_count": 162,
   "id": "ce15e809-4c78-4646-985e-eb3d11ff674a",
   "metadata": {},
   "outputs": [
    {
     "name": "stdout",
     "output_type": "stream",
     "text": [
      "tensor(2.2326, grad_fn=<NllLossBackward0>)\n"
     ]
    }
   ],
   "source": [
    "# check loss on training split:\n",
    "emb  = C[Xtr]\n",
    "h = torch.tanh(emb.view(-1,6) @ W1 + b1)\n",
    "logits = h @ W2 + b2\n",
    "loss = F.cross_entropy(logits, Ytr)\n",
    "print(loss)"
   ]
  },
  {
   "cell_type": "code",
   "execution_count": 163,
   "id": "4fb89d81-e362-477b-bb14-e6fac6e98d38",
   "metadata": {},
   "outputs": [
    {
     "name": "stdout",
     "output_type": "stream",
     "text": [
      "tensor(2.2425, grad_fn=<NllLossBackward0>)\n"
     ]
    }
   ],
   "source": [
    "# check loss on dev split:\n",
    "emb  = C[Xdev]\n",
    "h = torch.tanh(emb.view(-1,6) @ W1 + b1)\n",
    "logits = h @ W2 + b2\n",
    "loss = F.cross_entropy(logits, Ydev)\n",
    "print(loss)"
   ]
  },
  {
   "cell_type": "code",
   "execution_count": 164,
   "id": "60f26e41-eea4-4db5-a362-1d281f1fd4ad",
   "metadata": {},
   "outputs": [
    {
     "data": {
      "image/png": "[encoded data removed]",
      "text/plain": [
       "<Figure size 800x800 with 1 Axes>"
      ]
     },
     "metadata": {},
     "output_type": "display_data"
    }
   ],
   "source": [
    "plt.figure(figsize=(8,8))\n",
    "plt.scatter(C[:,0].data,C[:,1].data, s=200)\n",
    "for i in range(C.shape[0]):\n",
    "    plt.text(C[i,0].item(),C[i,1].item(), itos[i],ha=\"center\", va=\"center\", color=\"white\")\n",
    "plt.grid('minor')"
   ]
  },
  {
   "cell_type": "code",
   "execution_count": 128,
   "id": "a1e59cd4-61bc-4906-b94d-5f6b2a9837c3",
   "metadata": {},
   "outputs": [],
   "source": [
    "# beat 2.17\n",
    "g = torch.Generator().manual_seed(2147483647)\n",
    "C = torch.randn((27,12), generator=g)\n",
    "W1 = torch.randn((12*3,300), generator=g)\n",
    "b1 = torch.randn(300, generator=g)\n",
    "W2 = torch.randn((300,27), generator=g)\n",
    "b2 = torch.randn(27, generator=g)\n",
    "parameters = [C, W1, b1, W2, b2]\n",
    "\n",
    "# g = torch.Generator().manual_seed(2147483647)\n",
    "# C = torch.randn((27,2), generator=g)\n",
    "# W1 = torch.randn((6,300), generator=g)\n",
    "# b1 = torch.randn(300, generator=g)\n",
    "# W2 = torch.randn((300,27), generator=g)\n",
    "# b2 = torch.randn(27, generator=g)\n",
    "# parameters = [C, W1, b1, W2, b2]"
   ]
  },
  {
   "cell_type": "code",
   "execution_count": 129,
   "id": "e331cf80-0216-4e25-a466-87f5dc16a1b7",
   "metadata": {},
   "outputs": [
    {
     "data": {
      "text/plain": [
       "19551"
      ]
     },
     "execution_count": 129,
     "metadata": {},
     "output_type": "execute_result"
    }
   ],
   "source": [
    "sum(p.nelement() for p in parameters)"
   ]
  },
  {
   "cell_type": "code",
   "execution_count": 130,
   "id": "0c8e404e-8aa6-461e-8d9e-45cb00899668",
   "metadata": {},
   "outputs": [],
   "source": [
    "for p in parameters:\n",
    "    p.requires_grad = True"
   ]
  },
  {
   "cell_type": "code",
   "execution_count": 131,
   "id": "8e1bd9bb-b911-4a05-9645-d10058fb287e",
   "metadata": {},
   "outputs": [],
   "source": [
    "stepi, lossi = [], []\n"
   ]
  },
  {
   "cell_type": "code",
   "execution_count": 137,
   "id": "963cea07-6862-46ed-ba5b-a4af75b93448",
   "metadata": {},
   "outputs": [],
   "source": [
    "for i in range(200_000):\n",
    "    # minibatch\n",
    "    ix = torch.randint(0, Xtr.shape[0],(32,))\n",
    "\n",
    "    # forward pass\n",
    "    emb = C[Xtr[ix]]\n",
    "    h = torch.tanh(emb.view(-1, 12*3) @ W1 + b1)\n",
    "    logits = h @ W2 + b2\n",
    "    loss = F.cross_entropy(logits, Ytr[ix])\n",
    "\n",
    "    # backward pass\n",
    "    for p in parameters:\n",
    "        p.grad = None\n",
    "    loss.backward()\n",
    "\n",
    "    lr = 0.1 if i < 100_000 else 0.01\n",
    "    # lr = 0.001\n",
    "    for p in parameters:\n",
    "        p.data += -lr * p.grad\n",
    "\n",
    "    # track stats\n",
    "    stepi.append(i)\n",
    "    lossi.append(loss.log10().item())"
   ]
  },
  {
   "cell_type": "code",
   "execution_count": 138,
   "id": "58007ddf-6ec4-4c51-bfba-35345010a29a",
   "metadata": {},
   "outputs": [
    {
     "data": {
      "text/plain": [
       "[<matplotlib.lines.Line2D at 0x128a79850>]"
      ]
     },
     "execution_count": 138,
     "metadata": {},
     "output_type": "execute_result"
    },
    {
     "data": {
      "image/png": "[encoded data removed]",
      "text/plain": [
       "<Figure size 640x480 with 1 Axes>"
      ]
     },
     "metadata": {},
     "output_type": "display_data"
    }
   ],
   "source": [
    "plt.plot(stepi, lossi)"
   ]
  },
  {
   "cell_type": "code",
   "execution_count": 139,
   "id": "cc39e33b-1897-4a79-8695-f2b8d0d92092",
   "metadata": {},
   "outputs": [
    {
     "name": "stdout",
     "output_type": "stream",
     "text": [
      "tensor(2.0811, grad_fn=<NllLossBackward0>)\n"
     ]
    }
   ],
   "source": [
    "# check loss on training split:\n",
    "emb = C[Xtr]\n",
    "h = torch.tanh(emb.view(-1,36) @ W1 + b1)\n",
    "logits = h @ W2 + b2\n",
    "loss = F.cross_entropy(logits, Ytr)\n",
    "print(loss)"
   ]
  },
  {
   "cell_type": "code",
   "execution_count": 140,
   "id": "3f665903-de37-4b94-bfed-63a749ef1a98",
   "metadata": {},
   "outputs": [
    {
     "name": "stdout",
     "output_type": "stream",
     "text": [
      "tensor(2.1468, grad_fn=<NllLossBackward0>)\n"
     ]
    }
   ],
   "source": [
    "# check loss on dev split:\n",
    "emb = C[Xdev]\n",
    "h = torch.tanh(emb.view(-1,36) @ W1 + b1)\n",
    "logits = h @ W2 + b2\n",
    "loss = F.cross_entropy(logits, Ydev)\n",
    "print(loss)"
   ]
  },
  {
   "cell_type": "code",
   "execution_count": null,
   "id": "68023e8d-6413-4131-b16c-444ca0bd6eab",
   "metadata": {},
   "outputs": [],
   "source": [
    "# parameters\n",
    "# 200 hidden, 30 embedding, 32 minibatch, 200_000 iterations, lr = 0.1 then 0.01 < 100_000. Loss: Tr: 2.1246, dev: 2.1654\n",
    "# 300 hidden, 30 embedding, 32 minibatch, 200_000 iterations, lr = 0.1 then 0.01 < 100_000. Loss: Tr: 2.1316, dev: 2.1956\n",
    "# 150 hidden, 30 embedding, 32 minibatch, 200_000 iterations, lr = 0.1 then 0.01 < 100_000. Loss: Tr: 2.1481, dev: 2.1795\n",
    "# 300 hidden, 36 embedding, 32 minibatch, 200_000 iterations, lr = 0.1 then 0.01 < 100_000. Loss: Tr: 2.0984, dev: 2.1633\n",
    "# another 100,000 iterations at 0.001 loss rate is better"
   ]
  },
  {
   "cell_type": "code",
   "execution_count": 150,
   "id": "8ad02149-84dd-4286-9e66-0e818905355e",
   "metadata": {},
   "outputs": [
    {
     "name": "stdout",
     "output_type": "stream",
     "text": [
      "jonna.\n",
      "bhant.\n",
      "ansha.\n",
      "hanbi.\n",
      "jubrinn.\n",
      "fali.\n",
      "hazar.\n",
      "avystyn.\n",
      "haciri.\n",
      "arton.\n",
      "carin.\n",
      "coralds.\n",
      "maualhan.\n",
      "isahna.\n",
      "dany.\n",
      "amerem.\n",
      "zreegeleem.\n",
      "dary.\n",
      "rakiansy.\n",
      "salleah.\n"
     ]
    }
   ],
   "source": [
    "# how to sample from the model: \n",
    "\n",
    "g = torch.Generator().manual_seed(21477483647+1)\n",
    "\n",
    "for _ in range(20):\n",
    "    out = []\n",
    "    context = [0] * block_size\n",
    "    while True:\n",
    "        emb = C[torch.tensor([context])] # (1, block_size, d)\n",
    "        h = torch.tanh(emb.view(1,-1) @ W1 + b1)\n",
    "        logits = h @ W2 + b2\n",
    "        probs = F.softmax(logits, dim=1) # exponent of logits and makes it sum to 1\n",
    "        ix = torch.multinomial(probs, num_samples=1, generator=g).item() # sample one index from probs\n",
    "        context = context[1:] + [ix]\n",
    "        out.append(ix)\n",
    "        if ix == 0:\n",
    "            break\n",
    "    print(''.join(itos[i] for i in out))"
   ]
  },
  {
   "cell_type": "code",
   "execution_count": null,
   "id": "45497240-dbb3-4511-b15a-0863cdd203d8",
   "metadata": {},
   "outputs": [],
   "source": []
  },
  {
   "cell_type": "code",
   "execution_count": null,
   "id": "ea62311d-9572-4aac-bbbf-50279a8de5ef",
   "metadata": {},
   "outputs": [],
   "source": []
  }
 ],
 "metadata": {
  "kernelspec": {
   "display_name": "Python 3 (ipykernel)",
   "language": "python",
   "name": "python3"
  },
  "language_info": {
   "codemirror_mode": {
    "name": "ipython",
    "version": 3
   },
   "file_extension": ".py",
   "mimetype": "text/x-python",
   "name": "python",
   "nbconvert_exporter": "python",
   "pygments_lexer": "ipython3",
   "version": "3.11.6"
  }
 },
 "nbformat": 4,
 "nbformat_minor": 5
}
