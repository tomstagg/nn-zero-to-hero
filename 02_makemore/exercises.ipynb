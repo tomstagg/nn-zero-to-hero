{
 "cells": [
  {
   "cell_type": "markdown",
   "id": "7235fc89-ef29-454c-8e57-ab4a343f7ef5",
   "metadata": {},
   "source": [
    "## Exercises\n",
    "\n",
    "E01: train a trigram language model, i.e. take two characters as an input to predict the 3rd one. Feel free to use either counting or a neural net. Evaluate the loss; Did it improve over a bigram model?\n",
    "\n",
    "E02: split up the dataset randomly into 80% train set, 10% dev set, 10% test set. Train the bigram and trigram models only on the training set. Evaluate them on dev and test splits. What can you see?\n",
    "\n",
    "E03: use the dev set to tune the strength of smoothing (or regularization) for the trigram model - i.e. try many possibilities and see which one works best based on the dev set loss. What patterns can you see in the train and dev set loss as you tune this strength? Take the best setting of the smoothing and evaluate on the test set once and at the end. How good of a loss do you achieve?\n",
    "\n",
    "E04: we saw that our 1-hot vectors merely select a row of W, so producing these vectors explicitly feels wasteful. Can you delete our use of F.one_hot in favor of simply indexing into rows of W?\n",
    "\n",
    "E05: look up and use F.cross_entropy instead. You should achieve the same result. Can you think of why we'd prefer to use F.cross_entropy instead?"
   ]
  },
  {
   "cell_type": "code",
   "execution_count": 2,
   "id": "c0d02ee2-3d3a-42fe-836b-ee397b7c8062",
   "metadata": {},
   "outputs": [],
   "source": [
    "import matplotlib.pyplot as plt, torch.nn.functional as F, torch, numpy\n",
    "words = open('names.txt').read().splitlines()"
   ]
  },
  {
   "cell_type": "markdown",
   "id": "551de5e8-f5a3-4c65-9902-89511c08e282",
   "metadata": {
    "jp-MarkdownHeadingCollapsed": true
   },
   "source": [
    "## E01 - build a nn trigram model \n",
    "I will use a NN torch tensor as a NN. The NN will take 54 inputs ,2 chars from one of 27 values, provided as a one hot encoded vector. Steps are:\n",
    "1. setup imports\n",
    "2. use words to populate xs and ys training sets this will required itos, stoi, and a way to get the first 2 chars as input, store as a [x,2] xs tensor\n",
    "3. generate xenc by concating 2 chars as one hot encoded tensors, so 54 inputs\n",
    "4. setup W as 54,27. 54 inputs resulting in 27 outputs logits\n",
    "5. calculate the prob distribution by: convert output logits, to counts using exp(), normalise to a prob distribution (softmax)\n",
    "6. calculate the loss against the training set: work out prob for each training example, using expected output, take log, mean, for log liklihood and nll. \n",
    "7. add to loss the regularisation, pull to lower weights, to avoid inf nll and simpler model?\n",
    "8. setup backward pass and weight update\n",
    "9. run in loop and validate loss improvements\n",
    "10. use trained model to generate names"
   ]
  },
  {
   "cell_type": "code",
   "execution_count": 258,
   "id": "b95d0b43-b3ec-4cc9-9b7e-62c7ee0c5056",
   "metadata": {},
   "outputs": [
    {
     "data": {
      "text/plain": [
       "['emma', 'olivia', 'ava', 'isabella']"
      ]
     },
     "execution_count": 258,
     "metadata": {},
     "output_type": "execute_result"
    }
   ],
   "source": [
    "words[:4]"
   ]
  },
  {
   "cell_type": "code",
   "execution_count": 259,
   "id": "6d1984f2-6b51-4389-9ac7-6d0900a7282e",
   "metadata": {},
   "outputs": [
    {
     "data": {
      "text/plain": [
       "(torch.Size([228146, 2]), torch.Size([228146]))"
      ]
     },
     "execution_count": 259,
     "metadata": {},
     "output_type": "execute_result"
    }
   ],
   "source": [
    "# create a training set of xs and ys, xs will be a tuple of two input\n",
    "# create a nn with 27 x 2 inputs and 27 outputs\n",
    "\n",
    "# setup\n",
    "letters = sorted(['.'] + list(set(''.join(words))))\n",
    "itos = {idx:ch for idx, ch in enumerate(letters)}\n",
    "stoi = {v:k  for k,v in itos.items()} \n",
    "\n",
    "# populate training set\n",
    "xs, ys = [],[]\n",
    "# for w in words[:5]:\n",
    "for w in words:\n",
    "    chs = ['.'] * 2 + list(w) + ['.']\n",
    "    for ch1, ch2, ch3 in (zip(chs, chs[1:], chs[2:])):\n",
    "        ix1, ix2, ix3 = stoi[ch1], stoi[ch2], stoi[ch3]\n",
    "        # print(ch1, ch2, ch3)\n",
    "        xs.append((ix1, ix2))\n",
    "        ys.append(ix3)\n",
    "\n",
    "xs = torch.tensor(xs)\n",
    "ys = torch.tensor(ys)\n",
    "\n",
    "xs.shape, ys.shape"
   ]
  },
  {
   "cell_type": "code",
   "execution_count": 260,
   "id": "9b161aab-f2be-4298-bfcc-6de9df88cd53",
   "metadata": {},
   "outputs": [],
   "source": [
    "# setup inputs\n",
    "xs_1 = F.one_hot(xs[:,0], num_classes=27).float()\n",
    "xs_2 = F.one_hot(xs[:,1], num_classes=27).float()\n",
    "xenc = torch.cat((xs_1, xs_2), dim=1) \n",
    "num = xs.shape[0]"
   ]
  },
  {
   "cell_type": "code",
   "execution_count": 263,
   "id": "cdba8626-2a95-4ea2-a7cc-d26274a9973a",
   "metadata": {},
   "outputs": [
    {
     "data": {
      "text/plain": [
       "torch.Size([54, 27])"
      ]
     },
     "execution_count": 263,
     "metadata": {},
     "output_type": "execute_result"
    }
   ],
   "source": [
    "# initialise an nn model\n",
    "g = torch.Generator().manual_seed(2147483647)\n",
    "W = torch.rand((54,27),  generator=g, requires_grad=True)\n",
    "W.shape"
   ]
  },
  {
   "cell_type": "code",
   "execution_count": 264,
   "id": "973ee00e-bca5-4a2a-90ea-c46cf795b918",
   "metadata": {},
   "outputs": [
    {
     "name": "stdout",
     "output_type": "stream",
     "text": [
      "   0: 3.4338\n",
      "  50: 2.4083\n",
      " 100: 2.3761\n",
      " 150: 2.3638\n",
      " 200: 2.3572\n",
      "final loss after 250:  2.3533\n"
     ]
    }
   ],
   "source": [
    "LEARN_RATE = 25\n",
    "N_ITER = 250\n",
    "REG_FACTOR = 0.001\n",
    "\n",
    "losses=[]\n",
    "# train model \n",
    "for k in range(N_ITER):\n",
    "    # forward pass\n",
    "    logits = xenc @ W\n",
    "    counts = logits.exp()\n",
    "    probs = counts / counts.sum(1, keepdim=True)\n",
    "    loss = -probs[torch.arange(num),ys].log().mean() + REG_FACTOR*(W**2).mean()\n",
    "    losses.append(loss.item())\n",
    "    if k % 50 == 0:\n",
    "        print(f\"{k:4}: {loss.item():.4f}\")\n",
    "    \n",
    "    # backward pass\n",
    "    W.grad = None\n",
    "    loss.backward()\n",
    "    \n",
    "    # update\n",
    "    W.data += -LEARN_RATE * W.grad # opposite direction to grad\n",
    "\n",
    "print(f\"final loss after {N_ITER}:  {losses[-1]:.4f}\")\n"
   ]
  },
  {
   "cell_type": "code",
   "execution_count": 265,
   "id": "4dad993c-857d-46d2-bd05-042c1d59db4a",
   "metadata": {},
   "outputs": [
    {
     "data": {
      "image/png": "[encoded data removed]",
      "text/plain": [
       "<Figure size 640x480 with 1 Axes>"
      ]
     },
     "metadata": {},
     "output_type": "display_data"
    }
   ],
   "source": [
    "plt.ylabel(\"loss\")\n",
    "plt.xlabel(\"iterations\")\n",
    "plt.grid()\n",
    "plt.plot(losses);"
   ]
  },
  {
   "cell_type": "code",
   "execution_count": 36,
   "id": "3c0a708d-4486-4f62-8c4a-330113136c8e",
   "metadata": {},
   "outputs": [
    {
     "data": {
      "text/plain": [
       "tensor(3.5756, grad_fn=<NegBackward0>)"
      ]
     },
     "execution_count": 36,
     "metadata": {},
     "output_type": "execute_result"
    }
   ],
   "source": [
    "# min loss (LEARNRATE:25, N_ITER: 100,REG_FACTOR: 0.001) : 2.341"
   ]
  },
  {
   "cell_type": "code",
   "execution_count": 271,
   "id": "3da216c5-ef85-4d5e-8153-d9f3986d2866",
   "metadata": {},
   "outputs": [
    {
     "name": "stdout",
     "output_type": "stream",
     "text": [
      "ia.\n",
      "tangepusanlet.\n",
      "lineyn.\n",
      "rnaadenha.\n",
      "lachellia.\n",
      "jjahemyadriynarioni.\n",
      "dixanabyna.\n",
      "bjanai.\n",
      "ch.\n",
      "kion.\n"
     ]
    }
   ],
   "source": [
    "# generate new names\n",
    "for _ in range(10):\n",
    "    out = []\n",
    "    ix1, ix2 = 0, 0\n",
    "    while True:\n",
    "        xs_1 = F.one_hot(torch.tensor([ix1]), num_classes=27).float()\n",
    "        xs_2 = F.one_hot(torch.tensor([ix2]), num_classes=27).float()\n",
    "        xenc = torch.cat((xs_1, xs_2), dim=1) \n",
    "        logits = xenc @ W\n",
    "        counts = logits.exp()\n",
    "        p = counts / counts.sum(1, keepdim=True)\n",
    "        ix1 = ix2\n",
    "        ix2 = torch.multinomial(p, num_samples = 1, replacement=True, generator=g ).item()\n",
    "        out.append(itos[ix2])\n",
    "        if itos[ix2] == '.':\n",
    "            break\n",
    "    print(''.join(out))"
   ]
  },
  {
   "cell_type": "code",
   "execution_count": 39,
   "id": "779f3dd5-0c15-4bbe-8cec-3b7cf0a3a6d8",
   "metadata": {},
   "outputs": [
    {
     "data": {
      "text/plain": [
       "torch.Size([54, 27])"
      ]
     },
     "execution_count": 39,
     "metadata": {},
     "output_type": "execute_result"
    }
   ],
   "source": [
    "x = F.one_hot(torch.tensor([0]), num_classes=27).float()\n",
    "xenc = torch.cat((x,x), dim=1)\n",
    "logits = xenc @ W\n",
    "W.shape"
   ]
  },
  {
   "cell_type": "markdown",
   "id": "4643a229-d088-472f-8d96-e5b3d1f82ee0",
   "metadata": {
    "jp-MarkdownHeadingCollapsed": true
   },
   "source": [
    "## E02 - training set split loss against bigram and trigram models\n",
    "\n",
    "Train the bigram and trigram model on 80% of data set and eval on the test (10%) and dev (10%) splits\n",
    "1. build training sets\n",
    "2. split them into train, dev, test\n",
    "3. train nn model using training sets\n",
    "4. validate loss for train, dev and test\n",
    "\n",
    "do for bigram and trigram models"
   ]
  },
  {
   "cell_type": "markdown",
   "id": "934500d1-3fec-4882-820d-92450e8d75b0",
   "metadata": {
    "jp-MarkdownHeadingCollapsed": true
   },
   "source": [
    "### Bigram NN - calculate loss for split dataset\n",
    "training, dev, test datasets"
   ]
  },
  {
   "cell_type": "code",
   "execution_count": 265,
   "id": "37593ed7-93f1-451c-b599-f7a04d8e8ff6",
   "metadata": {},
   "outputs": [
    {
     "data": {
      "text/plain": [
       "(torch.Size([228146]), torch.Size([228146]))"
      ]
     },
     "execution_count": 265,
     "metadata": {},
     "output_type": "execute_result"
    }
   ],
   "source": [
    "chars = sorted(['.'] + list(set(''.join(words))))\n",
    "itos = {idx: c for idx, c in enumerate(chars)}\n",
    "stoi = {v:k for k,v in itos.items()}\n",
    "\n",
    "xs, ys = [],[]\n",
    "\n",
    "# for w in words[:5]:\n",
    "for w in words:\n",
    "    chs = ['.'] + list(w) + ['.']\n",
    "    for ch1, ch2 in zip(chs, chs[1:]):\n",
    "        xs.append(stoi[ch1])\n",
    "        ys.append(stoi[ch2])\n",
    "\n",
    "xs = torch.tensor(xs)\n",
    "ys = torch.tensor(ys)\n",
    "\n",
    "xs.shape, ys.shape"
   ]
  },
  {
   "cell_type": "code",
   "execution_count": 13,
   "id": "d88e7c9b-a557-4978-a195-d996e042b1ba",
   "metadata": {},
   "outputs": [],
   "source": [
    "# split dataset into train, dev and test sets\n",
    "def split_dataset(ds):\n",
    "    idx = torch.randperm(ds.size(0))\n",
    "    train_size = int(0.8 * len(idx))\n",
    "    dev_size = int(0.1 * len(idx))\n",
    "    x, y = train_size, train_size + dev_size\n",
    "\n",
    "    return ds[:x],ds[x:y],ds[y:]"
   ]
  },
  {
   "cell_type": "code",
   "execution_count": 267,
   "id": "d4c412fd-9776-42b2-93f1-9ac747a553e4",
   "metadata": {},
   "outputs": [
    {
     "data": {
      "text/plain": [
       "(torch.Size([182516]),\n",
       " torch.Size([22816]),\n",
       " torch.Size([22814]),\n",
       " torch.Size([182516]),\n",
       " torch.Size([22816]),\n",
       " torch.Size([22814]))"
      ]
     },
     "execution_count": 267,
     "metadata": {},
     "output_type": "execute_result"
    }
   ],
   "source": [
    "xs_train, xs_dev, xs_test = split_dataset(xs)\n",
    "ys_train, ys_dev, ys_test = split_dataset(ys)\n",
    "\n",
    "xs_train.shape, xs_test.shape, xs_dev.shape, ys_train.shape, ys_test.shape, ys_dev.shape"
   ]
  },
  {
   "cell_type": "code",
   "execution_count": 268,
   "id": "e71a9a78-6eb9-4930-996f-c1bdeb4cc4d1",
   "metadata": {},
   "outputs": [],
   "source": [
    "g = torch.Generator().manual_seed(2147483647)\n",
    "W = torch.rand((27,27), generator=g, requires_grad=True)"
   ]
  },
  {
   "cell_type": "code",
   "execution_count": 269,
   "id": "8dac1bfa-b764-4ff4-9ec5-d259d1e06374",
   "metadata": {},
   "outputs": [
    {
     "name": "stdout",
     "output_type": "stream",
     "text": [
      "   0: 3.3583\n",
      "  25: 2.5581\n",
      "  50: 2.4958\n",
      "  75: 2.4730\n",
      " 100: 2.4612\n",
      " 125: 2.4540\n",
      " 150: 2.4492\n",
      " 175: 2.4458\n",
      " 200: 2.4432\n",
      " 225: 2.4412\n",
      "result: 250 iterations final loss: 2.4397\n"
     ]
    }
   ],
   "source": [
    "##### train model \n",
    "LEARN_RATE = 25\n",
    "N_ITER = 250\n",
    "REG_FACTOR = 0.001\n",
    "\n",
    "xenc = F.one_hot(xs_train, num_classes=27).float()\n",
    "xs_num = xs_train.shape[0]\n",
    "losses = []\n",
    "\n",
    "for k in range(N_ITER):\n",
    "    # forward pass\n",
    "    logits = xenc @ W\n",
    "    counts = logits.exp()\n",
    "    p = counts / counts.sum(1, keepdim=True)\n",
    "    loss = -p[torch.arange(xs_num), ys_train].log().mean() + REG_FACTOR*(W**2).mean()\n",
    "\n",
    "    if k % 25 == 0:\n",
    "        print(f\"{k:4}: {loss.item():.4f}\")\n",
    "    losses.append(loss.item())\n",
    "\n",
    "    # backward pass\n",
    "    W.grad = None\n",
    "    loss.backward()\n",
    "\n",
    "    # update\n",
    "    W.data += -LEARN_RATE*W.grad\n",
    "\n",
    "print(f\"result: {N_ITER} iterations final loss: {losses[-1]:.4f}\")\n",
    "    "
   ]
  },
  {
   "cell_type": "code",
   "execution_count": 10,
   "id": "8c15fa0c-9818-4ad2-a4be-21ef46e25cc4",
   "metadata": {},
   "outputs": [],
   "source": [
    "# calculate the loss against the test and dev sets\n",
    "\n",
    "def calc_loss(xs, ys, W):\n",
    "    xenc = F.one_hot(xs, num_classes=27).float()    \n",
    "    logits = xenc @ W\n",
    "    counts = logits.exp()\n",
    "    p = counts / counts.sum(1, keepdim=True)\n",
    "    loss = -p[torch.arange(xs.shape[0]), ys].log().mean()\n",
    "    \n",
    "    return loss.item()"
   ]
  },
  {
   "cell_type": "code",
   "execution_count": 271,
   "id": "b74ff765-fa52-4cc6-9b8c-1d34eb2c782a",
   "metadata": {},
   "outputs": [
    {
     "name": "stdout",
     "output_type": "stream",
     "text": [
      "train set loss: 2.4378\n",
      "dev set loss: 2.6056\n",
      "test set loss: 2.6091\n"
     ]
    }
   ],
   "source": [
    "# Bigram \n",
    "print(f\"train set loss: {calc_loss(xs_train, ys_train, W):.4f}\") # model above include regularisation\n",
    "print(f\"dev set loss: {calc_loss(xs_dev, ys_dev, W):.4f}\")\n",
    "print(f\"test set loss: {calc_loss(xs_test, ys_test, W):.4f}\")"
   ]
  },
  {
   "cell_type": "markdown",
   "id": "22f2e446-5eaa-4fe0-8ede-7924dd9de32c",
   "metadata": {},
   "source": [
    "### Trigram NN - example calculating loss for split dataset"
   ]
  },
  {
   "cell_type": "code",
   "execution_count": 6,
   "id": "8d2c88bc-0fdb-408e-adbf-79c831ec1718",
   "metadata": {},
   "outputs": [
    {
     "data": {
      "text/plain": [
       "(torch.Size([228146, 2]), torch.Size([228146]))"
      ]
     },
     "execution_count": 6,
     "metadata": {},
     "output_type": "execute_result"
    }
   ],
   "source": [
    "chars = sorted(['.'] + list(set(''.join(words))))\n",
    "itos = {idx: c for idx, c in enumerate(chars)}\n",
    "stoi = {v:k for k,v in itos.items()}\n",
    "\n",
    "xs, ys = [],[]\n",
    "\n",
    "for w in words:\n",
    "    chrs = ['.']* 2 + list(w) + ['.']\n",
    "    for ch1, ch2, ch3 in zip(chrs, chrs[1:], chrs[2:]):\n",
    "        # print(ch1, ch2, ch3)\n",
    "        xs.append((stoi[ch1], stoi[ch2]))\n",
    "        ys.append(stoi[ch3])\n",
    "\n",
    "xs = torch.tensor(xs)\n",
    "ys = torch.tensor(ys)\n",
    "\n",
    "xs.shape, ys.shape"
   ]
  },
  {
   "cell_type": "code",
   "execution_count": 252,
   "id": "f847a4d1-0f52-44b7-abea-1cd7b3f31aef",
   "metadata": {},
   "outputs": [
    {
     "data": {
      "text/plain": [
       "(torch.Size([182516, 2]),\n",
       " torch.Size([22816, 2]),\n",
       " torch.Size([22814, 2]),\n",
       " torch.Size([182516]),\n",
       " torch.Size([22816]),\n",
       " torch.Size([22814]))"
      ]
     },
     "execution_count": 252,
     "metadata": {},
     "output_type": "execute_result"
    }
   ],
   "source": [
    "# split dataset into train, dev and test sets\n",
    "xs_train, xs_dev, xs_test = split_dataset(xs)\n",
    "ys_train, ys_dev, ys_test = split_dataset(ys)\n",
    "\n",
    "xs_train.shape, xs_test.shape, xs_dev.shape, ys_train.shape, ys_test.shape, ys_dev.shape"
   ]
  },
  {
   "cell_type": "code",
   "execution_count": 253,
   "id": "b96881f3-1200-494f-b37a-9a43b4a9d36d",
   "metadata": {},
   "outputs": [],
   "source": [
    "g = torch.Generator().manual_seed(2147483647)\n",
    "W = torch.rand((27*2, 27), generator = g, requires_grad=True)"
   ]
  },
  {
   "cell_type": "code",
   "execution_count": 254,
   "id": "124ff5d7-a2c1-49de-8128-9981341bd97f",
   "metadata": {},
   "outputs": [
    {
     "name": "stdout",
     "output_type": "stream",
     "text": [
      "   0:3.4320\n",
      "  25:2.4283\n",
      "  50:2.3747\n",
      "  75:2.3535\n",
      " 100:2.3420\n",
      " 125:2.3346\n",
      " 150:2.3295\n",
      " 175:2.3257\n",
      " 200:2.3228\n",
      " 225:2.3205\n",
      "result: 250 iterations final loss: 2.3187\n"
     ]
    }
   ],
   "source": [
    "# train model \n",
    "LEARN_RATE = 25\n",
    "N_ITER = 250\n",
    "REG_FACTOR = 0.001\n",
    "\n",
    "# setup inputs\n",
    "xs1 = F.one_hot(xs_train[:,0], num_classes=27).float()\n",
    "xs2 = F.one_hot(xs_train[:,1], num_classes=27).float()\n",
    "xenc = torch.concat((xs1, xs2), dim=1)\n",
    "\n",
    "losses = []\n",
    "\n",
    "for k in range(N_ITER):\n",
    "    # forward pass    \n",
    "    logits = xenc @ W\n",
    "    counts = logits.exp()\n",
    "    p = counts/counts.sum(1, keepdim=True)\n",
    "    loss = -p[torch.arange(xs1.shape[0]),ys_train].log().mean() + REG_FACTOR*(W**2).mean()\n",
    "    losses.append(loss.item())\n",
    "\n",
    "    if k % 25 == 0:\n",
    "        print(f\"{k:4}:{loss.item():.4f}\")\n",
    "\n",
    "    # backward pass\n",
    "    W.grad = None\n",
    "    loss.backward()\n",
    "\n",
    "    # update weights\n",
    "    W.data += -LEARN_RATE * W.grad\n",
    "\n",
    "print(f\"result: {N_ITER} iterations final loss: {losses[-1]:.4f}\")\n"
   ]
  },
  {
   "cell_type": "code",
   "execution_count": 255,
   "id": "0dafc635-13b7-4148-8b2c-3cbb5d44aa63",
   "metadata": {},
   "outputs": [
    {
     "data": {
      "image/png": "[encoded data removed]",
      "text/plain": [
       "<Figure size 640x480 with 1 Axes>"
      ]
     },
     "metadata": {},
     "output_type": "display_data"
    }
   ],
   "source": [
    "plt.ylabel(\"loss\")\n",
    "plt.xlabel(\"iterations\")\n",
    "plt.grid()\n",
    "plt.plot(losses);"
   ]
  },
  {
   "cell_type": "code",
   "execution_count": 9,
   "id": "43834805-e2d7-476e-a56d-4c061ffc4605",
   "metadata": {},
   "outputs": [],
   "source": [
    "def calc_loss_trigram(xs, ys, W, reg=0):\n",
    "    xs1 = F.one_hot(xs[:,0], num_classes=27).float()    \n",
    "    xs2 = F.one_hot(xs[:,1], num_classes=27).float()    \n",
    "    xenc = torch.concat((xs1,xs2), dim=1)\n",
    "    logits = xenc @ W\n",
    "    counts = logits.exp()\n",
    "    p = counts / counts.sum(1, keepdim=True)\n",
    "    loss = -p[torch.arange(xs.shape[0]), ys].log().mean() + reg * (W**2).mean()\n",
    "    \n",
    "    return loss.item()"
   ]
  },
  {
   "cell_type": "code",
   "execution_count": 264,
   "id": "fe1489e1-ed5d-4c33-b64c-45ec8592ec7c",
   "metadata": {},
   "outputs": [
    {
     "name": "stdout",
     "output_type": "stream",
     "text": [
      "train set loss: 2.3176\n",
      "dev set loss: 2.5125\n",
      "test set loss: 2.5220\n"
     ]
    }
   ],
   "source": [
    "#trigram\n",
    "print(f\"train set loss: {calc_loss_trigram(xs_train, ys_train, W):.4f}\") # model above include regularisation\n",
    "print(f\"dev set loss: {calc_loss_trigram(xs_dev, ys_dev, W):.4f}\")\n",
    "print(f\"test set loss: {calc_loss_trigram(xs_test, ys_test, W):.4f}\")"
   ]
  },
  {
   "cell_type": "markdown",
   "id": "7d508499-7a13-45a4-9fc7-e7f1dab178cc",
   "metadata": {},
   "source": [
    "### Conclusion\n",
    "- dev and test loss are higher in both models than against the training set\n",
    "- dev and test loss is similar given a model\n",
    "- trigram trained model achieves better loss than bigram\n",
    "- trigram has lower loss than bigram against dev and test sets\n"
   ]
  },
  {
   "cell_type": "markdown",
   "id": "46a20109-cda6-4bbc-a5de-d054367464ed",
   "metadata": {
    "jp-MarkdownHeadingCollapsed": true
   },
   "source": [
    "## E03 - tune smoothing or regularisation for trigram \n",
    "\n",
    "1. setup trigram\n",
    "2. try out different regularisation factors when training model\n",
    "3. see impact of reg factors against dev and test datasets - How good of a loss do you achieve?"
   ]
  },
  {
   "cell_type": "code",
   "execution_count": 57,
   "id": "717013b9-f858-46a3-bc3d-e27e63d2acc9",
   "metadata": {},
   "outputs": [
    {
     "data": {
      "text/plain": [
       "(torch.Size([228146, 2]), torch.Size([228146]))"
      ]
     },
     "execution_count": 57,
     "metadata": {},
     "output_type": "execute_result"
    }
   ],
   "source": [
    "# setup training sets\n",
    "chars = sorted(['.'] + list(set(''.join(words))))\n",
    "itos = {idx: c for idx, c in enumerate(chars)}\n",
    "stoi = {v:k for k,v in itos.items()}\n",
    "\n",
    "xs, ys = [],[]\n",
    "\n",
    "for w in words:\n",
    "    chrs = ['.']* 2 + list(w) + ['.']\n",
    "    for ch1, ch2, ch3 in zip(chrs, chrs[1:], chrs[2:]):\n",
    "        # print(ch1, ch2, ch3)\n",
    "        xs.append((stoi[ch1], stoi[ch2]))\n",
    "        ys.append(stoi[ch3])\n",
    "\n",
    "xs = torch.tensor(xs)\n",
    "ys = torch.tensor(ys)\n",
    "\n",
    "xs.shape, ys.shape"
   ]
  },
  {
   "cell_type": "code",
   "execution_count": 55,
   "id": "ad13f3cc-e72f-4441-a36c-20473b74029b",
   "metadata": {},
   "outputs": [
    {
     "data": {
      "text/plain": [
       "torch.Size([182516, 2])"
      ]
     },
     "execution_count": 55,
     "metadata": {},
     "output_type": "execute_result"
    }
   ],
   "source": [
    "# split dataset into train, dev and test sets\n",
    "xs_train, xs_dev, xs_test = split_dataset(xs)\n",
    "ys_train, ys_dev, ys_test = split_dataset(ys)\n",
    "\n",
    "xs_train.shape"
   ]
  },
  {
   "cell_type": "code",
   "execution_count": 21,
   "id": "fcbf66a5-2594-4a3e-abf7-7aeac20a9ea7",
   "metadata": {},
   "outputs": [],
   "source": [
    "# setup inputs\n",
    "xs1 = F.one_hot(xs_train[:,0], num_classes=27).float()\n",
    "xs2 = F.one_hot(xs_train[:,1], num_classes=27).float()\n",
    "xenc = torch.concat((xs1, xs2), dim=1)"
   ]
  },
  {
   "cell_type": "code",
   "execution_count": 62,
   "id": "b923127f-3372-40bc-b090-5e4bcec023a1",
   "metadata": {},
   "outputs": [
    {
     "name": "stdout",
     "output_type": "stream",
     "text": [
      "0.00000000|   0:3.4317\n",
      "0.00000000| 200:2.3217\n",
      "0.04166667|   0:3.4457\n",
      "0.04166667| 200:2.3578\n",
      "0.08333334|   0:3.4597\n",
      "0.08333334| 200:2.3829\n",
      "0.12500000|   0:3.4736\n",
      "0.12500000| 200:2.4025\n",
      "0.16666667|   0:3.4876\n",
      "0.16666667| 200:2.4192\n",
      "0.20833334|   0:3.5016\n",
      "0.20833334| 200:2.4340\n",
      "0.25000000|   0:3.5156\n",
      "0.25000000| 200:2.4477\n",
      "0.29166669|   0:3.5296\n",
      "0.29166669| 200:2.4604\n",
      "0.33333334|   0:3.5436\n",
      "0.33333334| 200:2.4724\n",
      "0.37500000|   0:3.5575\n",
      "0.37500000| 200:2.4838\n",
      "0.41666669|   0:3.5715\n",
      "0.41666669| 200:2.4945\n",
      "0.45833334|   0:3.5855\n",
      "0.45833334| 200:2.5047\n",
      "0.50000000|   0:3.5995\n",
      "0.50000000| 200:2.5144\n",
      "0.54166663|   0:3.6135\n",
      "0.54166663| 200:2.5237\n",
      "0.58333331|   0:3.6274\n",
      "0.58333331| 200:2.5325\n",
      "0.62500000|   0:3.6414\n",
      "0.62500000| 200:2.5410\n",
      "0.66666663|   0:3.6554\n",
      "0.66666663| 200:2.5491\n",
      "0.70833331|   0:3.6694\n",
      "0.70833331| 200:2.5570\n",
      "0.75000000|   0:3.6834\n",
      "0.75000000| 200:2.5645\n",
      "0.79166663|   0:3.6974\n",
      "0.79166663| 200:2.5718\n",
      "0.83333331|   0:3.7113\n",
      "0.83333331| 200:2.5788\n",
      "0.87500000|   0:3.7253\n",
      "0.87500000| 200:2.5856\n",
      "0.91666669|   0:3.7393\n",
      "0.91666669| 200:2.5922\n",
      "0.95833331|   0:3.7533\n",
      "0.95833331| 200:2.5985\n",
      "1.00000000|   0:3.7673\n",
      "1.00000000| 200:2.6047\n"
     ]
    }
   ],
   "source": [
    "# train model \n",
    "LEARN_RATE = 25\n",
    "N_ITER = 201\n",
    "REG_STEPS = 25\n",
    "\n",
    "loss_train, loss_dev, loss_test = [], [], []\n",
    "\n",
    "\n",
    "for reg_factor in torch.linspace(0.0,1.0,REG_STEPS):\n",
    "    # setup trigram and inputs\n",
    "    g = torch.Generator().manual_seed(2147483647)\n",
    "    W = torch.rand((27*2, 27), generator = g, requires_grad=True)\n",
    "    \n",
    "    for k in range(N_ITER):\n",
    "        # forward pass    \n",
    "        logits = xenc @ W\n",
    "        counts = logits.exp()\n",
    "        p = counts/counts.sum(1, keepdim=True)\n",
    "        loss = -p[torch.arange(xs1.shape[0]),ys_train].log().mean() + reg_factor*(W**2).mean()\n",
    "    \n",
    "        if k % 200 == 0:\n",
    "            print(f\"{reg_factor:.4f}|{k:4}:{loss.item():.4f}\")\n",
    "    \n",
    "        # backward pass\n",
    "        W.grad = None\n",
    "        loss.backward()\n",
    "    \n",
    "        # update weights\n",
    "        W.data += -LEARN_RATE * W.grad\n",
    "\n",
    "    train_loss = calc_loss_trigram(xs_train, ys_train, W, reg_factor)\n",
    "    dev_loss = calc_loss_trigram(xs_dev, ys_dev, W, reg_factor)\n",
    "    test_loss = calc_loss_trigram(xs_test, ys_test, W, reg_factor)\n",
    "\n",
    "    loss_train.append((reg_factor, train_loss))\n",
    "    loss_dev.append((reg_factor, dev_loss))\n",
    "    loss_test.append((reg_factor, test_loss))"
   ]
  },
  {
   "cell_type": "code",
   "execution_count": 59,
   "id": "a9a7a50f-d891-4ac4-bd2e-ac0fe4d15bd1",
   "metadata": {},
   "outputs": [
    {
     "data": {
      "text/plain": [
       "([(tensor(0.), 2.3216443061828613),\n",
       "  (tensor(0.5000), 2.5143990516662598),\n",
       "  (tensor(1.), 2.6047399044036865)],\n",
       " [(tensor(0.), 2.516204357147217),\n",
       "  (tensor(0.5000), 2.6823418140411377),\n",
       "  (tensor(1.), 2.761134386062622)],\n",
       " [(tensor(0.), 2.5254061222076416),\n",
       "  (tensor(0.5000), 2.6875486373901367),\n",
       "  (tensor(1.), 2.7659637928009033)])"
      ]
     },
     "execution_count": 59,
     "metadata": {},
     "output_type": "execute_result"
    }
   ],
   "source": [
    "loss_train, loss_dev, loss_test"
   ]
  },
  {
   "cell_type": "code",
   "execution_count": 68,
   "id": "4ef65d4c-3b5b-47a1-9731-b7dc143ec81c",
   "metadata": {},
   "outputs": [
    {
     "data": {
      "image/png": "[encoded data removed]",
      "text/plain": [
       "<Figure size 1600x800 with 1 Axes>"
      ]
     },
     "metadata": {},
     "output_type": "display_data"
    }
   ],
   "source": [
    "plt.figure(figsize=(16,8))\n",
    "plt.plot(*zip(*loss_train), label=\"train loss\", color='green', marker='o')\n",
    "plt.plot(*zip(*loss_dev), label=\"dev loss\", color='blue', marker='o')\n",
    "plt.plot(*zip(*loss_test), label=\"test loss\", color='red', marker='o')\n",
    "plt.xlabel('regularisation factor')\n",
    "plt.ylabel('loss')\n",
    "plt.legend()\n",
    "plt.title('loss for dataset after trigram nn 200 iteration training against reg factor hyperparameter')\n",
    "plt.show()"
   ]
  },
  {
   "cell_type": "markdown",
   "id": "4bd0df6e-a4cd-4b09-ad43-d379d2175b05",
   "metadata": {},
   "source": [
    "#### Conclusions\n",
    "- Training loss increase with regularisation and corresponding so does the loss against dev and test datasets.\n",
    "- dev and test loss is similar and follow same curve closely to training\n",
    "- dev and test loss is higher which means  it is overfitting and doesn't generalise that well to other datasets\n",
    "- dev and test are representative of each other as loss is similar"
   ]
  },
  {
   "cell_type": "code",
   "execution_count": 3,
   "id": "d5f0133c-6bd4-406b-b4b2-ab971a9f0781",
   "metadata": {},
   "outputs": [
    {
     "data": {
      "text/plain": [
       "tensor([0.0000, 0.0417, 0.0833, 0.1250, 0.1667, 0.2083, 0.2500, 0.2917, 0.3333,\n",
       "        0.3750, 0.4167, 0.4583, 0.5000, 0.5417, 0.5833, 0.6250, 0.6667, 0.7083,\n",
       "        0.7500, 0.7917, 0.8333, 0.8750, 0.9167, 0.9583, 1.0000])"
      ]
     },
     "execution_count": 3,
     "metadata": {},
     "output_type": "execute_result"
    }
   ],
   "source": [
    "torch.linspace(0.0,1.0,25)"
   ]
  },
  {
   "cell_type": "markdown",
   "id": "3b352e57-3ce1-4df7-be34-7b1de6dc58c7",
   "metadata": {},
   "source": [
    "## E04 - how to avoid use of one hot vectors\n",
    "\n",
    "we saw that our 1-hot vectors merely select a row of W, so producing these vectors explicitly feels wasteful. Can you delete our use of F.one_hot in favor of simply indexing into rows of W?"
   ]
  },
  {
   "cell_type": "code",
   "execution_count": 390,
   "id": "35f4ea08-44c3-4a85-b8db-766879d504e6",
   "metadata": {},
   "outputs": [],
   "source": [
    "xs = torch.tensor([2,1,0])\n",
    "xenc = F.one_hot(xs, num_classes=5).float()\n",
    "g = torch.Generator().manual_seed(1)\n",
    "W = torch.rand((5,10), generator=g)"
   ]
  },
  {
   "cell_type": "code",
   "execution_count": 393,
   "id": "13608c1d-21af-42d2-8088-1df62b5f34f7",
   "metadata": {},
   "outputs": [
    {
     "data": {
      "text/plain": [
       "tensor([[0.3138, 0.1980, 0.4162, 0.2843, 0.3398, 0.5239, 0.7981, 0.7718, 0.0112,\n",
       "         0.8100],\n",
       "        [0.6387, 0.5247, 0.6826, 0.3051, 0.4635, 0.4550, 0.5725, 0.4980, 0.9371,\n",
       "         0.6556],\n",
       "        [0.7576, 0.2793, 0.4031, 0.7347, 0.0293, 0.7999, 0.3971, 0.7544, 0.5695,\n",
       "         0.4388]])"
      ]
     },
     "execution_count": 393,
     "metadata": {},
     "output_type": "execute_result"
    }
   ],
   "source": [
    "xenc @ W # (3,5) @ (5,10) -> (3,10)"
   ]
  },
  {
   "cell_type": "code",
   "execution_count": 396,
   "id": "d7e4430d-f1df-49cf-9967-2af235ad992b",
   "metadata": {},
   "outputs": [
    {
     "data": {
      "text/plain": [
       "True"
      ]
     },
     "execution_count": 396,
     "metadata": {},
     "output_type": "execute_result"
    }
   ],
   "source": [
    "# we can just index the row directly, which does exactly the same as one hot encoding\n",
    "# xenc @ W == W[xs]\n",
    "torch.equal(xenc@W, W[xs])"
   ]
  },
  {
   "cell_type": "code",
   "execution_count": 397,
   "id": "7cb9752e-afb0-4117-bfd3-f6d114959670",
   "metadata": {},
   "outputs": [
    {
     "data": {
      "text/plain": [
       "(torch.Size([3, 10]), torch.Size([3, 10]))"
      ]
     },
     "execution_count": 397,
     "metadata": {},
     "output_type": "execute_result"
    }
   ],
   "source": [
    "(xenc @ W).shape, W[xs].shape"
   ]
  },
  {
   "cell_type": "code",
   "execution_count": 399,
   "id": "9fa1001f-99bc-44e4-aeb3-b08918be2d8d",
   "metadata": {},
   "outputs": [
    {
     "data": {
      "text/plain": [
       "(torch.Size([3, 10]),\n",
       " torch.Size([10]),\n",
       " torch.Size([1, 10]),\n",
       " torch.Size([2, 10]))"
      ]
     },
     "execution_count": 399,
     "metadata": {},
     "output_type": "execute_result"
    }
   ],
   "source": [
    "# watch out for indexing vs slicing. Indexing will return the row, so below 1D, whereas we want slicing 2D\n",
    "\n",
    "W[xs].shape, W[0].shape, W[[0]].shape, W[[0,1]].shape"
   ]
  },
  {
   "cell_type": "code",
   "execution_count": 414,
   "id": "3b42377d-d443-4bf9-9f5a-f84778b1bd6d",
   "metadata": {},
   "outputs": [
    {
     "data": {
      "text/plain": [
       "True"
      ]
     },
     "execution_count": 414,
     "metadata": {},
     "output_type": "execute_result"
    }
   ],
   "source": [
    "# if we passed two one hot encoding concated together, then instead:\n",
    "W = torch.rand((27+27,27), generator = g)\n",
    "xs = torch.tensor([[10,14], [4,13], [8,10]])\n",
    "xs1 = F.one_hot(xs[:,0], num_classes=27).float()\n",
    "xs2 = F.one_hot(xs[:,1], num_classes=27).float()\n",
    "xenc = torch.cat((xs1,xs2), dim=1)\n",
    "\n",
    "torch.equal(xenc @ W, W[xs[:,0]] + W[27 + xs[:,1]])\n"
   ]
  },
  {
   "cell_type": "markdown",
   "id": "748ebb6d-01c4-43dc-b98a-f5edcb4bb829",
   "metadata": {},
   "source": [
    "## E05 - Using Cross Entropy\n",
    "\n",
    "look up and use F.cross_entropy instead. You should achieve the same result. Can you think of why we'd prefer to use F.cross_entropy instead?\n",
    "\n"
   ]
  },
  {
   "cell_type": "code",
   "execution_count": 382,
   "id": "d9d55802-e6bb-43cd-a97c-42a319fa980e",
   "metadata": {},
   "outputs": [
    {
     "data": {
      "text/plain": [
       "tensor([[0.7576, 0.2793, 0.4031, 0.7347, 0.0293],\n",
       "        [0.7999, 0.3971, 0.7544, 0.5695, 0.4388],\n",
       "        [0.6387, 0.5247, 0.6826, 0.3051, 0.4635]])"
      ]
     },
     "execution_count": 382,
     "metadata": {},
     "output_type": "execute_result"
    }
   ],
   "source": [
    "g = torch.Generator().manual_seed(1)\n",
    "logits = torch.rand((3,5),generator=g)\n",
    "logits"
   ]
  },
  {
   "cell_type": "code",
   "execution_count": 383,
   "id": "9e15ce03-2d07-4bc5-b531-728c3ee94a71",
   "metadata": {},
   "outputs": [
    {
     "data": {
      "text/plain": [
       "tensor([0, 3, 2])"
      ]
     },
     "execution_count": 383,
     "metadata": {},
     "output_type": "execute_result"
    }
   ],
   "source": [
    "target = torch.tensor([0,3,2])\n",
    "target"
   ]
  },
  {
   "cell_type": "code",
   "execution_count": 384,
   "id": "9b552e16-6fe0-4979-ae90-f196957658c0",
   "metadata": {},
   "outputs": [
    {
     "data": {
      "text/plain": [
       "tensor(1.4779)"
      ]
     },
     "execution_count": 384,
     "metadata": {},
     "output_type": "execute_result"
    }
   ],
   "source": [
    "counts = logits.exp()\n",
    "p = counts / counts.sum(1, keepdim=True)\n",
    "nll = -p[torch.arange(3), target].log().mean()\n",
    "nll"
   ]
  },
  {
   "cell_type": "code",
   "execution_count": 385,
   "id": "2412284d-1981-4fd8-b6a8-f65a485704f6",
   "metadata": {},
   "outputs": [
    {
     "data": {
      "text/plain": [
       "(tensor(1.4779), False)"
      ]
     },
     "execution_count": 385,
     "metadata": {},
     "output_type": "execute_result"
    }
   ],
   "source": [
    "# ce and nll are the same so cross entropy appears to allow us to do three\n",
    "# steps in 1. also provides a parameters for model smoothing (label_smoothing)\n",
    "\n",
    "ce = F.cross_entropy(logits, target)\n",
    "ce, torch.equal(ce, nll)"
   ]
  },
  {
   "cell_type": "code",
   "execution_count": 301,
   "id": "af45ea94-4e2c-4cfd-b75d-63b8a08ea299",
   "metadata": {},
   "outputs": [
    {
     "data": {
      "text/plain": [
       "(torch.Size([228146, 2]), torch.Size([228146]))"
      ]
     },
     "execution_count": 301,
     "metadata": {},
     "output_type": "execute_result"
    }
   ],
   "source": [
    "chars = sorted(['.'] + list(set(''.join(words))))\n",
    "itos = {idx: c for idx, c in enumerate(chars)}\n",
    "stoi = {v:k for k,v in itos.items()}\n",
    "\n",
    "xs, ys = [],[]\n",
    "\n",
    "for w in words:\n",
    "    chrs = ['.']* 2 + list(w) + ['.']\n",
    "    for ch1, ch2, ch3 in zip(chrs, chrs[1:], chrs[2:]):\n",
    "        # print(ch1, ch2, ch3)\n",
    "        xs.append((stoi[ch1], stoi[ch2]))\n",
    "        ys.append(stoi[ch3])\n",
    "\n",
    "xs = torch.tensor(xs)\n",
    "ys = torch.tensor(ys)\n",
    "\n",
    "xs.shape, ys.shape"
   ]
  },
  {
   "cell_type": "code",
   "execution_count": 386,
   "id": "3406fee1-16e0-4f18-a8a8-8f1def820cf1",
   "metadata": {},
   "outputs": [],
   "source": [
    "# setup inputs\n",
    "xs1 = F.one_hot(xs_train[:,0], num_classes=27).float()\n",
    "xs2 = F.one_hot(xs_train[:,1], num_classes=27).float()\n",
    "xenc = torch.concat((xs1, xs2), dim=1)"
   ]
  },
  {
   "cell_type": "code",
   "execution_count": 372,
   "id": "60d5649e-11a8-4ab7-a1a0-9e283c3c0e3f",
   "metadata": {},
   "outputs": [
    {
     "name": "stdout",
     "output_type": "stream",
     "text": [
      "ore\n",
      "violinn\n",
      "nafraulei\n",
      "nelitenan\n",
      "ju\n"
     ]
    }
   ],
   "source": [
    "for _ in range(5):\n",
    "    ix1, ix2 = 0,0\n",
    "    out = []\n",
    "    while True:\n",
    "        logits = W[[ix1]] + W[[27+ix2]] # slice into the W directly without one hot encoding\n",
    "        counts = logits.exp() # fake counts\n",
    "        p = counts / counts.sum(1, keepdim=True)\n",
    "        ix1 = ix2\n",
    "        ix2 = torch.multinomial(p, num_samples=1, replacement=True, generator=g).item()\n",
    "    \n",
    "        if itos[ix2] == '.':\n",
    "            break\n",
    "        out.append(itos[ix2])\n",
    "    print(''.join(out))"
   ]
  }
 ],
 "metadata": {
  "kernelspec": {
   "display_name": "Python 3 (ipykernel)",
   "language": "python",
   "name": "python3"
  },
  "language_info": {
   "codemirror_mode": {
    "name": "ipython",
    "version": 3
   },
   "file_extension": ".py",
   "mimetype": "text/x-python",
   "name": "python",
   "nbconvert_exporter": "python",
   "pygments_lexer": "ipython3",
   "version": "3.11.2"
  }
 },
 "nbformat": 4,
 "nbformat_minor": 5
}
