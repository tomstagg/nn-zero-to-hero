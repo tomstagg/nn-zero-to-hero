{
 "cells": [
  {
   "cell_type": "markdown",
   "id": "76b5f253-e8c7-4bb0-b993-dfcf22f8f33d",
   "metadata": {},
   "source": [
    "# 04 Makemore - Activations, Gradients and Batchnorm"
   ]
  },
  {
   "cell_type": "markdown",
   "id": "9c188524-2a8a-40a1-bfb3-6c3e38fb1d08",
   "metadata": {},
   "source": [
    "## setup\n",
    "Tidy up of working code in preparation for diving into the internals of MLPS. Investigationg the forward pass activation, backward pass gradients and some gotchas."
   ]
  },
  {
   "cell_type": "code",
   "execution_count": 20,
   "id": "38b26e9f-3be5-40da-8d88-821ce8e4b936",
   "metadata": {},
   "outputs": [],
   "source": [
    "import torch, torch.nn.functional as F, matplotlib.pyplot as plt, random"
   ]
  },
  {
   "cell_type": "code",
   "execution_count": 16,
   "id": "ef63c2df-72c3-435f-befb-46741db90741",
   "metadata": {},
   "outputs": [],
   "source": [
    "words = open(\"../names.txt\").read().splitlines()"
   ]
  },
  {
   "cell_type": "code",
   "execution_count": 17,
   "id": "ad7c69eb-093e-4e04-902a-37e7fe3e1590",
   "metadata": {},
   "outputs": [],
   "source": [
    "chars = sorted(list(set(''.join(words))) + ['.'])\n",
    "itos = {idx: ch for idx, ch in enumerate(chars)}\n",
    "stoi = {v:k for k, v in itos.items()}"
   ]
  },
  {
   "cell_type": "code",
   "execution_count": 147,
   "id": "33113ed2-b08a-4df8-a317-413ac3a8dc24",
   "metadata": {},
   "outputs": [],
   "source": [
    "def build_dataset(words, block_size=3):\n",
    "    # build the full dataset\n",
    "    X, Y = [], []\n",
    "    \n",
    "    for w in words:\n",
    "        context = [0] * block_size\n",
    "        for ch in w + '.':\n",
    "            ix = stoi[ch]\n",
    "            X.append(context)\n",
    "            Y.append(ix)\n",
    "            context = context[1:] + [ix] # crop and append\n",
    "    X = torch.tensor(X)\n",
    "    Y = torch.tensor(Y)\n",
    "    return X, Y\n",
    "\n",
    "def split_dataset(X,Y):\n",
    "    random.seed(42); \n",
    "    random.shuffle(words) # randomly shuffle words\n",
    "    \n",
    "    n1 = int(0.8 * X.shape[0])\n",
    "    n2 = int(0.9 * X.shape[0])\n",
    "    Xtr, Xdev, Xts = X.tensor_split((n1, n2), dim=0)\n",
    "    Ytr, Ydev, Yts = Y.tensor_split((n1, n2), dim=0)\n",
    "    print(Xtr.shape, Ytr.shape)\n",
    "    print(Xdev.shape, Ydev.shape)\n",
    "    print(Xts.shape, Yts.shape)\n",
    "    return Xtr, Ytr, Xdev, Ydev, Xts, Yts\n",
    "\n",
    "\n",
    "@torch.no_grad() # this decorator disables gradient tracking - avoid bookkeeping for torch which is more efficient\n",
    "def split_loss(split):\n",
    "    # calculates the loss for datasets\n",
    "    x,y = {\"train\": (Xtr, Ytr),\"val\": (Xdev, Ydev),\"test\": (Xts, Yts)}[split]\n",
    "        \n",
    "    emb = C[x]\n",
    "    embcat = emb.view(emb.shape[0], -1) # concatenate the vectors\n",
    "    hpreact = embcat @ W1 + b1 # hidden layer pre-activations\n",
    "    h = torch.tanh(hpreact) # hidden layer\n",
    "    logits = h @ W2 + b2 # output layer\n",
    "    loss = F.cross_entropy(logits, y) # loss function\n",
    "    print(split, loss.item())"
   ]
  },
  {
   "cell_type": "code",
   "execution_count": 61,
   "id": "4550fe7c-b689-4000-9aa6-13d0470618f5",
   "metadata": {},
   "outputs": [
    {
     "name": "stdout",
     "output_type": "stream",
     "text": [
      "torch.Size([182516, 3]) torch.Size([182516])\n",
      "torch.Size([22815, 3]) torch.Size([22815])\n",
      "torch.Size([22815, 3]) torch.Size([22815])\n"
     ]
    }
   ],
   "source": [
    "# setup hyperparameters \n",
    "block_size = 3 # the number of input characters\n",
    "vocab_size = 27 # distinct range of input characters\n",
    "n_embed = 10 # the dimensionality of the character embedding space\n",
    "n_hidden = 200 # the number of neurons in the hidden layer of the MLP\n",
    "\n",
    "# build test, dev and train datasets\n",
    "Xtr, Ytr, Xdev, Ydev, Xts, Yts = split_dataset(*build_dataset(words, block_size))"
   ]
  },
  {
   "cell_type": "code",
   "execution_count": 181,
   "id": "d5011c94-c89a-42e5-b2a7-d781f2e06fcb",
   "metadata": {},
   "outputs": [
    {
     "name": "stdout",
     "output_type": "stream",
     "text": [
      "11897\n"
     ]
    }
   ],
   "source": [
    "# initalise the nn \n",
    "g = torch.Generator().manual_seed(2147483647)\n",
    "C = torch.randn((vocab_size,n_embed),              generator=g)\n",
    "W1 = torch.randn((n_embed * block_size, n_hidden), generator=g)\n",
    "b1 = torch.randn(n_hidden,                         generator=g)\n",
    "W2 = torch.randn((n_hidden,27),                    generator=g)\n",
    "b2 = torch.randn(vocab_size,                       generator=g)\n",
    "parameters = [C, W1, b1, W2, b2]\n",
    "\n",
    "print(sum([p.nelement() for p in parameters]))\n",
    "for p in parameters:\n",
    "    p.requires_grad = True"
   ]
  },
  {
   "cell_type": "code",
   "execution_count": 182,
   "id": "318c66fb-9f6d-4923-8cd9-d6e7a6e33b09",
   "metadata": {},
   "outputs": [
    {
     "name": "stdout",
     "output_type": "stream",
     "text": [
      "      0/ 200000: 28.5922\n"
     ]
    }
   ],
   "source": [
    "# training the model\n",
    "max_steps = 200_000\n",
    "batch_size = 32\n",
    "lossi = []\n",
    "\n",
    "for i in range(max_steps):\n",
    "    \n",
    "    # minibatch construct\n",
    "    ix = torch.randint(0, Xtr.shape[0], (batch_size,), generator=g)\n",
    "    Xb, Yb = Xtr[ix], Ytr[ix]\n",
    "    \n",
    "    # forward pass\n",
    "    emb = C[Xb]\n",
    "    embcat = emb.view(emb.shape[0], -1) # concatenate the vectors\n",
    "    hpreact = embcat @ W1 + b1 # hidden layer pre-activations\n",
    "    h = torch.tanh(hpreact) # hidden layer\n",
    "    logits = h @ W2 + b2 # output layer\n",
    "    loss = F.cross_entropy(logits, Yb) # loss function \n",
    "        \n",
    "    # backward pass\n",
    "    for p in parameters:\n",
    "        p.grad = None\n",
    "    loss.backward()\n",
    "    \n",
    "    # update\n",
    "    lr = 0.1 if i < 100_000 else 0.01 # step learning rate decay\n",
    "    for p in parameters:\n",
    "        p.data += -lr * p.grad \n",
    "\n",
    "    # track stats\n",
    "    if i % 10000 == 0:\n",
    "        print(f'{i:7d}/{max_steps:7d}: {loss.item():.4f}')\n",
    "\n",
    "    lossi.append(loss.log10().item())\n",
    "\n",
    "    break # used to break after 1 iteration to show state of the model after 1 iteration, where loss can be ~28."
   ]
  },
  {
   "cell_type": "code",
   "execution_count": 174,
   "id": "c0e0cd16-5ec5-450f-b733-de2d6ed84042",
   "metadata": {},
   "outputs": [
    {
     "data": {
      "image/png": "[encoded data removed]",
      "text/plain": [
       "<Figure size 640x480 with 1 Axes>"
      ]
     },
     "metadata": {},
     "output_type": "display_data"
    }
   ],
   "source": [
    "plt.plot(lossi);"
   ]
  },
  {
   "cell_type": "code",
   "execution_count": 175,
   "id": "09fe2f37-a119-43b5-a298-58696cc7c5fa",
   "metadata": {},
   "outputs": [
    {
     "name": "stdout",
     "output_type": "stream",
     "text": [
      "train 2.135777711868286\n",
      "val 2.183779239654541\n"
     ]
    }
   ],
   "source": [
    "# loss with random initialisation:\n",
    "split_loss('train') # 2.136\n",
    "split_loss('val') # 2.184"
   ]
  },
  {
   "cell_type": "code",
   "execution_count": 176,
   "id": "9a80fac2-6dbd-4cc2-b8fa-d423c4b07aac",
   "metadata": {},
   "outputs": [
    {
     "name": "stdout",
     "output_type": "stream",
     "text": [
      "kaden\n",
      "dailandiconnix\n",
      "adanson\n",
      "mariggeera\n",
      "orrine\n",
      "chuwe\n",
      "elivo\n",
      "got\n",
      "baylen\n",
      "mayson\n",
      "len\n",
      "ligher\n",
      "yana\n",
      "rainon\n",
      "yay\n",
      "del\n",
      "tauna\n",
      "aleagalia\n",
      "egen\n",
      "pisrenia\n"
     ]
    }
   ],
   "source": [
    "# model sampling\n",
    "for _ in range(20):\n",
    "    context = [0] * block_size\n",
    "    word = []\n",
    "    while True:\n",
    "        \n",
    "        emb = C[context]\n",
    "        embcat = emb.view(1,-1)\n",
    "        hpreact = embcat @ W1 + b1\n",
    "        h = torch.tanh(hpreact)\n",
    "        logits = h @ W2 + b2\n",
    "        counts = logits.exp()\n",
    "        p = counts / counts.sum(1, keepdim=True)\n",
    "        ix = torch.multinomial(p, num_samples=1, replacement=True, generator=g).item()\n",
    "        if itos[ix] == '.':\n",
    "            break\n",
    "        word.append(itos[ix])\n",
    "        context = context[1:] + [ix]\n",
    "    print(''.join(word))"
   ]
  },
  {
   "cell_type": "markdown",
   "id": "9a73ef80-b71c-4873-a481-eda18175aa36",
   "metadata": {},
   "source": [
    "## Investigate and fixing the inital loss\n",
    "First step has very high loss (27.8), we'd like much lower. We'd want initial loss to only uniform distribution 1/27.0, so loss is 3.2958. If the model is confidently wrong the loss is much higher. We want to start the training with a lower loss, and initials the model's weights, we can do this by multiplying the weights and bias by a small or zero to make the loss closer to 0 and more uniform."
   ]
  },
  {
   "cell_type": "code",
   "execution_count": 160,
   "id": "5a4a44fc-979a-4437-bdc5-2b1239786512",
   "metadata": {},
   "outputs": [
    {
     "data": {
      "text/plain": [
       "tensor(3.2958)"
      ]
     },
     "execution_count": 160,
     "metadata": {},
     "output_type": "execute_result"
    }
   ],
   "source": [
    "# we want the loss to be uniform so the loss should initially be: \n",
    "-torch.tensor(1/27.0).log()\n",
    "# but we get a very messed up, and the model is very confidently wrong"
   ]
  },
  {
   "cell_type": "code",
   "execution_count": 162,
   "id": "ebcb9217-6829-4b94-9e09-544ff3e9eef5",
   "metadata": {},
   "outputs": [
    {
     "data": {
      "text/plain": [
       "(tensor([0., 5., 0., 0.]),\n",
       " tensor([0.0066, 0.9802, 0.0066, 0.0066]),\n",
       " tensor(5.0200))"
      ]
     },
     "execution_count": 162,
     "metadata": {},
     "output_type": "execute_result"
    }
   ],
   "source": [
    "# 4d example of the issue:\n",
    "logits = torch.tensor([0.0, 5.0, 0.0, 0.0])\n",
    "probs = torch.softmax(logits, dim=0)\n",
    "loss = -probs[2].log()\n",
    "logits, probs, loss"
   ]
  },
  {
   "cell_type": "code",
   "execution_count": 179,
   "id": "e8b7cad8-f517-4ab3-97c0-add4f604877b",
   "metadata": {},
   "outputs": [
    {
     "data": {
      "text/plain": [
       "(tensor([-2.0687, -2.2561,  9.4957, 22.7108]),\n",
       " tensor([1.7314e-11, 1.4356e-11, 1.8229e-06, 1.0000e+00]),\n",
       " tensor(13.2151))"
      ]
     },
     "execution_count": 179,
     "metadata": {},
     "output_type": "execute_result"
    }
   ],
   "source": [
    "logits = torch.randn(4) * 10\n",
    "probs = torch.softmax(logits, dim=0)\n",
    "loss = -probs[2].log()\n",
    "logits, probs, loss # can be very high loss"
   ]
  },
  {
   "cell_type": "code",
   "execution_count": 183,
   "id": "21e20c54-a68c-47cd-bfc6-08a00ecba55b",
   "metadata": {},
   "outputs": [
    {
     "data": {
      "text/plain": [
       "tensor([ 20.4446, -13.4149, -25.8656,   6.3718,  11.2841,  28.9982, -25.0925,\n",
       "        -15.1387,  23.3197,   2.4465,  10.4902, -12.7129,  -1.1194,  -4.8172,\n",
       "         -0.3411, -28.8215, -21.4922, -16.8877, -20.7713,   7.5535,  -5.8498,\n",
       "         -0.0803,  -4.9603,  -3.6459,  -0.7197,  -0.7587, -18.2604],\n",
       "       grad_fn=<SelectBackward0>)"
      ]
     },
     "execution_count": 183,
     "metadata": {},
     "output_type": "execute_result"
    }
   ],
   "source": [
    "# run the code above and break afrer the first iteration and look at the first item in the minibatch. Look at the logits\n",
    "# where the loss is very high ~28\n",
    "logits[0]"
   ]
  },
  {
   "cell_type": "code",
   "execution_count": 184,
   "id": "571a0596-41fa-4c92-a7ab-9cee6c12906d",
   "metadata": {},
   "outputs": [
    {
     "name": "stdout",
     "output_type": "stream",
     "text": [
      "11897\n"
     ]
    }
   ],
   "source": [
    "# initalise the nn with better initialised loss: \n",
    "# not zero for W2, as need entropy, for symmetry breaking\n",
    "# this stops neurons behaving in the same way, so each neuron learns different aspects of the data. if they were all 0 \n",
    "# all neurons learn the  same feature.\n",
    "g = torch.Generator().manual_seed(2147483647)\n",
    "C = torch.randn((vocab_size,n_embed),              generator=g)\n",
    "W1 = torch.randn((n_embed * block_size, n_hidden), generator=g)\n",
    "b1 = torch.randn(n_hidden,                         generator=g)\n",
    "W2 = torch.randn((n_hidden,27),                    generator=g) * 0.01  # not zero!\n",
    "b2 = torch.randn(vocab_size,                       generator=g) * 0\n",
    "parameters = [C, W1, b1, W2, b2]\n",
    "\n",
    "print(sum([p.nelement() for p in parameters]))\n",
    "for p in parameters:\n",
    "    p.requires_grad = True"
   ]
  },
  {
   "cell_type": "code",
   "execution_count": 185,
   "id": "d1180016-25e8-433d-8b9a-515f0abd8db2",
   "metadata": {},
   "outputs": [
    {
     "name": "stdout",
     "output_type": "stream",
     "text": [
      "      0/ 200000: 3.3195\n",
      "  10000/ 200000: 1.8446\n",
      "  20000/ 200000: 1.7726\n",
      "  30000/ 200000: 2.1825\n",
      "  40000/ 200000: 1.9668\n",
      "  50000/ 200000: 2.3464\n",
      "  60000/ 200000: 1.9107\n",
      "  70000/ 200000: 2.3133\n",
      "  80000/ 200000: 1.9851\n",
      "  90000/ 200000: 2.2129\n",
      " 100000/ 200000: 2.2940\n",
      " 110000/ 200000: 2.4607\n",
      " 120000/ 200000: 2.0687\n",
      " 130000/ 200000: 2.1357\n",
      " 140000/ 200000: 2.1598\n",
      " 150000/ 200000: 2.4539\n",
      " 160000/ 200000: 2.3531\n",
      " 170000/ 200000: 2.3775\n",
      " 180000/ 200000: 2.2480\n",
      " 190000/ 200000: 2.0948\n"
     ]
    }
   ],
   "source": [
    "# training the model which has been initalised more optimially\n",
    "max_steps = 200_000\n",
    "batch_size = 32\n",
    "lossi = []\n",
    "\n",
    "for i in range(max_steps):\n",
    "    \n",
    "    # minibatch construct\n",
    "    ix = torch.randint(0, Xtr.shape[0], (batch_size,), generator=g)\n",
    "    Xb, Yb = Xtr[ix], Ytr[ix]\n",
    "    \n",
    "    # forward pass\n",
    "    emb = C[Xb]\n",
    "    embcat = emb.view(emb.shape[0], -1) # concatenate the vectors\n",
    "    hpreact = embcat @ W1 + b1 # hidden layer pre-activations\n",
    "    h = torch.tanh(hpreact) # hidden layer\n",
    "    logits = h @ W2 + b2 # output layer\n",
    "    loss = F.cross_entropy(logits, Yb) # loss function \n",
    "        \n",
    "    # backward pass\n",
    "    for p in parameters:\n",
    "        p.grad = None\n",
    "    loss.backward()\n",
    "    \n",
    "    # update\n",
    "    lr = 0.1 if i < 100_000 else 0.01 # step learning rate decay\n",
    "    for p in parameters:\n",
    "        p.data += -lr * p.grad \n",
    "\n",
    "    # track stats\n",
    "    if i % 10000 == 0:\n",
    "        print(f'{i:7d}/{max_steps:7d}: {loss.item():.4f}')\n",
    "\n",
    "    lossi.append(loss.log10().item())\n"
   ]
  },
  {
   "cell_type": "code",
   "execution_count": 186,
   "id": "d9c268a6-62e4-46b4-9fb8-958e652f4a02",
   "metadata": {},
   "outputs": [
    {
     "name": "stdout",
     "output_type": "stream",
     "text": [
      "train 2.069873094558716\n",
      "val 2.147005081176758\n"
     ]
    },
    {
     "data": {
      "image/png": "[encoded data removed]",
      "text/plain": [
       "<Figure size 640x480 with 1 Axes>"
      ]
     },
     "metadata": {},
     "output_type": "display_data"
    }
   ],
   "source": [
    "# don't waste iterations (1000's) just squashing down the weights, and spend more cycles optimising the nn.\n",
    "# the starting loss is 3.3195. and loss is better:\n",
    "split_loss('train') # 2.070 compared to 2.136 before\n",
    "split_loss('val') # 2.147 compared to 2.184 before\n",
    "plt.plot(lossi);"
   ]
  },
  {
   "cell_type": "markdown",
   "id": "3d4b14ab-5c44-4630-ad91-6dad4565c0a2",
   "metadata": {},
   "source": [
    "## Fixing the saturated tanh"
   ]
  },
  {
   "cell_type": "code",
   "execution_count": 190,
   "id": "241204fb-6fcb-4492-b7ab-3d93a4f5cca1",
   "metadata": {},
   "outputs": [
    {
     "data": {
      "text/plain": [
       "(torch.Size([32, 200]),\n",
       " tensor([[-1.0000, -1.0000, -1.0000,  ..., -1.0000,  0.9999,  0.9999],\n",
       "         [-1.0000,  0.9719, -0.0251,  ...,  0.9101,  0.9999,  0.9999],\n",
       "         [-0.3260, -0.9999, -0.9993,  ...,  1.0000, -0.6485, -1.0000],\n",
       "         ...,\n",
       "         [-1.0000, -1.0000, -1.0000,  ..., -1.0000,  0.9999,  0.9999],\n",
       "         [-1.0000,  0.9808, -0.1404,  ..., -0.9967, -1.0000,  0.9941],\n",
       "         [-0.9699,  0.6070,  1.0000,  ..., -1.0000,  0.9995,  1.0000]],\n",
       "        grad_fn=<TanhBackward0>))"
      ]
     },
     "execution_count": 190,
     "metadata": {},
     "output_type": "execute_result"
    }
   ],
   "source": [
    "# looking at h:\n",
    "h.shape, h"
   ]
  },
  {
   "cell_type": "code",
   "execution_count": 196,
   "id": "5bf3db87-a05a-4e59-9d9f-481da24d1365",
   "metadata": {},
   "outputs": [
    {
     "data": {
      "image/png": "[encoded data removed]",
      "text/plain": [
       "<Figure size 640x480 with 1 Axes>"
      ]
     },
     "metadata": {},
     "output_type": "display_data"
    }
   ],
   "source": [
    "# look at histogram of the distribution in 50 buckets. This shows high humber of values at -1 and 1:\n",
    "plt.hist(h.view(-1).tolist(), 50);"
   ]
  },
  {
   "cell_type": "code",
   "execution_count": 197,
   "id": "260a80f7-7085-4e0d-87e7-298a0ffdd463",
   "metadata": {},
   "outputs": [
    {
     "data": {
      "image/png": "[encoded data removed]",
      "text/plain": [
       "<Figure size 640x480 with 1 Axes>"
      ]
     },
     "metadata": {},
     "output_type": "display_data"
    }
   ],
   "source": [
    "# similarly for hpreact, input into the hidden layer tanh:\n",
    "plt.hist(hpreact.view(-1).tolist(), 50);"
   ]
  },
  {
   "cell_type": "code",
   "execution_count": 213,
   "id": "b1a96f08-db9a-4034-9a29-78650242b4e2",
   "metadata": {},
   "outputs": [
    {
     "data": {
      "image/png": "[encoded data removed]",
      "text/plain": [
       "<Figure size 640x480 with 1 Axes>"
      ]
     },
     "metadata": {},
     "output_type": "display_data"
    }
   ],
   "source": [
    "# the hidden preactivations, hpreact, when +/- 2 produce nearly saturated tanh values (see h) jwhere gradient is nearly 0:\n",
    "x = torch.linspace(-5,5,steps =200)\n",
    "# x\n",
    "plt.plot(x, torch.tanh(x));\n"
   ]
  },
  {
   "cell_type": "code",
   "execution_count": null,
   "id": "39020cfa-deed-4c67-8ca7-a22c1f2d947c",
   "metadata": {},
   "outputs": [],
   "source": []
  }
 ],
 "metadata": {
  "kernelspec": {
   "display_name": "Python 3 (ipykernel)",
   "language": "python",
   "name": "python3"
  },
  "language_info": {
   "codemirror_mode": {
    "name": "ipython",
    "version": 3
   },
   "file_extension": ".py",
   "mimetype": "text/x-python",
   "name": "python",
   "nbconvert_exporter": "python",
   "pygments_lexer": "ipython3",
   "version": "3.11.2"
  }
 },
 "nbformat": 4,
 "nbformat_minor": 5
}
