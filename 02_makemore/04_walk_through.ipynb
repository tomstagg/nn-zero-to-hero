{
 "cells": [
  {
   "cell_type": "markdown",
   "id": "76b5f253-e8c7-4bb0-b993-dfcf22f8f33d",
   "metadata": {},
   "source": [
    "# Lesson 04: Makemore - Activations, Gradients and Batchnorm"
   ]
  },
  {
   "cell_type": "markdown",
   "id": "9c188524-2a8a-40a1-bfb3-6c3e38fb1d08",
   "metadata": {
    "jp-MarkdownHeadingCollapsed": true
   },
   "source": [
    "## 01: Setup\n",
    "Tidy up of working code in preparation for diving into the internals of MLPS. Investigationg the forward pass activation, backward pass gradients and some gotchas."
   ]
  },
  {
   "cell_type": "code",
   "execution_count": 1,
   "id": "38b26e9f-3be5-40da-8d88-821ce8e4b936",
   "metadata": {},
   "outputs": [],
   "source": [
    "import torch, torch.nn.functional as F, matplotlib.pyplot as plt, random\n",
    "g = torch.Generator().manual_seed(2147483647)"
   ]
  },
  {
   "cell_type": "code",
   "execution_count": 2,
   "id": "ef63c2df-72c3-435f-befb-46741db90741",
   "metadata": {},
   "outputs": [],
   "source": [
    "words = open(\"../names.txt\").read().splitlines()"
   ]
  },
  {
   "cell_type": "code",
   "execution_count": 3,
   "id": "ad7c69eb-093e-4e04-902a-37e7fe3e1590",
   "metadata": {},
   "outputs": [],
   "source": [
    "chars = sorted(list(set(''.join(words))) + ['.'])\n",
    "itos = {idx: ch for idx, ch in enumerate(chars)}\n",
    "stoi = {v:k for k, v in itos.items()}\n"
   ]
  },
  {
   "cell_type": "code",
   "execution_count": 4,
   "id": "33113ed2-b08a-4df8-a317-413ac3a8dc24",
   "metadata": {},
   "outputs": [],
   "source": [
    "def build_dataset(words, block_size=3):\n",
    "    # build the full dataset\n",
    "    X, Y = [], []\n",
    "    \n",
    "    for w in words:\n",
    "        context = [0] * block_size\n",
    "        for ch in w + '.':\n",
    "            ix = stoi[ch]\n",
    "            X.append(context)\n",
    "            Y.append(ix)\n",
    "            context = context[1:] + [ix] # crop and append\n",
    "    X = torch.tensor(X)\n",
    "    Y = torch.tensor(Y)\n",
    "    return X, Y\n",
    "\n",
    "def split_dataset(X,Y):\n",
    "    random.seed(42); \n",
    "    random.shuffle(words) # randomly shuffle words\n",
    "    \n",
    "    n1 = int(0.8 * X.shape[0])\n",
    "    n2 = int(0.9 * X.shape[0])\n",
    "    Xtr, Xdev, Xts = X.tensor_split((n1, n2), dim=0)\n",
    "    Ytr, Ydev, Yts = Y.tensor_split((n1, n2), dim=0)\n",
    "    print(Xtr.shape, Ytr.shape)\n",
    "    print(Xdev.shape, Ydev.shape)\n",
    "    print(Xts.shape, Yts.shape)\n",
    "    return Xtr, Ytr, Xdev, Ydev, Xts, Yts\n",
    "\n",
    "\n",
    "@torch.no_grad() # this decorator disables gradient tracking - avoid bookkeeping for torch which is more efficient\n",
    "def split_loss(split):\n",
    "    # calculates the loss for datasets\n",
    "    x,y = {\"train\": (Xtr, Ytr),\"val\": (Xdev, Ydev),\"test\": (Xts, Yts)}[split]\n",
    "        \n",
    "    emb = C[x]\n",
    "    embcat = emb.view(emb.shape[0], -1) # concatenate the vectors\n",
    "    h = torch.tanh(embcat @ W1 + b1) # hidden layer\n",
    "    logits = h @ W2 + b2 # output layer\n",
    "    loss = F.cross_entropy(logits, y) # loss function\n",
    "    print(split, loss.item())"
   ]
  },
  {
   "cell_type": "code",
   "execution_count": 5,
   "id": "4550fe7c-b689-4000-9aa6-13d0470618f5",
   "metadata": {},
   "outputs": [
    {
     "name": "stdout",
     "output_type": "stream",
     "text": [
      "torch.Size([182516, 3]) torch.Size([182516])\n",
      "torch.Size([22815, 3]) torch.Size([22815])\n",
      "torch.Size([22815, 3]) torch.Size([22815])\n"
     ]
    }
   ],
   "source": [
    "# setup hyperparameters \n",
    "block_size = 3 # the number of input characters\n",
    "vocab_size = 27 # distinct range of input characters\n",
    "n_embed = 10 # the dimensionality of the character embedding space\n",
    "n_hidden = 200 # the number of neurons in the hidden layer of the MLP\n",
    "\n",
    "# build test, dev and train datasets\n",
    "Xtr, Ytr, Xdev, Ydev, Xts, Yts = split_dataset(*build_dataset(words, block_size))"
   ]
  },
  {
   "cell_type": "markdown",
   "id": "b9896765-8b48-4e43-8f9d-5a48c58dfc8d",
   "metadata": {
    "jp-MarkdownHeadingCollapsed": true
   },
   "source": [
    "## 01.1 Basic Training"
   ]
  },
  {
   "cell_type": "code",
   "execution_count": 6,
   "id": "d5011c94-c89a-42e5-b2a7-d781f2e06fcb",
   "metadata": {},
   "outputs": [
    {
     "name": "stdout",
     "output_type": "stream",
     "text": [
      "11897\n"
     ]
    }
   ],
   "source": [
    "# initalise the nn \n",
    "g = torch.Generator().manual_seed(2147483647)\n",
    "C = torch.randn((vocab_size,n_embed),              generator=g)\n",
    "W1 = torch.randn((n_embed * block_size, n_hidden), generator=g)\n",
    "b1 = torch.randn(n_hidden,                         generator=g)\n",
    "W2 = torch.randn((n_hidden,vocab_size),            generator=g)\n",
    "b2 = torch.randn(vocab_size,                       generator=g)\n",
    "parameters = [C, W1, b1, W2, b2]\n",
    "\n",
    "print(sum([p.nelement() for p in parameters]))\n",
    "for p in parameters:\n",
    "    p.requires_grad = True"
   ]
  },
  {
   "cell_type": "code",
   "execution_count": 14,
   "id": "318c66fb-9f6d-4923-8cd9-d6e7a6e33b09",
   "metadata": {},
   "outputs": [
    {
     "name": "stdout",
     "output_type": "stream",
     "text": [
      "      0/ 200000: 28.1530\n"
     ]
    }
   ],
   "source": [
    "# standard training run for baseline loss calculation\n",
    "max_steps = 200_000\n",
    "batch_size = 32\n",
    "lossi = []\n",
    "\n",
    "for i in range(max_steps):\n",
    "    \n",
    "    # minibatch construct\n",
    "    ix = torch.randint(0, Xtr.shape[0], (batch_size,), generator=g)\n",
    "    Xb, Yb = Xtr[ix], Ytr[ix]\n",
    "    \n",
    "    # forward pass\n",
    "    emb = C[Xb]\n",
    "    embcat = emb.view(emb.shape[0], -1) # concatenate the vectors\n",
    "    hpreact = embcat @ W1 + b1 # hidden layer pre-activations\n",
    "    h = torch.tanh(hpreact) # hidden layer\n",
    "    logits = h @ W2 + b2 # output layer\n",
    "    loss = F.cross_entropy(logits, Yb) # loss function \n",
    "        \n",
    "    # backward pass\n",
    "    for p in parameters:\n",
    "        p.grad = None\n",
    "    loss.backward()\n",
    "    \n",
    "    # update\n",
    "    lr = 0.1 if i < 100_000 else 0.01 # step learning rate decay\n",
    "    for p in parameters:\n",
    "        p.data += -lr * p.grad \n",
    "\n",
    "    # track stats\n",
    "    if i % 10000 == 0:\n",
    "        print(f'{i:7d}/{max_steps:7d}: {loss.item():.4f}')\n",
    "\n",
    "    lossi.append(loss.log10().item())"
   ]
  },
  {
   "cell_type": "code",
   "execution_count": 60,
   "id": "c0e0cd16-5ec5-450f-b733-de2d6ed84042",
   "metadata": {},
   "outputs": [
    {
     "data": {
      "image/png": "[encoded data removed]",
      "text/plain": [
       "<Figure size 640x480 with 1 Axes>"
      ]
     },
     "metadata": {},
     "output_type": "display_data"
    }
   ],
   "source": [
    "plt.plot(lossi);"
   ]
  },
  {
   "cell_type": "code",
   "execution_count": 71,
   "id": "09fe2f37-a119-43b5-a298-58696cc7c5fa",
   "metadata": {},
   "outputs": [
    {
     "name": "stdout",
     "output_type": "stream",
     "text": [
      "train 2.0362894535064697\n",
      "val 2.104016065597534\n",
      "test 2.099142074584961\n"
     ]
    }
   ],
   "source": [
    "# loss with random initialisation:\n",
    "split_loss('train') # 2.067\n",
    "split_loss('val') # 2.374\n",
    "split_loss('test')\n",
    "\n",
    "\n",
    "# train 2.119797468185425\n",
    "# val 2.1673247814178467\n",
    "# test 2.1634275913238525"
   ]
  },
  {
   "cell_type": "markdown",
   "id": "de51b6a7-b5e0-4157-a226-9f01543fc53f",
   "metadata": {
    "jp-MarkdownHeadingCollapsed": true
   },
   "source": [
    "## 02 model sampling\n",
    "\n",
    "Setup sampling from the model"
   ]
  },
  {
   "cell_type": "code",
   "execution_count": 70,
   "id": "9a80fac2-6dbd-4cc2-b8fa-d423c4b07aac",
   "metadata": {},
   "outputs": [
    {
     "name": "stdout",
     "output_type": "stream",
     "text": [
      "nylaylin\n",
      "kotusana\n",
      "ramaria\n",
      "ston\n",
      "pinrynn\n",
      "lariyaan\n",
      "jozlyia\n",
      "harmettoca\n",
      "icilyn\n",
      "kenzelsamree\n",
      "dael\n",
      "jailouwa\n",
      "yason\n",
      "corie\n",
      "andella\n",
      "nyonedlynn\n",
      "yasii\n",
      "affynda\n",
      "ah\n",
      "levyn\n"
     ]
    }
   ],
   "source": [
    "for _ in range(20):\n",
    "    context = [0] * block_size\n",
    "    word = []\n",
    "    while True:\n",
    "        \n",
    "        emb = C[context]\n",
    "        embcat = emb.view(1,-1)\n",
    "        hpreact = embcat @ W1 + b1\n",
    "        h = torch.tanh(hpreact)\n",
    "        logits = h @ W2 + b2\n",
    "        counts = logits.exp()\n",
    "        p = counts / counts.sum(1, keepdim=True)\n",
    "        ix = torch.multinomial(p, num_samples=1, replacement=True, generator=g).item()\n",
    "        if itos[ix] == '.':\n",
    "            break\n",
    "        word.append(itos[ix])\n",
    "        context = context[1:] + [ix]\n",
    "    print(''.join(word))"
   ]
  },
  {
   "cell_type": "markdown",
   "id": "9a73ef80-b71c-4873-a481-eda18175aa36",
   "metadata": {
    "jp-MarkdownHeadingCollapsed": true
   },
   "source": [
    "## 03 Investigate and fixing the initial loss\n",
    "First step has very high loss (27.8), we'd like much lower. It's high as the weights are just random. We'd want initial loss to be around a uniform distribution 1/27.0, so loss is 3.2958. If the model is confidently wrong the loss is much higher. We want to start the training with a lower loss, and initials the model's weights, we can do this by multiplying the weights and bias by a small or zero to make the loss closer to 0 and more uniform."
   ]
  },
  {
   "cell_type": "code",
   "execution_count": 160,
   "id": "5a4a44fc-979a-4437-bdc5-2b1239786512",
   "metadata": {},
   "outputs": [
    {
     "data": {
      "text/plain": [
       "tensor(3.2958)"
      ]
     },
     "execution_count": 160,
     "metadata": {},
     "output_type": "execute_result"
    }
   ],
   "source": [
    "# we want the loss to be uniform so the loss should initially be: \n",
    "-torch.tensor(1/27.0).log()\n",
    "# but we get a very messed up, and the model is very confidently wrong"
   ]
  },
  {
   "cell_type": "code",
   "execution_count": 162,
   "id": "ebcb9217-6829-4b94-9e09-544ff3e9eef5",
   "metadata": {},
   "outputs": [
    {
     "data": {
      "text/plain": [
       "(tensor([0., 5., 0., 0.]),\n",
       " tensor([0.0066, 0.9802, 0.0066, 0.0066]),\n",
       " tensor(5.0200))"
      ]
     },
     "execution_count": 162,
     "metadata": {},
     "output_type": "execute_result"
    }
   ],
   "source": [
    "# 4d example of the issue:\n",
    "logits = torch.tensor([0.0, 5.0, 0.0, 0.0])\n",
    "probs = torch.softmax(logits, dim=0)\n",
    "loss = -probs[2].log()\n",
    "logits, probs, loss"
   ]
  },
  {
   "cell_type": "code",
   "execution_count": 179,
   "id": "e8b7cad8-f517-4ab3-97c0-add4f604877b",
   "metadata": {},
   "outputs": [
    {
     "data": {
      "text/plain": [
       "(tensor([-2.0687, -2.2561,  9.4957, 22.7108]),\n",
       " tensor([1.7314e-11, 1.4356e-11, 1.8229e-06, 1.0000e+00]),\n",
       " tensor(13.2151))"
      ]
     },
     "execution_count": 179,
     "metadata": {},
     "output_type": "execute_result"
    }
   ],
   "source": [
    "logits = torch.randn(4) * 10\n",
    "probs = torch.softmax(logits, dim=0)\n",
    "loss = -probs[2].log()\n",
    "logits, probs, loss # can be very high loss"
   ]
  },
  {
   "cell_type": "code",
   "execution_count": 183,
   "id": "21e20c54-a68c-47cd-bfc6-08a00ecba55b",
   "metadata": {},
   "outputs": [
    {
     "data": {
      "text/plain": [
       "tensor([ 20.4446, -13.4149, -25.8656,   6.3718,  11.2841,  28.9982, -25.0925,\n",
       "        -15.1387,  23.3197,   2.4465,  10.4902, -12.7129,  -1.1194,  -4.8172,\n",
       "         -0.3411, -28.8215, -21.4922, -16.8877, -20.7713,   7.5535,  -5.8498,\n",
       "         -0.0803,  -4.9603,  -3.6459,  -0.7197,  -0.7587, -18.2604],\n",
       "       grad_fn=<SelectBackward0>)"
      ]
     },
     "execution_count": 183,
     "metadata": {},
     "output_type": "execute_result"
    }
   ],
   "source": [
    "# run the code above and break afrer the first iteration and look at the first item in the minibatch. Look at the logits\n",
    "# where the loss is very high ~28\n",
    "logits[0]"
   ]
  },
  {
   "cell_type": "code",
   "execution_count": 62,
   "id": "571a0596-41fa-4c92-a7ab-9cee6c12906d",
   "metadata": {},
   "outputs": [
    {
     "name": "stdout",
     "output_type": "stream",
     "text": [
      "11897\n"
     ]
    }
   ],
   "source": [
    "# initalise the nn with better initialised loss: \n",
    "# not zero for W2, as need entropy, for symmetry breaking\n",
    "# this stops neurons behaving in the same way, so each neuron learns different aspects of the data. if they were all 0 \n",
    "# all neurons learn the  same feature.\n",
    "g = torch.Generator().manual_seed(2147483647)\n",
    "C = torch.randn((vocab_size,n_embed),              generator=g)\n",
    "W1 = torch.randn((n_embed * block_size, n_hidden), generator=g)\n",
    "b1 = torch.randn(n_hidden,                         generator=g)\n",
    "W2 = torch.randn((n_hidden,27),                    generator=g) * 0.01  # not zero!\n",
    "b2 = torch.randn(vocab_size,                       generator=g) * 0\n",
    "parameters = [C, W1, b1, W2, b2]\n",
    "\n",
    "print(sum([p.nelement() for p in parameters]))\n",
    "for p in parameters:\n",
    "    p.requires_grad = True"
   ]
  },
  {
   "cell_type": "code",
   "execution_count": 63,
   "id": "d1180016-25e8-433d-8b9a-515f0abd8db2",
   "metadata": {},
   "outputs": [
    {
     "name": "stdout",
     "output_type": "stream",
     "text": [
      "      0/ 200000: 3.3281\n",
      "  10000/ 200000: 1.8562\n",
      "  20000/ 200000: 2.1495\n",
      "  30000/ 200000: 1.7990\n",
      "  40000/ 200000: 2.2084\n",
      "  50000/ 200000: 2.0626\n",
      "  60000/ 200000: 2.3251\n",
      "  70000/ 200000: 2.1669\n",
      "  80000/ 200000: 2.3564\n",
      "  90000/ 200000: 2.2258\n",
      " 100000/ 200000: 2.1637\n",
      " 110000/ 200000: 2.4788\n",
      " 120000/ 200000: 2.1509\n",
      " 130000/ 200000: 2.5400\n",
      " 140000/ 200000: 2.1478\n",
      " 150000/ 200000: 1.5578\n",
      " 160000/ 200000: 2.1594\n",
      " 170000/ 200000: 2.0527\n",
      " 180000/ 200000: 2.1420\n",
      " 190000/ 200000: 2.1626\n"
     ]
    }
   ],
   "source": [
    "lossi = []\n",
    "\n",
    "for i in range(max_steps):\n",
    "    \n",
    "    # minibatch construct\n",
    "    ix = torch.randint(0, Xtr.shape[0], (batch_size,), generator=g)\n",
    "    Xb, Yb = Xtr[ix], Ytr[ix]\n",
    "    \n",
    "    # forward pass\n",
    "    emb = C[Xb]\n",
    "    embcat = emb.view(emb.shape[0], -1) # concatenate the vectors\n",
    "    hpreact = embcat @ W1 + b1 # hidden layer pre-activations\n",
    "    h = torch.tanh(hpreact) # hidden layer\n",
    "    logits = h @ W2 + b2 # output layer\n",
    "    loss = F.cross_entropy(logits, Yb) # loss function \n",
    "        \n",
    "    # backward pass\n",
    "    for p in parameters:\n",
    "        p.grad = None\n",
    "    loss.backward()\n",
    "    \n",
    "    # update\n",
    "    lr = 0.1 if i < 100_000 else 0.01 # step learning rate decay\n",
    "    for p in parameters:\n",
    "        p.data += -lr * p.grad \n",
    "\n",
    "    # track stats\n",
    "    if i % 10000 == 0:\n",
    "        print(f'{i:7d}/{max_steps:7d}: {loss.item():.4f}')\n",
    "\n",
    "    lossi.append(loss.log10().item())\n",
    "    break # break after the first iteration so that we can check the internals and remove break to run to get loss\n"
   ]
  },
  {
   "cell_type": "code",
   "execution_count": 64,
   "id": "d9c268a6-62e4-46b4-9fb8-958e652f4a02",
   "metadata": {},
   "outputs": [
    {
     "name": "stdout",
     "output_type": "stream",
     "text": [
      "train 2.070784568786621\n",
      "val 2.129239320755005\n",
      "test 2.134359359741211\n"
     ]
    },
    {
     "data": {
      "image/png": "[encoded data removed]",
      "text/plain": [
       "<Figure size 640x480 with 1 Axes>"
      ]
     },
     "metadata": {},
     "output_type": "display_data"
    }
   ],
   "source": [
    "# don't waste iterations (1000's) just squashing down the weights, and spend more cycles optimising the nn.\n",
    "# the starting loss is 3.3195. and loss is better:\n",
    "split_loss('train') # 2.070 compared to 2.136 before\n",
    "split_loss('val') # 2.147 compared to 2.184 before\n",
    "split_loss('test')\n",
    "plt.plot(lossi);"
   ]
  },
  {
   "cell_type": "markdown",
   "id": "3d4b14ab-5c44-4630-ad91-6dad4565c0a2",
   "metadata": {
    "jp-MarkdownHeadingCollapsed": true
   },
   "source": [
    "## 04 Fixing the saturated tanh\n",
    "\n",
    "If the inputs to the tanh activiation function are too high or too low the output is close to +/- 1. Tanh is a squashing function, it squashes inputs into the -1 to + 1 range. At values close to 1 or -1 the gradient = 0 and the neuron can not be trained, Any input into this activiation from other neurons is reduced to 0 gradient. \n",
    "\n",
    "Instead we want the inputs into tanh to be more distributed around mean of 0.\n"
   ]
  },
  {
   "cell_type": "code",
   "execution_count": 190,
   "id": "241204fb-6fcb-4492-b7ab-3d93a4f5cca1",
   "metadata": {},
   "outputs": [
    {
     "data": {
      "text/plain": [
       "(torch.Size([32, 200]),\n",
       " tensor([[-1.0000, -1.0000, -1.0000,  ..., -1.0000,  0.9999,  0.9999],\n",
       "         [-1.0000,  0.9719, -0.0251,  ...,  0.9101,  0.9999,  0.9999],\n",
       "         [-0.3260, -0.9999, -0.9993,  ...,  1.0000, -0.6485, -1.0000],\n",
       "         ...,\n",
       "         [-1.0000, -1.0000, -1.0000,  ..., -1.0000,  0.9999,  0.9999],\n",
       "         [-1.0000,  0.9808, -0.1404,  ..., -0.9967, -1.0000,  0.9941],\n",
       "         [-0.9699,  0.6070,  1.0000,  ..., -1.0000,  0.9995,  1.0000]],\n",
       "        grad_fn=<TanhBackward0>))"
      ]
     },
     "execution_count": 190,
     "metadata": {},
     "output_type": "execute_result"
    }
   ],
   "source": [
    "# looking at h:\n",
    "h.shape, h"
   ]
  },
  {
   "cell_type": "code",
   "execution_count": 30,
   "id": "5bf3db87-a05a-4e59-9d9f-481da24d1365",
   "metadata": {},
   "outputs": [
    {
     "data": {
      "image/png": "[encoded data removed]",
      "text/plain": [
       "<Figure size 640x480 with 1 Axes>"
      ]
     },
     "metadata": {},
     "output_type": "display_data"
    }
   ],
   "source": [
    "# look at histogram of the distribution in 50 buckets. This shows high humber of values at -1 and 1:\n",
    "plt.hist(h.view(-1).tolist(), 50);"
   ]
  },
  {
   "cell_type": "code",
   "execution_count": 31,
   "id": "260a80f7-7085-4e0d-87e7-298a0ffdd463",
   "metadata": {},
   "outputs": [
    {
     "data": {
      "image/png": "[encoded data removed]",
      "text/plain": [
       "<Figure size 640x480 with 1 Axes>"
      ]
     },
     "metadata": {},
     "output_type": "display_data"
    }
   ],
   "source": [
    "# similarly for hpreact, input into the hidden layer tanh:\n",
    "plt.hist(hpreact.view(-1).tolist(), 50);"
   ]
  },
  {
   "cell_type": "code",
   "execution_count": 18,
   "id": "b1a96f08-db9a-4034-9a29-78650242b4e2",
   "metadata": {},
   "outputs": [
    {
     "data": {
      "image/png": "[encoded data removed]",
      "text/plain": [
       "<Figure size 640x480 with 1 Axes>"
      ]
     },
     "metadata": {},
     "output_type": "display_data"
    }
   ],
   "source": [
    "# the hidden preactivations, hpreact, when +/- 2 produce nearly saturated tanh values (see h), they are nearly 1 or -1. \n",
    "# At this point the gradients go to 0. For tanh the derivative is 1-tanh(x)**2.\n",
    "\n",
    "# For our hidden layer with 200 tanh. Any gradient passed through the tanh function could end up with ~0 gradient when tanh(x) = +/-1, so \n",
    "# killing any contribution from the neuron. Anything before this function would have no impact after it.\n",
    "# The gradients flowing through tanh can only be decreased, as inputs are squashed between -1 and 1, x = -5, y=-1. \n",
    "# Best case is tanh(0) = 1, grad = 1, full prior grad values flow through\n",
    "\n",
    "x = torch.linspace(-5,5,steps =200)\n",
    "grad = lambda x : 1-torch.tanh(x)**2\n",
    "\n",
    "plt.plot(x, torch.tanh(x), label='tanh(x)')\n",
    "plt.plot(x, grad(x), label='grad')\n",
    "plt.legend();"
   ]
  },
  {
   "cell_type": "code",
   "execution_count": 32,
   "id": "b6f7e24a-4613-45ed-8b11-8b4e8184f1df",
   "metadata": {},
   "outputs": [
    {
     "data": {
      "image/png": "[encoded data removed]",
      "text/plain": [
       "<Figure size 2000x1000 with 1 Axes>"
      ]
     },
     "metadata": {},
     "output_type": "display_data"
    }
   ],
   "source": [
    "# check how often the gradient of the hidden layer is in the flat area:\n",
    "\n",
    "h.shape # (32,200) shows for each minibatch training example if the h is in the dead zone, on the flat areas of tanh()\n",
    "\n",
    "# where it's white it's saturated, if the whole column is white the neuron is dead. There are no neurons which are all white, so all neurons are learning \n",
    "# for some examples. If the whole column is white activation is either 1 or -1 so grad is 0, the neuron won't learn and dead.\n",
    "plt.figure(figsize=(20,10))\n",
    "plt.imshow(h.abs()> 0.99, cmap='gray', interpolation='nearest');"
   ]
  },
  {
   "cell_type": "code",
   "execution_count": 26,
   "id": "596093c7-fc43-49e1-8d44-d2f59abe892c",
   "metadata": {},
   "outputs": [
    {
     "data": {
      "text/plain": [
       "tensor([ 0.1480,  0.5633,  0.9994,  1.0000,  0.9998, -0.9987,  0.3891, -0.9976,\n",
       "         1.0000,  0.9998], grad_fn=<SliceBackward0>)"
      ]
     },
     "execution_count": 26,
     "metadata": {},
     "output_type": "execute_result"
    }
   ],
   "source": [
    "h[15,50:60]"
   ]
  },
  {
   "cell_type": "markdown",
   "id": "cadb2d6e-99fa-4f11-9d6b-5971844c9103",
   "metadata": {},
   "source": [
    "#### Other Activations \n",
    "\n",
    "Other activations (non-linear) functions behave different: sigmid, tanh, reLU, LeakyReLU, Maxout, ELU\n",
    "\n",
    "- sigmoid - can have the same behaviour as tanh\n",
    "- ReLU - gradient can be knocked out, if all inputs negative, then the neuron will never learn as it's grad = 0 and it's dead, this can happen at initialisation\n",
    " or during optimisation where the neuron get's knocked out , e.g activation is -ive, sometimes due to too high a learning rate. \n",
    "-  leaky reLU - doesn't suffere as much as no flat parts\n",
    "\n",
    "Instead, we want to optimise it so less white, neurons, and too many satuated neurons and we want the neurons to update more frequently.\n",
    "We want hpreact to be closer to zero. \n"
   ]
  },
  {
   "cell_type": "code",
   "execution_count": 66,
   "id": "762c6509-1fd6-46c5-bac3-1ee13e4c5786",
   "metadata": {},
   "outputs": [
    {
     "name": "stdout",
     "output_type": "stream",
     "text": [
      "11897\n"
     ]
    }
   ],
   "source": [
    "g = torch.Generator().manual_seed(2147483647)\n",
    "C = torch.randn((vocab_size,n_embed),              generator=g)\n",
    "W1 = torch.randn((n_embed * block_size, n_hidden), generator=g) * 0.2 # squash the weights\n",
    "b1 = torch.randn(n_hidden,                         generator=g) * 0.01 # not zero\n",
    "W2 = torch.randn((n_hidden,27),                    generator=g) * 0.01  # not zero!\n",
    "b2 = torch.randn(vocab_size,                       generator=g) * 0\n",
    "parameters = [C, W1, b1, W2, b2]\n",
    "\n",
    "print(sum([p.nelement() for p in parameters]))\n",
    "for p in parameters:\n",
    "    p.requires_grad = True"
   ]
  },
  {
   "cell_type": "code",
   "execution_count": 67,
   "id": "f21a65a0-7c02-49f0-a3c7-dc4d69fd84c7",
   "metadata": {},
   "outputs": [
    {
     "name": "stdout",
     "output_type": "stream",
     "text": [
      "      0/ 200000: 3.3129\n",
      "  10000/ 200000: 1.7365\n",
      "  20000/ 200000: 2.0989\n",
      "  30000/ 200000: 1.8554\n",
      "  40000/ 200000: 2.2316\n",
      "  50000/ 200000: 2.1342\n",
      "  60000/ 200000: 2.3009\n",
      "  70000/ 200000: 2.1032\n",
      "  80000/ 200000: 2.3019\n",
      "  90000/ 200000: 2.2144\n",
      " 100000/ 200000: 2.1413\n",
      " 110000/ 200000: 2.3880\n",
      " 120000/ 200000: 2.1501\n",
      " 130000/ 200000: 2.5244\n",
      " 140000/ 200000: 1.8961\n",
      " 150000/ 200000: 1.5457\n",
      " 160000/ 200000: 1.9835\n",
      " 170000/ 200000: 1.9218\n",
      " 180000/ 200000: 1.7968\n",
      " 190000/ 200000: 2.2548\n"
     ]
    }
   ],
   "source": [
    "# rerun the first batch\n",
    "lossi = []\n",
    "\n",
    "for i in range(max_steps):\n",
    "    \n",
    "    # minibatch construct\n",
    "    ix = torch.randint(0, Xtr.shape[0], (batch_size,), generator=g)\n",
    "    Xb, Yb = Xtr[ix], Ytr[ix]\n",
    "    \n",
    "    # forward pass\n",
    "    emb = C[Xb]\n",
    "    embcat = emb.view(emb.shape[0], -1) # concatenate the vectors\n",
    "    hpreact = embcat @ W1 + b1 # hidden layer pre-activations\n",
    "    h = torch.tanh(hpreact) # hidden layer\n",
    "    logits = h @ W2 + b2 # output layer\n",
    "    loss = F.cross_entropy(logits, Yb) # loss function \n",
    "        \n",
    "    # backward pass\n",
    "    for p in parameters:\n",
    "        p.grad = None\n",
    "    loss.backward()\n",
    "    \n",
    "    # update\n",
    "    lr = 0.1 if i < 100_000 else 0.01 # step learning rate decay\n",
    "    for p in parameters:\n",
    "        p.data += -lr * p.grad \n",
    "\n",
    "    # track stats\n",
    "    if i % 10000 == 0:\n",
    "        print(f'{i:7d}/{max_steps:7d}: {loss.item():.4f}')\n",
    "\n",
    "    lossi.append(loss.log10().item())\n",
    "    # break # break after the first iteration so that we can check the internals and remove break to run to get loss"
   ]
  },
  {
   "cell_type": "code",
   "execution_count": 35,
   "id": "c88d9b3b-705f-479a-bc98-9fc1b75d0fed",
   "metadata": {},
   "outputs": [
    {
     "data": {
      "image/png": "[encoded data removed]",
      "text/plain": [
       "<Figure size 640x480 with 1 Axes>"
      ]
     },
     "metadata": {},
     "output_type": "display_data"
    }
   ],
   "source": [
    "# much better activations none abs(1):\n",
    "plt.hist(h.view(-1).tolist(), 50);"
   ]
  },
  {
   "cell_type": "code",
   "execution_count": 37,
   "id": "ff926305-5933-4642-b254-cb2d7f2ee955",
   "metadata": {},
   "outputs": [
    {
     "data": {
      "image/png": "[encoded data removed]",
      "text/plain": [
       "<Figure size 640x480 with 1 Axes>"
      ]
     },
     "metadata": {},
     "output_type": "display_data"
    }
   ],
   "source": [
    "# similarly for hpreact, input into the hidden layer tanh:\n",
    "plt.hist(hpreact.view(-1).tolist(), 50);"
   ]
  },
  {
   "cell_type": "code",
   "execution_count": 38,
   "id": "30ace05c-2591-446b-b367-9a3cf81bec7a",
   "metadata": {
    "scrolled": true
   },
   "outputs": [
    {
     "data": {
      "image/png": "[encoded data removed]",
      "text/plain": [
       "<Figure size 2000x1000 with 1 Axes>"
      ]
     },
     "metadata": {},
     "output_type": "display_data"
    }
   ],
   "source": [
    "# no examples from the mini-batch where neuron tanh is saturated:\n",
    "\n",
    "plt.figure(figsize=(20,10))\n",
    "plt.imshow(h.abs()> 0.99, cmap='gray', interpolation='nearest');"
   ]
  },
  {
   "cell_type": "markdown",
   "id": "0e7a07b4-1003-479d-9031-cf2ea10c2ff2",
   "metadata": {
    "jp-MarkdownHeadingCollapsed": true
   },
   "source": [
    "## 05 Calculating the init scale with Kaiming init\n",
    "\n",
    "So far we used magic numbers to scale the initial weights. Instead we'll calculate this with an algorithm"
   ]
  },
  {
   "cell_type": "code",
   "execution_count": 94,
   "id": "6d2f3a0a-3ed8-4dd9-83a6-c7555ebe399e",
   "metadata": {},
   "outputs": [
    {
     "name": "stdout",
     "output_type": "stream",
     "text": [
      "tensor(-0.0078) tensor(1.0013)\n",
      "tensor(0.0372) tensor(27.3404)\n"
     ]
    },
    {
     "data": {
      "image/png": "[encoded data removed]",
      "text/plain": [
       "<Figure size 2000x500 with 2 Axes>"
      ]
     },
     "metadata": {},
     "output_type": "display_data"
    }
   ],
   "source": [
    "# consider x inputs and weights, w with gaussian (normal) distributions. These are standard normal distributions which have mean = 0\n",
    "# and std dev = 1. Notice that y plot, expands, showing higher standard deviations, values take on more and more extreme values\n",
    "x = torch.randn(1000,30)\n",
    "w = torch.randn(30,200) * 5\n",
    "y = x @ w\n",
    "print(x.mean(), x.std())\n",
    "print(y.mean(), y.std())\n",
    "plt.figure(figsize=(20,5))\n",
    "plt.subplot(121) # creating 1 row, 2 cols, index for multiple plots in figure\n",
    "plt.hist(x.view(-1).tolist(), 50, density=True);\n",
    "plt.subplot(122)\n",
    "plt.hist(y.view(-1).tolist(), 50, density=True);"
   ]
  },
  {
   "cell_type": "code",
   "execution_count": 93,
   "id": "384b8ebb-a590-4168-8a70-27b3f15a61e6",
   "metadata": {},
   "outputs": [
    {
     "name": "stdout",
     "output_type": "stream",
     "text": [
      "tensor(-0.0034) tensor(1.0005)\n",
      "tensor(0.0040) tensor(0.9801)\n"
     ]
    },
    {
     "data": {
      "image/png": "[encoded data removed]",
      "text/plain": [
       "<Figure size 2000x500 with 2 Axes>"
      ]
     },
     "metadata": {},
     "output_type": "display_data"
    }
   ],
   "source": [
    "# to fix this, how do I preserve the std dev of 1. You divide the fan in (inputs params) by the square root:\n",
    "\n",
    "x = torch.randn(1000,30)\n",
    "w = torch.randn(30,200) / 30 **0.5 # divide the fan in the square root\n",
    "y = x @ w\n",
    "print(x.mean(), x.std())\n",
    "print(y.mean(), y.std())\n",
    "plt.figure(figsize=(20,5))\n",
    "plt.subplot(121) # creating 1 row, 2 cols, index for multiple plots in figure\n",
    "plt.hist(x.view(-1).tolist(), 50, density=True);\n",
    "plt.subplot(122)\n",
    "plt.hist(y.view(-1).tolist(), 50, density=True);"
   ]
  },
  {
   "cell_type": "code",
   "execution_count": 84,
   "id": "68531d60-399f-4095-a946-aa72ec657d67",
   "metadata": {},
   "outputs": [
    {
     "data": {
      "text/plain": [
       "(tensor(0.9937), tensor(0.1998))"
      ]
     },
     "execution_count": 84,
     "metadata": {},
     "output_type": "execute_result"
    }
   ],
   "source": [
    "# how the gaussian is scaled down, the distribution is scaled down by scaling it:\n",
    "torch.randn(10000).std(), (torch.randn(100000) * 0.2).std()"
   ]
  },
  {
   "cell_type": "code",
   "execution_count": 89,
   "id": "fca02122-266f-4e4a-93f6-1c873b0aff8d",
   "metadata": {},
   "outputs": [
    {
     "data": {
      "text/plain": [
       "0.3042903097250923"
      ]
     },
     "execution_count": 89,
     "metadata": {},
     "output_type": "execute_result"
    }
   ],
   "source": [
    "# 5/3 is the gain when using the tanh activiation function, so for our model, we can adjust the 'kaiming init' for our network.\n",
    "# The gain is different for each activation function.\n",
    "(5/3) / (30 **0.5) # 0.3"
   ]
  },
  {
   "cell_type": "code",
   "execution_count": 36,
   "id": "c6c6d024-becd-4547-8374-41c0489c6b23",
   "metadata": {},
   "outputs": [
    {
     "name": "stdout",
     "output_type": "stream",
     "text": [
      "11897\n"
     ]
    }
   ],
   "source": [
    "g = torch.Generator().manual_seed(2147483647)\n",
    "C = torch.randn((vocab_size,n_embed),              generator=g)\n",
    "W1 = torch.randn((n_embed * block_size, n_hidden), generator=g) * (5/3) / ((n_embed * block_size) ** 0.5) # << not a magic number any more kaiming init\n",
    "b1 = torch.randn(n_hidden,                         generator=g) * 0.01 # not zero\n",
    "W2 = torch.randn((n_hidden,27),                    generator=g) * 0.01  # not zero!\n",
    "b2 = torch.randn(vocab_size,                       generator=g) * 0\n",
    "parameters = [C, W1, b1, W2, b2]\n",
    "\n",
    "print(sum([p.nelement() for p in parameters]))\n",
    "for p in parameters:\n",
    "    p.requires_grad = True"
   ]
  },
  {
   "cell_type": "code",
   "execution_count": 37,
   "id": "b9de2b4f-30b3-4e07-af28-d42e4baea26b",
   "metadata": {},
   "outputs": [
    {
     "name": "stdout",
     "output_type": "stream",
     "text": [
      "      0/ 200000: 3.3324\n",
      "  10000/ 200000: 1.7292\n",
      "  20000/ 200000: 2.3331\n",
      "  30000/ 200000: 2.3266\n",
      "  40000/ 200000: 2.1299\n",
      "  50000/ 200000: 2.1190\n",
      "  60000/ 200000: 1.5408\n",
      "  70000/ 200000: 2.1104\n",
      "  80000/ 200000: 2.2821\n",
      "  90000/ 200000: 1.9034\n",
      " 100000/ 200000: 2.5578\n",
      " 110000/ 200000: 1.9454\n",
      " 120000/ 200000: 1.8072\n",
      " 130000/ 200000: 2.0132\n",
      " 140000/ 200000: 1.8676\n",
      " 150000/ 200000: 1.9323\n",
      " 160000/ 200000: 2.0712\n",
      " 170000/ 200000: 2.0603\n",
      " 180000/ 200000: 2.4685\n",
      " 190000/ 200000: 1.9960\n"
     ]
    }
   ],
   "source": [
    "lossi = []\n",
    "\n",
    "for i in range(max_steps):\n",
    "    \n",
    "    # minibatch construct\n",
    "    ix = torch.randint(0, Xtr.shape[0], (batch_size,), generator=g)\n",
    "    Xb, Yb = Xtr[ix], Ytr[ix]\n",
    "    \n",
    "    # forward pass\n",
    "    emb = C[Xb]\n",
    "    embcat = emb.view(emb.shape[0], -1) # concatenate the vectors\n",
    "    hpreact = embcat @ W1 + b1 # hidden layer pre-activations\n",
    "    h = torch.tanh(hpreact) # hidden layer\n",
    "    logits = h @ W2 + b2 # output layer\n",
    "    loss = F.cross_entropy(logits, Yb) # loss function \n",
    "        \n",
    "    # backward pass\n",
    "    for p in parameters:\n",
    "        p.grad = None\n",
    "    loss.backward()\n",
    "    \n",
    "    # update\n",
    "    lr = 0.1 if i < 100_000 else 0.01 # step learning rate decay\n",
    "    for p in parameters:\n",
    "        p.data += -lr * p.grad \n",
    "\n",
    "    # track stats\n",
    "    if i % 10000 == 0:\n",
    "        print(f'{i:7d}/{max_steps:7d}: {loss.item():.4f}')\n",
    "\n",
    "    lossi.append(loss.log10().item())\n",
    "    # break # break after the first iteration so that we can check the internals and remove break to run to get loss"
   ]
  },
  {
   "cell_type": "code",
   "execution_count": 38,
   "id": "99406d62-951f-4c5c-982d-5d9d871e52ce",
   "metadata": {},
   "outputs": [
    {
     "name": "stdout",
     "output_type": "stream",
     "text": [
      "train 1.9888941049575806\n",
      "val 2.3367061614990234\n",
      "test 2.3725171089172363\n"
     ]
    },
    {
     "data": {
      "image/png": "[encoded data removed]",
      "text/plain": [
       "<Figure size 640x480 with 1 Axes>"
      ]
     },
     "metadata": {},
     "output_type": "display_data"
    }
   ],
   "source": [
    "# loss\n",
    "split_loss('train')\n",
    "split_loss('val')\n",
    "split_loss('test')\n",
    "plt.plot(lossi);"
   ]
  },
  {
   "cell_type": "markdown",
   "id": "cd9b848e-02d6-43cf-a41a-9dfb2098179c",
   "metadata": {},
   "source": [
    "## 06 Batch Normalisation\n",
    "\n",
    "Initialisation isn't as important now, due to some modern innovations. It's not important now to get the optimisation exactly right as. We use residual connections, normalisation layers and better optimisers - not just stochastic gradient descent, like Adam. \n",
    "\n",
    "Here we are investigating batch normalisation. Hidden states like hpreact, need not be low or too high. Instead they need to be roughly gaussian (unit gaussian), so why not normalise them to be gaussian. They are perfectly differentiable. This is the insight from batch normalisation, you can normalise the hidden layer weights. \n",
    "\n",
    "Unit gaussian is the same as a normal distribution with mean=0 and sd = 1. We can use a weight and a bias to move the hpreacts by scaling and shifting the weights."
   ]
  },
  {
   "cell_type": "code",
   "execution_count": 22,
   "id": "4eb2451c-01ad-4965-9529-aa089c4b28fb",
   "metadata": {},
   "outputs": [
    {
     "data": {
      "text/plain": [
       "(torch.Size([32, 200]), torch.Size([1, 200]))"
      ]
     },
     "execution_count": 22,
     "metadata": {},
     "output_type": "execute_result"
    }
   ],
   "source": [
    "# run the last part of the kaiming init above to get a hpreact. We want to normalise hpreact using it's mean and std.\n",
    "\n",
    "hp_mean = hpreact.mean(0, keepdim=True) # 0 dimension, first dim and down the list\n",
    "hpreact.shape, hp_mean.shape"
   ]
  },
  {
   "cell_type": "code",
   "execution_count": 15,
   "id": "d68bc1ee-c07e-4529-854b-c1f73bfca561",
   "metadata": {},
   "outputs": [
    {
     "data": {
      "text/plain": [
       "torch.Size([1, 200])"
      ]
     },
     "execution_count": 15,
     "metadata": {},
     "output_type": "execute_result"
    }
   ],
   "source": [
    "hpreact.std(0, keepdim=True).shape"
   ]
  },
  {
   "cell_type": "code",
   "execution_count": 19,
   "id": "3adf29fc-1508-49c0-9cb4-679b7d4e7efe",
   "metadata": {},
   "outputs": [
    {
     "data": {
      "text/plain": [
       "(tensor([ 4.,  6.,  8.,  2., 10., 12.]),\n",
       " tensor([-0.8018, -0.2673,  0.2673, -1.3363,  0.8018,  1.3363]))"
      ]
     },
     "execution_count": 19,
     "metadata": {},
     "output_type": "execute_result"
    }
   ],
   "source": [
    "# what does normalisation of unit gaussian mean: \n",
    "x = torch.tensor([4,6,8,2,10,12]).float()\n",
    "x_mean = x.mean()\n",
    "x_std = x.std()\n",
    "x_norm = (x - x_mean)/ x_std # unit gaussian using the Z-score formula\n",
    "\n",
    "x, x_norm"
   ]
  },
  {
   "cell_type": "code",
   "execution_count": 20,
   "id": "d11310b7-a866-4ce5-b5dc-1ef2b88ec037",
   "metadata": {},
   "outputs": [
    {
     "data": {
      "text/plain": [
       "(tensor(0.), tensor(1.))"
      ]
     },
     "execution_count": 20,
     "metadata": {},
     "output_type": "execute_result"
    }
   ],
   "source": [
    "# unit gaussian, mean = 0 std = 1\n",
    "x_norm.mean(), x_norm.std()"
   ]
  },
  {
   "cell_type": "markdown",
   "id": "455582df-6004-4915-a322-481616d5aee6",
   "metadata": {},
   "source": [
    "To implement batch normalisation there are two parts: \n",
    "- Part 1: is to normalise the activations in the hidden layer using the batch's (32 training examples) mean and standard deviation and,\n",
    "- Part 2: Scale and shift - where we take the normalised inputs and scaling them by a gain and shifted by a bias. So each neuron is scaled and shifted. These are additional parameters which we tune via backpropagition, the same as other parameters. `bngain` and `bnbias`"
   ]
  },
  {
   "cell_type": "code",
   "execution_count": 23,
   "id": "1422e569-a3f5-48bc-8324-d1a81de97ad5",
   "metadata": {},
   "outputs": [
    {
     "name": "stdout",
     "output_type": "stream",
     "text": [
      "12297\n"
     ]
    }
   ],
   "source": [
    "g = torch.Generator().manual_seed(2147483647)\n",
    "C = torch.randn((vocab_size, n_embed),             generator=g)\n",
    "W1 = torch.randn((n_embed * block_size, n_hidden), generator=g) * (5/3) / ((n_embed * block_size) ** 0.5) # kaiming init - 5/3 for tanh activation func\n",
    "b1 = torch.randn(n_hidden,                         generator=g) * 0.01\n",
    "W2 = torch.randn((n_hidden,27),                    generator=g) * 0.01\n",
    "b2 = torch.randn(vocab_size,                       generator=g) * 0\n",
    "\n",
    "# batch normalisation - initial config\n",
    "bngain = torch.ones((1, n_hidden))\n",
    "bnbias = torch.zeros((1, n_hidden))\n",
    "\n",
    "parameters = [C, W1, b1, W2, b2, bngain, bnbias]\n",
    "\n",
    "print(sum([p.nelement() for p in parameters]))\n",
    "for p in parameters:\n",
    "    p.requires_grad = True"
   ]
  },
  {
   "cell_type": "code",
   "execution_count": 28,
   "id": "f9a09757-e3fc-4fdb-9a6d-b7efd29bdc0e",
   "metadata": {},
   "outputs": [
    {
     "name": "stdout",
     "output_type": "stream",
     "text": [
      "      0/ 200000: 3.3146\n",
      "  10000/ 200000: 1.7510\n",
      "  20000/ 200000: 2.0701\n",
      "  30000/ 200000: 1.8895\n",
      "  40000/ 200000: 2.2146\n",
      "  50000/ 200000: 2.3078\n",
      "  60000/ 200000: 2.3731\n",
      "  70000/ 200000: 2.2683\n",
      "  80000/ 200000: 2.2226\n",
      "  90000/ 200000: 2.2088\n",
      " 100000/ 200000: 2.2854\n",
      " 110000/ 200000: 2.3586\n",
      " 120000/ 200000: 2.2060\n",
      " 130000/ 200000: 2.4909\n",
      " 140000/ 200000: 2.0337\n",
      " 150000/ 200000: 1.6717\n",
      " 160000/ 200000: 2.1091\n",
      " 170000/ 200000: 1.8940\n",
      " 180000/ 200000: 1.9386\n",
      " 190000/ 200000: 2.3823\n"
     ]
    }
   ],
   "source": [
    "# same optimisation as last time\n",
    "max_steps = 200_000\n",
    "batch_size = 32\n",
    "lossi = []\n",
    "\n",
    "for i in range(max_steps):\n",
    "    \n",
    "    # minibatch construct\n",
    "    ix = torch.randint(0, Xtr.shape[0], (batch_size,), generator=g)\n",
    "    Xb, Yb = Xtr[ix], Ytr[ix]\n",
    "    \n",
    "    # forward pass\n",
    "    emb = C[Xb]\n",
    "    embcat = emb.view(emb.shape[0], -1) # concatenate the vectors\n",
    "    hpreact = embcat @ W1 + b1 # hidden layer pre-activations\n",
    "    hpreact = bngain * (hpreact - hpreact.mean(0, keepdim=True)) / hpreact.std(0, keepdim=True) + bnbias # normalise hidden pre activation weights\n",
    "    h = torch.tanh(hpreact) # hidden layer\n",
    "    logits = h @ W2 + b2 # output layer\n",
    "    loss = F.cross_entropy(logits, Yb) # loss function \n",
    "        \n",
    "    # backward pass\n",
    "    for p in parameters:\n",
    "        p.grad = None\n",
    "    loss.backward()\n",
    "    \n",
    "    # update\n",
    "    lr = 0.1 if i < 100_000 else 0.01 # step learning rate decay\n",
    "    for p in parameters:\n",
    "        p.data += -lr * p.grad \n",
    "\n",
    "    # track stats\n",
    "    if i % 10000 == 0:\n",
    "        print(f'{i:7d}/{max_steps:7d}: {loss.item():.4f}')\n",
    "\n",
    "    lossi.append(loss.log10().item())"
   ]
  },
  {
   "cell_type": "code",
   "execution_count": 29,
   "id": "d2f98178-866d-4fa6-bdde-96fecfef4706",
   "metadata": {},
   "outputs": [],
   "source": [
    "@torch.no_grad() # this decorator disables gradient tracking - avoid bookeeping for torch which is more efficient\n",
    "def split_loss_bn_meanstd_not_calc(split):\n",
    "    # calculates the loss for datasets\n",
    "    x,y = {\"train\": (Xtr, Ytr),\"val\": (Xdev, Ydev),\"test\": (Xts, Yts)}[split]\n",
    "        \n",
    "    emb = C[x]\n",
    "    embcat = emb.view(emb.shape[0], -1) # concatenate the vectors\n",
    "    hpreact = embcat @ W1 + b1\n",
    "    hpreact = bngain * (hpreact - hpreact.mean(0, keepdim=True)) / hpreact.std(0, keepdim=True) + bnbias\n",
    "    h = torch.tanh(hpreact) # hidden layer\n",
    "    logits = h @ W2 + b2 # output layer\n",
    "    loss = F.cross_entropy(logits, y) # loss function\n",
    "    print(split, loss.item())"
   ]
  },
  {
   "cell_type": "code",
   "execution_count": 30,
   "id": "3c5275c0-93f0-4ea3-a330-0fbd2ea3fbd4",
   "metadata": {},
   "outputs": [
    {
     "name": "stdout",
     "output_type": "stream",
     "text": [
      "train 2.0688300132751465\n",
      "val 2.1077871322631836\n",
      "test 2.1062490940093994\n"
     ]
    },
    {
     "data": {
      "image/png": "[encoded data removed]",
      "text/plain": [
       "<Figure size 640x480 with 1 Axes>"
      ]
     },
     "metadata": {},
     "output_type": "display_data"
    }
   ],
   "source": [
    "# we don't expect the loss to improve, as we only have a very simple single layer. But if we had many layers, it's much harder to tune and scale the weight matrixes to make them unit gaussian.\n",
    "split_loss_bn_meanstd_not_calc('train')\n",
    "split_loss_bn_meanstd_not_calc('val')\n",
    "split_loss_bn_meanstd_not_calc('test')\n",
    "plt.plot(lossi);\n",
    "\n",
    "# train 2.0688300132751465\n",
    "# val 2.1077871322631836\n",
    "# test 2.1062490940093994"
   ]
  },
  {
   "cell_type": "markdown",
   "id": "dce6faa4-9b7b-4852-a5ff-bcffb0d3cbdc",
   "metadata": {},
   "source": [
    "When we have many hidden layers we sprinkle batch normalisation layers throughout the network between each linear layer.\n",
    "\n",
    "The cost of this stability is that the batch examples are coupled together as we are normalising them in the hidden pre-activitation layer. this means that the input into `h` will change based on what other examples are in the batch. This causes a jitter, but this is actually good, as a side-effect! It's a regulariser, it's padding out and introducing entropy and data argumentation, and so avoid the network from overfitting. So this 2nd order effect is good! \n",
    "\n",
    "But no one likes this and have created other normalising techniques which do not couple training examples in a batch."
   ]
  },
  {
   "cell_type": "markdown",
   "id": "35cd92ca-b5f7-4cdb-89be-bd95bb832e0f",
   "metadata": {},
   "source": [
    "#### Sample from the model with batch normalisation\n",
    "the network expects a mean and std from a batch to provide an output. How do we calculate this for a single example? The proposal is to have a step after training to set the batch mean and std over the whole set and use that for the the sampling calculation and to calculate loss. We can also use the full mean and std for calculating the loss.\n"
   ]
  },
  {
   "cell_type": "code",
   "execution_count": 33,
   "id": "043f194f-ad32-4909-8fb9-1a2b52902901",
   "metadata": {},
   "outputs": [],
   "source": [
    "# calculate the batch norm at the end of training using the full training set\n",
    "with torch.no_grad():\n",
    "    # pass the training set through\n",
    "    emb = C[Xtr]\n",
    "    embcat = emb.view(emb.shape[0], -1)\n",
    "    hpreact = embcat @ W1 + b1\n",
    "    bnmean = hpreact.mean(0, keepdim=True)\n",
    "    bnstd = hpreact.std(0, keepdim=True)\n",
    "\n",
    "@torch.no_grad() # this decorator disables gradient tracking - avoid bookeeping for torch which is more efficient\n",
    "def split_loss_bn_calc_meanstd(split):\n",
    "    # calculates the loss for datasets\n",
    "    x,y = {\"train\": (Xtr, Ytr),\"val\": (Xdev, Ydev),\"test\": (Xts, Yts)}[split]\n",
    "        \n",
    "    emb = C[x]\n",
    "    embcat = emb.view(emb.shape[0], -1) # concatenate the vectors\n",
    "    hpreact = embcat @ W1 + b1\n",
    "    hpreact = bngain * (hpreact - bnmean) / bnstd + bnbias\n",
    "    h = torch.tanh(hpreact) # hidden layer\n",
    "    logits = h @ W2 + b2 # output layer\n",
    "    loss = F.cross_entropy(logits, y) # loss function\n",
    "    print(split, loss.item()) "
   ]
  },
  {
   "cell_type": "code",
   "execution_count": 35,
   "id": "30c8f000-cbf9-442d-9a46-239bb2c54321",
   "metadata": {},
   "outputs": [
    {
     "name": "stdout",
     "output_type": "stream",
     "text": [
      "train 2.0688300132751465\n",
      "val 2.107856273651123\n",
      "test 2.1061854362487793\n"
     ]
    }
   ],
   "source": [
    "# loss with mean and std calculated across the whole training set. These match pretty much with the mean and std calculated from the last batch.\n",
    "split_loss_bn_calc_meanstd('train')\n",
    "split_loss_bn_calc_meanstd('val')\n",
    "split_loss_bn_calc_meanstd('test')\n",
    "train 2.0688300132751465\n",
    "val 2.107856273651123\n",
    "test 2.1061854362487793"
   ]
  },
  {
   "cell_type": "code",
   "execution_count": 47,
   "id": "156d5b56-c20f-4ab2-9ecf-5499fada88fb",
   "metadata": {},
   "outputs": [
    {
     "name": "stdout",
     "output_type": "stream",
     "text": [
      "12297\n",
      "      0/ 200000: 3.3146\n",
      "  10000/ 200000: 1.7510\n",
      "  20000/ 200000: 2.0701\n",
      "  30000/ 200000: 1.8895\n",
      "  40000/ 200000: 2.2146\n",
      "  50000/ 200000: 2.3078\n",
      "  60000/ 200000: 2.3731\n",
      "  70000/ 200000: 2.2683\n",
      "  80000/ 200000: 2.2226\n",
      "  90000/ 200000: 2.2088\n",
      " 100000/ 200000: 2.2854\n",
      " 110000/ 200000: 2.3586\n",
      " 120000/ 200000: 2.2060\n",
      " 130000/ 200000: 2.4909\n",
      " 140000/ 200000: 2.0337\n",
      " 150000/ 200000: 1.6717\n",
      " 160000/ 200000: 2.1091\n",
      " 170000/ 200000: 1.8940\n",
      " 180000/ 200000: 1.9386\n",
      " 190000/ 200000: 2.3823\n"
     ]
    }
   ],
   "source": [
    "# although we don't want to do a seperate calculation after the training run, so instead we want to calculate it during training as follows: \n",
    "g = torch.Generator().manual_seed(2147483647)\n",
    "C = torch.randn((vocab_size, n_embed),             generator=g)\n",
    "W1 = torch.randn((n_embed * block_size, n_hidden), generator=g) * (5/3) / ((n_embed * block_size) ** 0.5) # kaiming init - 5/3 for tanh activation func\n",
    "b1 = torch.randn(n_hidden,                         generator=g) * 0.01\n",
    "W2 = torch.randn((n_hidden,27),                    generator=g) * 0.01\n",
    "b2 = torch.randn(vocab_size,                       generator=g) * 0\n",
    "\n",
    "# batch normalisation - initial config\n",
    "bngain = torch.ones((1, n_hidden))\n",
    "bnbias = torch.zeros((1, n_hidden))\n",
    "bnmean_running = torch.zeros((1, n_hidden)) # never derive gradients, updated on the side of training\n",
    "bnstd_running = torch.ones((1, n_hidden)) # never derive gradients, updated on the side of training\n",
    "\n",
    "parameters = [C, W1, b1, W2, b2, bngain, bnbias]\n",
    "\n",
    "print(sum([p.nelement() for p in parameters]))\n",
    "for p in parameters:\n",
    "    p.requires_grad = True\n",
    "\n",
    "# keep a running mean and std during the training run\n",
    "max_steps = 200_000\n",
    "batch_size = 32\n",
    "lossi = []\n",
    "\n",
    "for i in range(max_steps):\n",
    "    \n",
    "    # minibatch construct\n",
    "    ix = torch.randint(0, Xtr.shape[0], (batch_size,), generator=g)\n",
    "    Xb, Yb = Xtr[ix], Ytr[ix]\n",
    "    \n",
    "    # forward pass\n",
    "    emb = C[Xb]\n",
    "    embcat = emb.view(emb.shape[0], -1) # concatenate the vectors\n",
    "    hpreact = embcat @ W1 + b1 # hidden layer pre-activations\n",
    "    bnmeani = hpreact.mean(0, keepdim=True) # calculate mean for each training step, initially roughly 0\n",
    "    bnstdi = hpreact.std(0, keepdim=True) # calcuated std for each training step, initially roughly 1 \n",
    "    hpreact = bngain * (hpreact - bnmeani) / bnstdi + bnbias # normalise hidden pre activation weights\n",
    "    h = torch.tanh(hpreact)\n",
    "    logits = h @ W2 + b2 \n",
    "    loss = F.cross_entropy(logits, Yb)\n",
    "\n",
    "    # no grad descent, and running mean calculation. we can use these two for loss and sampling after training\n",
    "    with torch.no_grad():\n",
    "        bnmean_running = 0.999 * bnmean_running + 0.001 * bnmeani\n",
    "        bnstd_running = 0.999 * bnstd_running + 0.001 * bnstdi\n",
    "        \n",
    "    # backward pass\n",
    "    for p in parameters:\n",
    "        p.grad = None\n",
    "    loss.backward()\n",
    "    \n",
    "    # update\n",
    "    lr = 0.1 if i < 100_000 else 0.01 # step learning rate decay\n",
    "    for p in parameters:\n",
    "        p.data += -lr * p.grad \n",
    "\n",
    "    # track stats\n",
    "    if i % 10000 == 0:\n",
    "        print(f'{i:7d}/{max_steps:7d}: {loss.item():.4f}')\n",
    "\n",
    "    lossi.append(loss.log10().item())  "
   ]
  },
  {
   "cell_type": "code",
   "execution_count": 51,
   "id": "77fcf319-0c1a-4b74-b42c-733a3a1e28b6",
   "metadata": {},
   "outputs": [
    {
     "data": {
      "text/plain": [
       "(tensor(0.1546), tensor(0.1547), tensor(1.1400), tensor(1.1405))"
      ]
     },
     "execution_count": 51,
     "metadata": {},
     "output_type": "execute_result"
    }
   ],
   "source": [
    "# compare the running and Xtr calculated mean and std, showing they are very similar:\n",
    "bnmean.mean(), bnmean_running.mean(), bnmean.std(), bnmean_running.std()"
   ]
  },
  {
   "cell_type": "code",
   "execution_count": 52,
   "id": "2af79377-985d-4c48-8849-64b444fd9c99",
   "metadata": {},
   "outputs": [
    {
     "data": {
      "text/plain": [
       "(tensor(2.1333), tensor(2.1160), tensor(0.2389), tensor(0.2386))"
      ]
     },
     "execution_count": 52,
     "metadata": {},
     "output_type": "execute_result"
    }
   ],
   "source": [
    "bnstd.mean(), bnstd_running.mean(), bnstd.std(), bnstd_running.std()"
   ]
  },
  {
   "cell_type": "code",
   "execution_count": 53,
   "id": "aaf9543f-615a-4d1e-ba00-2df88becd81e",
   "metadata": {},
   "outputs": [],
   "source": [
    "@torch.no_grad() # this decorator disables gradient tracking - avoid bookeeping for torch which is more efficient\n",
    "def split_loss_bn_running_meanstd(split):\n",
    "    # calculates the loss for datasets\n",
    "    x,y = {\"train\": (Xtr, Ytr),\"val\": (Xdev, Ydev),\"test\": (Xts, Yts)}[split]\n",
    "        \n",
    "    emb = C[x]\n",
    "    embcat = emb.view(emb.shape[0], -1) # concatenate the vectors\n",
    "    hpreact = embcat @ W1 + b1\n",
    "    hpreact = bngain * (hpreact - bnmean_running) / bnstd_running + bnbias\n",
    "    h = torch.tanh(hpreact) # hidden layer\n",
    "    logits = h @ W2 + b2 # output layer\n",
    "    loss = F.cross_entropy(logits, y) # loss function\n",
    "    print(split, loss.item()) "
   ]
  },
  {
   "cell_type": "code",
   "execution_count": 54,
   "id": "859377ea-bd6c-4b53-b3c8-d7a634afab93",
   "metadata": {},
   "outputs": [
    {
     "name": "stdout",
     "output_type": "stream",
     "text": [
      "train 2.068878173828125\n",
      "val 2.1080706119537354\n",
      "test 2.1064822673797607\n"
     ]
    }
   ],
   "source": [
    "split_loss_bn_running_meanstd('train')\n",
    "split_loss_bn_running_meanstd('val')\n",
    "split_loss_bn_running_meanstd('test')\n",
    "# train 2.0688300132751465\n",
    "# val 2.107856273651123\n",
    "# test 2.1061854362487793"
   ]
  },
  {
   "cell_type": "markdown",
   "id": "acd54692-f2f9-4539-9ec3-f7ac5c257be8",
   "metadata": {},
   "source": [
    "Other points on batch normalisation. \n",
    "- A very small epsolon constant is added to the denominator to avoid div by 0 if the std deviation is 0, for numerical stability. This doesn't chance the result very much.\n",
    "\n",
    "`hpreact = bngain * (hpreact - bnmeani) / (bnstdi + 1**-5) + bnbias`\n",
    "\n",
    "- Bias in the hpreact is not useful, as we're calcuating the mean and then removing it on the step after, and so don't impact the rest of the calcuation. \n",
    "Any weight layers which have a bias and with batch normalisation after it aren't required and you can remove it. Batch norm has it's own bias and the bias in the hidden layer would be subtracted out anyway (by the mean). If you look at the activations of b they stay constant, don't get a gradient. Bias is removed below.\n"
   ]
  },
  {
   "cell_type": "code",
   "execution_count": 56,
   "id": "0036ece9-240d-4da0-9adf-e1bc12f63d65",
   "metadata": {
    "scrolled": true
   },
   "outputs": [
    {
     "data": {
      "image/png": "[encoded data removed]",
      "text/plain": [
       "<Figure size 640x480 with 1 Axes>"
      ]
     },
     "metadata": {},
     "output_type": "display_data"
    }
   ],
   "source": [
    "plt.hist(b1.view(-1).tolist(), 25);"
   ]
  },
  {
   "cell_type": "code",
   "execution_count": 60,
   "id": "1a09884e-eb4e-40c9-a532-fa11819dd525",
   "metadata": {},
   "outputs": [
    {
     "data": {
      "text/plain": [
       "(tensor(0.0002, grad_fn=<MeanBackward0>),\n",
       " tensor(0.0102, grad_fn=<StdBackward0>))"
      ]
     },
     "execution_count": 60,
     "metadata": {},
     "output_type": "execute_result"
    }
   ],
   "source": [
    "b1.mean(), b1.std()"
   ]
  },
  {
   "cell_type": "code",
   "execution_count": 78,
   "id": "7cc0eb97-2505-4330-b675-3b6557b66ac9",
   "metadata": {},
   "outputs": [
    {
     "data": {
      "text/plain": [
       "(tensor([-2., -1.,  0.,  1.,  2.]), tensor([-2., -1.,  0.,  1.,  2.]))"
      ]
     },
     "execution_count": 78,
     "metadata": {},
     "output_type": "execute_result"
    }
   ],
   "source": [
    "# example of different bias added to a tensor and normalisation, showing that it doesn't matter what the bias is as it is removed:\n",
    "x= torch.tensor([1,2,3,4,5]).float()\n",
    "b1 = torch.tensor([10])\n",
    "b2 = torch.tensor([20])\n",
    "y = x + b1\n",
    "z = x + b2\n",
    "y_norm = y - y.mean()\n",
    "z_norm = z - z.mean()\n",
    "y_norm, z_norm"
   ]
  },
  {
   "cell_type": "code",
   "execution_count": 5,
   "id": "c1e4dcb6-4f38-4b1b-aca7-6fa3ccc2c4ac",
   "metadata": {},
   "outputs": [
    {
     "ename": "NameError",
     "evalue": "name 'vocab_size' is not defined",
     "output_type": "error",
     "traceback": [
      "\u001b[0;31m---------------------------------------------------------------------------\u001b[0m",
      "\u001b[0;31mNameError\u001b[0m                                 Traceback (most recent call last)",
      "Cell \u001b[0;32mIn[5], line 3\u001b[0m\n\u001b[1;32m      1\u001b[0m \u001b[38;5;66;03m# although we don't want to do a seperate calculation after the training run, so instead we want to calculate it during training as follows: \u001b[39;00m\n\u001b[1;32m      2\u001b[0m g \u001b[38;5;241m=\u001b[39m torch\u001b[38;5;241m.\u001b[39mGenerator()\u001b[38;5;241m.\u001b[39mmanual_seed(\u001b[38;5;241m2147483647\u001b[39m)\n\u001b[0;32m----> 3\u001b[0m C \u001b[38;5;241m=\u001b[39m torch\u001b[38;5;241m.\u001b[39mrandn((\u001b[43mvocab_size\u001b[49m, n_embed),             generator\u001b[38;5;241m=\u001b[39mg)\n\u001b[1;32m      4\u001b[0m W1 \u001b[38;5;241m=\u001b[39m torch\u001b[38;5;241m.\u001b[39mrandn((n_embed \u001b[38;5;241m*\u001b[39m block_size, n_hidden), generator\u001b[38;5;241m=\u001b[39mg) \u001b[38;5;241m*\u001b[39m (\u001b[38;5;241m5\u001b[39m\u001b[38;5;241m/\u001b[39m\u001b[38;5;241m3\u001b[39m) \u001b[38;5;241m/\u001b[39m ((n_embed \u001b[38;5;241m*\u001b[39m block_size) \u001b[38;5;241m*\u001b[39m\u001b[38;5;241m*\u001b[39m \u001b[38;5;241m0.5\u001b[39m) \u001b[38;5;66;03m# kaiming init - 5/3 for tanh activation func\u001b[39;00m\n\u001b[1;32m      5\u001b[0m W2 \u001b[38;5;241m=\u001b[39m torch\u001b[38;5;241m.\u001b[39mrandn((n_hidden,\u001b[38;5;241m27\u001b[39m),                    generator\u001b[38;5;241m=\u001b[39mg) \u001b[38;5;241m*\u001b[39m \u001b[38;5;241m0.01\u001b[39m\n",
      "\u001b[0;31mNameError\u001b[0m: name 'vocab_size' is not defined"
     ]
    }
   ],
   "source": [
    "# although we don't want to do a seperate calculation after the training run, so instead we want to calculate it during training as follows: \n",
    "g = torch.Generator().manual_seed(2147483647)\n",
    "C = torch.randn((vocab_size, n_embed),             generator=g)\n",
    "W1 = torch.randn((n_embed * block_size, n_hidden), generator=g) * (5/3) / ((n_embed * block_size) ** 0.5) # kaiming init - 5/3 for tanh activation func\n",
    "W2 = torch.randn((n_hidden,27),                    generator=g) * 0.01\n",
    "b2 = torch.randn(vocab_size,                       generator=g) * 0\n",
    "\n",
    "# batch normalisation - initial config\n",
    "bngain = torch.ones((1, n_hidden))\n",
    "bnbias = torch.zeros((1, n_hidden))\n",
    "bnmean_running = torch.zeros((1, n_hidden)) # never derive gradients, updated on the side of training\n",
    "bnstd_running = torch.ones((1, n_hidden)) # never derive gradients, updated on the side of training\n",
    "\n",
    "parameters = [C, W1, W2, b2, bngain, bnbias]\n",
    "\n",
    "print(sum([p.nelement() for p in parameters]))\n",
    "for p in parameters:\n",
    "    p.requires_grad = True"
   ]
  },
  {
   "cell_type": "code",
   "execution_count": 7,
   "id": "af149881-6f8e-4f88-8467-7e18083477c8",
   "metadata": {},
   "outputs": [
    {
     "name": "stdout",
     "output_type": "stream",
     "text": [
      "      0/ 200000: 3.2747\n",
      "  10000/ 200000: 2.1240\n",
      "  20000/ 200000: 2.1881\n",
      "  30000/ 200000: 2.5324\n",
      "  40000/ 200000: 1.9557\n",
      "  50000/ 200000: 2.0179\n",
      "  60000/ 200000: 2.2074\n",
      "  70000/ 200000: 2.0835\n",
      "  80000/ 200000: 2.1817\n",
      "  90000/ 200000: 2.1463\n",
      " 100000/ 200000: 2.3935\n",
      " 110000/ 200000: 2.3230\n",
      " 120000/ 200000: 2.2238\n",
      " 130000/ 200000: 1.7288\n",
      " 140000/ 200000: 2.6041\n",
      " 150000/ 200000: 1.9269\n",
      " 160000/ 200000: 1.8795\n",
      " 170000/ 200000: 1.9469\n",
      " 180000/ 200000: 2.3070\n",
      " 190000/ 200000: 2.0980\n"
     ]
    }
   ],
   "source": [
    "# keep a running mean and std during the training run and remove bias from the linear layer \n",
    "max_steps = 200_000\n",
    "batch_size = 32\n",
    "lossi = []\n",
    "\n",
    "for i in range(max_steps):\n",
    "    \n",
    "    # minibatch construct\n",
    "    ix = torch.randint(0, Xtr.shape[0], (batch_size,), generator=g)\n",
    "    Xb, Yb = Xtr[ix], Ytr[ix] # batch from training set\n",
    "    \n",
    "    # forward pass\n",
    "    emb = C[Xb]\n",
    "    embcat = emb.view(emb.shape[0], -1) # concatenate the vectors\n",
    "\n",
    "    # linear layer\n",
    "    hpreact = embcat @ W1 # + b1 # hidden layer pre-activations << REMOVE BIAS - as batch norm has it's own bias.\n",
    "\n",
    "    # batchnorm layer\n",
    "    # --------------------------------------------------------------------------------------------------------\n",
    "    bnmeani = hpreact.mean(0, keepdim=True) # calculate mean for each training step, initially roughly 0\n",
    "    bnstdi = hpreact.std(0, keepdim=True) # calcuated std for each training step, initially roughly 1 \n",
    "    hpreact = bngain * (hpreact - bnmeani) / bnstdi + bnbias # normalise hidden pre activation weights\n",
    "    # no grad descent, and running mean calculation. we can use these two for loss and sampling after training\n",
    "    with torch.no_grad():\n",
    "        bnmean_running = 0.999 * bnmean_running + 0.001 * bnmeani\n",
    "        bnstd_running = 0.999 * bnstd_running + 0.001 * bnstdi\n",
    "    # --------------------------------------------------------------------------------------------------------\n",
    "    # Non-linearity\n",
    "    h = torch.tanh(hpreact) # tanh squashing function - hidden layer\n",
    "    logits = h @ W2 + b2  # output layer\n",
    "    loss = F.cross_entropy(logits, Yb) # loss function\n",
    "\n",
    "    # backward pass\n",
    "    for p in parameters:\n",
    "        p.grad = None\n",
    "    loss.backward()\n",
    "    \n",
    "    # update\n",
    "    lr = 0.1 if i < 100_000 else 0.01 # step learning rate decay\n",
    "    for p in parameters:\n",
    "        p.data += -lr * p.grad \n",
    "\n",
    "    # track stats\n",
    "    if i % 10000 == 0:\n",
    "        print(f'{i:7d}/{max_steps:7d}: {loss.item():.4f}')\n",
    "\n",
    "    lossi.append(loss.log10().item())  "
   ]
  },
  {
   "cell_type": "markdown",
   "id": "c24d45cb-5a28-4f51-ab39-9e601e190d04",
   "metadata": {},
   "source": [
    "## 07  Loss Leaderboard Log\n",
    "\n",
    "### 1. `randn` with no initialization  \n",
    "- **Train:** 2.120  \n",
    "- **Validation:** 2.167  \n",
    "- **Test:** 2.163  \n",
    "\n",
    "### 2. Fixing the softmax (previously confidently wrong)  \n",
    "- **Train:** 2.071  \n",
    "- **Validation:** 2.129  \n",
    "- **Test:** 2.134  \n",
    "\n",
    "### 3. Fixing tanh layer (previously too saturated at initialization)  \n",
    "- **Train:** 2.036  \n",
    "- **Validation:** 2.104  \n",
    "- **Test:** 2.099\n",
    "\n",
    "### 4. Using kaiming init instead of just scaling down the weights\n",
    "- **train:** 1.989\n",
    "- **val:** 2.337\n",
    "- **test:** 2.373\n",
    "\n",
    "### 5. Batch normalisation - same loss with running mean/std and training run last mini-batch mean/std\n",
    "- **Train:** 2.069\n",
    "- **Validation:** 2.108\n",
    "- **Test** 2.106\n",
    "\n",
    "\n",
    "\n",
    "\n"
   ]
  },
  {
   "cell_type": "markdown",
   "id": "3a9d1aca-d1ee-4d88-a094-7364e9da884f",
   "metadata": {},
   "source": [
    "# 08 Pytorch-ifying the neural network"
   ]
  },
  {
   "cell_type": "code",
   "execution_count": 6,
   "id": "db96b312-2770-48c4-a186-85d4ca93b9ff",
   "metadata": {},
   "outputs": [],
   "source": [
    "# Let's train a deeper network\n",
    "\n",
    "class Linear:\n",
    "\n",
    "    def __init__(self, fan_in, fan_out, bias=True):\n",
    "        self.weight = torch.randn((fan_in, fan_out), generator = g) / fan_in**0.54\n",
    "        self.bias = torch.zeros(fan_out) if bias else None\n",
    "\n",
    "    def __call__(self, x):\n",
    "        self.out = x @ self.weight\n",
    "        if self.bias is not None:\n",
    "            self.out += self.bias\n",
    "        return self.out\n",
    "\n",
    "    def parameters(self):\n",
    "        return [self.weight] + ([] if self.bias is None else [self.bias])\n",
    "        \n",
    "class BatchNorm1d:\n",
    "\n",
    "    def __init__(self, dim, eps=1e-5, momentum=0.1):\n",
    "        self.eps = eps\n",
    "        self.momentum = momentum\n",
    "        self.training = True # used to determine if we update running mean/var or at inference use calculated values\n",
    "        # parameters (trained with backprop)\n",
    "        self.gamma = torch.ones(dim)\n",
    "        self.beta = torch.zeros(dim)\n",
    "        # buffers (trained with a running 'momentum update')\n",
    "        self.running_mean = torch.zeros(dim)\n",
    "        self.running_var = torch.ones(dim)\n",
    "\n",
    "    def __call__(self, x):\n",
    "        # calculate the forward pass\n",
    "        if self.training:\n",
    "            xmean = x.mean(0, keepdim=True) # batch mean of training set\n",
    "            xvar = x.var(0, keepdim=True) # batch var of training set\n",
    "        else:\n",
    "            xmean = self.running_mean \n",
    "            xvar = self.running_var\n",
    "        xhat = (x - xmean) / torch.sqrt(xvar + self.eps) # normalised to unit variance\n",
    "        self.out = self.gamma * xhat + self.beta # scaled and shifted \n",
    "        # update the buffers\n",
    "        \n",
    "        "
   ]
  },
  {
   "cell_type": "code",
   "execution_count": null,
   "id": "58d19463-7bd3-4c80-8fe8-07fb24c68b21",
   "metadata": {},
   "outputs": [],
   "source": []
  }
 ],
 "metadata": {
  "kernelspec": {
   "display_name": "Python 3 (ipykernel)",
   "language": "python",
   "name": "python3"
  },
  "language_info": {
   "codemirror_mode": {
    "name": "ipython",
    "version": 3
   },
   "file_extension": ".py",
   "mimetype": "text/x-python",
   "name": "python",
   "nbconvert_exporter": "python",
   "pygments_lexer": "ipython3",
   "version": "3.11.2"
  }
 },
 "nbformat": 4,
 "nbformat_minor": 5
}
