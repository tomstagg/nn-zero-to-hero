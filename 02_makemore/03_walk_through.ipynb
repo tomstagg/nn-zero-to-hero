{
 "cells": [
  {
   "cell_type": "markdown",
   "id": "1159d254-290a-42b0-a280-bc9543a7069d",
   "metadata": {},
   "source": [
    "# makemore MLP\n",
    "If we take more context, more characters, it quickly get's unmanageable. e.g. 4 chars = 27^3 ~ 19200 possibilities. This lesson will cover implementing a Neural net architecture and use embeddings to allow us to consider larger block input sizes."
   ]
  },
  {
   "cell_type": "markdown",
   "id": "a1a5cb7d-e682-46cb-85b6-eaae7e770950",
   "metadata": {},
   "source": [
    "## setup"
   ]
  },
  {
   "cell_type": "code",
   "execution_count": 2,
   "id": "10395900-4daf-4ac7-b61e-6bf5d971c02d",
   "metadata": {},
   "outputs": [],
   "source": [
    "import torch, torch.nn.functional as F, matplotlib.pyplot as plt"
   ]
  },
  {
   "cell_type": "code",
   "execution_count": 3,
   "id": "cbccd54c-4d68-4004-b151-5a424ee2a9e4",
   "metadata": {},
   "outputs": [],
   "source": [
    "words = open(\"../names.txt\").read().splitlines()"
   ]
  },
  {
   "cell_type": "code",
   "execution_count": 4,
   "id": "491bf3e1-400d-4367-b647-d39b534f694a",
   "metadata": {
    "scrolled": true
   },
   "outputs": [
    {
     "data": {
      "text/plain": [
       "['emma', 'olivia', 'ava', 'isabella', 'sophia']"
      ]
     },
     "execution_count": 4,
     "metadata": {},
     "output_type": "execute_result"
    }
   ],
   "source": [
    "words[:5]"
   ]
  },
  {
   "cell_type": "code",
   "execution_count": 4,
   "id": "850e29cd-c257-4f0a-9756-b704b6f5870d",
   "metadata": {},
   "outputs": [],
   "source": [
    "# build the vocabulary of characters and mappings to and from ints\n",
    "chars = sorted(list(set(''.join(words))) + ['.'])\n",
    "itos = {idx: ch for idx, ch in enumerate(chars)}\n",
    "stoi = {v:k for k, v in itos.items()}"
   ]
  },
  {
   "cell_type": "code",
   "execution_count": 5,
   "id": "671bfd53-e549-42e0-9220-3250d61a8ce7",
   "metadata": {},
   "outputs": [],
   "source": [
    "def build_dataset(words, block_size=3):\n",
    "    # build the full dataset\n",
    "    block_size = 3\n",
    "    X, Y = [], []\n",
    "    \n",
    "    for w in words:\n",
    "        context = [0] * block_size\n",
    "        for ch in w + '.':\n",
    "            ix = stoi[ch]\n",
    "            X.append(context)\n",
    "            Y.append(ix)\n",
    "            context = context[1:] + [ix] # crop and append\n",
    "    \n",
    "    X = torch.tensor(X)\n",
    "    Y = torch.tensor(Y)\n",
    "\n",
    "    print(X.shape, Y.shape)\n",
    "    return X, Y"
   ]
  },
  {
   "cell_type": "markdown",
   "id": "9440e70b-fb45-45d7-916b-b6586d7fe642",
   "metadata": {},
   "source": [
    "## implementing the model"
   ]
  },
  {
   "cell_type": "code",
   "execution_count": 6,
   "id": "db5c7503-0343-458f-8885-0e559142f924",
   "metadata": {
    "collapsed": true,
    "jupyter": {
     "outputs_hidden": true
    }
   },
   "outputs": [
    {
     "name": "stdout",
     "output_type": "stream",
     "text": [
      "emma\n",
      "... --> e\n",
      "..e --> m\n",
      ".em --> m\n",
      "emm --> a\n",
      "mma --> .\n",
      "olivia\n",
      "... --> o\n",
      "..o --> l\n",
      ".ol --> i\n",
      "oli --> v\n",
      "liv --> i\n",
      "ivi --> a\n",
      "via --> .\n",
      "ava\n",
      "... --> a\n",
      "..a --> v\n",
      ".av --> a\n",
      "ava --> .\n",
      "isabella\n",
      "... --> i\n",
      "..i --> s\n",
      ".is --> a\n",
      "isa --> b\n",
      "sab --> e\n",
      "abe --> l\n",
      "bel --> l\n",
      "ell --> a\n",
      "lla --> .\n",
      "sophia\n",
      "... --> s\n",
      "..s --> o\n",
      ".so --> p\n",
      "sop --> h\n",
      "oph --> i\n",
      "phi --> a\n",
      "hia --> .\n"
     ]
    }
   ],
   "source": [
    "# build the dataset\n",
    "block_size = 3\n",
    "X, Y = [], []\n",
    "\n",
    "for w in words[:5]:\n",
    "    print(w)\n",
    "    context = [0] * block_size\n",
    "    for ch in w + '.':\n",
    "        ix = stoi[ch]\n",
    "        X.append(context)\n",
    "        Y.append(ix)\n",
    "        print(f\"{''.join(itos[i] for i in context)} --> {itos[ix]}\")\n",
    "        context = context[1:] + [ix] # crop and append\n",
    "\n",
    "X = torch.tensor(X)\n",
    "Y = torch.tensor(Y)"
   ]
  },
  {
   "cell_type": "code",
   "execution_count": 7,
   "id": "caa55360-6b4f-45a3-8be2-240fe5025025",
   "metadata": {
    "collapsed": true,
    "jupyter": {
     "outputs_hidden": true
    }
   },
   "outputs": [
    {
     "data": {
      "text/plain": [
       "(torch.Size([32, 3]), torch.int64, torch.Size([32]), torch.int64)"
      ]
     },
     "execution_count": 7,
     "metadata": {},
     "output_type": "execute_result"
    }
   ],
   "source": [
    "X.shape, X.dtype, Y.shape, Y.dtype"
   ]
  },
  {
   "cell_type": "code",
   "execution_count": 8,
   "id": "56a51df1-a6f6-4259-956d-d59028645ae1",
   "metadata": {
    "collapsed": true,
    "jupyter": {
     "outputs_hidden": true
    }
   },
   "outputs": [
    {
     "data": {
      "text/plain": [
       "torch.float32"
      ]
     },
     "execution_count": 8,
     "metadata": {},
     "output_type": "execute_result"
    }
   ],
   "source": [
    "# tagent: create embedding matrix. We are embedding 27 characters in a 2D embedding\n",
    "C = torch.randn((27,2))\n",
    "C.dtype"
   ]
  },
  {
   "cell_type": "code",
   "execution_count": 104,
   "id": "8e0ba977-6567-4029-b3ba-383d34b319f8",
   "metadata": {
    "collapsed": true,
    "jupyter": {
     "outputs_hidden": true
    }
   },
   "outputs": [
    {
     "data": {
      "text/plain": [
       "True"
      ]
     },
     "execution_count": 104,
     "metadata": {},
     "output_type": "execute_result"
    }
   ],
   "source": [
    "one_hot_method = F.one_hot(torch.tensor(5), num_classes=27).float() @ C # must have same datatype, one_hot default is log\n",
    "index_directly = C[5] \n",
    "torch.equal(one_hot_method, index_directly)"
   ]
  },
  {
   "cell_type": "code",
   "execution_count": 105,
   "id": "634acd7c-a6cd-4f5c-ac1e-accd8764140c",
   "metadata": {
    "collapsed": true,
    "jupyter": {
     "outputs_hidden": true
    }
   },
   "outputs": [
    {
     "data": {
      "text/plain": [
       "tensor([1.0599, 0.4453])"
      ]
     },
     "execution_count": 105,
     "metadata": {},
     "output_type": "execute_result"
    }
   ],
   "source": [
    "C[5]"
   ]
  },
  {
   "cell_type": "code",
   "execution_count": 106,
   "id": "35b3aaa1-919b-415f-9f51-4e81f4a89827",
   "metadata": {
    "collapsed": true,
    "jupyter": {
     "outputs_hidden": true
    }
   },
   "outputs": [
    {
     "data": {
      "text/plain": [
       "tensor([[ 1.0599,  0.4453],\n",
       "        [-0.7089, -0.5231],\n",
       "        [-0.7756, -0.7479]])"
      ]
     },
     "execution_count": 106,
     "metadata": {},
     "output_type": "execute_result"
    }
   ],
   "source": [
    "# index using lists\n",
    "C[[5,6,7]]"
   ]
  },
  {
   "cell_type": "code",
   "execution_count": 107,
   "id": "c004c073-a5cb-4122-891f-c3ee67b0a217",
   "metadata": {
    "collapsed": true,
    "jupyter": {
     "outputs_hidden": true
    }
   },
   "outputs": [
    {
     "data": {
      "text/plain": [
       "tensor([[ 1.0599,  0.4453],\n",
       "        [-0.7089, -0.5231],\n",
       "        [-0.7756, -0.7479],\n",
       "        [-0.7756, -0.7479],\n",
       "        [-0.7756, -0.7479]])"
      ]
     },
     "execution_count": 107,
     "metadata": {},
     "output_type": "execute_result"
    }
   ],
   "source": [
    "# can index multiple times and get result in multiple\n",
    "C[torch.tensor([5,6,7,7,7])]"
   ]
  },
  {
   "cell_type": "code",
   "execution_count": 108,
   "id": "4ec885b5-7895-4289-b342-bb7a436ca71c",
   "metadata": {
    "collapsed": true,
    "jupyter": {
     "outputs_hidden": true
    }
   },
   "outputs": [
    {
     "data": {
      "text/plain": [
       "torch.Size([27, 2])"
      ]
     },
     "execution_count": 108,
     "metadata": {},
     "output_type": "execute_result"
    }
   ],
   "source": [
    "C.shape"
   ]
  },
  {
   "cell_type": "code",
   "execution_count": 110,
   "id": "9fc9f088-71a7-4400-8d31-12eb4c67afa2",
   "metadata": {
    "collapsed": true,
    "jupyter": {
     "outputs_hidden": true
    }
   },
   "outputs": [
    {
     "data": {
      "text/plain": [
       "torch.Size([32, 3, 2])"
      ]
     },
     "execution_count": 110,
     "metadata": {},
     "output_type": "execute_result"
    }
   ],
   "source": [
    "C[X].shape # gets embedding vector for each X"
   ]
  },
  {
   "cell_type": "code",
   "execution_count": 113,
   "id": "d8dd1920-777a-414b-a6ed-78aa18404f3e",
   "metadata": {
    "collapsed": true,
    "jupyter": {
     "outputs_hidden": true
    }
   },
   "outputs": [
    {
     "data": {
      "text/plain": [
       "tensor(1)"
      ]
     },
     "execution_count": 113,
     "metadata": {},
     "output_type": "execute_result"
    }
   ],
   "source": [
    "# integer is 1\n",
    "X[13,2]"
   ]
  },
  {
   "cell_type": "code",
   "execution_count": 116,
   "id": "29eb5a87-95f7-42e8-be31-6380002d3082",
   "metadata": {
    "collapsed": true,
    "jupyter": {
     "outputs_hidden": true
    }
   },
   "outputs": [
    {
     "data": {
      "text/plain": [
       "(tensor([-0.6016,  1.6488]), tensor([-0.6016,  1.6488]))"
      ]
     },
     "execution_count": 116,
     "metadata": {},
     "output_type": "execute_result"
    }
   ],
   "source": [
    "# check that the integer at that location of C is the same\n",
    "C[X][13,2], C[1]"
   ]
  },
  {
   "cell_type": "code",
   "execution_count": 115,
   "id": "9ec47094-dd3a-47b4-8bbd-8ae1d764c1af",
   "metadata": {
    "collapsed": true,
    "jupyter": {
     "outputs_hidden": true
    }
   },
   "outputs": [
    {
     "data": {
      "text/plain": [
       "tensor([-0.6016,  1.6488])"
      ]
     },
     "execution_count": 115,
     "metadata": {},
     "output_type": "execute_result"
    }
   ],
   "source": [
    "C[1]"
   ]
  },
  {
   "cell_type": "code",
   "execution_count": 176,
   "id": "2fa5ecb0-c091-44e6-be35-46124e11cdee",
   "metadata": {
    "collapsed": true,
    "jupyter": {
     "outputs_hidden": true
    }
   },
   "outputs": [
    {
     "data": {
      "text/plain": [
       "torch.Size([32, 3, 2])"
      ]
     },
     "execution_count": 176,
     "metadata": {},
     "output_type": "execute_result"
    }
   ],
   "source": [
    "##########################\n",
    "emb = C[X]\n",
    "emb.shape"
   ]
  },
  {
   "cell_type": "code",
   "execution_count": 177,
   "id": "69be90a7-cc0b-4555-955d-05a498821baa",
   "metadata": {
    "collapsed": true,
    "jupyter": {
     "outputs_hidden": true
    }
   },
   "outputs": [],
   "source": [
    "# setup first layer\n",
    "W1 = torch.rand((6,100))\n",
    "b1 = torch.rand(100)"
   ]
  },
  {
   "cell_type": "code",
   "execution_count": 137,
   "id": "90f64c5b-88d1-4987-890d-18a9675e90e6",
   "metadata": {
    "collapsed": true,
    "jupyter": {
     "outputs_hidden": true
    }
   },
   "outputs": [
    {
     "data": {
      "text/plain": [
       "torch.Size([32, 6])"
      ]
     },
     "execution_count": 137,
     "metadata": {},
     "output_type": "execute_result"
    }
   ],
   "source": [
    "# tangent: different way to use torch and torch internals\n",
    "# want to matmul emb @ W1 but they are different sizes: (32,3,2) @ (6,100). \n",
    "# need to transform the emb to do this:\n",
    "first_char_embed = emb[:,0,:]\n",
    "second_char_embed = emb[:,1,:]\n",
    "third_char_embed = emb[:,2,:]\n",
    "\n",
    "# we want to concat across dim 1\n",
    "torch.cat((first_char_embed,second_char_embed, third_char_embed), dim=1).shape"
   ]
  },
  {
   "cell_type": "code",
   "execution_count": 138,
   "id": "659a936e-b6c3-4608-93e4-fa9d100d01cb",
   "metadata": {
    "collapsed": true,
    "jupyter": {
     "outputs_hidden": true
    }
   },
   "outputs": [
    {
     "data": {
      "text/plain": [
       "torch.Size([32, 2])"
      ]
     },
     "execution_count": 138,
     "metadata": {},
     "output_type": "execute_result"
    }
   ],
   "source": [
    "# above works, but we'd need to change this code if we use a bigger block_size, instead can use unbind:\n",
    "# unbind will return a tuple of all slices along a given dimension\n",
    "torch.unbind(emb, 1)\n",
    "torch.unbind(emb,1)[0].shape # 3 slices in tuple with shape 32, 3"
   ]
  },
  {
   "cell_type": "code",
   "execution_count": 165,
   "id": "7aa73f26-305f-40d2-af5d-5f3a7792cf03",
   "metadata": {
    "collapsed": true,
    "jupyter": {
     "outputs_hidden": true
    }
   },
   "outputs": [
    {
     "data": {
      "text/plain": [
       "torch.Size([32, 6])"
      ]
     },
     "execution_count": 165,
     "metadata": {},
     "output_type": "execute_result"
    }
   ],
   "source": [
    "torch.cat(torch.unbind(emb, 1), dim=1).shape # but this inefficient as a whole new tensor is created for this op, uses more memory"
   ]
  },
  {
   "cell_type": "code",
   "execution_count": 141,
   "id": "01efb46d-3e5c-451c-9c36-d5846346418d",
   "metadata": {
    "collapsed": true,
    "jupyter": {
     "outputs_hidden": true
    }
   },
   "outputs": [
    {
     "data": {
      "text/plain": [
       "tensor([ 0,  1,  2,  3,  4,  5,  6,  7,  8,  9, 10, 11, 12, 13, 14, 15, 16, 17])"
      ]
     },
     "execution_count": 141,
     "metadata": {},
     "output_type": "execute_result"
    }
   ],
   "source": [
    "# a better way:\n",
    "a = torch.arange(18)\n",
    "a"
   ]
  },
  {
   "cell_type": "code",
   "execution_count": 142,
   "id": "d620c692-f62c-439c-9432-bc4b5d9f73cf",
   "metadata": {
    "collapsed": true,
    "jupyter": {
     "outputs_hidden": true
    }
   },
   "outputs": [
    {
     "data": {
      "text/plain": [
       "torch.Size([18])"
      ]
     },
     "execution_count": 142,
     "metadata": {},
     "output_type": "execute_result"
    }
   ],
   "source": [
    "a.shape"
   ]
  },
  {
   "cell_type": "code",
   "execution_count": 159,
   "id": "6cc7b385-1581-40fe-af22-604b5b931394",
   "metadata": {
    "collapsed": true,
    "jupyter": {
     "outputs_hidden": true
    }
   },
   "outputs": [
    {
     "data": {
      "text/plain": [
       "(tensor([[ 0,  1,  2,  3,  4,  5,  6,  7,  8],\n",
       "         [ 9, 10, 11, 12, 13, 14, 15, 16, 17]]),\n",
       " tensor([[[ 0,  1],\n",
       "          [ 2,  3],\n",
       "          [ 4,  5]],\n",
       " \n",
       "         [[ 6,  7],\n",
       "          [ 8,  9],\n",
       "          [10, 11]],\n",
       " \n",
       "         [[12, 13],\n",
       "          [14, 15],\n",
       "          [16, 17]]]),\n",
       " tensor([[ 0,  1],\n",
       "         [ 2,  3],\n",
       "         [ 4,  5],\n",
       "         [ 6,  7],\n",
       "         [ 8,  9],\n",
       "         [10, 11],\n",
       "         [12, 13],\n",
       "         [14, 15],\n",
       "         [16, 17]]),\n",
       " tensor([[ 0,  1,  2,  3,  4,  5,  6,  7,  8],\n",
       "         [ 9, 10, 11, 12, 13, 14, 15, 16, 17]]))"
      ]
     },
     "execution_count": 159,
     "metadata": {},
     "output_type": "execute_result"
    }
   ],
   "source": [
    "a.view(2,9), a.view(3,3, 2), a.view(9,2), a.view(-1,9) # -1 means whatever is left"
   ]
  },
  {
   "cell_type": "code",
   "execution_count": 149,
   "id": "c37a6db3-c6cf-4c40-87c2-80ed57ec5b85",
   "metadata": {
    "collapsed": true,
    "jupyter": {
     "outputs_hidden": true
    }
   },
   "outputs": [
    {
     "data": {
      "text/plain": [
       " 0\n",
       " 1\n",
       " 2\n",
       " 3\n",
       " 4\n",
       " 5\n",
       " 6\n",
       " 7\n",
       " 8\n",
       " 9\n",
       " 10\n",
       " 11\n",
       " 12\n",
       " 13\n",
       " 14\n",
       " 15\n",
       " 16\n",
       " 17\n",
       "[torch.storage.TypedStorage(dtype=torch.int64, device=cpu) of size 18]"
      ]
     },
     "execution_count": 149,
     "metadata": {},
     "output_type": "execute_result"
    }
   ],
   "source": [
    "a.storage() #physical storage "
   ]
  },
  {
   "cell_type": "code",
   "execution_count": 157,
   "id": "705ad5a9-71ef-442d-ba87-6d25483941b4",
   "metadata": {
    "collapsed": true,
    "jupyter": {
     "outputs_hidden": true
    }
   },
   "outputs": [
    {
     "data": {
      "text/plain": [
       "tensor([[True, True, True, True, True, True],\n",
       "        [True, True, True, True, True, True],\n",
       "        [True, True, True, True, True, True],\n",
       "        [True, True, True, True, True, True],\n",
       "        [True, True, True, True, True, True],\n",
       "        [True, True, True, True, True, True],\n",
       "        [True, True, True, True, True, True],\n",
       "        [True, True, True, True, True, True],\n",
       "        [True, True, True, True, True, True],\n",
       "        [True, True, True, True, True, True],\n",
       "        [True, True, True, True, True, True],\n",
       "        [True, True, True, True, True, True],\n",
       "        [True, True, True, True, True, True],\n",
       "        [True, True, True, True, True, True],\n",
       "        [True, True, True, True, True, True],\n",
       "        [True, True, True, True, True, True],\n",
       "        [True, True, True, True, True, True],\n",
       "        [True, True, True, True, True, True],\n",
       "        [True, True, True, True, True, True],\n",
       "        [True, True, True, True, True, True],\n",
       "        [True, True, True, True, True, True],\n",
       "        [True, True, True, True, True, True],\n",
       "        [True, True, True, True, True, True],\n",
       "        [True, True, True, True, True, True],\n",
       "        [True, True, True, True, True, True],\n",
       "        [True, True, True, True, True, True],\n",
       "        [True, True, True, True, True, True],\n",
       "        [True, True, True, True, True, True],\n",
       "        [True, True, True, True, True, True],\n",
       "        [True, True, True, True, True, True],\n",
       "        [True, True, True, True, True, True],\n",
       "        [True, True, True, True, True, True]])"
      ]
     },
     "execution_count": 157,
     "metadata": {},
     "output_type": "execute_result"
    }
   ],
   "source": [
    "torch.cat(torch.unbind(emb, 1), dim=1) == emb.view(32,6)"
   ]
  },
  {
   "cell_type": "code",
   "execution_count": 158,
   "id": "fa264917-05a0-4abc-9f84-71e44a0cfc66",
   "metadata": {
    "collapsed": true,
    "jupyter": {
     "outputs_hidden": true
    }
   },
   "outputs": [
    {
     "data": {
      "text/plain": [
       "tensor([[ 2.9032,  4.1361,  4.5650,  ...,  1.9633,  2.6685,  4.3327],\n",
       "        [ 2.5082,  3.9130,  4.3207,  ...,  1.9953,  2.3136,  4.0329],\n",
       "        [ 0.7555,  2.4680,  3.0508,  ...,  2.0188,  0.9817,  2.4596],\n",
       "        ...,\n",
       "        [-0.8331, -1.2928, -0.7480,  ...,  0.3800,  1.0624,  0.5667],\n",
       "        [-0.9798, -0.5661, -1.9993,  ..., -0.4268, -1.9186, -0.0536],\n",
       "        [-0.6883,  0.9239,  0.4850,  ...,  1.1965,  0.1382,  1.4256]])"
      ]
     },
     "execution_count": 158,
     "metadata": {},
     "output_type": "execute_result"
    }
   ],
   "source": [
    "###########################################\n",
    "emb.view(32,6) @ W1 + b1\n"
   ]
  },
  {
   "cell_type": "code",
   "execution_count": 205,
   "id": "359ad983-f280-4d0d-9cb8-33e0f8a40317",
   "metadata": {
    "collapsed": true,
    "jupyter": {
     "outputs_hidden": true
    }
   },
   "outputs": [
    {
     "data": {
      "text/plain": [
       "(True, True)"
      ]
     },
     "execution_count": 205,
     "metadata": {},
     "output_type": "execute_result"
    }
   ],
   "source": [
    "# how to deal with dim 0 being variable for X:\n",
    "h1 = emb.view(32,6) @ W1 + b1\n",
    "h2 = emb.view(emb.shape[0],6) @ W1 + b1\n",
    "h3 = emb.view(-1,6) @ W1 + b1 #  -1 means whatever is left.\n",
    "torch.equal(h1,h2), torch.equal(h1,h3)"
   ]
  },
  {
   "cell_type": "code",
   "execution_count": 206,
   "id": "c8994136-b9a9-407b-8615-df100f0f7773",
   "metadata": {
    "collapsed": true,
    "jupyter": {
     "outputs_hidden": true
    }
   },
   "outputs": [
    {
     "data": {
      "text/plain": [
       "torch.Size([32, 100])"
      ]
     },
     "execution_count": 206,
     "metadata": {},
     "output_type": "execute_result"
    }
   ],
   "source": [
    "################################## \n",
    "# back to the hidden layer:\n",
    "h = torch.tanh(emb.view(-1,6) @ W1 + b1)\n",
    "h.shape"
   ]
  },
  {
   "cell_type": "code",
   "execution_count": 207,
   "id": "faf35774-f036-4b40-be40-6ad81b7552cd",
   "metadata": {
    "collapsed": true,
    "jupyter": {
     "outputs_hidden": true
    }
   },
   "outputs": [
    {
     "data": {
      "text/plain": [
       "(torch.Size([100]), torch.Size([32, 100]))"
      ]
     },
     "execution_count": 207,
     "metadata": {},
     "output_type": "execute_result"
    }
   ],
   "source": [
    "# check bias broadcasting when adding:\n",
    "b1.shape, (emb.view(-1,6) @ W1).shape\n",
    "# emb @ w1 32, 100\n",
    "# b1        1, 100 << start at trailing dim, prepend 1 to the dims of the tensor\n",
    "# copied the b vertically to all the rows, which is what we want\n"
   ]
  },
  {
   "cell_type": "code",
   "execution_count": 208,
   "id": "df885fc7-49a0-4621-ba60-7052e96a15d1",
   "metadata": {
    "collapsed": true,
    "jupyter": {
     "outputs_hidden": true
    }
   },
   "outputs": [],
   "source": [
    "W2 = torch.rand((100,27))\n",
    "b2 = torch.rand(27)"
   ]
  },
  {
   "cell_type": "code",
   "execution_count": 209,
   "id": "e18ffd33-b44e-4914-9165-baf6a5e88744",
   "metadata": {
    "collapsed": true,
    "jupyter": {
     "outputs_hidden": true
    }
   },
   "outputs": [],
   "source": [
    "logits = h @ W2 + b2"
   ]
  },
  {
   "cell_type": "code",
   "execution_count": 210,
   "id": "4b14e165-f2a1-4df0-9f90-52c020303f2d",
   "metadata": {
    "collapsed": true,
    "jupyter": {
     "outputs_hidden": true
    }
   },
   "outputs": [
    {
     "data": {
      "text/plain": [
       "torch.Size([32, 27])"
      ]
     },
     "execution_count": 210,
     "metadata": {},
     "output_type": "execute_result"
    }
   ],
   "source": [
    "logits.shape"
   ]
  },
  {
   "cell_type": "code",
   "execution_count": 213,
   "id": "3d754fe7-e263-4655-a58f-5b0d1da3a58c",
   "metadata": {
    "collapsed": true,
    "jupyter": {
     "outputs_hidden": true
    }
   },
   "outputs": [],
   "source": [
    "counts = logits.exp()"
   ]
  },
  {
   "cell_type": "code",
   "execution_count": 214,
   "id": "5324d56f-597b-4aa5-a1e8-d31f81b81bb0",
   "metadata": {
    "collapsed": true,
    "jupyter": {
     "outputs_hidden": true
    }
   },
   "outputs": [],
   "source": [
    "prob = counts / counts.sum(1,keepdims=True)"
   ]
  },
  {
   "cell_type": "code",
   "execution_count": 215,
   "id": "57d3d7ba-a096-43be-bc0c-d40a3db00d80",
   "metadata": {
    "collapsed": true,
    "jupyter": {
     "outputs_hidden": true
    }
   },
   "outputs": [
    {
     "data": {
      "text/plain": [
       "torch.Size([32, 27])"
      ]
     },
     "execution_count": 215,
     "metadata": {},
     "output_type": "execute_result"
    }
   ],
   "source": [
    "prob.shape"
   ]
  },
  {
   "cell_type": "code",
   "execution_count": 217,
   "id": "b0a0a286-cf72-4147-b1d2-6341d8d04b44",
   "metadata": {
    "collapsed": true,
    "jupyter": {
     "outputs_hidden": true
    }
   },
   "outputs": [
    {
     "data": {
      "text/plain": [
       "tensor([ 5, 13, 13,  1,  0, 15, 12,  9, 22,  9,  1,  0,  1, 22,  1,  0,  9, 19,\n",
       "         1,  2,  5, 12, 12,  1,  0, 19, 15, 16,  8,  9,  1,  0])"
      ]
     },
     "execution_count": 217,
     "metadata": {},
     "output_type": "execute_result"
    }
   ],
   "source": [
    "Y"
   ]
  },
  {
   "cell_type": "code",
   "execution_count": 222,
   "id": "71143cac-c182-49aa-b675-fe6b04302e2b",
   "metadata": {
    "collapsed": true,
    "jupyter": {
     "outputs_hidden": true
    }
   },
   "outputs": [],
   "source": [
    "loss = -prob[torch.arange(32), Y].log().mean() # neg log liklihood loss"
   ]
  },
  {
   "cell_type": "code",
   "execution_count": 10,
   "id": "9d900727-d3f6-4f6a-afe2-85bfbda1309a",
   "metadata": {
    "collapsed": true,
    "jupyter": {
     "outputs_hidden": true
    }
   },
   "outputs": [
    {
     "data": {
      "text/plain": [
       "(torch.Size([32, 3]), torch.Size([32]))"
      ]
     },
     "execution_count": 10,
     "metadata": {},
     "output_type": "execute_result"
    }
   ],
   "source": [
    "# ------------------------- \n",
    "# bring the above together\n",
    "X.shape, Y.shape # dataset"
   ]
  },
  {
   "cell_type": "code",
   "execution_count": 157,
   "id": "3943c1d5-74dd-4ec1-9f17-ef92efedea19",
   "metadata": {
    "collapsed": true,
    "jupyter": {
     "outputs_hidden": true
    }
   },
   "outputs": [],
   "source": [
    "g = torch.Generator().manual_seed(2147483647)\n",
    "C = torch.randn((27,2), generator = g)\n",
    "W1 = torch.randn((6,100), generator=g)\n",
    "b1 = torch.randn(100, generator=g)\n",
    "W2 = torch.randn((100,27), generator=g)\n",
    "b2 = torch.randn(27, generator=g)\n",
    "parameters = [C, W1, b1, W2, b2]\n"
   ]
  },
  {
   "cell_type": "code",
   "execution_count": 155,
   "id": "fe078789-e40a-41c6-b962-fb2a061f5d5b",
   "metadata": {
    "collapsed": true,
    "jupyter": {
     "outputs_hidden": true
    }
   },
   "outputs": [
    {
     "data": {
      "text/plain": [
       "3481"
      ]
     },
     "execution_count": 155,
     "metadata": {},
     "output_type": "execute_result"
    }
   ],
   "source": [
    "sum(p.nelement() for p in parameters) # number of parameters in total"
   ]
  },
  {
   "cell_type": "code",
   "execution_count": 156,
   "id": "0534a10c-c831-4c44-9cdc-61a1f91ae658",
   "metadata": {
    "collapsed": true,
    "jupyter": {
     "outputs_hidden": true
    },
    "scrolled": true
   },
   "outputs": [
    {
     "ename": "IndexError",
     "evalue": "shape mismatch: indexing tensors could not be broadcast together with shapes [32], [228146]",
     "output_type": "error",
     "traceback": [
      "\u001b[0;31m---------------------------------------------------------------------------\u001b[0m",
      "\u001b[0;31mIndexError\u001b[0m                                Traceback (most recent call last)",
      "Cell \u001b[0;32mIn[156], line 6\u001b[0m\n\u001b[1;32m      4\u001b[0m counts \u001b[38;5;241m=\u001b[39m logits\u001b[38;5;241m.\u001b[39mexp()\n\u001b[1;32m      5\u001b[0m prob \u001b[38;5;241m=\u001b[39m counts \u001b[38;5;241m/\u001b[39m counts\u001b[38;5;241m.\u001b[39msum(\u001b[38;5;241m1\u001b[39m, keepdim\u001b[38;5;241m=\u001b[39m\u001b[38;5;28;01mTrue\u001b[39;00m)\n\u001b[0;32m----> 6\u001b[0m loss \u001b[38;5;241m=\u001b[39m \u001b[38;5;241m-\u001b[39m \u001b[43mprob\u001b[49m\u001b[43m[\u001b[49m\u001b[43mtorch\u001b[49m\u001b[38;5;241;43m.\u001b[39;49m\u001b[43marange\u001b[49m\u001b[43m(\u001b[49m\u001b[38;5;241;43m32\u001b[39;49m\u001b[43m)\u001b[49m\u001b[43m,\u001b[49m\u001b[43m \u001b[49m\u001b[43mY\u001b[49m\u001b[43m]\u001b[49m\u001b[38;5;241m.\u001b[39mlog()\u001b[38;5;241m.\u001b[39mmean()\n\u001b[1;32m      7\u001b[0m loss\n",
      "\u001b[0;31mIndexError\u001b[0m: shape mismatch: indexing tensors could not be broadcast together with shapes [32], [228146]"
     ]
    }
   ],
   "source": [
    "emb = C[X] # (32, 3, 2)\n",
    "h = torch.tanh(emb.view(-1,6) @ W1 + b1) # (32, 100)\n",
    "logits = h @ W2 + b2 # (32,27)\n",
    "counts = logits.exp()\n",
    "prob = counts / counts.sum(1, keepdim=True)\n",
    "loss = - prob[torch.arange(32), Y].log().mean()\n",
    "loss\n"
   ]
  },
  {
   "cell_type": "code",
   "execution_count": 258,
   "id": "219df0e3-e2bd-4faa-a269-fb61918a1d08",
   "metadata": {
    "collapsed": true,
    "jupyter": {
     "outputs_hidden": true
    }
   },
   "outputs": [
    {
     "data": {
      "text/plain": [
       "tensor(7.3572)"
      ]
     },
     "execution_count": 258,
     "metadata": {},
     "output_type": "execute_result"
    }
   ],
   "source": [
    "# tangent: cross_entropy means: \n",
    "# - creating the intermediate steps and do them together using fused kernels, \n",
    "# - expressions can take a simplier form, similar to forward and backward pass of tanh()\n",
    "# - cross_entry can be much better numericall behaved i.e dealing wtih higher logits\n",
    "\n",
    "F.cross_entropy(logits, Y)"
   ]
  },
  {
   "cell_type": "code",
   "execution_count": 271,
   "id": "9deaf8e3-9720-4360-a4a9-5f7b5e09b1ed",
   "metadata": {
    "collapsed": true,
    "jupyter": {
     "outputs_hidden": true
    }
   },
   "outputs": [
    {
     "data": {
      "text/plain": [
       "tensor([0., 0., 0., nan])"
      ]
     },
     "execution_count": 271,
     "metadata": {},
     "output_type": "execute_result"
    }
   ],
   "source": [
    "# cross_entropy performed much better numericall behaved. As we are exp() the logits, if the logits are high (100) can get nan, -100 is ok:\n",
    "logits = torch.tensor([-100, -3, 0, 100])\n",
    "counts = logits.exp()\n",
    "probs = counts / counts.sum()\n",
    "probs"
   ]
  },
  {
   "cell_type": "code",
   "execution_count": 272,
   "id": "fac9ec3b-568a-444e-be5e-8bfa1dac47a1",
   "metadata": {
    "collapsed": true,
    "jupyter": {
     "outputs_hidden": true
    }
   },
   "outputs": [
    {
     "data": {
      "text/plain": [
       "tensor([4.5079e-05, 3.3309e-04, 6.6903e-03, 9.9293e-01])"
      ]
     },
     "execution_count": 272,
     "metadata": {},
     "output_type": "execute_result"
    }
   ],
   "source": [
    "# you can add offset to this and get the same answer:\n",
    "logits = torch.tensor([-5, -3, 0, 5]) - 10\n",
    "counts = logits.exp()\n",
    "probs = counts / counts.sum()\n",
    "probs"
   ]
  },
  {
   "cell_type": "code",
   "execution_count": 273,
   "id": "96f8e90e-e206-4b6f-a964-9d554c573e7b",
   "metadata": {
    "collapsed": true,
    "jupyter": {
     "outputs_hidden": true
    }
   },
   "outputs": [
    {
     "data": {
      "text/plain": [
       "tensor([4.5079e-05, 3.3309e-04, 6.6903e-03, 9.9293e-01])"
      ]
     },
     "execution_count": 273,
     "metadata": {},
     "output_type": "execute_result"
    }
   ],
   "source": [
    "# same as: \n",
    "logits = torch.tensor([-5, -3, 0, 5]) - 20\n",
    "counts = logits.exp()\n",
    "probs = counts / counts.sum()\n",
    "probs"
   ]
  },
  {
   "cell_type": "code",
   "execution_count": 276,
   "id": "96dbfae6-b2e4-4155-8256-ec59afe54a6e",
   "metadata": {
    "collapsed": true,
    "jupyter": {
     "outputs_hidden": true
    }
   },
   "outputs": [
    {
     "data": {
      "text/plain": [
       "tensor([0.0000e+00, 1.4013e-45, 3.7835e-44, 1.0000e+00])"
      ]
     },
     "execution_count": 276,
     "metadata": {},
     "output_type": "execute_result"
    }
   ],
   "source": [
    "logits = torch.tensor([-100, -3, 0, 100]) - 100\n",
    "counts = logits.exp()\n",
    "probs = counts / counts.sum()\n",
    "probs"
   ]
  },
  {
   "cell_type": "code",
   "execution_count": 301,
   "id": "2f1c2240-477a-4cce-891f-d4609c6d0b24",
   "metadata": {
    "collapsed": true,
    "jupyter": {
     "outputs_hidden": true
    }
   },
   "outputs": [],
   "source": [
    "for p in parameters:\n",
    "    p.requires_grad = True"
   ]
  },
  {
   "cell_type": "code",
   "execution_count": 308,
   "id": "f738128a-b4a8-46ae-a83e-d16b22cf59f1",
   "metadata": {
    "collapsed": true,
    "jupyter": {
     "outputs_hidden": true
    }
   },
   "outputs": [
    {
     "name": "stdout",
     "output_type": "stream",
     "text": [
      "0.2525448799133301\n"
     ]
    }
   ],
   "source": [
    "# ----------------------------------------\n",
    "for _ in range(1000):\n",
    "    # forward pass\n",
    "    emb = C[X] # (32,3,2)\n",
    "    h = torch.tanh(emb.view(-1,6) @ W1 + b1) # (32, 100)\n",
    "    logits = h @ W2 + b2 # (32,27)\n",
    "    loss = F.cross_entropy(logits, Y)\n",
    "    \n",
    "    # backward pass\n",
    "    for p in parameters:\n",
    "        p.grad = None\n",
    "    loss.backward()\n",
    "    \n",
    "    # update\n",
    "    for p in parameters:\n",
    "        p.data += -0.1 * p.grad\n",
    "\n",
    "print(loss.item())"
   ]
  },
  {
   "cell_type": "code",
   "execution_count": 327,
   "id": "45db5f9b-fba8-43bc-a6f6-fc609ae8e549",
   "metadata": {
    "collapsed": true,
    "jupyter": {
     "outputs_hidden": true
    }
   },
   "outputs": [
    {
     "data": {
      "text/plain": [
       "(torch.return_types.max(\n",
       " values=tensor([ 43.6240,  64.4105,  58.8915,  68.1924,   0.9242,  43.6240,  17.9316,\n",
       "          11.4024, -17.6828,  33.6481,  45.3112,   8.1901,  43.6240,  23.4733,\n",
       "          43.4074, -12.2734,  43.6240,  41.4969,  60.3677,  27.2958,  12.0153,\n",
       "          25.7188,  35.0194,  61.3420, -11.1273,  43.6240,  55.2428,  36.2484,\n",
       "          31.1155,  21.6926,  57.4884,  13.5841], grad_fn=<MaxBackward0>),\n",
       " indices=tensor([ 1, 13, 13,  1,  0,  1, 12,  9, 22,  9,  1,  0,  1, 22,  1,  0,  1, 19,\n",
       "          1,  2,  5, 12, 12,  1,  0,  1, 15, 16,  8,  9,  1,  0])),\n",
       " tensor([ 5, 13, 13,  1,  0, 15, 12,  9, 22,  9,  1,  0,  1, 22,  1,  0,  9, 19,\n",
       "          1,  2,  5, 12, 12,  1,  0, 19, 15, 16,  8,  9,  1,  0]))"
      ]
     },
     "execution_count": 327,
     "metadata": {},
     "output_type": "execute_result"
    }
   ],
   "source": [
    "# return the max index for each row and compare it to the expected index. \n",
    "# so some match but other's dont. e.g index 0, as ... predicts either e,o,a,i or s all are possible, from the training set.\n",
    "# this means it's not possilbe to get loss to 0, and overfit\n",
    "logits.max(1),Y"
   ]
  },
  {
   "cell_type": "code",
   "execution_count": 328,
   "id": "36963fbe-a6e6-42d5-aa77-392cd7c1606c",
   "metadata": {
    "collapsed": true,
    "jupyter": {
     "outputs_hidden": true
    }
   },
   "outputs": [
    {
     "data": {
      "text/plain": [
       "(tensor([[0, 1, 2, 3, 4],\n",
       "         [5, 6, 7, 8, 9]]),\n",
       " torch.return_types.max(\n",
       " values=tensor([4, 9]),\n",
       " indices=tensor([4, 4])))"
      ]
     },
     "execution_count": 328,
     "metadata": {},
     "output_type": "execute_result"
    }
   ],
   "source": [
    "# how max works\n",
    "x = torch.arange(10)\n",
    "y = x.view(-1,5)\n",
    "y, y.max(1)"
   ]
  },
  {
   "cell_type": "code",
   "execution_count": 149,
   "id": "67ee8571-06d0-42d8-b594-f648753f4166",
   "metadata": {
    "collapsed": true,
    "jupyter": {
     "outputs_hidden": true
    }
   },
   "outputs": [],
   "source": [
    "# build the full dataset\n",
    "block_size = 3\n",
    "X, Y = [], []\n",
    "\n",
    "for w in words:\n",
    "    context = [0] * block_size\n",
    "    for ch in w + '.':\n",
    "        ix = stoi[ch]\n",
    "        X.append(context)\n",
    "        Y.append(ix)\n",
    "        context = context[1:] + [ix] # crop and append\n",
    "\n",
    "X = torch.tensor(X)\n",
    "Y = torch.tensor(Y)"
   ]
  },
  {
   "cell_type": "code",
   "execution_count": 152,
   "id": "67245186-40b5-47b6-b36d-e78a2368c66a",
   "metadata": {
    "collapsed": true,
    "jupyter": {
     "outputs_hidden": true
    }
   },
   "outputs": [
    {
     "data": {
      "text/plain": [
       "(torch.Size([228146, 3]), torch.int64, torch.Size([228146]), torch.int64)"
      ]
     },
     "execution_count": 152,
     "metadata": {},
     "output_type": "execute_result"
    }
   ],
   "source": [
    "X.shape, X.dtype, Y.shape, Y.dtype"
   ]
  },
  {
   "cell_type": "code",
   "execution_count": 158,
   "id": "e4685915-408b-48bc-b933-514de14da178",
   "metadata": {
    "collapsed": true,
    "jupyter": {
     "outputs_hidden": true
    }
   },
   "outputs": [],
   "source": [
    "# setup \n",
    "g = torch.Generator().manual_seed(2147483647)\n",
    "C = torch.randn((27,2), generator = g)\n",
    "W1 = torch.randn((6,100), generator=g)\n",
    "b1 = torch.randn(100, generator=g)\n",
    "W2 = torch.randn((100,27), generator=g)\n",
    "b2 = torch.randn(27, generator=g)\n",
    "parameters = [C, W1, b1, W2, b2]"
   ]
  },
  {
   "cell_type": "code",
   "execution_count": 159,
   "id": "e8fda094-7004-4963-82ab-c49d41445acb",
   "metadata": {
    "collapsed": true,
    "jupyter": {
     "outputs_hidden": true
    }
   },
   "outputs": [
    {
     "data": {
      "text/plain": [
       "3481"
      ]
     },
     "execution_count": 159,
     "metadata": {},
     "output_type": "execute_result"
    }
   ],
   "source": [
    "sum(p.nelement() for p in parameters) # number of parameters in total"
   ]
  },
  {
   "cell_type": "code",
   "execution_count": 160,
   "id": "d3e52968-7737-453f-b6cd-3a88c596d3be",
   "metadata": {
    "collapsed": true,
    "jupyter": {
     "outputs_hidden": true
    }
   },
   "outputs": [],
   "source": [
    "for p in parameters:\n",
    "    p.requires_grad = True"
   ]
  },
  {
   "cell_type": "code",
   "execution_count": 109,
   "id": "15f93519-f375-4fca-ac85-2310ec261ba7",
   "metadata": {
    "collapsed": true,
    "jupyter": {
     "outputs_hidden": true
    },
    "scrolled": true
   },
   "outputs": [
    {
     "name": "stdout",
     "output_type": "stream",
     "text": [
      "2.805891513824463\n",
      "2.8053951263427734\n",
      "2.8048830032348633\n",
      "2.804353952407837\n",
      "2.803807020187378\n",
      "2.8032419681549072\n",
      "2.8026585578918457\n",
      "2.802056312561035\n",
      "2.801433801651001\n",
      "2.800790309906006\n",
      "2.800126075744629\n",
      "2.799440383911133\n",
      "2.7987329959869385\n",
      "2.7980029582977295\n",
      "2.797250270843506\n",
      "2.796473264694214\n",
      "2.7956740856170654\n",
      "2.7948505878448486\n",
      "2.7940030097961426\n",
      "2.7931313514709473\n",
      "2.7922348976135254\n",
      "2.7913153171539307\n",
      "2.790372371673584\n",
      "2.78940486907959\n",
      "2.788414239883423\n",
      "2.787402391433716\n",
      "2.786367893218994\n",
      "2.7853126525878906\n",
      "2.7842371463775635\n",
      "2.7831432819366455\n",
      "2.7820324897766113\n",
      "2.7809038162231445\n",
      "2.77976131439209\n",
      "2.7786056995391846\n",
      "2.7774386405944824\n",
      "2.776261329650879\n",
      "2.7750768661499023\n",
      "2.773885488510132\n",
      "2.7726902961730957\n",
      "2.771493434906006\n",
      "2.7702951431274414\n",
      "2.7690985202789307\n",
      "2.7679057121276855\n",
      "2.7667176723480225\n",
      "2.765536069869995\n",
      "2.7643625736236572\n",
      "2.7631986141204834\n",
      "2.762044906616211\n",
      "2.760902166366577\n",
      "2.7597720623016357\n",
      "2.7586543560028076\n",
      "2.75754976272583\n",
      "2.756458282470703\n",
      "2.755380868911743\n",
      "2.754317045211792\n",
      "2.7532665729522705\n",
      "2.7522287368774414\n",
      "2.751203775405884\n",
      "2.750192642211914\n",
      "2.749192953109741\n",
      "2.7482056617736816\n",
      "2.747229814529419\n",
      "2.7462661266326904\n",
      "2.7453136444091797\n",
      "2.744371175765991\n",
      "2.7434396743774414\n",
      "2.742518663406372\n",
      "2.741607904434204\n",
      "2.7407073974609375\n",
      "2.739816665649414\n",
      "2.738936185836792\n",
      "2.738065481185913\n",
      "2.7372045516967773\n",
      "2.7363529205322266\n",
      "2.7355105876922607\n",
      "2.734678030014038\n",
      "2.7338552474975586\n",
      "2.7330410480499268\n",
      "2.732236623764038\n",
      "2.7314417362213135\n",
      "2.7306559085845947\n",
      "2.729879856109619\n",
      "2.7291126251220703\n",
      "2.728353977203369\n",
      "2.7276053428649902\n",
      "2.726865530014038\n",
      "2.726135015487671\n",
      "2.7254128456115723\n",
      "2.7246999740600586\n",
      "2.7239954471588135\n",
      "2.7233004570007324\n",
      "2.722613573074341\n",
      "2.721935272216797\n",
      "2.7212648391723633\n",
      "2.7206037044525146\n",
      "2.719951629638672\n",
      "2.719306707382202\n",
      "2.71867036819458\n",
      "2.7180418968200684\n",
      "2.717421293258667\n"
     ]
    }
   ],
   "source": [
    "for _ in range(100):\n",
    "    # forward pass\n",
    "    emb = C[X] # (32000,3,2)\n",
    "    h = torch.tanh(emb.view(-1,6) @ W1 + b1) # (32000, 100)\n",
    "    logits = h @ W2 + b2 # (32000,27)\n",
    "    loss = F.cross_entropy(logits, Y)\n",
    "    print(loss.item())\n",
    "    # backward pass\n",
    "    for p in parameters:\n",
    "        p.grad = None\n",
    "    loss.backward()\n",
    "    \n",
    "    # update\n",
    "    for p in parameters:\n",
    "        p.data += -0.1 * p.grad"
   ]
  },
  {
   "cell_type": "code",
   "execution_count": 352,
   "id": "8781ff8e-1826-4a03-882f-3e98f3745656",
   "metadata": {
    "collapsed": true,
    "jupyter": {
     "outputs_hidden": true
    }
   },
   "outputs": [
    {
     "data": {
      "text/plain": [
       "tensor([119797, 135103,  68519,  78310,   1849,  10334, 175244,  22232,  84835,\n",
       "        132659,  57062, 195604,  94142, 157832,  64927,  78522,  13348,  31850,\n",
       "        201084, 144172,  40730,  14861,  38417, 140192,  83381, 157992,  29477,\n",
       "        129486, 162059,  81486,  70888, 223125])"
      ]
     },
     "execution_count": 352,
     "metadata": {},
     "output_type": "execute_result"
    }
   ],
   "source": [
    "# mini-batch to reduce training time, randomly select a batch from the training set and train on that:\n",
    "torch.randint(0, X.shape[0], (32,)) # low, high and size (as tuple) "
   ]
  },
  {
   "cell_type": "code",
   "execution_count": 17,
   "id": "c9299a51-24b0-4585-8ba4-f29d6a3d6fa2",
   "metadata": {
    "collapsed": true,
    "jupyter": {
     "outputs_hidden": true
    }
   },
   "outputs": [
    {
     "name": "stdout",
     "output_type": "stream",
     "text": [
      "2.9648590087890625\n",
      "2.6528027057647705\n",
      "2.8100643157958984\n",
      "2.866823196411133\n",
      "2.707019567489624\n",
      "2.848673105239868\n",
      "3.189858913421631\n",
      "2.8352770805358887\n",
      "2.7900948524475098\n",
      "3.111520528793335\n",
      "2.859539031982422\n",
      "3.046997547149658\n",
      "3.02547287940979\n",
      "2.5750844478607178\n",
      "2.832350254058838\n",
      "2.7211475372314453\n",
      "3.0934629440307617\n",
      "3.118736505508423\n",
      "2.8435776233673096\n",
      "2.912137508392334\n",
      "3.017094850540161\n",
      "2.841599464416504\n",
      "3.002427101135254\n",
      "2.844202756881714\n",
      "2.8834824562072754\n",
      "3.145188331604004\n",
      "2.7380101680755615\n",
      "2.755811929702759\n",
      "2.7141408920288086\n",
      "2.876512050628662\n",
      "2.6551740169525146\n",
      "3.136817693710327\n",
      "2.709643840789795\n",
      "2.808337450027466\n",
      "3.1058692932128906\n",
      "2.8435585498809814\n",
      "2.694821357727051\n",
      "2.602365732192993\n",
      "2.595930337905884\n",
      "2.8852570056915283\n",
      "2.8886642456054688\n",
      "2.5396482944488525\n",
      "2.806668281555176\n",
      "2.8390884399414062\n",
      "2.9100406169891357\n",
      "3.0885636806488037\n",
      "2.7862789630889893\n",
      "2.788360595703125\n",
      "3.2058510780334473\n",
      "2.909269332885742\n",
      "3.024956226348877\n",
      "2.8851728439331055\n",
      "2.802968740463257\n",
      "2.913724660873413\n",
      "2.8505969047546387\n",
      "2.8597054481506348\n",
      "2.5673582553863525\n",
      "2.7250008583068848\n",
      "2.761090040206909\n",
      "2.8558292388916016\n",
      "2.921627998352051\n",
      "2.7857470512390137\n",
      "2.91330885887146\n",
      "2.7351555824279785\n",
      "2.9041287899017334\n",
      "2.7087552547454834\n",
      "2.452869176864624\n",
      "2.916673421859741\n",
      "2.6153576374053955\n",
      "3.1411566734313965\n",
      "3.072751998901367\n",
      "2.8597607612609863\n",
      "2.8059163093566895\n",
      "2.6421072483062744\n",
      "2.8697354793548584\n",
      "2.5018656253814697\n",
      "3.029822826385498\n",
      "2.890805959701538\n",
      "2.7181568145751953\n",
      "2.5357964038848877\n",
      "2.641486644744873\n",
      "2.5405988693237305\n",
      "2.7640323638916016\n",
      "2.647204875946045\n",
      "2.978635311126709\n",
      "3.020946502685547\n",
      "2.746610403060913\n",
      "2.931105136871338\n",
      "2.834721803665161\n",
      "2.923452854156494\n",
      "2.9385228157043457\n",
      "2.5928940773010254\n",
      "2.6164710521698\n",
      "2.8000614643096924\n",
      "2.748854637145996\n",
      "2.676482915878296\n",
      "2.8021626472473145\n",
      "2.6596791744232178\n",
      "2.4405148029327393\n",
      "2.7111072540283203\n"
     ]
    }
   ],
   "source": [
    "# why minibatch. minibatch will get an approximate gradient rather than exact and it's better to make many steps using \n",
    "# an approx gradient, rather than few steps using a more accurate gradient.\n",
    "for _ in range(100):\n",
    "    # minibatch construct\n",
    "    ix = torch.randint(0, X.shape[0], (32,)) # minibatch of 32 items\n",
    "    # forward pass\n",
    "    emb = C[X[ix]] # (32,3,2)\n",
    "    h = torch.tanh(emb.view(-1,6) @ W1 + b1) # (32, 100)\n",
    "    logits = h @ W2 + b2 # (32,27)\n",
    "    loss = F.cross_entropy(logits, Y[ix]) # use minibatch index to get labelled result\n",
    "\n",
    "    # backward pass\n",
    "    for p in parameters:\n",
    "        p.grad = None\n",
    "    loss.backward()\n",
    "    \n",
    "    # update\n",
    "    for p in parameters:\n",
    "        p.data += -0.1 * p.grad\n",
    "print(loss.item())"
   ]
  },
  {
   "cell_type": "code",
   "execution_count": 20,
   "id": "25bf24a8-b8f2-4b78-800b-ad86bdf654ce",
   "metadata": {
    "collapsed": true,
    "jupyter": {
     "outputs_hidden": true
    }
   },
   "outputs": [
    {
     "data": {
      "text/plain": [
       "tensor(2.7607, grad_fn=<NllLossBackward0>)"
      ]
     },
     "execution_count": 20,
     "metadata": {},
     "output_type": "execute_result"
    }
   ],
   "source": [
    "# loss for the full training set\n",
    "emb  = C[X] \n",
    "h = torch.tanh(emb.view(-1,6) @ W1 + b1)\n",
    "logits = h @ W2 + b2\n",
    "loss = F.cross_entropy(logits, Y)\n",
    "loss"
   ]
  },
  {
   "cell_type": "code",
   "execution_count": 161,
   "id": "3224ab3f-fc16-4675-b640-b3afbeb785c9",
   "metadata": {
    "collapsed": true,
    "jupyter": {
     "outputs_hidden": true
    }
   },
   "outputs": [],
   "source": [
    "# learning rates, checking rate\n",
    "g = torch.Generator().manual_seed(2147483647)\n",
    "C = torch.randn((27,2), generator = g)\n",
    "W1 = torch.randn((6,100), generator=g)\n",
    "b1 = torch.randn(100, generator=g)\n",
    "W2 = torch.randn((100,27), generator=g)\n",
    "b2 = torch.randn(27, generator=g)\n",
    "\n",
    "parameters = [C, W1, b1, W2, b2]\n",
    "\n",
    "for p in parameters:\n",
    "    p.requires_grad = True\n"
   ]
  },
  {
   "cell_type": "code",
   "execution_count": 163,
   "id": "a6e33bfb-c312-42fc-b173-b3926a8d05ab",
   "metadata": {
    "collapsed": true,
    "jupyter": {
     "outputs_hidden": true
    }
   },
   "outputs": [
    {
     "name": "stdout",
     "output_type": "stream",
     "text": [
      "5.457016944885254\n"
     ]
    }
   ],
   "source": [
    "# find the lower and upper bounds, a search range, where loss does not decrease anymore\n",
    "# we want to investigate where the learning rate is between: 0.001 and 1, outside of this the loss either doesn't decrease or increases.\n",
    "\n",
    "LEARNING_RATE = 1\n",
    "for _ in range(100):\n",
    "    # minibatch construct\n",
    "    ix = torch.randint(0, X.shape[0], (32,)) # minibatch of 32 items\n",
    "    # forward pass\n",
    "    emb = C[X[ix]] # (32,3,2)\n",
    "    h = torch.tanh(emb.view(-1,6) @ W1 + b1) # (32, 100)\n",
    "    logits = h @ W2 + b2 # (32,27)\n",
    "    loss = F.cross_entropy(logits, Y[ix]) # use minibatch index to get labelled result\n",
    "    # print(loss.item())\n",
    "    # backward pass\n",
    "    for p in parameters:\n",
    "        p.grad = None\n",
    "    loss.backward()\n",
    "    \n",
    "    # update\n",
    "    for p in parameters:\n",
    "        p.data += -LEARNING_RATE * p.grad \n",
    "print(loss.item())"
   ]
  },
  {
   "cell_type": "code",
   "execution_count": 164,
   "id": "0e110dc3-b644-40a4-82fd-ab51cb10cf4c",
   "metadata": {
    "collapsed": true,
    "jupyter": {
     "outputs_hidden": true
    }
   },
   "outputs": [
    {
     "data": {
      "image/png": "[encoded data removed]",
      "text/plain": [
       "<Figure size 300x300 with 1 Axes>"
      ]
     },
     "metadata": {},
     "output_type": "display_data"
    }
   ],
   "source": [
    "# to step linearly through the expoents from 10^-3 =0.0001 to 10^0 = 1\n",
    "lre = torch.linspace(-3,0, 1000)\n",
    "lrs = 10**lre\n",
    "plt.figure(figsize=(3,3))\n",
    "plt.plot(lrs);\n",
    "\n",
    "# we want an array with these values \n",
    "# we will use this to train the model over 1000 steps with loss at first very small and increases during training as the model's loss decreases. \n"
   ]
  },
  {
   "cell_type": "code",
   "execution_count": 180,
   "id": "d2ac5137-8526-4691-acd8-7d5e3b4b43e0",
   "metadata": {
    "collapsed": true,
    "jupyter": {
     "outputs_hidden": true
    }
   },
   "outputs": [],
   "source": [
    "# learning rates investigation\n",
    "g = torch.Generator().manual_seed(2147483647)\n",
    "C = torch.randn((27,2), generator = g)\n",
    "W1 = torch.randn((6,100), generator=g)\n",
    "b1 = torch.randn(100, generator=g)\n",
    "W2 = torch.randn((100,27), generator=g)\n",
    "b2 = torch.randn(27, generator=g)\n",
    "\n",
    "parameters = [C, W1, b1, W2, b2]\n",
    "\n",
    "\n",
    "for p in parameters:\n",
    "    p.requires_grad = True\n",
    "\n",
    "# learning rates\n",
    "lre = torch.linspace(-3, 0, 1000)\n",
    "lrs = 10**lre"
   ]
  },
  {
   "cell_type": "code",
   "execution_count": 181,
   "id": "0904b776-781d-45ca-9092-7f25dfa58bb9",
   "metadata": {
    "collapsed": true,
    "jupyter": {
     "outputs_hidden": true
    }
   },
   "outputs": [],
   "source": [
    "lri = []\n",
    "lossi = []\n",
    "\n",
    "for i in range(1000):\n",
    "    # minibatch construct\n",
    "    ix = torch.randint(0, X.shape[0], (32,)) # minibatch of 32 items\n",
    "    \n",
    "    # forward pass\n",
    "    emb = C[X[ix]] # (32,3,2)\n",
    "    h = torch.tanh(emb.view(-1,6) @ W1 + b1) # (32, 100)\n",
    "    logits = h @ W2 + b2 # (32,27)\n",
    "    loss = F.cross_entropy(logits, Y[ix]) # use minibatch index to get labelled result\n",
    "    # print(loss.item())\n",
    "    \n",
    "    # backward pass\n",
    "    for p in parameters:\n",
    "        p.grad = None\n",
    "    loss.backward()\n",
    "    \n",
    "    # update\n",
    "    lr = lrs[i]\n",
    "    for p in parameters:\n",
    "        p.data += -lr * p.grad  # learning rate increases exp() on every back/forwared pass, starting very low\n",
    "\n",
    "    # track stats\n",
    "    lri.append(lre[i]) # the expoentent of the learning rate\n",
    "    lossi.append(loss.item())\n"
   ]
  },
  {
   "cell_type": "code",
   "execution_count": 182,
   "id": "56c2d211-274d-4811-8de8-94a2778c0246",
   "metadata": {
    "collapsed": true,
    "jupyter": {
     "outputs_hidden": true
    }
   },
   "outputs": [
    {
     "data": {
      "image/png": "[encoded data removed]",
      "text/plain": [
       "<Figure size 640x480 with 1 Axes>"
      ]
     },
     "metadata": {},
     "output_type": "display_data"
    }
   ],
   "source": [
    "# from this plot we can sort of see the learning rate decreasing to \n",
    "plt.plot(lri, lossi);"
   ]
  },
  {
   "cell_type": "markdown",
   "id": "970872b1-2472-49c1-969c-313d773779cc",
   "metadata": {},
   "source": [
    "---\n",
    "### Train using calculated learning rate\n",
    "Train the model using best learning rate from above and reduce the learning rate for later passes\n",
    "\n"
   ]
  },
  {
   "cell_type": "code",
   "execution_count": 18,
   "id": "50e3479b-c5ed-4ace-a420-e675127a64e0",
   "metadata": {
    "collapsed": true,
    "jupyter": {
     "outputs_hidden": true
    }
   },
   "outputs": [],
   "source": [
    "def build_dataset(words, block_size=3):\n",
    "    # build the full dataset\n",
    "    block_size = 3\n",
    "    X, Y = [], []\n",
    "    \n",
    "    for w in words:\n",
    "        context = [0] * block_size\n",
    "        for ch in w + '.':\n",
    "            ix = stoi[ch]\n",
    "            X.append(context)\n",
    "            Y.append(ix)\n",
    "            context = context[1:] + [ix] # crop and append\n",
    "    \n",
    "    X = torch.tensor(X)\n",
    "    Y = torch.tensor(Y)\n",
    "\n",
    "    print(X.shape, Y.shape)\n",
    "    return X, Y"
   ]
  },
  {
   "cell_type": "code",
   "execution_count": 13,
   "id": "ce9645cd-9d49-4cb2-a415-b583ae4fa336",
   "metadata": {
    "collapsed": true,
    "jupyter": {
     "outputs_hidden": true
    }
   },
   "outputs": [],
   "source": [
    "# setup \n",
    "g = torch.Generator().manual_seed(2147483647)\n",
    "C = torch.randn((27,2), generator = g)\n",
    "W1 = torch.randn((6,100), generator=g)\n",
    "b1 = torch.randn(100, generator=g)\n",
    "W2 = torch.randn((100,27), generator=g)\n",
    "b2 = torch.randn(27, generator=g)\n",
    "parameters = [C, W1, b1, W2, b2]\n",
    "\n",
    "for p in parameters:\n",
    "    p.requires_grad = True"
   ]
  },
  {
   "cell_type": "code",
   "execution_count": 16,
   "id": "b79d21db-c215-4ffd-b810-5bb96238578b",
   "metadata": {
    "collapsed": true,
    "jupyter": {
     "outputs_hidden": true
    }
   },
   "outputs": [
    {
     "name": "stdout",
     "output_type": "stream",
     "text": [
      "       0| 0.1|22.2129\n",
      "   10000| 0.1|2.4078\n",
      "   20000| 0.1|2.5332\n",
      "   30000| 0.1|2.6365\n",
      "   40000| 0.1|2.0304\n",
      "   50000| 0.1|2.3038\n",
      "   60000| 0.1|2.6774\n",
      "   70000| 0.1|2.3720\n",
      "   80000|0.01|2.4413\n",
      "   90000|0.01|2.4039\n",
      "  100000|0.01|2.2133\n",
      "  110000|0.01|2.1845\n",
      "  120000|0.01|1.9422\n",
      "  130000|0.01|2.1329\n",
      "  140000|0.01|2.1042\n",
      "  150000|0.01|2.0946\n",
      "  160000|0.01|2.3513\n",
      "  170000|0.01|2.5833\n",
      "  180000|0.01|2.7741\n"
     ]
    }
   ],
   "source": [
    "for i in range(180_001):\n",
    "    # minibatch construct\n",
    "    ix = torch.randint(0, X.shape[0], (32,)) # minibatch of 32 items\n",
    "    \n",
    "    # forward pass\n",
    "    emb = C[X[ix]] # (32,3,2)\n",
    "    h = torch.tanh(emb.view(-1,6) @ W1 + b1) # (32, 100)\n",
    "    logits = h @ W2 + b2 # (32,27)\n",
    "    loss = F.cross_entropy(logits, Y[ix]) # use minibatch index to get labelled result\n",
    "    # print(loss.item())\n",
    "\n",
    "        \n",
    "    # backward pass\n",
    "    for p in parameters:\n",
    "        p.grad = None\n",
    "    loss.backward()\n",
    "    \n",
    "    lr = 0.1 if i < 80000 else 0.01\n",
    "    \n",
    "    # report loss\n",
    "    if i % 10000 == 0:\n",
    "        print(f\"{i:8}|{lr:4}|{loss.item():.4f}\")\n",
    "    # update\n",
    "    for p in parameters:\n",
    "        p.data += -lr * p.grad  # learning rate increases exp() on every back/forwared pass, starting very low\n",
    "# print(loss.item())"
   ]
  },
  {
   "cell_type": "code",
   "execution_count": 17,
   "id": "1ff235b5-fda8-4318-9e45-9dd4b3f30e98",
   "metadata": {
    "collapsed": true,
    "jupyter": {
     "outputs_hidden": true
    }
   },
   "outputs": [
    {
     "data": {
      "text/plain": [
       "2.267183303833008"
      ]
     },
     "execution_count": 17,
     "metadata": {},
     "output_type": "execute_result"
    }
   ],
   "source": [
    "# calculate loss on the full model\n",
    "emb = C[X]\n",
    "h = torch.tanh(emb.view(-1,6) @ W1 + b1)\n",
    "logits = h @ W2 + b2\n",
    "loss = F.cross_entropy(logits, Y)\n",
    "loss.item() # 2.267"
   ]
  },
  {
   "cell_type": "markdown",
   "id": "46fd525a-e63b-4d18-8c42-a4bcfeb00bd9",
   "metadata": {},
   "source": [
    "### Splitting the dataset into training, dev/validation and test sets \n",
    "\n",
    "The problem with above is that the model can overfit your dataset. This means the loss will go down to a really low level, nearly 0, memorising dataset completely and result in giving you the exact same words as your training set. And when you evaulate the loss on a new dataset, the loss will be very high. To avoid this we split the datasets into three splits:\n",
    "- training (80%) - used to train model's parameters\n",
    "- dev/validation (10%) - used to tune hyperparameters, during dev, and covers hidden layer, strength of regularisation, embedding dimension size, etc\n",
    "- test (10) - used sparingly to evaluate the performance of the model, only used a few times and we want to avoid training on this to avoid overfitting on this"
   ]
  },
  {
   "cell_type": "code",
   "execution_count": 6,
   "id": "fe233368-dae2-4822-ab2e-c0bb0546c29e",
   "metadata": {},
   "outputs": [
    {
     "name": "stdout",
     "output_type": "stream",
     "text": [
      "torch.Size([228146, 3]) torch.Size([228146])\n"
     ]
    }
   ],
   "source": [
    "# split dataset\n",
    "import random; random.seed(42); random.shuffle(words) # randomly shuffle works\n",
    "\n",
    "n1 = int(0.8 * len(words))\n",
    "n2 = int(0.9 * len(words))\n",
    "# Xtr, Ytr = build_dataset(words[:n1])\n",
    "# Xdev, Ydev = build_dataset(words[n1:n2])\n",
    "# Xte, Yte = build_dataset(words[n2:])\n",
    "X, Y = build_dataset(words)\n",
    "n1 = int(0.8 * X.shape[0])\n",
    "n2 = int(0.9 * X.shape[0])\n",
    "Xtr, Xdev, Xts = X.tensor_split((n1, n2), dim=0)\n",
    "Ytr, Ydev, Yts = Y.tensor_split((n1, n2), dim=0)"
   ]
  },
  {
   "cell_type": "code",
   "execution_count": 7,
   "id": "c737e864-b8e5-4e9b-8dc9-0a4169eca3a5",
   "metadata": {},
   "outputs": [
    {
     "data": {
      "text/plain": [
       "(torch.Size([182516, 3]), torch.Size([22815, 3]), torch.Size([22815, 3]))"
      ]
     },
     "execution_count": 7,
     "metadata": {},
     "output_type": "execute_result"
    }
   ],
   "source": [
    "Xtr.shape, Xdev.shape, Xts.shape"
   ]
  },
  {
   "cell_type": "code",
   "execution_count": 46,
   "id": "efab9526-0394-4479-9fb0-4cf3db0ad32b",
   "metadata": {},
   "outputs": [
    {
     "data": {
      "text/plain": [
       "True"
      ]
     },
     "execution_count": 46,
     "metadata": {},
     "output_type": "execute_result"
    }
   ],
   "source": [
    "# check\n",
    "182516 + 22815 + 22815 == 228146"
   ]
  },
  {
   "cell_type": "code",
   "execution_count": 52,
   "id": "a9ebc27c-ded8-4c72-9079-3a60bbd9e837",
   "metadata": {},
   "outputs": [],
   "source": [
    "# setup \n",
    "g = torch.Generator().manual_seed(2147483647)\n",
    "C = torch.randn((27,2), generator = g)\n",
    "W1 = torch.randn((6,100), generator=g)\n",
    "b1 = torch.randn(100, generator=g)\n",
    "W2 = torch.randn((100,27), generator=g)\n",
    "b2 = torch.randn(27, generator=g)\n",
    "parameters = [C, W1, b1, W2, b2]\n",
    "\n",
    "for p in parameters:\n",
    "    p.requires_grad = True"
   ]
  },
  {
   "cell_type": "code",
   "execution_count": 56,
   "id": "8ec33103-e737-4bca-ab18-e48f32ecef16",
   "metadata": {},
   "outputs": [
    {
     "name": "stdout",
     "output_type": "stream",
     "text": [
      "       0|0.01|2.7465\n",
      "   10000|0.01|2.3776\n",
      "   20000|0.01|2.3491\n",
      "   30000|0.01|2.3520\n",
      "2.351999044418335\n"
     ]
    }
   ],
   "source": [
    "# train using training set only\n",
    "for i in range(30001):\n",
    "    # minibatch construct\n",
    "    ix = torch.randint(0, Xtr.shape[0], (32,)) # minibatch of 32 items\n",
    "    \n",
    "    # forward pass\n",
    "    emb = C[Xtr[ix]] # (32,3,2)\n",
    "    h = torch.tanh(emb.view(-1,6) @ W1 + b1) # (32, 100)\n",
    "    logits = h @ W2 + b2 # (32,27)\n",
    "    loss = F.cross_entropy(logits, Ytr[ix]) # use minibatch index to get labelled result\n",
    "    # print(loss.item())\n",
    "\n",
    "        \n",
    "    # backward pass\n",
    "    for p in parameters:\n",
    "        p.grad = None\n",
    "    loss.backward()\n",
    "    \n",
    "    # lr = 0.1 if i < 80000 else 0.01\n",
    "    lr = 0.01\n",
    "    \n",
    "    # report loss\n",
    "    if i % 10000 == 0:\n",
    "        print(f\"{i:8}|{lr:4}|{loss.item():.4f}\")\n",
    "    # update\n",
    "    for p in parameters:\n",
    "        p.data += -lr * p.grad  \n",
    "print(loss.item())"
   ]
  },
  {
   "cell_type": "code",
   "execution_count": 67,
   "id": "c4540a39-73b9-420d-b767-8ef96e8820ad",
   "metadata": {},
   "outputs": [
    {
     "data": {
      "text/plain": [
       "2.2951161861419678"
      ]
     },
     "execution_count": 67,
     "metadata": {},
     "output_type": "execute_result"
    }
   ],
   "source": [
    "# calculate loss on the dev set\n",
    "emb = C[Xdev]\n",
    "h = torch.tanh(emb.view(-1,6) @ W1 + b1)\n",
    "logits = h @ W2 + b2\n",
    "loss = F.cross_entropy(logits, Ydev)\n",
    "loss.item() # 2.295"
   ]
  },
  {
   "cell_type": "code",
   "execution_count": 68,
   "id": "6357e03a-4f4c-4650-8359-57ccae7f2597",
   "metadata": {},
   "outputs": [
    {
     "data": {
      "text/plain": [
       "2.2800023555755615"
      ]
     },
     "execution_count": 68,
     "metadata": {},
     "output_type": "execute_result"
    }
   ],
   "source": [
    "# calculate loss on the training set\n",
    "emb = C[Xtr]\n",
    "h = torch.tanh(emb.view(-1,6) @ W1 + b1)\n",
    "logits = h @ W2 + b2\n",
    "loss = F.cross_entropy(logits, Ytr)\n",
    "loss.item() # 2.280\n",
    "\n",
    "# the dev and training loss is roughly equal 2.29 vs 2.28 which means the model is not overfitting.\n",
    "# It's not memorising the data. means network is very tiny, not powerful enough for memorisation and so can scale up the size of the network"
   ]
  },
  {
   "cell_type": "code",
   "execution_count": 72,
   "id": "919a0f2a-4ea3-41bc-aeee-e9bb3042205b",
   "metadata": {},
   "outputs": [
    {
     "data": {
      "text/plain": [
       "10281"
      ]
     },
     "execution_count": 72,
     "metadata": {},
     "output_type": "execute_result"
    }
   ],
   "source": [
    "# let's increase the size of the nn\n",
    "g = torch.Generator().manual_seed(2147483647)\n",
    "C = torch.randn((27,2), generator = g)\n",
    "W1 = torch.randn((6,300), generator=g)\n",
    "b1 = torch.randn(300, generator=g)\n",
    "W2 = torch.randn((300,27), generator=g)\n",
    "b2 = torch.randn(27, generator=g)\n",
    "parameters = [C, W1, b1, W2, b2]\n",
    "\n",
    "for p in parameters:\n",
    "    p.requires_grad = True\n",
    "\n",
    "sum(p.nelement() for p in parameters)"
   ]
  },
  {
   "cell_type": "code",
   "execution_count": 91,
   "id": "b8b4f35c-44d2-4600-99b4-a27c2e989b26",
   "metadata": {},
   "outputs": [
    {
     "name": "stdout",
     "output_type": "stream",
     "text": [
      "       0|0.01|2.0438\n",
      "   10000|0.01|2.2236\n",
      "   20000|0.01|1.9122\n",
      "   30000|0.01|2.2546\n"
     ]
    }
   ],
   "source": [
    "# train using training set only and keep track of loss and steps\n",
    "lri, lossi, stepi = [],[],[]\n",
    "\n",
    "for i in range(30001):\n",
    "    # minibatch construct\n",
    "    ix = torch.randint(0, Xtr.shape[0], (32,)) # minibatch of 32 items\n",
    "    \n",
    "    # forward pass\n",
    "    emb = C[Xtr[ix]] # (32,3,2)\n",
    "    h = torch.tanh(emb.view(-1,6) @ W1 + b1) # (32, 100)\n",
    "    logits = h @ W2 + b2 # (32,27)\n",
    "    loss = F.cross_entropy(logits, Ytr[ix]) # use minibatch index to get labelled result\n",
    "    # print(loss.item())\n",
    "\n",
    "        \n",
    "    # backward pass\n",
    "    for p in parameters:\n",
    "        p.grad = None\n",
    "    loss.backward()\n",
    "    \n",
    "    # lr = 0.1 if i < 80000 else 0.01\n",
    "    lr = 0.01\n",
    "    \n",
    "    # report loss\n",
    "    if i % 10000 == 0:\n",
    "        print(f\"{i:8}|{lr:4}|{loss.item():.4f}\")\n",
    "    # update\n",
    "    for p in parameters:\n",
    "        p.data += -lr * p.grad  \n",
    "\n",
    "    stepi.append(i)\n",
    "    lossi.append(loss.item())\n",
    "# print(loss.item())"
   ]
  },
  {
   "cell_type": "code",
   "execution_count": 92,
   "id": "5997d791-cd06-45c2-b6b0-f59499f326db",
   "metadata": {},
   "outputs": [
    {
     "data": {
      "image/png": "[encoded data removed]",
      "text/plain": [
       "<Figure size 640x480 with 1 Axes>"
      ]
     },
     "metadata": {},
     "output_type": "display_data"
    }
   ],
   "source": [
    "plt.plot(stepi, lossi); # flucutations and noise relate to the small size of the minibatches"
   ]
  },
  {
   "cell_type": "code",
   "execution_count": 93,
   "id": "07a80013-4889-403a-941e-3ff92cd8614d",
   "metadata": {},
   "outputs": [
    {
     "data": {
      "text/plain": [
       "2.2383651733398438"
      ]
     },
     "execution_count": 93,
     "metadata": {},
     "output_type": "execute_result"
    }
   ],
   "source": [
    "# loss on dev set\n",
    "emb = C[Xdev]\n",
    "h = torch.tanh(emb.view(-1,6) @ W1 + b1)\n",
    "logits = h @ W2 + b2\n",
    "loss = F.cross_entropy(logits, Ydev)\n",
    "loss.item() # 2.295"
   ]
  },
  {
   "cell_type": "code",
   "execution_count": 94,
   "id": "d7e63980-946a-42f4-9b6c-db9101e9ff89",
   "metadata": {},
   "outputs": [
    {
     "data": {
      "text/plain": [
       "2.221623420715332"
      ]
     },
     "execution_count": 94,
     "metadata": {},
     "output_type": "execute_result"
    }
   ],
   "source": [
    "# loss on test set\n",
    "emb = C[Xtr]\n",
    "h = torch.tanh(emb.view(-1,6) @ W1 + b1)\n",
    "logits = h @ W2 + b2\n",
    "loss = F.cross_entropy(logits, Ytr)\n",
    "loss.item() # 2.280"
   ]
  },
  {
   "cell_type": "code",
   "execution_count": 100,
   "id": "53bfee62-2442-452f-9ac6-eb642c766e1b",
   "metadata": {},
   "outputs": [
    {
     "data": {
      "image/png": "[encoded data removed]",
      "text/plain": [
       "<Figure size 800x800 with 1 Axes>"
      ]
     },
     "metadata": {},
     "output_type": "display_data"
    }
   ],
   "source": [
    "# visualise the embeddings - showing the clusters vowels together, q and g not related, dkfwz related \n",
    "plt.figure(figsize=(8,8))\n",
    "plt.scatter(C[:,0].data, C[:,1].data, s=200)\n",
    "for i in range(C.shape[0]):\n",
    "    plt.text(C[i,0].item(), C[i,1].item(), itos[i], ha=\"center\", va=\"center\", color=\"white\")\n",
    "plt.grid(\"minor\");"
   ]
  },
  {
   "cell_type": "code",
   "execution_count": 8,
   "id": "42537c7c-48ce-4076-94f9-55dc28594168",
   "metadata": {},
   "outputs": [],
   "source": [
    "# scale up the embeddings and reduce the hidden layer to 200\n",
    "# let's increase the size of the nn\n",
    "g = torch.Generator().manual_seed(2147483647)\n",
    "C = torch.randn((27,10), generator = g)\n",
    "W1 = torch.randn((30,200), generator=g)\n",
    "b1 = torch.randn(200, generator=g)\n",
    "W2 = torch.randn((200,27), generator=g)\n",
    "b2 = torch.randn(27, generator=g)\n",
    "parameters = [C, W1, b1, W2, b2]\n",
    "\n",
    "for p in parameters:\n",
    "    p.requires_grad = True\n",
    "\n",
    "sum(p.nelement() for p in parameters)\n",
    "\n",
    "# track loss\n",
    "lri, lossi, stepi = [],[],[]"
   ]
  },
  {
   "cell_type": "code",
   "execution_count": 9,
   "id": "52d095a0-ea45-435d-9a58-8328bc25fb4f",
   "metadata": {},
   "outputs": [
    {
     "name": "stdout",
     "output_type": "stream",
     "text": [
      "       0| 0.1|25.4951\n",
      "   10000| 0.1|2.6810\n",
      "   20000| 0.1|2.5024\n",
      "   30000| 0.1|2.6916\n",
      "   40000| 0.1|1.9188\n",
      "   50000| 0.1|1.9770\n",
      "   60000| 0.1|1.8740\n",
      "   70000| 0.1|2.2253\n",
      "   80000| 0.1|2.2983\n",
      "   90000| 0.1|2.1508\n",
      "  100000|0.01|1.9470\n",
      "  110000|0.01|1.9528\n",
      "  120000|0.01|2.2688\n",
      "  130000|0.01|2.0416\n",
      "  140000|0.01|1.8446\n",
      "  150000|0.01|1.9945\n",
      "  160000|0.01|2.1926\n",
      "  170000|0.01|2.0000\n",
      "  180000|0.01|1.9780\n",
      "  190000|0.01|2.2802\n",
      "  200000|0.01|2.0930\n"
     ]
    }
   ],
   "source": [
    "# train using training set only and keep track of loss and steps\n",
    "\n",
    "for i in range(200001):\n",
    "    # minibatch construct\n",
    "    ix = torch.randint(0, Xtr.shape[0], (32,)) # minibatch of 32 items\n",
    "    \n",
    "    # forward pass\n",
    "    emb = C[Xtr[ix]] \n",
    "    h = torch.tanh(emb.view(-1,30) @ W1 + b1)\n",
    "    logits = h @ W2 + b2\n",
    "    loss = F.cross_entropy(logits, Ytr[ix]) \n",
    "        \n",
    "    # backward pass\n",
    "    for p in parameters:\n",
    "        p.grad = None\n",
    "    loss.backward()\n",
    "    \n",
    "    # lr = 0.1 if i < 80000 else 0.01\n",
    "    lr = 0.1 if i < 100_000 else 0.01\n",
    "    \n",
    "    # report loss\n",
    "    if i % 10000 == 0:\n",
    "        print(f\"{i:8}|{lr:4}|{loss.item():.4f}\")\n",
    "    # update\n",
    "    for p in parameters:\n",
    "        p.data += -lr * p.grad  \n",
    "\n",
    "    stepi.append(i)\n",
    "    lossi.append(loss.log10().item())\n",
    "# print(loss.item())"
   ]
  },
  {
   "cell_type": "code",
   "execution_count": 10,
   "id": "172fab6a-8b17-468d-9aaf-ae8e5b6a1a39",
   "metadata": {},
   "outputs": [
    {
     "data": {
      "image/png": "[encoded data removed]",
      "text/plain": [
       "<Figure size 640x480 with 1 Axes>"
      ]
     },
     "metadata": {},
     "output_type": "display_data"
    }
   ],
   "source": [
    "# plotting the log loss\n",
    "plt.plot(stepi, lossi);"
   ]
  },
  {
   "cell_type": "code",
   "execution_count": 69,
   "id": "c00fb78a-b7af-4ea0-bd24-a793536aebf9",
   "metadata": {},
   "outputs": [
    {
     "data": {
      "text/plain": [
       "2.159353256225586"
      ]
     },
     "execution_count": 69,
     "metadata": {},
     "output_type": "execute_result"
    }
   ],
   "source": [
    "# loss on dev set\n",
    "emb = C[Xdev]\n",
    "h = torch.tanh(emb.view(-1,30) @ W1 + b1)\n",
    "logits = h @ W2 + b2\n",
    "loss = F.cross_entropy(logits, Ydev)\n",
    "loss.item() # 2.295"
   ]
  },
  {
   "cell_type": "code",
   "execution_count": 70,
   "id": "5aee8268-b9ae-479b-b82a-7c9d44c7576a",
   "metadata": {},
   "outputs": [
    {
     "data": {
      "text/plain": [
       "2.1503145694732666"
      ]
     },
     "execution_count": 70,
     "metadata": {},
     "output_type": "execute_result"
    }
   ],
   "source": [
    "# loss on test set\n",
    "emb = C[Xts]\n",
    "h = torch.tanh(emb.view(-1,30) @ W1 + b1)\n",
    "logits = h @ W2 + b2\n",
    "loss = F.cross_entropy(logits, Yts)\n",
    "loss.item() # 2.280"
   ]
  },
  {
   "cell_type": "code",
   "execution_count": null,
   "id": "769b02fc-9a26-47e2-b0c4-f694435922c1",
   "metadata": {},
   "outputs": [],
   "source": [
    "# in prod you'd create lots of experiements with all the hyperparameters and then check the all the hyperparamerters which make the dev loss good. \n",
    "# training and dev set loss is slowly seperating and the nn is good enough, the number of parameters is big enough that the model is overfitting. \n",
    "# after you have evaluated the hyperparameters and got the best dev loss, you run it a single time on the test dataset and that is the final loss.\n",
    "\n",
    "# hyperparmaters\n",
    "# - size of the embedding \n",
    "# - size of the hidden layer\n",
    "# - block size for the context\n",
    "# - learning rate decay\n",
    "# - batch size (32)\n",
    "\n",
    "# 2.17 test loss is target"
   ]
  },
  {
   "cell_type": "markdown",
   "id": "ac20cef9-30fb-4fd3-9f61-676cf127c653",
   "metadata": {},
   "source": [
    "## Sample from the model"
   ]
  },
  {
   "cell_type": "code",
   "execution_count": 68,
   "id": "a0468c89-7cbf-403a-86f5-7cb990cb737a",
   "metadata": {},
   "outputs": [
    {
     "name": "stdout",
     "output_type": "stream",
     "text": [
      "mona\n",
      "kmyah\n",
      "seel\n",
      "ndyn\n",
      "alerethan\n",
      "endraeg\n",
      "adelyn\n",
      "elin\n",
      "shy\n",
      "jen\n",
      "edelieananar\n",
      "kayziqhotelin\n",
      "shur\n",
      "rixairiel\n",
      "kindreelynn\n",
      "nophorius\n",
      "kyndi\n",
      "jamell\n",
      "eli\n",
      "kayjahsalyan\n"
     ]
    }
   ],
   "source": [
    "g = torch.Generator().manual_seed(2147483647+10)\n",
    "block_size = 3\n",
    "\n",
    "for _ in range(20):\n",
    "    # reset\n",
    "    context = [0] * block_size\n",
    "    word = []\n",
    "\n",
    "    # generate word\n",
    "    while True: \n",
    "        emb = C[context]\n",
    "        h = torch.tanh(emb.view(1,-1) @ W1 + b1) # emb.view(1, -1) - just one row input\n",
    "        logits = h @ W2 + b2\n",
    "        counts = logits.exp() # 1 character output : 1,27\n",
    "        p = counts / counts.sum(1, keepdim=True) # same as just counts.sum()\n",
    "        ix = torch.multinomial(p, num_samples=1, replacement=True, generator=g).item()\n",
    "        # context = torch.cat((context[1:], torch.tensor([idx])))\n",
    "        context = context[1:] + [ix]\n",
    "        if itos[ix] == '.':\n",
    "            break\n",
    "        word.append(itos[ix])\n",
    "    print (''.join(word))\n"
   ]
  },
  {
   "cell_type": "code",
   "execution_count": 50,
   "id": "0a86172a-85c6-46aa-a4f6-c779afce4d9f",
   "metadata": {},
   "outputs": [
    {
     "data": {
      "text/plain": [
       "tensor([[ 1.6678,  0.7611,  0.3539, -0.9374,  0.8805, -0.2013, -1.8563,  0.9030,\n",
       "          0.4532,  1.1826],\n",
       "        [ 1.6678,  0.7611,  0.3539, -0.9374,  0.8805, -0.2013, -1.8563,  0.9030,\n",
       "          0.4532,  1.1826],\n",
       "        [ 1.6678,  0.7611,  0.3539, -0.9374,  0.8805, -0.2013, -1.8563,  0.9030,\n",
       "          0.4532,  1.1826]], grad_fn=<IndexBackward0>)"
      ]
     },
     "execution_count": 50,
     "metadata": {},
     "output_type": "execute_result"
    }
   ],
   "source": [
    "C[[0,0,0]]"
   ]
  },
  {
   "cell_type": "code",
   "execution_count": 44,
   "id": "ab58e39b-6ea0-4906-b7ab-557c43264078",
   "metadata": {},
   "outputs": [
    {
     "data": {
      "text/plain": [
       "tensor([[ 1.6678,  0.7611,  0.3539, -0.9374,  0.8805, -0.2013, -1.8563,  0.9030,\n",
       "          0.4532,  1.1826],\n",
       "        [ 1.6678,  0.7611,  0.3539, -0.9374,  0.8805, -0.2013, -1.8563,  0.9030,\n",
       "          0.4532,  1.1826],\n",
       "        [ 1.6678,  0.7611,  0.3539, -0.9374,  0.8805, -0.2013, -1.8563,  0.9030,\n",
       "          0.4532,  1.1826]], grad_fn=<IndexBackward0>)"
      ]
     },
     "execution_count": 44,
     "metadata": {},
     "output_type": "execute_result"
    }
   ],
   "source": [
    "C[torch.tensor([0,0,0])]"
   ]
  },
  {
   "cell_type": "code",
   "execution_count": 63,
   "id": "695ed077-9bfa-45f2-a5ac-fe9df4920a76",
   "metadata": {},
   "outputs": [],
   "source": [
    "emb = C[[0,0,0]]"
   ]
  },
  {
   "cell_type": "code",
   "execution_count": 67,
   "id": "98d23d86-f386-42c7-af2a-43e5e95c52d1",
   "metadata": {},
   "outputs": [
    {
     "data": {
      "text/plain": [
       "(torch.Size([3, 10]), torch.Size([1, 30]), torch.Size([1, 30]))"
      ]
     },
     "execution_count": 67,
     "metadata": {},
     "output_type": "execute_result"
    }
   ],
   "source": [
    "emb.shape, emb.view(-1,30).shape, emb.view(1,-1).shape"
   ]
  },
  {
   "cell_type": "code",
   "execution_count": null,
   "id": "4711b30c-5bbd-4958-8241-51223310173e",
   "metadata": {},
   "outputs": [],
   "source": []
  }
 ],
 "metadata": {
  "kernelspec": {
   "display_name": "Python 3 (ipykernel)",
   "language": "python",
   "name": "python3"
  },
  "language_info": {
   "codemirror_mode": {
    "name": "ipython",
    "version": 3
   },
   "file_extension": ".py",
   "mimetype": "text/x-python",
   "name": "python",
   "nbconvert_exporter": "python",
   "pygments_lexer": "ipython3",
   "version": "3.11.2"
  }
 },
 "nbformat": 4,
 "nbformat_minor": 5
}
