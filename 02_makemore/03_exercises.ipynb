{
 "cells": [
  {
   "cell_type": "markdown",
   "id": "b8b35d0f-0cf7-4b30-aec5-59d480d6d8ef",
   "metadata": {},
   "source": [
    "# Lesson 03 Exercises\n",
    "\n",
    "## E03 - Q1 Hyper Parameter for lower loss\n",
    "Tune the hyperparameters to beat 2.2.\n",
    "Work out the optimal hyper parameters to tune the network to achieve lower loss on the test set\n",
    "AndreL :2.17\n",
    "\n",
    "Other peoples tests: \n",
    "1.89, 300K iterations 23K paras, blocksize=4, embedings 12 hidden layer 300\n",
    "training delay: learning rate exponent from -1 to -3 linear space over 300k steps\n",
    "\n",
    "Setup a set of hyperparameters and pass each set into the initalised model and run training. Calculate training and dev losses. \n"
   ]
  },
  {
   "cell_type": "code",
   "execution_count": 3,
   "id": "a168acb1-1e4b-47a0-8c3f-4d7cd785c54b",
   "metadata": {},
   "outputs": [],
   "source": [
    "import torch, torch.nn.functional as F, matplotlib.pyplot as plt, random, time"
   ]
  },
  {
   "cell_type": "code",
   "execution_count": 4,
   "id": "e90213f4-6722-443b-a826-d215d65da9fe",
   "metadata": {},
   "outputs": [],
   "source": [
    "words = open(\"../names.txt\").read().splitlines()"
   ]
  },
  {
   "cell_type": "code",
   "execution_count": 5,
   "id": "4ca2e7f3-bf85-4c93-8ab1-3fdb75e25867",
   "metadata": {},
   "outputs": [],
   "source": [
    "chars = sorted(list(set(''.join(words))) + ['.'])\n",
    "itos = {idx: ch for idx, ch in enumerate(chars)}\n",
    "stoi = {v:k for k, v in itos.items()}"
   ]
  },
  {
   "cell_type": "code",
   "execution_count": 6,
   "id": "bc3b7720-878b-4d8c-91bd-de0805798aba",
   "metadata": {},
   "outputs": [],
   "source": [
    "def build_dataset(words, block_size=3):\n",
    "    # build the full dataset\n",
    "    X, Y = [], []\n",
    "    \n",
    "    for w in words:\n",
    "        context = [0] * block_size\n",
    "        for ch in w + '.':\n",
    "            ix = stoi[ch]\n",
    "            X.append(context)\n",
    "            Y.append(ix)\n",
    "            context = context[1:] + [ix] # crop and append\n",
    "    \n",
    "    X = torch.tensor(X)\n",
    "    Y = torch.tensor(Y)\n",
    "\n",
    "    # print(X.shape, Y.shape)\n",
    "    return X, Y\n",
    "\n",
    "def calc_loss(embed_dims, block_size):\n",
    "    losses = []\n",
    "    for x, y in ([(Xtr, Ytr), (Xdev, Ydev)]):\n",
    "        emb = C[x]\n",
    "        h = torch.tanh(emb.view(-1,embed_dims * block_size) @ W1 + b1)\n",
    "        logits = h @ W2 + b2\n",
    "        loss = F.cross_entropy(logits, y)\n",
    "        losses.append(loss.item())\n",
    "    return losses[0],losses[1]"
   ]
  },
  {
   "cell_type": "code",
   "execution_count": 7,
   "id": "1ed9a6ec-8261-437f-88d6-c928ada9b35f",
   "metadata": {},
   "outputs": [],
   "source": [
    "# split dataset\n",
    "\n",
    "def split_dataset(X,Y):\n",
    "    random.seed(42); \n",
    "    random.shuffle(words) # randomly shuffle words\n",
    "    \n",
    "    n1 = int(0.8 * X.shape[0])\n",
    "    n2 = int(0.9 * X.shape[0])\n",
    "    Xtr, Xdev, Xts = X.tensor_split((n1, n2), dim=0)\n",
    "    Ytr, Ydev, Yts = Y.tensor_split((n1, n2), dim=0)\n",
    "    \n",
    "    return Xtr, Xdev, Xts, Ytr, Ydev, Yts"
   ]
  },
  {
   "cell_type": "code",
   "execution_count": 15,
   "id": "f121dc6e-34b7-456d-be21-ddf8f04554a0",
   "metadata": {},
   "outputs": [
    {
     "data": {
      "image/png": "[encoded data removed]",
      "text/plain": [
       "<Figure size 640x480 with 1 Axes>"
      ]
     },
     "metadata": {},
     "output_type": "display_data"
    }
   ],
   "source": [
    "lre = torch.linspace(-1, -3, 1000)\n",
    "lrs = 10**lre\n",
    "plt.plot(lrs);"
   ]
  },
  {
   "cell_type": "code",
   "execution_count": 2,
   "id": "2cabd057-bc63-473d-b6fd-710cc313856e",
   "metadata": {},
   "outputs": [],
   "source": [
    "def get_lr_step(i, max_i):\n",
    "    return 0.1 if i < 100_000 else 0.01\n",
    "\n",
    "def get_lr_decay(i, max_i):\n",
    "    x = torch.linspace(-1,-3, max_i)[i]\n",
    "    return (10**x).item()"
   ]
  },
  {
   "cell_type": "code",
   "execution_count": 14,
   "id": "81e4e099-3073-44dc-86fd-c52a298cbab7",
   "metadata": {},
   "outputs": [],
   "source": [
    "hyper_params = [\n",
    "    # {\"test_id\": 1, \"block_size\":3, \"embed_dims\":10, \"hidden_layer\":100, \"mini_batches\":32, \"tr_i\": 100_000, \"lr_algo\": get_lr_step},\n",
    "    # {\"test_id\": 2, \"block_size\":3, \"embed_dims\":10, \"hidden_layer\":100, \"mini_batches\":32, \"tr_i\": 100_000, \"lr_algo\": get_lr_step},\n",
    "    # {\"test_id\": 3, \"block_size\":3, \"embed_dims\":10, \"hidden_layer\":100, \"mini_batches\":32, \"tr_i\": 100_000, \"lr_algo\": get_lr_step},\n",
    "    # {\"test_id\": 4, \"block_size\":3, \"embed_dims\":10, \"hidden_layer\":100, \"mini_batches\":32, \"tr_i\": 100_000, \"lr_algo\": get_lr_step},\n",
    "    # {\"test_id\": 5, \"block_size\":4, \"embed_dims\":10, \"hidden_layer\":100, \"mini_batches\":32, \"tr_i\": 100_000, \"lr_algo\": get_lr_step},\n",
    "    {\"test_id\": 51, \"block_size\":3, \"embed_dims\":10, \"hidden_layer\":200, \"mini_batches\":32, \"tr_i\": 200_000, \"lr_algo\": get_lr_step},\n",
    "    # {\"test_id\": 6, \"block_size\":4, \"embed_dims\":12, \"hidden_layer\":300, \"mini_batches\":32, \"tr_i\": 100_000, \"lr_algo\": get_lr_step},\n",
    "    # {\"test_id\": 7, \"block_size\":4, \"embed_dims\":12, \"hidden_layer\":300, \"mini_batches\":32, \"tr_i\": 300_000, \"lr_algo\": get_lr_step},\n",
    "    # {\"test_id\": 8, \"block_size\":4, \"embed_dims\":12, \"hidden_layer\":300, \"mini_batches\":32, \"tr_i\": 500_000, \"lr_algo\": get_lr_step},\n",
    "    # {\"test_id\": 9, \"block_size\":4, \"embed_dims\":12, \"hidden_layer\":300, \"mini_batches\":32, \"tr_i\": 600_000, \"lr_algo\": get_lr_step},\n",
    "    # {\"test_id\": 10, \"block_size\":4, \"embed_dims\":12, \"hidden_layer\":500, \"mini_batches\":32, \"tr_i\": 600_000, \"lr_algo\": get_lr_step},\n",
    "    # {\"test_id\": 11, \"block_size\":4, \"embed_dims\":12, \"hidden_layer\":300, \"mini_batches\":64, \"tr_i\": 300_000, \"lr_algo\": get_lr_step},\n",
    "    # {\"test_id\": 12, \"block_size\":4, \"embed_dims\":12, \"hidden_layer\":300, \"mini_batches\":64, \"tr_i\": 300_000, \"lr_algo\": get_lr_decay}\n",
    "    ]"
   ]
  },
  {
   "cell_type": "code",
   "execution_count": 15,
   "id": "abfdf242-26dc-41c5-b9df-4eb5dedbbbc0",
   "metadata": {},
   "outputs": [
    {
     "name": "stdout",
     "output_type": "stream",
     "text": [
      "       0| 0.1|25.8874\n",
      "   10000| 0.1|2.2963\n",
      "   20000| 0.1|2.5512\n",
      "   30000| 0.1|2.7335\n",
      "   40000| 0.1|2.8117\n",
      "   50000| 0.1|2.1570\n",
      "   60000| 0.1|2.4027\n",
      "   70000| 0.1|2.4081\n",
      "   80000| 0.1|2.5987\n",
      "   90000| 0.1|2.1911\n",
      "  100000|0.01|1.9555\n",
      "  110000|0.01|2.2841\n",
      "  120000|0.01|2.1660\n",
      "  130000|0.01|2.0526\n",
      "  140000|0.01|2.0045\n",
      "  150000|0.01|2.4833\n",
      "  160000|0.01|1.8466\n",
      "  170000|0.01|2.0274\n",
      "  180000|0.01|1.9987\n",
      "  190000|0.01|2.1108\n",
      "  200000|0.01|2.0268\n",
      "51: block_size=3 embed_dims= 10 hidden_layer=200 mini_batches=32 tr_i=200000 num_params= 11897 duration=90.2837 tr_loss=2.114949 dev_loss=2.157162\n"
     ]
    }
   ],
   "source": [
    "for hp in hyper_params:\n",
    "\n",
    "    # get hyper parameters\n",
    "    test_id, block_size, embed_dims, hidden_layer, mini_batches, tr_i, lr_algo = hp.values()\n",
    "    # setup dataset\n",
    "    Xtr, Xdev, Xts, Ytr, Ydev, Yts = split_dataset(*build_dataset(words, block_size))\n",
    "    \n",
    "    # initialise nn\n",
    "    g = torch.Generator().manual_seed(2147483647)\n",
    "    C = torch.randn((27,embed_dims), generator = g)\n",
    "    W1 = torch.randn((embed_dims * block_size, hidden_layer), generator=g)\n",
    "    b1 = torch.randn(hidden_layer, generator=g)\n",
    "    W2 = torch.randn((hidden_layer,27), generator=g)\n",
    "    b2 = torch.randn(27, generator=g)\n",
    "    parameters = [C, W1, b1, W2, b2]\n",
    "\n",
    "    for p in parameters:\n",
    "        p.requires_grad = True\n",
    "    \n",
    "    num_params = sum(p.nelement() for p in parameters)\n",
    "    start_time = time.time()\n",
    "    \n",
    "    for i in range(tr_i + 1):\n",
    "        # minibatch construct\n",
    "        ix = torch.randint(0, Xtr.shape[0], (mini_batches,))\n",
    "        \n",
    "        # forward pass\n",
    "        emb = C[Xtr[ix]] \n",
    "        h = torch.tanh(emb.view(-1, embed_dims * block_size) @ W1 + b1)\n",
    "        logits = h @ W2 + b2\n",
    "        loss = F.cross_entropy(logits, Ytr[ix]) \n",
    "            \n",
    "        # backward pass\n",
    "        for p in parameters:\n",
    "            p.grad = None\n",
    "        loss.backward()\n",
    "        \n",
    "        # lr = 0.1 if i < 100_000 else 0.01\n",
    "        lr = lr_algo(i, tr_i + 1)\n",
    "        \n",
    "        # report loss\n",
    "        if i % 10000 == 0:\n",
    "            print(f\"{i:8}|{lr:4}|{loss.item():.4f}\")\n",
    "        \n",
    "        # update\n",
    "        for p in parameters:\n",
    "            p.data += -lr * p.grad  \n",
    "    \n",
    "        # stepi.append(i)\n",
    "        # lossi.append(loss.log10().item())\n",
    "    duration = time.time() - start_time\n",
    "    tr_loss, dev_loss = calc_loss(embed_dims, block_size)\n",
    "\n",
    "    print(f\"{test_id}: {block_size=} {embed_dims=:3} {hidden_layer=:3} {mini_batches=} {tr_i=} {num_params=:6} {duration=:.4f} {tr_loss=:.6f} {dev_loss=:.6f}\")\n",
    "\n"
   ]
  },
  {
   "cell_type": "code",
   "execution_count": 51,
   "id": "891f6e7f-ba92-45ac-9d65-1055f076cf8d",
   "metadata": {},
   "outputs": [],
   "source": [
    "# Results\n",
    "#51: block_size=3 embed_dims= 10 hidden_layer=200 mini_batches=32 tr_i=200000 num_params= 11897 duration=90.2837 tr_loss=2.114949 dev_loss=2.157162\n",
    "# 7: block_size=4 embed_dims= 12 hidden_layer=300 mini_batches=32 tr_i=300000 num_params= 23151 duration=115.7265 tr_loss=2.138358 dev_loss=2.192055\n",
    "# 8: block_size=4 embed_dims= 12 hidden_layer=300 mini_batches=32 tr_i=500000 num_params= 23151 duration=192.8683 tr_loss=2.111377 dev_loss=2.162301 \n",
    "# 9: block_size=4 embed_dims= 12 hidden_layer=300 mini_batches=32 tr_i=600000 num_params= 23151 duration=288.7984 tr_loss=2.110690 dev_loss=2.192899\n",
    "#10: block_size=4 embed_dims= 12 hidden_layer=500 mini_batches=32 tr_i=600000 num_params= 38351 duration=276.0203 tr_loss=2.132846 dev_loss=2.198221\n",
    "#11: block_size=4 embed_dims= 12 hidden_layer=300 mini_batches=64 tr_i=300000 num_params= 23151 duration=143.7739 tr_loss=2.075785 dev_loss=2.171427  << best\n",
    "#12: block_size=4 embed_dims= 12 hidden_layer=300 mini_batches=64 tr_i=300000 num_params= 23151 duration=173.0480 tr_loss=2.128890 dev_loss=2.182796\n"
   ]
  },
  {
   "cell_type": "code",
   "execution_count": 39,
   "id": "e7c6d87f-1e8b-4cd5-91e1-0a97e920e00f",
   "metadata": {},
   "outputs": [
    {
     "data": {
      "text/plain": [
       "2.1938986778259277"
      ]
     },
     "execution_count": 39,
     "metadata": {},
     "output_type": "execute_result"
    }
   ],
   "source": [
    "emb = C[Xts]\n",
    "h = torch.tanh(emb.view(-1 ,12 * 4) @ W1 + b1)\n",
    "logits = h @ W2 + b2\n",
    "loss = F.cross_entropy(logits, Yts)\n",
    "loss.item() # 2.280"
   ]
  },
  {
   "cell_type": "markdown",
   "id": "d50b6cf5-6dd2-466f-b359-a0c094ac0f94",
   "metadata": {},
   "source": [
    "### model sampling"
   ]
  },
  {
   "cell_type": "code",
   "execution_count": 40,
   "id": "c722b16a-d2dd-4dbd-b0e4-f0816ea14456",
   "metadata": {},
   "outputs": [
    {
     "name": "stdout",
     "output_type": "stream",
     "text": [
      "reenandr\n",
      "kazarghrawyenzy\n",
      "lina\n",
      "krizzlyn\n",
      "shrin\n",
      "eevisso\n",
      "meei\n",
      "hamellanir\n",
      "anis\n",
      "malzee\n",
      "kenlie\n",
      "auesondeles\n",
      "lola\n",
      "law\n",
      "suthusa\n",
      "rydes\n",
      "kashria\n",
      "laree\n",
      "laya\n",
      "merah\n"
     ]
    }
   ],
   "source": [
    "g = torch.Generator().manual_seed(2147483647+11)\n",
    "block_size = 4\n",
    "\n",
    "for _ in range(20):\n",
    "    # reset\n",
    "    context = [0] * block_size\n",
    "    word = []\n",
    "\n",
    "    # generate word\n",
    "    while True: \n",
    "        emb = C[context]\n",
    "        h = torch.tanh(emb.view(1,-1) @ W1 + b1) # emb.view(1, -1) - just one row input\n",
    "        logits = h @ W2 + b2\n",
    "        counts = logits.exp() # 1 character output : 1,27\n",
    "        p = counts / counts.sum(1, keepdim=True) # same as just counts.sum()\n",
    "        ix = torch.multinomial(p, num_samples=1, replacement=True, generator=g).item()\n",
    "        # context = torch.cat((context[1:], torch.tensor([idx])))\n",
    "        context = context[1:] + [ix]\n",
    "        if itos[ix] == '.':\n",
    "            break\n",
    "        word.append(itos[ix])\n",
    "    print (''.join(word))\n"
   ]
  },
  {
   "cell_type": "markdown",
   "id": "48f27af3-922a-4b74-ae6d-d3846643c1b1",
   "metadata": {},
   "source": [
    "## E03 - Q2: initial network initialisation impact\n",
    "\n",
    "Attempt to train a model when the initalised weights are uniform and compare when they are randomly distributed in a binominal with mean 0."
   ]
  },
  {
   "cell_type": "code",
   "execution_count": 49,
   "id": "fc34f895-64d3-48d0-a1c3-0c8be7c05a70",
   "metadata": {},
   "outputs": [],
   "source": [
    "hyper_params = [{\"test_id\": 11, \"block_size\":4, \"embed_dims\":12, \"hidden_layer\":300, \"mini_batches\":64, \"tr_i\": 50_000, \"lr_algo\": get_lr_step}]"
   ]
  },
  {
   "cell_type": "code",
   "execution_count": 80,
   "id": "fb54ca97-475c-4312-99b6-7be4241e2ce4",
   "metadata": {},
   "outputs": [
    {
     "name": "stdout",
     "output_type": "stream",
     "text": [
      "    9999| 0.1|2.6831\n",
      "   19999| 0.1|2.8205\n",
      "   29999| 0.1|2.6981\n",
      "   39999| 0.1|2.7823\n",
      "   49999| 0.1|2.7243\n",
      "11: block_size=4 embed_dims= 12 hidden_layer=300 mini_batches=64 tr_i=50000 num_params= 23151 duration=22.5588 tr_loss=2.823123 dev_loss=2.824324\n"
     ]
    }
   ],
   "source": [
    "for hp in hyper_params:\n",
    "\n",
    "    # get hyper parameters\n",
    "    test_id, block_size, embed_dims, hidden_layer, mini_batches, tr_i, lr_algo = hp.values()\n",
    "    # setup dataset\n",
    "    Xtr, Xdev, Xts, Ytr, Ydev, Yts = split_dataset(*build_dataset(words, block_size))\n",
    "    \n",
    "    # initialise nn\n",
    "    # g = torch.Generator().manual_seed(2147483647)\n",
    "    # C = torch.randn((27,embed_dims), generator = g)\n",
    "    # W1 = torch.randn((embed_dims * block_size, hidden_layer), generator=g)\n",
    "    # b1 = torch.randn(hidden_layer, generator=g)\n",
    "    # W2 = torch.randn((hidden_layer,27), generator=g)\n",
    "    # b2 = torch.randn(27, generator=g)\n",
    "\n",
    "    # uniform distribution\n",
    "    # C = torch.full((27,embed_dims), 1/embed_dims)\n",
    "    # W1 = torch.full((embed_dims * block_size, hidden_layer), 1/hidden_layer)\n",
    "    # b1 = torch.full((hidden_layer,), 1/hidden_layer)\n",
    "    # W2 = torch.full((hidden_layer,27), 1/27)\n",
    "    # b2 = torch.full((27,), 1/27)\n",
    "\n",
    "    # all zeros\n",
    "    C = torch.zeros((27,embed_dims), )\n",
    "    W1 = torch.zeros((embed_dims * block_size, hidden_layer))\n",
    "    b1 = torch.zeros((hidden_layer,))\n",
    "    W2 = torch.zeros((hidden_layer,27))\n",
    "    b2 = torch.zeros((27))\n",
    "\n",
    "    \n",
    "    parameters = [C, W1, b1, W2, b2]\n",
    "    \n",
    "    for p in parameters:\n",
    "        p.requires_grad = True\n",
    "    \n",
    "    num_params = sum(p.nelement() for p in parameters)\n",
    "    start_time = time.time()\n",
    "    \n",
    "    for i in range(tr_i + 1):\n",
    "        # minibatch construct\n",
    "        ix = torch.randint(0, Xtr.shape[0], (mini_batches,))\n",
    "        \n",
    "        # forward pass\n",
    "        emb = C[Xtr[ix]] \n",
    "        h = torch.tanh(emb.view(-1, embed_dims * block_size) @ W1 + b1)\n",
    "        logits = h @ W2 + b2\n",
    "        loss = F.cross_entropy(logits, Ytr[ix]) \n",
    "            \n",
    "        # backward pass\n",
    "        for p in parameters:\n",
    "            p.grad = None\n",
    "        loss.backward()\n",
    "        \n",
    "        # lr = 0.1 if i < 100_000 else 0.01\n",
    "        lr = lr_algo(i, tr_i + 1)\n",
    "        \n",
    "        # report loss\n",
    "        report_i = 10_000\n",
    "        if i % report_i == report_i-1:\n",
    "            print(f\"{i:8}|{lr:4}|{loss.item():.4f}\")\n",
    "        \n",
    "        # update\n",
    "        for p in parameters:\n",
    "            p.data += -lr * p.grad  \n",
    "    \n",
    "        # stepi.append(i)\n",
    "        # lossi.append(loss.log10().item())\n",
    "    duration = time.time() - start_time\n",
    "    tr_loss, dev_loss = calc_loss(embed_dims, block_size)\n",
    "\n",
    "    print(f\"{test_id}: {block_size=} {embed_dims=:3} {hidden_layer=:3} {mini_batches=} {tr_i=} {num_params=:6} {duration=:.4f} {tr_loss=:.6f} {dev_loss=:.6f}\")\n"
   ]
  },
  {
   "cell_type": "code",
   "execution_count": null,
   "id": "7e457b4f-d05e-43e0-a81a-d076dd788765",
   "metadata": {},
   "outputs": [],
   "source": [
    "# Results\n",
    "# 11: block_size=4 embed_dims= 12 hidden_layer=300 mini_batches=64 tr_i=50000 num_params= 23151 duration=20.9286 tr_loss=2.286725 dev_loss=2.313228\n",
    "\n",
    "# with uniform distribution: \n",
    "# 11: block_size=4 embed_dims= 12 hidden_layer=300 mini_batches=64 tr_i=50000 num_params= 23151 duration=22.4478 tr_loss=2.496879 dev_loss=2.496550\n",
    "\n",
    "# with zeros for all parameters:\n",
    "11: block_size=4 embed_dims= 12 hidden_layer=300 mini_batches=64 tr_i=50000 num_params= 23151 duration=22.5588 tr_loss=2.823123 dev_loss=2.824324\n",
    "\n"
   ]
  }
 ],
 "metadata": {
  "kernelspec": {
   "display_name": "Python 3 (ipykernel)",
   "language": "python",
   "name": "python3"
  },
  "language_info": {
   "codemirror_mode": {
    "name": "ipython",
    "version": 3
   },
   "file_extension": ".py",
   "mimetype": "text/x-python",
   "name": "python",
   "nbconvert_exporter": "python",
   "pygments_lexer": "ipython3",
   "version": "3.11.2"
  }
 },
 "nbformat": 4,
 "nbformat_minor": 5
}
